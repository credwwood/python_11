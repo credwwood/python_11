{
 "cells": [
  {
   "cell_type": "markdown",
   "id": "cfb8a0ed",
   "metadata": {},
   "source": [
    "https://github.com/elabdesunil/python-socket-programming"
   ]
  },
  {
   "cell_type": "code",
   "execution_count": null,
   "id": "f0eee54b",
   "metadata": {},
   "outputs": [],
   "source": [
    "# Echo server\n",
    "\n",
    "import socket\n",
    "\n",
    "HOST = '127.0.0.1'\n",
    "\n",
    "PORT = 65432 # Port should an integer between 1-65535 (0 is reserved)\n",
    "\n",
    "with socket.socket(socket.AF_INET, socket.SOCK_STREAM) as s:\n",
    "    s.bind((HOST, PORT))\n",
    "    s.listen()\n",
    "    conn, addr = s.accept()\n",
    "    with conn:\n",
    "        print('Connected by', addr)\n",
    "        while True:\n",
    "            data = conn.recv(1024)\n",
    "            if not data: \n",
    "                break\n",
    "            conn.sendall(data)\n",
    "            "
   ]
  },
  {
   "cell_type": "code",
   "execution_count": null,
   "id": "9678d199",
   "metadata": {},
   "outputs": [],
   "source": [
    "# Echo client\n",
    "\n",
    "import socket\n",
    "\n",
    "HOST = '127.0.0.1'\n",
    "PORT = 65432\n",
    "\n",
    "with socket.socket(socket.AF_INET, socket.SOCK_STREAM) as s:\n",
    "    s.connect((HOST, PORT))\n",
    "    s.sendall(b'Hello, world')\n",
    "    data = s.recv(1024)\n",
    "    \n",
    "print('Received', repr(data))\n"
   ]
  },
  {
   "cell_type": "code",
   "execution_count": null,
   "id": "77eacdae",
   "metadata": {},
   "outputs": [],
   "source": [
    "# Multi-Connection Server\n",
    "\n",
    "import selectors\n",
    "import socket\n",
    "import types\n",
    "import sys\n",
    "\n",
    "sel = selectors.DefaultSelector()\n",
    "\n",
    "def accept_wrapper(sock):\n",
    "    conn, addr = sock.accept()\n",
    "    print('accepted connection from', addr)\n",
    "    conn.setblocking(False)\n",
    "    data = types.SimpleNamespace(addr=addr, inb=b'', outb=b'')\n",
    "    events = selectors.EVENT_READ | selectors.EVENT_WRITE\n",
    "    sel.register(conn, events, data=data)\n",
    "    \n",
    "def service_connection(key, mask):\n",
    "    sock = key.fileobj\n",
    "    data = key.data\n",
    "    \n",
    "    if mask & selectors.EVENT_READ:\n",
    "        recv_data = sock.recv(1024)\n",
    "        if recv_data:\n",
    "            data.outb += recv_data\n",
    "        else:\n",
    "            print('closing connection to', data.addr)\n",
    "            sel.unregister(sock)\n",
    "            sock.close()\n",
    "            \n",
    "    if mask & selectors.EVENT_WRITE:\n",
    "        if data.outb:\n",
    "            print('echoing', repr(data.outb), 'to', data.addr)\n",
    "            sent = sock.send(data.outb)\n",
    "            data.outb = data.outb[sent:]\n",
    "\n",
    "if len(sys.argv) != 3:\n",
    "    print('usage:', sys.argv[0], '<host> <port>')\n",
    "    sys.exit(1)\n",
    "    \n",
    "host, port = sys.argv[1], int(sys.argv[2])\n",
    "\n",
    "lsock = socket.socket(socket.AF_INET, socket.SOCK_STREAM)\n",
    "lsock.bind((host, port))\n",
    "lsock.listen()\n",
    "print('listening on', (host, port))\n",
    "\n",
    "lsock.setblocking(False)\n",
    "\n",
    "sel.register(lsock, selectors.EVENT_READ, data=None)\n",
    "\n",
    "try:\n",
    "    while True:\n",
    "        events = sel.select(timeout=None)\n",
    "        for key, mask in events:\n",
    "            if key.data is None:\n",
    "                accept_wrapper(key.fileobj)\n",
    "            else:\n",
    "                service_connection(key, mask)\n",
    "except KeyboardInterrupt:\n",
    "    print('caught keyboard interrupt, exiting')\n",
    "finally:\n",
    "    sel.close()\n",
    "\n",
    "    "
   ]
  },
  {
   "cell_type": "code",
   "execution_count": 2,
   "id": "fcb340a8",
   "metadata": {},
   "outputs": [
    {
     "name": "stdout",
     "output_type": "stream",
     "text": [
      "2\n"
     ]
    }
   ],
   "source": [
    "l = [1, 2, 3]\n",
    "print([1, 2, 3][1])"
   ]
  },
  {
   "cell_type": "code",
   "execution_count": null,
   "id": "eb37e2d7",
   "metadata": {},
   "outputs": [],
   "source": []
  },
  {
   "cell_type": "code",
   "execution_count": null,
   "id": "4f961eeb",
   "metadata": {},
   "outputs": [],
   "source": []
  },
  {
   "cell_type": "code",
   "execution_count": null,
   "id": "8a28fea8",
   "metadata": {},
   "outputs": [],
   "source": []
  },
  {
   "cell_type": "code",
   "execution_count": null,
   "id": "d47b5c80",
   "metadata": {},
   "outputs": [],
   "source": []
  },
  {
   "cell_type": "code",
   "execution_count": null,
   "id": "9d366790",
   "metadata": {},
   "outputs": [],
   "source": []
  },
  {
   "cell_type": "code",
   "execution_count": null,
   "id": "02bbccf2",
   "metadata": {},
   "outputs": [],
   "source": []
  },
  {
   "cell_type": "code",
   "execution_count": null,
   "id": "16d66ce7",
   "metadata": {},
   "outputs": [],
   "source": []
  },
  {
   "cell_type": "code",
   "execution_count": null,
   "id": "333dcd4f",
   "metadata": {},
   "outputs": [],
   "source": []
  },
  {
   "cell_type": "code",
   "execution_count": null,
   "id": "c45911b6",
   "metadata": {},
   "outputs": [],
   "source": []
  },
  {
   "cell_type": "code",
   "execution_count": null,
   "id": "cb6f6223",
   "metadata": {},
   "outputs": [],
   "source": []
  },
  {
   "cell_type": "code",
   "execution_count": null,
   "id": "90ba85e4",
   "metadata": {},
   "outputs": [],
   "source": []
  },
  {
   "cell_type": "code",
   "execution_count": null,
   "id": "1246683a",
   "metadata": {},
   "outputs": [],
   "source": []
  },
  {
   "cell_type": "code",
   "execution_count": null,
   "id": "a3dc9971",
   "metadata": {},
   "outputs": [],
   "source": []
  },
  {
   "cell_type": "code",
   "execution_count": null,
   "id": "70384452",
   "metadata": {},
   "outputs": [],
   "source": []
  },
  {
   "cell_type": "code",
   "execution_count": null,
   "id": "4f669d80",
   "metadata": {},
   "outputs": [],
   "source": []
  },
  {
   "cell_type": "code",
   "execution_count": null,
   "id": "59ff3ee6",
   "metadata": {},
   "outputs": [],
   "source": []
  },
  {
   "cell_type": "code",
   "execution_count": null,
   "id": "8b52c357",
   "metadata": {},
   "outputs": [],
   "source": []
  },
  {
   "cell_type": "code",
   "execution_count": null,
   "id": "ffd4b5e6",
   "metadata": {},
   "outputs": [],
   "source": []
  }
 ],
 "metadata": {
  "kernelspec": {
   "display_name": "Python 3 (ipykernel)",
   "language": "python",
   "name": "python3"
  },
  "language_info": {
   "codemirror_mode": {
    "name": "ipython",
    "version": 3
   },
   "file_extension": ".py",
   "mimetype": "text/x-python",
   "name": "python",
   "nbconvert_exporter": "python",
   "pygments_lexer": "ipython3",
   "version": "3.11.3"
  }
 },
 "nbformat": 4,
 "nbformat_minor": 5
}
