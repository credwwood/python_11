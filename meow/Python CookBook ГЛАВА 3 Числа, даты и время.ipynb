{
 "cells": [
  {
   "cell_type": "markdown",
   "id": "a27152a1",
   "metadata": {},
   "source": [
    "## 3.1. Округление числовых значений"
   ]
  },
  {
   "cell_type": "markdown",
   "id": "c64849f6",
   "metadata": {},
   "source": [
    ">**Задача**\n",
    "\n",
    "Вы хотите округлить число с плавающей точкой до заданного количества знаков\n",
    "после точки. \n",
    "Для простого округления использовать функцию round(value, ndigits)"
   ]
  },
  {
   "cell_type": "code",
   "execution_count": 1,
   "id": "0e322aad",
   "metadata": {},
   "outputs": [
    {
     "name": "stdout",
     "output_type": "stream",
     "text": [
      "1.2\n",
      "1.3\n",
      "-1.3\n",
      "1.254\n"
     ]
    }
   ],
   "source": [
    "print(round(1.23,1))\n",
    "print(round(1.27, 1))\n",
    "print(round(-1.27, 1))\n",
    "print(round(1.25361, 3))"
   ]
  },
  {
   "cell_type": "markdown",
   "id": "cfd2e742",
   "metadata": {},
   "source": [
    ">Количество знаков, которое передается функции round(), может быть отрицательным. В этом случае округление будет идти до десятков, сотен, тысяч и т. д.\n",
    "Например:"
   ]
  },
  {
   "cell_type": "code",
   "execution_count": 2,
   "id": "b2475a82",
   "metadata": {},
   "outputs": [
    {
     "name": "stdout",
     "output_type": "stream",
     "text": [
      "1627730\n",
      "1627700\n",
      "1628000\n"
     ]
    }
   ],
   "source": [
    "a = 1627731\n",
    "\n",
    "print(round(a, -1))\n",
    "print(round(a, -2))\n",
    "print(round(a, -3))"
   ]
  },
  {
   "cell_type": "markdown",
   "id": "8e9c2087",
   "metadata": {},
   "source": [
    ">Не перепутайте округление с  форматированием значения для вывода. Если вы\n",
    "хотите просто вывести число с  некоторым определенным количеством знаков\n",
    "после точки, обычно вам не требуется round(). Вместо этого просто задайте при\n",
    "форматировании, сколько знаков выводить. Пример:"
   ]
  },
  {
   "cell_type": "code",
   "execution_count": 5,
   "id": "81639081",
   "metadata": {},
   "outputs": [
    {
     "name": "stdout",
     "output_type": "stream",
     "text": [
      "1.23\n",
      "1.235\n",
      "value is 1.235\n"
     ]
    }
   ],
   "source": [
    "x = 1.23456\n",
    "print(format(x, '0.2f'))\n",
    "print(format(x, '0.3f'))\n",
    "print('value is {:0.3f}'.format(x))"
   ]
  },
  {
   "cell_type": "markdown",
   "id": "18f5f249",
   "metadata": {},
   "source": [
    "## 3.2. Выполнение точных вычислений\n",
    "## с десятичными дробями"
   ]
  },
  {
   "cell_type": "markdown",
   "id": "c2c4db2f",
   "metadata": {},
   "source": [
    ">Если вам нужна большая точность (и вы готовы в некоторой степени поступиться производительностью), то можете использовать модуль decimal:"
   ]
  },
  {
   "cell_type": "code",
   "execution_count": 8,
   "id": "5c2429bb",
   "metadata": {},
   "outputs": [
    {
     "name": "stdout",
     "output_type": "stream",
     "text": [
      "6.3\n"
     ]
    },
    {
     "data": {
      "text/plain": [
       "True"
      ]
     },
     "execution_count": 8,
     "metadata": {},
     "output_type": "execute_result"
    }
   ],
   "source": [
    "from decimal import Decimal\n",
    "\n",
    "a = Decimal('4.2')\n",
    "b = Decimal('2.1')\n",
    "print(a + b)\n",
    "(a + b) == Decimal('6.3')"
   ]
  },
  {
   "cell_type": "code",
   "execution_count": 12,
   "id": "9d442bc9",
   "metadata": {},
   "outputs": [
    {
     "name": "stdout",
     "output_type": "stream",
     "text": [
      "0.7647058823529411764705882353\n",
      "0.765\n",
      "0.76470588235294117647058823529411764705882352941176\n"
     ]
    }
   ],
   "source": [
    "from decimal import localcontext\n",
    "a = Decimal('1.3')\n",
    "b = Decimal('1.7')\n",
    "print(a/b)\n",
    "\n",
    "with localcontext() as ctx:\n",
    "    ctx.prec = 3\n",
    "    print(a / b)\n",
    "    \n",
    "with localcontext() as ctx:\n",
    "    ctx.prec = 50\n",
    "    print(a / b)"
   ]
  },
  {
   "cell_type": "code",
   "execution_count": 14,
   "id": "882e150a",
   "metadata": {},
   "outputs": [
    {
     "data": {
      "text/plain": [
       "1.0"
      ]
     },
     "execution_count": 14,
     "metadata": {},
     "output_type": "execute_result"
    }
   ],
   "source": [
    "nums = [1.23e+18, 1, -1.23e+18]\n",
    "sum(nums)\n",
    "\n",
    "import math\n",
    "math.fsum(nums)"
   ]
  },
  {
   "cell_type": "markdown",
   "id": "183d605c",
   "metadata": {},
   "source": [
    "## 3.3. Форматирование чисел для вывода"
   ]
  },
  {
   "cell_type": "code",
   "execution_count": 2,
   "id": "cb50d095",
   "metadata": {},
   "outputs": [
    {
     "name": "stdout",
     "output_type": "stream",
     "text": [
      "1234.57\n",
      "    1234.6\n",
      "1234.6    \n",
      "  1234.6  \n",
      "1,234.56789\n",
      "1,234.6\n"
     ]
    }
   ],
   "source": [
    "x = 1234.56789\n",
    "\n",
    "print(format(x, '0.2f'))\n",
    "\n",
    "print(format(x, '>10.1f')) # Выравнивание по правому краю\n",
    "\n",
    "print(format(x, '<10.1f')) # Выравнивание по левому краю\n",
    "\n",
    "print(format(x, '^10.1f')) # Выравнивание по центру\n",
    "\n",
    "print(format(x, ',')) # Включение разделителя разряда\n",
    "\n",
    "print(format(x, '0,.1f'))"
   ]
  },
  {
   "cell_type": "code",
   "execution_count": 3,
   "id": "18790e18",
   "metadata": {},
   "outputs": [
    {
     "name": "stdout",
     "output_type": "stream",
     "text": [
      "1.234568e+03\n",
      "1.23E+03\n"
     ]
    }
   ],
   "source": [
    "# Использование экспоненциальной нотации\n",
    "\n",
    "print(format(x, 'e'))\n",
    "print(format(x, '0.2E'))"
   ]
  },
  {
   "cell_type": "code",
   "execution_count": 7,
   "id": "bb3f0edd",
   "metadata": {},
   "outputs": [
    {
     "name": "stdout",
     "output_type": "stream",
     "text": [
      "The value id 1,234.57\n",
      "value 1,234.57\n"
     ]
    }
   ],
   "source": [
    "print('The value id {:0,.2f}'.format(x))\n",
    "\n",
    "print('value {:0,.2f}'.format(x))"
   ]
  },
  {
   "cell_type": "code",
   "execution_count": 8,
   "id": "f4213c69",
   "metadata": {},
   "outputs": [
    {
     "data": {
      "text/plain": [
       "'1234.6'"
      ]
     },
     "execution_count": 8,
     "metadata": {},
     "output_type": "execute_result"
    }
   ],
   "source": [
    "# Округление работает также как и в round()\n",
    "\n",
    "format(x, '0.1f')"
   ]
  },
  {
   "cell_type": "code",
   "execution_count": 9,
   "id": "7f3cf1cf",
   "metadata": {},
   "outputs": [
    {
     "data": {
      "text/plain": [
       "'1.234,56789'"
      ]
     },
     "execution_count": 9,
     "metadata": {},
     "output_type": "execute_result"
    }
   ],
   "source": [
    "swap_separators = { ord('.'):',', ord(','):'.'}\n",
    "format(x, ',').translate(swap_separators)"
   ]
  },
  {
   "cell_type": "markdown",
   "id": "15e163be",
   "metadata": {},
   "source": [
    "## 3.4. Работа с бинарными, восьмеричными\n",
    "## и шестнадцатеричными целыми числами"
   ]
  },
  {
   "cell_type": "code",
   "execution_count": 10,
   "id": "7fff7709",
   "metadata": {},
   "outputs": [
    {
     "name": "stdout",
     "output_type": "stream",
     "text": [
      "0b10011010010\n",
      "0o2322\n",
      "0x4d2\n"
     ]
    }
   ],
   "source": [
    "x = 1234\n",
    "print(bin(x)) # Бинарное представление\n",
    "print(oct(x)) # Восмеричное представление\n",
    "print(hex(x)) # Шестнадцатеричное представление"
   ]
  },
  {
   "cell_type": "markdown",
   "id": "a50115b8",
   "metadata": {},
   "source": [
    ">Или вы можете использовать функцию format(), если не хотите, чтобы появлялись префиксы 0b, 0o или 0x. Например:"
   ]
  },
  {
   "cell_type": "code",
   "execution_count": 11,
   "id": "e878f42a",
   "metadata": {},
   "outputs": [
    {
     "name": "stdout",
     "output_type": "stream",
     "text": [
      "10011010010\n",
      "2322\n",
      "4d2\n"
     ]
    }
   ],
   "source": [
    "print(format(x, 'b'))\n",
    "print(format(x, 'o'))\n",
    "print(format(x, 'x'))"
   ]
  },
  {
   "cell_type": "markdown",
   "id": "b6746c5c",
   "metadata": {},
   "source": [
    ">Если вы хотите вывести значение без знака, вам нужно добавить максимальное\n",
    "значение, чтобы установить длину бита. Например, чтобы вывести 32-битное значение, можно поступить так:"
   ]
  },
  {
   "cell_type": "code",
   "execution_count": 12,
   "id": "cf8269e1",
   "metadata": {},
   "outputs": [
    {
     "name": "stdout",
     "output_type": "stream",
     "text": [
      "11111111111111111111101100101110\n",
      "fffffb2e\n"
     ]
    }
   ],
   "source": [
    "x = -1234\n",
    "print(format(2**32 + x, 'b'))\n",
    "print(format(2**32 + x, 'x'))"
   ]
  },
  {
   "cell_type": "markdown",
   "id": "b4abc7b8",
   "metadata": {},
   "source": [
    ">Чтобы преобразовать строки с целыми числами в числа с разными основаниями, используйте функцию int(), указав нужное основание. Например:"
   ]
  },
  {
   "cell_type": "code",
   "execution_count": 13,
   "id": "9d2c1ce7",
   "metadata": {},
   "outputs": [
    {
     "name": "stdout",
     "output_type": "stream",
     "text": [
      "1234\n",
      "1234\n"
     ]
    }
   ],
   "source": [
    "print(int('4d2', 16))\n",
    "print(int('10011010010', 2))"
   ]
  },
  {
   "cell_type": "markdown",
   "id": "965bd9e7",
   "metadata": {},
   "source": [
    "## 3.5. Упаковка и распаковка больших целых чисел\n",
    "## из байтовых строк"
   ]
  },
  {
   "cell_type": "markdown",
   "id": "4a72369a",
   "metadata": {},
   "source": [
    ">Задача\n",
    "У вас есть строка байтов, и вам нужно распаковать ее в целочисленное значение.\n",
    "Или же вам нужно конвертировать большое целое число в байтовую строку."
   ]
  },
  {
   "cell_type": "code",
   "execution_count": 14,
   "id": "d4124fb0",
   "metadata": {},
   "outputs": [
    {
     "name": "stdout",
     "output_type": "stream",
     "text": [
      "69120565665751139577663547927094891008\n",
      "94522842520747284487117727783387188\n",
      "b'\\x00\\x124V\\x00x\\x90\\xab\\x00\\xcd\\xef\\x01\\x00#\\x004'\n",
      "b'4\\x00#\\x00\\x01\\xef\\xcd\\x00\\xab\\x90x\\x00V4\\x12\\x00'\n"
     ]
    }
   ],
   "source": [
    "data = b'\\x00\\x124V\\x00x\\x90\\xab\\x00\\xcd\\xef\\x01\\x00#\\x004'\n",
    "\n",
    "print(int.from_bytes(data, 'little'))\n",
    "print(int.from_bytes(data, 'big'))\n",
    "\n",
    "# Для обратного преобразования использовать int.to_bytes\n",
    "\n",
    "x = 94522842520747284487117727783387188\n",
    "print(x.to_bytes(16, 'big'))\n",
    "print(x.to_bytes(16, 'little'))"
   ]
  },
  {
   "cell_type": "code",
   "execution_count": 29,
   "id": "1a17d9de",
   "metadata": {},
   "outputs": [
    {
     "name": "stdout",
     "output_type": "stream",
     "text": [
      "5124093560524971 57965157801984052\n",
      "94522842520747284487117727783387188\n",
      "94522842520747284429152569981403136\n"
     ]
    }
   ],
   "source": [
    "import struct \n",
    "hi, lo = struct.unpack('>QQ', data)\n",
    "print(hi, lo)\n",
    "print((hi << 64) + lo)\n",
    "print((hi << 64))"
   ]
  },
  {
   "cell_type": "code",
   "execution_count": 28,
   "id": "7c6da48c",
   "metadata": {},
   "outputs": [
    {
     "data": {
      "text/plain": [
       "16"
      ]
     },
     "execution_count": 28,
     "metadata": {},
     "output_type": "execute_result"
    }
   ],
   "source": [
    "int('10000', 2)"
   ]
  },
  {
   "cell_type": "code",
   "execution_count": 33,
   "id": "936cccdf",
   "metadata": {},
   "outputs": [
    {
     "name": "stdout",
     "output_type": "stream",
     "text": [
      "b'\\x01\\x02\\x03\\x04'\n",
      "b'\\x04\\x03\\x02\\x01'\n"
     ]
    }
   ],
   "source": [
    "x = 0x01020304\n",
    "print(x.to_bytes(4, 'big'))\n",
    "print(x.to_bytes(4, 'little'))"
   ]
  },
  {
   "cell_type": "code",
   "execution_count": 39,
   "id": "99c515d6",
   "metadata": {},
   "outputs": [
    {
     "name": "stdout",
     "output_type": "stream",
     "text": [
      "335381300113661875107536852714019056160355655333978849017944067\n",
      "208\n",
      "b'\\x03X\\xf1\\x82iT\\x96\\xac\\xc7c\\x16\\xf3\\xb9\\xcf\\x18\\xee\\xec\\x91\\xd1\\x98\\xa2\\xc8\\xd9R\\xb5\\xd0\\x00\\x00\\x00\\x00\\x00\\x00\\x00\\x00\\x00\\x00\\x00\\x00\\x00\\x00\\x00\\x00\\x00\\x00\\x00\\x00\\x00\\x00\\x00\\x00\\x00\\x00\\x00\\x00\\x00\\x00\\x00\\x00\\x00\\x00\\x00\\x00\\x00\\x00\\x00\\x00\\x00\\x00\\x00\\x00\\x00\\x00\\x00\\x00\\x00\\x00\\x00\\x00\\x00\\x00\\x00\\x00\\x00\\x00\\x00\\x00\\x00\\x00\\x00\\x00\\x00\\x00\\x00\\x00\\x00\\x00\\x00\\x00\\x00\\x00\\x00\\x00\\x00\\x00\\x00\\x00\\x00\\x00\\x00\\x00\\x00\\x00\\x00\\x00\\x00\\x00\\x00\\x00\\x00\\x00\\x00\\x00\\x00\\x00\\x00\\x00\\x00\\x00\\x00\\x00\\x00\\x00\\x00\\x00\\x00\\x00\\x00\\x00\\x00\\x00\\x00\\x00\\x00\\x00\\x00\\x00\\x00\\x00\\x00\\x00\\x00\\x00\\x00\\x00\\x00\\x00\\x00\\x00\\x00\\x00\\x00\\x00\\x00\\x00\\x00\\x00\\x00\\x00\\x00\\x00\\x00\\x00\\x00\\x00\\x00\\x00\\x00\\x00\\x00\\x00\\x00\\x00\\x00\\x00\\x00\\x00\\x00\\x00\\x00\\x00\\x00\\x00\\x00\\x00\\x00\\x00\\x00\\x00\\x00\\x00\\x00\\x00\\x00\\x00\\x00\\x00\\x00\\x00'\n",
      "b'\\x03X\\xf1\\x82iT\\x96\\xac\\xc7c\\x16\\xf3\\xb9\\xcf\\x18\\xee\\xec\\x91\\xd1\\x98\\xa2\\xc8\\xd9R\\xb5\\xd0'\n"
     ]
    }
   ],
   "source": [
    "x = 523 ** 23\n",
    "print(x)\n",
    "print(x.bit_length())\n",
    "print(x.to_bytes(208, 'little'))\n",
    "\n",
    "nbytes, rem = divmod(x.bit_length(), 8)\n",
    "if rem:\n",
    "    nbytes += 1\n",
    "    \n",
    "print(x.to_bytes(nbytes, 'little'))"
   ]
  },
  {
   "cell_type": "code",
   "execution_count": null,
   "id": "87bd018b",
   "metadata": {},
   "outputs": [],
   "source": []
  }
 ],
 "metadata": {
  "kernelspec": {
   "display_name": "Python 3 (ipykernel)",
   "language": "python",
   "name": "python3"
  },
  "language_info": {
   "codemirror_mode": {
    "name": "ipython",
    "version": 3
   },
   "file_extension": ".py",
   "mimetype": "text/x-python",
   "name": "python",
   "nbconvert_exporter": "python",
   "pygments_lexer": "ipython3",
   "version": "3.10.10"
  }
 },
 "nbformat": 4,
 "nbformat_minor": 5
}
