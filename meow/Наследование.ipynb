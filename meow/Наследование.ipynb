{
 "cells": [
  {
   "cell_type": "code",
   "execution_count": 3,
   "id": "846f5657",
   "metadata": {},
   "outputs": [],
   "source": [
    "class Account:\n",
    "    def __init__(self, owner, balance):\n",
    "            self.owner = owner\n",
    "            self.balance = balance\n",
    "    def __repr__(self):\n",
    "        return f'{type(self).__name__}({self.owner!r}, {self.balance!r})'\n",
    "    def deposit(self, amount):\n",
    "        self.balance += amount\n",
    "    def withdraw(self, amount):\n",
    "        self.deposit(-amount)\n",
    "    def inquiry(self):\n",
    "        return self.balance\n",
    "\n",
    "import random\n",
    "\n",
    "class EvilAccount(Account):\n",
    "    def inquiry(self):\n",
    "        if random.randint(0,4) == 1:\n",
    "            return self.balance * 1.10\n",
    "        else:\n",
    "            return self.balance\n",
    "        \n",
    "a = EvilAccount('Guido', 1000.0)\n",
    "a.deposit(10.0)"
   ]
  },
  {
   "cell_type": "markdown",
   "id": "c34660da",
   "metadata": {},
   "source": [
    ">Иногда производный класс реализует метод заново, но при этом он должен\n",
    "вызвать исходную реализацию. Для явного вызова исходного метода можно\n",
    "воспользоваться функцией super():"
   ]
  },
  {
   "cell_type": "code",
   "execution_count": 4,
   "id": "125544c4",
   "metadata": {},
   "outputs": [],
   "source": [
    "class EvilAccount(Account):\n",
    "    def inquiry(self):\n",
    "        if random.randint(0,4) == 1:\n",
    "            return 1.10 * super().inquiry()\n",
    "        else:\n",
    "            return super().inquiry()"
   ]
  },
  {
   "cell_type": "markdown",
   "id": "4e629058",
   "metadata": {},
   "source": [
    ">Наследование может использоваться для добавления дополнительных атрибутов в экземпляры. Но этот вариант встречается реже. Следующий пример\n",
    "показывает, как ввести множитель 1.10 из прошлого примера в атрибут уровня\n",
    "экземпляра, который можно изменять на программном уровне:"
   ]
  },
  {
   "cell_type": "code",
   "execution_count": null,
   "id": "b9c05716",
   "metadata": {},
   "outputs": [],
   "source": [
    "class EvilAccount(Account):\n",
    "    def __init__(self, owner, balance, factor):\n",
    "        super().__init__(owner, balance)\n",
    "        self.factor = factor\n",
    "    def inquiry(self):\n",
    "        if random.randint(0,4) == 1:\n",
    "            return self.factor * super().inquiry()\n",
    "        else:\n",
    "            return super().inquiry()\n",
    "        \n",
    "        "
   ]
  },
  {
   "cell_type": "markdown",
   "id": "44951daf",
   "metadata": {},
   "source": [
    ">Наследование может приводить к появлению неочевидных ошибок. Взгляните на метод __repr__() класса Account:"
   ]
  },
  {
   "cell_type": "code",
   "execution_count": 6,
   "id": "e319d783",
   "metadata": {},
   "outputs": [
    {
     "data": {
      "text/plain": [
       "__main__.EvilAccount"
      ]
     },
     "execution_count": 6,
     "metadata": {},
     "output_type": "execute_result"
    }
   ],
   "source": [
    "class EvilAccount(Account):\n",
    "    pass\n",
    "\n",
    "a = EvilAccount('Eva', 10.0)\n",
    "a\n",
    "type(a)"
   ]
  },
  {
   "cell_type": "markdown",
   "id": "b955e020",
   "metadata": {},
   "source": [
    ">Для исправления этого недостатка нужно изменить метод __repr__(), чтобы\n",
    "в нем использовалось правильное имя типа:"
   ]
  },
  {
   "cell_type": "code",
   "execution_count": 7,
   "id": "808e0488",
   "metadata": {},
   "outputs": [
    {
     "name": "stdout",
     "output_type": "stream",
     "text": [
      "<class '__main__.EvilAccount'>\n"
     ]
    },
    {
     "data": {
      "text/plain": [
       "True"
      ]
     },
     "execution_count": 7,
     "metadata": {},
     "output_type": "execute_result"
    }
   ],
   "source": [
    "a = EvilAccount('Eva', 10)\n",
    "print(type(a))\n",
    "isinstance(a, Account)"
   ]
  },
  {
   "cell_type": "markdown",
   "id": "5648b3c3",
   "metadata": {},
   "source": [
    "**7.8. ОТКАЗ ОТ НАСЛЕДОВАНИЯ В ПОЛЬЗУ\n",
    "КОМПОЗИЦИИ**"
   ]
  },
  {
   "cell_type": "code",
   "execution_count": 11,
   "id": "3d8fc566",
   "metadata": {},
   "outputs": [
    {
     "data": {
      "text/plain": [
       "2"
      ]
     },
     "execution_count": 11,
     "metadata": {},
     "output_type": "execute_result"
    }
   ],
   "source": [
    "class Stack(list):\n",
    "    def push(self, item):\n",
    "        self.append(item)\n",
    "        \n",
    "s = Stack()\n",
    "s.push(1)\n",
    "s.push(2)\n",
    "s.push(3)\n",
    "s.pop()\n",
    "s.pop()\n"
   ]
  },
  {
   "cell_type": "markdown",
   "id": "268e1417",
   "metadata": {},
   "source": [
    ">Более правильным решением здесь будет композиция. Вместо того чтобы\n",
    "строить стек наследованием от списка, лучше построить стек как независимый класс со внутренним списком. Наличие внутреннего списка — это\n",
    "деталь реализации. Пример:"
   ]
  },
  {
   "cell_type": "code",
   "execution_count": 12,
   "id": "0e4bdb75",
   "metadata": {},
   "outputs": [
    {
     "data": {
      "text/plain": [
       "2"
      ]
     },
     "execution_count": 12,
     "metadata": {},
     "output_type": "execute_result"
    }
   ],
   "source": [
    "class Stack:\n",
    "    def __init__(self, *, container=None):\n",
    "        if container is None:\n",
    "            container = list()\n",
    "        self._items = container\n",
    "        \n",
    "    def push(self, item):\n",
    "        self._items.append(item)\n",
    "        \n",
    "    def pop(self):\n",
    "        return self._items.pop()\n",
    "    \n",
    "    def __len__(self):\n",
    "        return len(self._items)\n",
    "    \n",
    "s = Stack()\n",
    "s.push(1)\n",
    "s.push(2)\n",
    "s.push(3)\n",
    "s.pop()\n",
    "s.pop()"
   ]
  },
  {
   "cell_type": "markdown",
   "id": "4aa23815",
   "metadata": {},
   "source": [
    ">Преимущество такого подхода в том, что он поощряет слабое связывание\n",
    "компонентов. Можно создать стек, который хранит свои элементы в типизованном массиве вместо списка. Вот как это может выглядеть:"
   ]
  },
  {
   "cell_type": "code",
   "execution_count": 13,
   "id": "b1bfa377",
   "metadata": {},
   "outputs": [
    {
     "ename": "TypeError",
     "evalue": "Stack.__init__() got an unexpected keyword argument 'container'",
     "output_type": "error",
     "traceback": [
      "\u001b[1;31m---------------------------------------------------------------------------\u001b[0m",
      "\u001b[1;31mTypeError\u001b[0m                                 Traceback (most recent call last)",
      "Cell \u001b[1;32mIn[13], line 3\u001b[0m\n\u001b[0;32m      1\u001b[0m \u001b[38;5;28;01mimport\u001b[39;00m \u001b[38;5;21;01marray\u001b[39;00m\n\u001b[1;32m----> 3\u001b[0m s \u001b[38;5;241m=\u001b[39m \u001b[43mStack\u001b[49m\u001b[43m(\u001b[49m\u001b[43mcontainer\u001b[49m\u001b[38;5;241;43m=\u001b[39;49m\u001b[43marray\u001b[49m\u001b[38;5;241;43m.\u001b[39;49m\u001b[43marray\u001b[49m\u001b[43m(\u001b[49m\u001b[38;5;124;43m'\u001b[39;49m\u001b[38;5;124;43mi\u001b[39;49m\u001b[38;5;124;43m'\u001b[39;49m\u001b[43m)\u001b[49m\u001b[43m)\u001b[49m\n\u001b[0;32m      4\u001b[0m s\u001b[38;5;241m.\u001b[39mpush(\u001b[38;5;241m42\u001b[39m)\n\u001b[0;32m      5\u001b[0m s\u001b[38;5;241m.\u001b[39mpush(\u001b[38;5;241m23\u001b[39m)\n",
      "\u001b[1;31mTypeError\u001b[0m: Stack.__init__() got an unexpected keyword argument 'container'"
     ]
    }
   ],
   "source": [
    "import array\n",
    "\n",
    "s = Stack(container=array.array('i'))\n",
    "s.push(42)\n",
    "s.push(23)\n",
    "s.push('a lot')"
   ]
  },
  {
   "cell_type": "code",
   "execution_count": 19,
   "id": "8cb8da62",
   "metadata": {},
   "outputs": [
    {
     "data": {
      "text/plain": [
       "(2, (1, None))"
      ]
     },
     "execution_count": 19,
     "metadata": {},
     "output_type": "execute_result"
    }
   ],
   "source": [
    "class Stack:\n",
    "    def __init__(self):\n",
    "        self._items = None\n",
    "        self._size = 0\n",
    "        \n",
    "    def push(self, item):\n",
    "        self._items = (item, self._items)\n",
    "        self._size += 1\n",
    "        \n",
    "    def pop(self):\n",
    "        (item, self._items) = self._items\n",
    "        self.size -= 1\n",
    "        return item\n",
    "    \n",
    "    def __len__(self):\n",
    "        return self._size\n",
    "    \n",
    "s = Stack()\n",
    "s.push(1)\n",
    "s.push(2)\n",
    "s._items"
   ]
  },
  {
   "cell_type": "markdown",
   "id": "fc9d4486",
   "metadata": {},
   "source": [
    "**7.9. ЗАМЕНА НАСЛЕДОВАНИЯ ФУНКЦИЯМИ**"
   ]
  },
  {
   "cell_type": "markdown",
   "id": "bac20bb5",
   "metadata": {},
   "source": [
    ">Иногда мы пишем классы с единственным методом, который должен адаптироваться для разных случаев. Например, вы пишете следующий класс\n",
    "разбора данных:"
   ]
  },
  {
   "cell_type": "code",
   "execution_count": 20,
   "id": "0c33a9fb",
   "metadata": {},
   "outputs": [
    {
     "ename": "FileNotFoundError",
     "evalue": "[Errno 2] No such file or directory: 'portfolio.csv'",
     "output_type": "error",
     "traceback": [
      "\u001b[1;31m---------------------------------------------------------------------------\u001b[0m",
      "\u001b[1;31mFileNotFoundError\u001b[0m                         Traceback (most recent call last)",
      "Cell \u001b[1;32mIn[20], line 21\u001b[0m\n\u001b[0;32m     14\u001b[0m         \u001b[38;5;28;01mreturn\u001b[39;00m {\n\u001b[0;32m     15\u001b[0m             \u001b[38;5;124m'\u001b[39m\u001b[38;5;124mname\u001b[39m\u001b[38;5;124m'\u001b[39m: row[\u001b[38;5;241m0\u001b[39m],\n\u001b[0;32m     16\u001b[0m             \u001b[38;5;124m'\u001b[39m\u001b[38;5;124mshares\u001b[39m\u001b[38;5;124m'\u001b[39m: \u001b[38;5;28mint\u001b[39m(row[\u001b[38;5;241m1\u001b[39m]),\n\u001b[0;32m     17\u001b[0m             \u001b[38;5;124m'\u001b[39m\u001b[38;5;124mprice\u001b[39m\u001b[38;5;124m'\u001b[39m: \u001b[38;5;28mfloat\u001b[39m(row[\u001b[38;5;241m2\u001b[39m])\n\u001b[0;32m     18\u001b[0m         }\n\u001b[0;32m     20\u001b[0m parser \u001b[38;5;241m=\u001b[39m PortfolioDataParser()\n\u001b[1;32m---> 21\u001b[0m data \u001b[38;5;241m=\u001b[39m parser\u001b[38;5;241m.\u001b[39mparse(\u001b[38;5;28;43mopen\u001b[39;49m\u001b[43m(\u001b[49m\u001b[38;5;124;43m'\u001b[39;49m\u001b[38;5;124;43mportfolio.csv\u001b[39;49m\u001b[38;5;124;43m'\u001b[39;49m\u001b[43m)\u001b[49m)\n",
      "File \u001b[1;32m~\\AppData\\Local\\Programs\\Python\\Python311\\Lib\\site-packages\\IPython\\core\\interactiveshell.py:284\u001b[0m, in \u001b[0;36m_modified_open\u001b[1;34m(file, *args, **kwargs)\u001b[0m\n\u001b[0;32m    277\u001b[0m \u001b[38;5;28;01mif\u001b[39;00m file \u001b[38;5;129;01min\u001b[39;00m {\u001b[38;5;241m0\u001b[39m, \u001b[38;5;241m1\u001b[39m, \u001b[38;5;241m2\u001b[39m}:\n\u001b[0;32m    278\u001b[0m     \u001b[38;5;28;01mraise\u001b[39;00m \u001b[38;5;167;01mValueError\u001b[39;00m(\n\u001b[0;32m    279\u001b[0m         \u001b[38;5;124mf\u001b[39m\u001b[38;5;124m\"\u001b[39m\u001b[38;5;124mIPython won\u001b[39m\u001b[38;5;124m'\u001b[39m\u001b[38;5;124mt let you open fd=\u001b[39m\u001b[38;5;132;01m{\u001b[39;00mfile\u001b[38;5;132;01m}\u001b[39;00m\u001b[38;5;124m by default \u001b[39m\u001b[38;5;124m\"\u001b[39m\n\u001b[0;32m    280\u001b[0m         \u001b[38;5;124m\"\u001b[39m\u001b[38;5;124mas it is likely to crash IPython. If you know what you are doing, \u001b[39m\u001b[38;5;124m\"\u001b[39m\n\u001b[0;32m    281\u001b[0m         \u001b[38;5;124m\"\u001b[39m\u001b[38;5;124myou can use builtins\u001b[39m\u001b[38;5;124m'\u001b[39m\u001b[38;5;124m open.\u001b[39m\u001b[38;5;124m\"\u001b[39m\n\u001b[0;32m    282\u001b[0m     )\n\u001b[1;32m--> 284\u001b[0m \u001b[38;5;28;01mreturn\u001b[39;00m \u001b[43mio_open\u001b[49m\u001b[43m(\u001b[49m\u001b[43mfile\u001b[49m\u001b[43m,\u001b[49m\u001b[43m \u001b[49m\u001b[38;5;241;43m*\u001b[39;49m\u001b[43margs\u001b[49m\u001b[43m,\u001b[49m\u001b[43m \u001b[49m\u001b[38;5;241;43m*\u001b[39;49m\u001b[38;5;241;43m*\u001b[39;49m\u001b[43mkwargs\u001b[49m\u001b[43m)\u001b[49m\n",
      "\u001b[1;31mFileNotFoundError\u001b[0m: [Errno 2] No such file or directory: 'portfolio.csv'"
     ]
    }
   ],
   "source": [
    "class DataParser:\n",
    "    def parse(self, lines):\n",
    "        records = []\n",
    "        for line in lines:\n",
    "            row = line.split(',')\n",
    "            record = self.make_record(row)\n",
    "            records.append(row)\n",
    "            \n",
    "    def make_record(self, row):\n",
    "        raise NotImplementedError()\n",
    "        \n",
    "class PortfolioDataParser(DataParser):\n",
    "    def make_record(self, row):\n",
    "        return {\n",
    "            'name': row[0],\n",
    "            'shares': int(row[1]),\n",
    "            'price': float(row[2])\n",
    "        }\n",
    "    \n",
    "parser = PortfolioDataParser()\n",
    "data = parser.parse(open('portfolio.csv'))"
   ]
  },
  {
   "cell_type": "code",
   "execution_count": null,
   "id": "f6eb7c5d",
   "metadata": {},
   "outputs": [],
   "source": [
    "def parse_data(lines, make_record):\n",
    "    records = []\n",
    "    for line in lines:\n",
    "        row = line.split(',')\n",
    "        record = make_record(row)\n",
    "        records.append(row)\n",
    "    return records\n",
    "\n",
    "def make_dict(row):\n",
    "    return {\n",
    "        'name': row[0],\n",
    "        'shares': int(row[1]),\n",
    "        'price': float(row[2])\n",
    "    }"
   ]
  },
  {
   "cell_type": "markdown",
   "id": "0cdc6fa6",
   "metadata": {},
   "source": [
    "**7.10. ДИНАМИЧЕСКАЯ И УТИНАЯ ТИПИЗАЦИИ**"
   ]
  },
  {
   "cell_type": "markdown",
   "id": "28bfedbb",
   "metadata": {},
   "source": [
    "**7.11. ОПАСНОСТЬ НАСЛЕДОВАНИЯ ОТ\n",
    "ВСТРОЕННЫХ ТИПОВ**"
   ]
  },
  {
   "cell_type": "code",
   "execution_count": 22,
   "id": "83343a3a",
   "metadata": {},
   "outputs": [
    {
     "data": {
      "text/plain": [
       "{'name': 'Guido', 'number': 37}"
      ]
     },
     "execution_count": 22,
     "metadata": {},
     "output_type": "execute_result"
    }
   ],
   "source": [
    "class udict(dict):\n",
    "    def __setitem__(self, key, value):\n",
    "        super().__setitem__(key.upper(), value)\n",
    "        \n",
    "u = udict()\n",
    "u['name'] = 'Guido'\n",
    "u = udict(name='Guido', number=37)\n",
    "u"
   ]
  },
  {
   "cell_type": "code",
   "execution_count": 23,
   "id": "844dcbb8",
   "metadata": {},
   "outputs": [
    {
     "data": {
      "text/plain": [
       "{'NAME': 'Guido', 'NUM': 37, 'COLOR': 'Blue'}"
      ]
     },
     "execution_count": 23,
     "metadata": {},
     "output_type": "execute_result"
    }
   ],
   "source": [
    "from collections import UserDict\n",
    "\n",
    "class udict(UserDict):\n",
    "    def __setitem__(self, key, value):\n",
    "        super().__setitem__(key.upper(), value)\n",
    "        \n",
    "u = udict(name='Guido', num=37)\n",
    "u.update(color='Blue')\n",
    "u"
   ]
  },
  {
   "cell_type": "markdown",
   "id": "d4ad697d",
   "metadata": {},
   "source": [
    "**7.12. ПЕРЕМЕННЫЕ И МЕТОДЫ КЛАССА**"
   ]
  },
  {
   "cell_type": "code",
   "execution_count": null,
   "id": "168bb345",
   "metadata": {},
   "outputs": [],
   "source": [
    "class Account:\n",
    "    num_accounts = 0\n",
    "    \n",
    "    def __init__(self, owner, balance):\n",
    "        self.owner = owner\n",
    "        self.balance = balance\n",
    "        Account.num_accounts += 1\n",
    "    def __repr__(self):\n",
    "        return f'{type(self).__name__}({self.owner!r}, {self.balance!r})'\n",
    "    def deposit(self, amount):\n",
    "        self.balance += amount\n",
    "    def withdraw(self, amount):\n",
    "        self.deposit(-amount)\n",
    "    def inquiry(self):\n",
    "        return self.balance"
   ]
  },
  {
   "cell_type": "code",
   "execution_count": 25,
   "id": "01b93940",
   "metadata": {},
   "outputs": [
    {
     "ename": "AttributeError",
     "evalue": "'xml.etree.ElementTree.Element' object has no attribute 'fintext'",
     "output_type": "error",
     "traceback": [
      "\u001b[1;31m---------------------------------------------------------------------------\u001b[0m",
      "\u001b[1;31mAttributeError\u001b[0m                            Traceback (most recent call last)",
      "Cell \u001b[1;32mIn[25], line 19\u001b[0m\n\u001b[0;32m     10\u001b[0m         \u001b[38;5;28;01mreturn\u001b[39;00m \u001b[38;5;28mcls\u001b[39m(doc\u001b[38;5;241m.\u001b[39mfintext(\u001b[38;5;124m'\u001b[39m\u001b[38;5;124mowner\u001b[39m\u001b[38;5;124m'\u001b[39m), \u001b[38;5;28mfloat\u001b[39m(doc\u001b[38;5;241m.\u001b[39mfindtext(\u001b[38;5;124m'\u001b[39m\u001b[38;5;124mamount\u001b[39m\u001b[38;5;124m'\u001b[39m)))\n\u001b[0;32m     12\u001b[0m data \u001b[38;5;241m=\u001b[39m \u001b[38;5;124m'''\u001b[39m\n\u001b[0;32m     13\u001b[0m \u001b[38;5;124m<account>\u001b[39m\n\u001b[0;32m     14\u001b[0m \u001b[38;5;124m    <owner>Guido</owner>\u001b[39m\n\u001b[0;32m     15\u001b[0m \u001b[38;5;124m    <amount>1000.0</amount>\u001b[39m\n\u001b[0;32m     16\u001b[0m \u001b[38;5;124m</account>\u001b[39m\n\u001b[0;32m     17\u001b[0m \u001b[38;5;124m'''\u001b[39m\n\u001b[1;32m---> 19\u001b[0m a \u001b[38;5;241m=\u001b[39m \u001b[43mAccount\u001b[49m\u001b[38;5;241;43m.\u001b[39;49m\u001b[43mfrom_xml\u001b[49m\u001b[43m(\u001b[49m\u001b[43mdata\u001b[49m\u001b[43m)\u001b[49m\n",
      "Cell \u001b[1;32mIn[25], line 10\u001b[0m, in \u001b[0;36mAccount.from_xml\u001b[1;34m(cls, data)\u001b[0m\n\u001b[0;32m      8\u001b[0m \u001b[38;5;28;01mfrom\u001b[39;00m \u001b[38;5;21;01mxml\u001b[39;00m\u001b[38;5;21;01m.\u001b[39;00m\u001b[38;5;21;01metree\u001b[39;00m\u001b[38;5;21;01m.\u001b[39;00m\u001b[38;5;21;01mElementTree\u001b[39;00m \u001b[38;5;28;01mimport\u001b[39;00m XML\n\u001b[0;32m      9\u001b[0m doc \u001b[38;5;241m=\u001b[39m XML(data)\n\u001b[1;32m---> 10\u001b[0m \u001b[38;5;28;01mreturn\u001b[39;00m \u001b[38;5;28mcls\u001b[39m(\u001b[43mdoc\u001b[49m\u001b[38;5;241;43m.\u001b[39;49m\u001b[43mfintext\u001b[49m(\u001b[38;5;124m'\u001b[39m\u001b[38;5;124mowner\u001b[39m\u001b[38;5;124m'\u001b[39m), \u001b[38;5;28mfloat\u001b[39m(doc\u001b[38;5;241m.\u001b[39mfindtext(\u001b[38;5;124m'\u001b[39m\u001b[38;5;124mamount\u001b[39m\u001b[38;5;124m'\u001b[39m)))\n",
      "\u001b[1;31mAttributeError\u001b[0m: 'xml.etree.ElementTree.Element' object has no attribute 'fintext'"
     ]
    }
   ],
   "source": [
    "class Account:\n",
    "    def __init__(self, owner, balance):\n",
    "        self.owner = owner\n",
    "        self.balance = balance\n",
    "    \n",
    "    @classmethod\n",
    "    def from_xml(cls, data):\n",
    "        from xml.etree.ElementTree import XML\n",
    "        doc = XML(data)\n",
    "        return cls(doc.fintext('owner'), float(doc.findtext('amount')))\n",
    "    \n",
    "data = '''\n",
    "<account>\n",
    "    <owner>Guido</owner>\n",
    "    <amount>1000.0</amount>\n",
    "</account>\n",
    "'''\n",
    "\n",
    "a = Account.from_xml(data)\n",
    "\n"
   ]
  },
  {
   "cell_type": "code",
   "execution_count": 24,
   "id": "335cefc6",
   "metadata": {},
   "outputs": [
    {
     "ename": "AttributeError",
     "evalue": "type object 'EvilAccount' has no attribute 'from_xml'",
     "output_type": "error",
     "traceback": [
      "\u001b[1;31m---------------------------------------------------------------------------\u001b[0m",
      "\u001b[1;31mAttributeError\u001b[0m                            Traceback (most recent call last)",
      "Cell \u001b[1;32mIn[24], line 4\u001b[0m\n\u001b[0;32m      1\u001b[0m \u001b[38;5;28;01mclass\u001b[39;00m \u001b[38;5;21;01mEvilAccount\u001b[39;00m(Account):\n\u001b[0;32m      2\u001b[0m     \u001b[38;5;28;01mpass\u001b[39;00m\n\u001b[1;32m----> 4\u001b[0m e \u001b[38;5;241m=\u001b[39m \u001b[43mEvilAccount\u001b[49m\u001b[38;5;241;43m.\u001b[39;49m\u001b[43mfrom_xml\u001b[49m(data)\n",
      "\u001b[1;31mAttributeError\u001b[0m: type object 'EvilAccount' has no attribute 'from_xml'"
     ]
    }
   ],
   "source": [
    "class EvilAccount(Account):\n",
    "    pass\n",
    "\n",
    "e = EvilAccount.from_xml(data)\n",
    "\n",
    "e = Account(dat)\n",
    "\n"
   ]
  },
  {
   "cell_type": "code",
   "execution_count": 4,
   "id": "dd0bfc94",
   "metadata": {},
   "outputs": [],
   "source": [
    "import time\n",
    "\n",
    "class Date:\n",
    "    datefmt = '{year}-{month:02d}-{day:02d}'\n",
    "    def __init__(self, year, month, day):\n",
    "        self.year = year\n",
    "        self.month = month\n",
    "        self.day = day\n",
    "        \n",
    "    def __str__(self):\n",
    "        return self.datefmt.format(year=self.year,\n",
    "                                  month=self.month,\n",
    "                                  day=self.day)\n",
    "    \n",
    "    @classmethod\n",
    "    def from_timestamp(cls, ts):\n",
    "        tm = time.localtime(ts)\n",
    "        return cls(tm.tm_year, tm.tm_mon, tm.tm_mday)\n",
    "    \n",
    "    @classmethod\n",
    "    def today(cls):\n",
    "        return cls.from_timestamp(time.time())"
   ]
  },
  {
   "cell_type": "code",
   "execution_count": 6,
   "id": "eb954742",
   "metadata": {},
   "outputs": [
    {
     "name": "stdout",
     "output_type": "stream",
     "text": [
      "1967-04-09\n",
      "4/9/1967\n",
      "2023-07-05\n"
     ]
    }
   ],
   "source": [
    "class MDYDate(Date):\n",
    "    datefmt = '{month}/{day}/{year}'\n",
    "\n",
    "class DMYDate(Date):\n",
    "    datefmt = '{day}/{month}/{year}'\n",
    "    \n",
    "a = Date(1967, 4, 9)\n",
    "print(a)\n",
    "\n",
    "b = MDYDate(1967, 4, 9)\n",
    "print(b)\n",
    "\n",
    "d = Date(1967, 4, 9)\n",
    "b = d.today()\n",
    "print(b)"
   ]
  },
  {
   "cell_type": "markdown",
   "id": "05d8389e",
   "metadata": {},
   "source": [
    ">Предупреждение: Python не управляет методами класса в пространстве имен,\n",
    "отдельном от методов экземпляра. Поэтому они все еще могут вызываться\n",
    "для экземпляров:"
   ]
  },
  {
   "cell_type": "code",
   "execution_count": null,
   "id": "0c5edfbb",
   "metadata": {},
   "outputs": [],
   "source": [
    "d = Date(1967, 4, 9)\n",
    "b = d.today() # Вызывает Date.now(Date)"
   ]
  },
  {
   "cell_type": "markdown",
   "id": "3dd0b4b1",
   "metadata": {},
   "source": [
    "**7.13. СТАТИЧЕСКИЕ МЕТОДЫ**"
   ]
  },
  {
   "cell_type": "markdown",
   "id": "b7205263",
   "metadata": {},
   "source": [
    ">Иногда класс просто используется как пространство имен для функций,\n",
    "объявленных как статические методы с использованием @staticmethod.\n",
    "В отличие от обычного метода или метода класса, статический не получает\n",
    "дополнительный аргумент self или cls. Это обычная функция, которая\n",
    "определяется внутри класса:"
   ]
  },
  {
   "cell_type": "code",
   "execution_count": 7,
   "id": "df1a1b4e",
   "metadata": {},
   "outputs": [],
   "source": [
    "class Ops:\n",
    "    @staticmethod\n",
    "    def add(x, y):\n",
    "        return x + y\n",
    "    \n",
    "    @staticmethod\n",
    "    def sub(x, y):\n",
    "        return x - y\n",
    "    \n",
    "a = Ops.add(2, 3)"
   ]
  },
  {
   "cell_type": "markdown",
   "id": "7dd29dfa",
   "metadata": {},
   "source": [
    ">Иногда другие классы будут использовать набор статических методов вроде\n",
    "этого для реализации заменяемого/настраиваемого поведения или как чтото, слабо имитирующее поведение модуля импорта. Рассмотрим применение\n",
    "наследования в прошлом примере Account:"
   ]
  },
  {
   "cell_type": "code",
   "execution_count": null,
   "id": "d72b90d4",
   "metadata": {},
   "outputs": [],
   "source": [
    "class Account:\n",
    "    def __init__(self, owner, balance):\n",
    "        self.owner = owner\n",
    "        self.balance = balance\n",
    "        \n",
    "    def __repr__(self):\n",
    "        return f'{type(self).__name__}({self.owner!r}, {self.balance!r})'\n",
    "    \n",
    "    def deposit(self, amount):\n",
    "        return self.balance += amount\n",
    "    \n",
    "    def withdraw(self, amount):\n",
    "        return self.balace -= amount\n",
    "    \n",
    "    def inquiry(self):\n",
    "        return self.balance\n",
    "    \n",
    "# Специальная разновидность Account\n",
    "\n",
    "class EvilAccount(Account):\n",
    "    def deposit(self, amount):\n",
    "        self.balance += 0.95 * amount\n",
    "        \n",
    "    def inquiry(self):\n",
    "        if random.randint(0, 4) == 1:\n",
    "            return 1.10 * self.balance\n",
    "        else:\n",
    "            return self.balance"
   ]
  },
  {
   "cell_type": "markdown",
   "id": "27101f0a",
   "metadata": {},
   "source": [
    ">Вот альтернативная формулировка Account, решающая\n",
    "эту проблему с помощью статических методов:"
   ]
  },
  {
   "cell_type": "code",
   "execution_count": 8,
   "id": "149d554f",
   "metadata": {},
   "outputs": [],
   "source": [
    "class StandartPolicy:\n",
    "    @staticmethod\n",
    "    def deposit(account, amount):\n",
    "        account.balance += amount\n",
    "    \n",
    "    @staticmethod\n",
    "    def withdraw(account, amount):\n",
    "        account.balance -= amount\n",
    "        \n",
    "    @staticmethod\n",
    "    def inquiry(account):\n",
    "        return account.balance\n",
    "    \n",
    "class EvilPolicy(StandartPolicy):\n",
    "    @staticmethod\n",
    "    def deposit(account, amount):\n",
    "        account.balance += 0.95*amount\n",
    "        \n",
    "    @staticmethod\n",
    "    def iquiry(account):\n",
    "        if random.randint(0,4) == 1:\n",
    "            return 1.10 * account.balance\n",
    "        else:\n",
    "            return account.balance\n",
    "        \n",
    "class Account:\n",
    "    def __init__(self, owner, balance, *, policy=StandartPolicy):\n",
    "        self.owner = owner\n",
    "        self.balance = balance \n",
    "        self.policy = policy\n",
    "        \n",
    "    def __repr__(self):\n",
    "        return f'{type(self).__name__}({self.owner!r}, {self.balance!r})'\n",
    "    \n",
    "    def deposit(self, amount):\n",
    "        self.policy.deposit(self, amount)\n",
    "        \n",
    "    def withdraw(self, amount):\n",
    "        self.policy.withdraw(self, amount)\n",
    "    \n",
    "    def inquiry(self):\n",
    "        return self.policy.inquiry(self)\n",
    "    "
   ]
  },
  {
   "cell_type": "code",
   "execution_count": 12,
   "id": "2d57e6e4",
   "metadata": {},
   "outputs": [
    {
     "data": {
      "text/plain": [
       "1975.0"
      ]
     },
     "execution_count": 12,
     "metadata": {},
     "output_type": "execute_result"
    }
   ],
   "source": [
    "a = Account('Guido', 1000.0)\n",
    "a.policy\n",
    "a.deposit(500)\n",
    "a.inquiry()\n",
    "a.policy = EvilPolicy\n",
    "a.deposit(500)\n",
    "a.inquiry()"
   ]
  },
  {
   "cell_type": "code",
   "execution_count": 13,
   "id": "06dbae58",
   "metadata": {},
   "outputs": [],
   "source": [
    "class EvilPolicy(StandartPolicy):\n",
    "    def __init__(self, deposit_factor, inquiry_factor):\n",
    "        self.deposit_factor = deposit_factor\n",
    "        self.inquiry_factor = inquiry_factor\n",
    "    def deposit(self, account, amount):\n",
    "        account.balance += self.deposit_factor * amount\n",
    "        \n",
    "    def inquiry(self, account):\n",
    "        if random.randint(0,4) == 1:\n",
    "            return self.inquiry_factor * account.balance\n",
    "        else:\n",
    "            return account.balance\n",
    "        \n",
    "# Пример использования\n",
    "\n",
    "a = Account('Guido', 1000.0, policy=EvilPolicy(0.95, 1.10))"
   ]
  },
  {
   "cell_type": "markdown",
   "id": "0e5d657b",
   "metadata": {},
   "source": [
    "**7.15. ИНКАПСУЛЯЦИЯ ДАННЫХ\n",
    "И ПРИВАТНЫЕ АТРИБУТЫ**"
   ]
  },
  {
   "cell_type": "code",
   "execution_count": 2,
   "id": "2d4128c2",
   "metadata": {},
   "outputs": [],
   "source": [
    "class Account:\n",
    "    def __init__(self, owner, balance):\n",
    "        self.owner = owner\n",
    "        self._balance\n",
    "    \n",
    "    def __repr__(self):\n",
    "        return f'{type(self).__name__}({self.owner!r}, {self.balance!r})'\n",
    "    \n",
    "    def deposit(self, amount):\n",
    "        self._balance += amount\n",
    "    \n",
    "    def withdraw(self, amount):\n",
    "        self._balance -= amount\n",
    "        \n",
    "    def inquiry(self):\n",
    "        return self._balance\n",
    "    \n",
    "# Здесь атрибут _balance рассматривается как часть внутренней реализации.\n",
    "# Ничто не мешает пользователю обратиться к нему напрямую. \n",
    "# Но начальный символ подчеркивания настойчиво указывает на то, что пользователю\n",
    "# следует поискать интерфейс для внешнего использования, например метод\n",
    "# Account.inquiry()."
   ]
  },
  {
   "cell_type": "code",
   "execution_count": 3,
   "id": "0525e0ff",
   "metadata": {},
   "outputs": [],
   "source": [
    "class EvilAccount(Account):\n",
    "    def inquiry(self):\n",
    "        if random.randint(0, 4) == 1:\n",
    "            return 1.10 * self._balance\n",
    "        else:\n",
    "            return self._balance"
   ]
  },
  {
   "cell_type": "code",
   "execution_count": 10,
   "id": "05c2e38d",
   "metadata": {},
   "outputs": [],
   "source": [
    "class A:\n",
    "    def __init__(self):\n",
    "        self.__x = 3 # Преобразуется в self._A__x\n",
    "        \n",
    "    def __spam(self): # Преобразуется в _A__spam()\n",
    "        print('A.__spam', self.__x)\n",
    "        \n",
    "    def bar(self):\n",
    "        self.__spam()\n",
    "        \n",
    "class B(A):\n",
    "    def __init__(self):\n",
    "        super().__init__()\n",
    "        self.__x = 37 # Преобразуется в self._B__x\n",
    "        \n",
    "    def __spam(self): # Преобразуется в self._B__x\n",
    "        print('B.__spam', self.__x)\n",
    "    \n",
    "    def grok(self):\n",
    "        self.__spam() # Вызывает B.__spam()\n",
    "        \n",
    "        \n",
    "        "
   ]
  },
  {
   "cell_type": "code",
   "execution_count": 11,
   "id": "e54d1f1f",
   "metadata": {},
   "outputs": [
    {
     "name": "stdout",
     "output_type": "stream",
     "text": [
      "A.__spam 3\n",
      "None\n",
      "B.__spam 37\n",
      "{'_A__x': 3, '_B__x': 37}\n"
     ]
    }
   ],
   "source": [
    "b = B()\n",
    "print(b.bar())\n",
    "b.grok()\n",
    "print(vars(b))\n"
   ]
  },
  {
   "cell_type": "markdown",
   "id": "e9faf499",
   "metadata": {},
   "source": [
    "**7.16. АННОТАЦИИ ТИПОВ**"
   ]
  },
  {
   "cell_type": "code",
   "execution_count": null,
   "id": "6dd09e49",
   "metadata": {},
   "outputs": [],
   "source": [
    "class Account:\n",
    "    owner: str\n",
    "    balance: flaot"
   ]
  },
  {
   "cell_type": "markdown",
   "id": "5a14334f",
   "metadata": {},
   "source": [
    "**7.17. СВОЙСТВА**"
   ]
  },
  {
   "cell_type": "code",
   "execution_count": 17,
   "id": "834d1fad",
   "metadata": {},
   "outputs": [
    {
     "data": {
      "text/plain": [
       "'EVA'"
      ]
     },
     "execution_count": 17,
     "metadata": {},
     "output_type": "execute_result"
    }
   ],
   "source": [
    "import string\n",
    "\n",
    "class Account:\n",
    "    def __init__(self, owner, balance):\n",
    "        self.owner = owner\n",
    "        self._balance = balance\n",
    "        \n",
    "    @property\n",
    "    def owner(self):\n",
    "        return self._owner\n",
    "    \n",
    "    @owner.setter\n",
    "    def owner(self, value):\n",
    "        if not isinstance(value, str):\n",
    "            raise TypeError('Expected str')\n",
    "        if not all(c in string.ascii_uppercase for c in value):\n",
    "            raise ValueError('Must be uppercase ASCII')\n",
    "        if len(value) > 10:\n",
    "            raise ValueError('Must be 10 characters or less')\n",
    "        self._owner = value\n",
    "        \n",
    "a = Account('GUIDO', 1000.0)\n",
    "a.owner = 'EVA'\n",
    "a.owner"
   ]
  },
  {
   "cell_type": "markdown",
   "id": "2b173086",
   "metadata": {},
   "source": [
    ">Как правило, свойства позволяют перехватывать любое конкретное имя\n",
    "атрибута. Вы можете реализовать методы для чтения, записи или удаления\n",
    "значения атрибута:"
   ]
  },
  {
   "cell_type": "code",
   "execution_count": 20,
   "id": "6c20e66e",
   "metadata": {},
   "outputs": [
    {
     "name": "stdout",
     "output_type": "stream",
     "text": [
      "Getting\n",
      "Setting 13\n",
      "Deleting\n"
     ]
    }
   ],
   "source": [
    "class SomeClass:\n",
    "    @property\n",
    "    def attr(self):\n",
    "        print('Getting')\n",
    "    \n",
    "    @attr.setter\n",
    "    def attr(self, value):\n",
    "        print('Setting', value)\n",
    "        \n",
    "    @attr.deleter\n",
    "    def attr(self):\n",
    "        print('Deleting')\n",
    "        \n",
    "s = SomeClass()\n",
    "s.attr\n",
    "s.attr = 13\n",
    "del s.attr"
   ]
  },
  {
   "cell_type": "code",
   "execution_count": 28,
   "id": "40064242",
   "metadata": {},
   "outputs": [
    {
     "name": "stdout",
     "output_type": "stream",
     "text": [
      "20\n",
      "18\n",
      "{'width': 4, 'height': 5}\n"
     ]
    },
    {
     "data": {
      "text/plain": [
       "['__class__',\n",
       " '__delattr__',\n",
       " '__dict__',\n",
       " '__dir__',\n",
       " '__doc__',\n",
       " '__eq__',\n",
       " '__format__',\n",
       " '__ge__',\n",
       " '__getattribute__',\n",
       " '__getstate__',\n",
       " '__gt__',\n",
       " '__hash__',\n",
       " '__init__',\n",
       " '__init_subclass__',\n",
       " '__le__',\n",
       " '__lt__',\n",
       " '__module__',\n",
       " '__ne__',\n",
       " '__new__',\n",
       " '__reduce__',\n",
       " '__reduce_ex__',\n",
       " '__repr__',\n",
       " '__setattr__',\n",
       " '__sizeof__',\n",
       " '__str__',\n",
       " '__subclasshook__',\n",
       " '__weakref__',\n",
       " 'area',\n",
       " 'height',\n",
       " 'perimeter',\n",
       " 'width']"
      ]
     },
     "execution_count": 28,
     "metadata": {},
     "output_type": "execute_result"
    }
   ],
   "source": [
    "class Box(object):\n",
    "    def __init__(self, width, height):\n",
    "        self.width = width\n",
    "        self.height = height\n",
    "        \n",
    "    @property\n",
    "    def area(self):\n",
    "        return self.width * self.height\n",
    "    \n",
    "    @property\n",
    "    def perimeter(self):\n",
    "        return 2*self.width + 2*self.height\n",
    "    \n",
    "b = Box(4, 5)\n",
    "print(b.area)\n",
    "print(b.perimeter)\n",
    "# b.area = 5\n",
    "print(vars(b))\n",
    "dir(b)"
   ]
  },
  {
   "cell_type": "code",
   "execution_count": 40,
   "id": "59de2fc7",
   "metadata": {},
   "outputs": [
    {
     "name": "stdout",
     "output_type": "stream",
     "text": [
      "Yow!\n"
     ]
    }
   ],
   "source": [
    "class SomeClass:\n",
    "    @classmethod\n",
    "    def yow(cls):\n",
    "        print('Yow!')\n",
    "        \n",
    "s = SomeClass()\n",
    "s.yow()"
   ]
  },
  {
   "cell_type": "markdown",
   "id": "34930fac",
   "metadata": {},
   "source": [
    "**7.18. ТИПЫ, ИНТЕРФЕЙСЫ И АБСТРАКТНЫЕ\n",
    "БАЗОВЫЕ КЛАССЫ**"
   ]
  },
  {
   "cell_type": "code",
   "execution_count": 47,
   "id": "65227b9d",
   "metadata": {},
   "outputs": [
    {
     "data": {
      "text/plain": [
       "True"
      ]
     },
     "execution_count": 47,
     "metadata": {},
     "output_type": "execute_result"
    }
   ],
   "source": [
    "class A:\n",
    "    pass\n",
    "\n",
    "class B(A):\n",
    "    pass\n",
    "\n",
    "class C:\n",
    "    ...\n",
    "\n",
    "a = A()\n",
    "b = B()\n",
    "c = C()\n",
    "type(a).__name__\n",
    "isinstance(a, A)\n",
    "isinstance(b, A)\n",
    "isinstance(b, C)\n",
    "issubclass(B, A)"
   ]
  },
  {
   "cell_type": "markdown",
   "id": "282b5262",
   "metadata": {},
   "source": [
    ">Отношения типов между классами часто используются как основа спецификаций программных интерфейсов. Например, базовый класс верхнего уровня\n",
    "может быть реализован для задания требований программного интерфейса.\n",
    "Затем он может использоваться для аннотаций типов или их защитной проверки вызовом isinstance():"
   ]
  },
  {
   "cell_type": "code",
   "execution_count": 48,
   "id": "3a334125",
   "metadata": {},
   "outputs": [],
   "source": [
    "class Stream:\n",
    "    def receive(self):\n",
    "        raise NotImplementedError()\n",
    "        \n",
    "    def send(self, msg):\n",
    "        raise NotImplementedError()\n",
    "        \n",
    "    def close(self):\n",
    "        raise NotImplementedError()\n",
    "        \n",
    "        \n",
    "def send_request(stream, request):\n",
    "    if not isinstance(stream, Stream):\n",
    "        raise TypeError('Expected a Stream')\n",
    "    stream.send(request)\n",
    "    return stream.receive()"
   ]
  },
  {
   "cell_type": "code",
   "execution_count": 63,
   "id": "03a4a0bb",
   "metadata": {},
   "outputs": [
    {
     "name": "stdout",
     "output_type": "stream",
     "text": [
      "OK\n"
     ]
    }
   ],
   "source": [
    "from abc import ABC, abstractmethod\n",
    "\n",
    "class Stream(ABC):\n",
    "    \n",
    "    def receive(self):\n",
    "        print('OK')\n",
    "        \n",
    "    @abstractmethod\n",
    "    def send(self, msg):\n",
    "        ...\n",
    "        \n",
    "    @abstractmethod\n",
    "    def close(self):\n",
    "        ...\n",
    "        \n",
    "# s = Stream()\n",
    "\n",
    "\n",
    "class SocketStream(Stream):\n",
    "    def read(self): # Неправильное имя\n",
    "            super().receive()\n",
    "            \n",
    "    def send(self, msg):\n",
    "        ...\n",
    "        \n",
    "    def close(self):\n",
    "        ...\n",
    "        \n",
    "s = SocketStream()\n",
    "s.read()"
   ]
  },
  {
   "cell_type": "markdown",
   "id": "bdcafa91",
   "metadata": {},
   "source": [
    "**7.19. МНОЖЕСТВЕННОЕ НАСЛЕДОВАНИЕ,\n",
    "ИНТЕРФЕЙСЫ И ПРИМЕСИ**"
   ]
  },
  {
   "cell_type": "markdown",
   "id": "b26e4485",
   "metadata": {},
   "source": [
    ">Python поддерживает множественное наследование. Если производный\n",
    "класс имеет более одного родителя, он наследует всю их функциональность:"
   ]
  },
  {
   "cell_type": "code",
   "execution_count": 65,
   "id": "84d9c750",
   "metadata": {},
   "outputs": [
    {
     "name": "stdout",
     "output_type": "stream",
     "text": [
      "Waddle\n",
      "Blat!\n"
     ]
    }
   ],
   "source": [
    "class Duck:\n",
    "    def walk(self):\n",
    "        print('Waddle')\n",
    "        \n",
    "class Trombonist:\n",
    "    def noise(self):\n",
    "        print('Blat!')\n",
    "        \n",
    "class DuckBonist(Duck, Trombonist):\n",
    "    pass\n",
    "\n",
    "d = DuckBonist()\n",
    "d.walk()\n",
    "d.noise()"
   ]
  },
  {
   "cell_type": "markdown",
   "id": "1da4bf63",
   "metadata": {},
   "source": [
    ">Более распространенный случай множественного использования — организация отношений между типами и интерфейсами. В прошлом разделе была\n",
    "представлена концепция абстрактного базового класса. Он предназначен для\n",
    "определения программного интерфейса. У вас могут быть такие абстрактные\n",
    "классы:"
   ]
  },
  {
   "cell_type": "code",
   "execution_count": 67,
   "id": "b457664e",
   "metadata": {},
   "outputs": [],
   "source": [
    "from abc import ABC, abstractmethod\n",
    "\n",
    "class Stream(ABC):\n",
    "    @abstractmethod\n",
    "    def receive(self):\n",
    "        ...\n",
    "        \n",
    "    @abstractmethod\n",
    "    def send(self, msg):\n",
    "        ...\n",
    "        \n",
    "    @abstractmethod\n",
    "    def close(self):\n",
    "        ...\n",
    "        \n",
    "class Iterable(ABC):\n",
    "    @abstractmethod\n",
    "    def __iter__(self):\n",
    "        ..."
   ]
  },
  {
   "cell_type": "markdown",
   "id": "2a10c66c",
   "metadata": {},
   "source": [
    ">С такими классами можно воспользоваться множественным наследованием\n",
    "для определения интерфейсов, реализованных производным классом:"
   ]
  },
  {
   "cell_type": "code",
   "execution_count": 69,
   "id": "5a6e859e",
   "metadata": {},
   "outputs": [
    {
     "ename": "TypeError",
     "evalue": "Can't instantiate abstract class MessageStream with abstract method __iter__",
     "output_type": "error",
     "traceback": [
      "\u001b[0;31m---------------------------------------------------------------------------\u001b[0m",
      "\u001b[0;31mTypeError\u001b[0m                                 Traceback (most recent call last)",
      "Cell \u001b[0;32mIn[69], line 10\u001b[0m\n\u001b[1;32m      6\u001b[0m     \u001b[38;5;28;01mdef\u001b[39;00m \u001b[38;5;21mclose\u001b[39m(\u001b[38;5;28mself\u001b[39m):\n\u001b[1;32m      7\u001b[0m         \u001b[38;5;241m.\u001b[39m\u001b[38;5;241m.\u001b[39m\u001b[38;5;241m.\u001b[39m\n\u001b[0;32m---> 10\u001b[0m s \u001b[38;5;241m=\u001b[39m \u001b[43mMessageStream\u001b[49m\u001b[43m(\u001b[49m\u001b[43m)\u001b[49m\n",
      "\u001b[0;31mTypeError\u001b[0m: Can't instantiate abstract class MessageStream with abstract method __iter__"
     ]
    }
   ],
   "source": [
    "class MessageStream(Stream, Iterable):\n",
    "    def receive(self):\n",
    "        ...\n",
    "    def send(self):\n",
    "        ...\n",
    "    def close(self):\n",
    "        ...\n",
    "        \n",
    "    def __iter__(self):\n",
    "        ...\n",
    "    \n",
    "    \n",
    "s = MessageStream()"
   ]
  },
  {
   "cell_type": "markdown",
   "id": "7b1ef749",
   "metadata": {},
   "source": [
    ">Множественное наследование применяется и для определения классов примесей (mixins). Класс примеси изменяет или расширяет функциональность\n",
    "других классов. Возьмем следующие определения классов:"
   ]
  },
  {
   "cell_type": "code",
   "execution_count": 74,
   "id": "6b12080d",
   "metadata": {},
   "outputs": [
    {
     "ename": "AttributeError",
     "evalue": "'super' object has no attribute 'noise'",
     "output_type": "error",
     "traceback": [
      "\u001b[0;31m---------------------------------------------------------------------------\u001b[0m",
      "\u001b[0;31mAttributeError\u001b[0m                            Traceback (most recent call last)",
      "Cell \u001b[0;32mIn[74], line 34\u001b[0m\n\u001b[1;32m     31\u001b[0m         \u001b[38;5;28;01mreturn\u001b[39;00m \u001b[38;5;241m3\u001b[39m\u001b[38;5;241m*\u001b[39m\u001b[38;5;28msuper\u001b[39m()\u001b[38;5;241m.\u001b[39mnoise()\n\u001b[1;32m     33\u001b[0m a \u001b[38;5;241m=\u001b[39m AnnoyingMixin()\n\u001b[0;32m---> 34\u001b[0m \u001b[43ma\u001b[49m\u001b[38;5;241;43m.\u001b[39;49m\u001b[43mnoise\u001b[49m\u001b[43m(\u001b[49m\u001b[43m)\u001b[49m\n",
      "Cell \u001b[0;32mIn[74], line 31\u001b[0m, in \u001b[0;36mAnnoyingMixin.noise\u001b[0;34m(self)\u001b[0m\n\u001b[1;32m     30\u001b[0m \u001b[38;5;28;01mdef\u001b[39;00m \u001b[38;5;21mnoise\u001b[39m(\u001b[38;5;28mself\u001b[39m):\n\u001b[0;32m---> 31\u001b[0m     \u001b[38;5;28;01mreturn\u001b[39;00m \u001b[38;5;241m3\u001b[39m\u001b[38;5;241m*\u001b[39m\u001b[38;5;28;43msuper\u001b[39;49m\u001b[43m(\u001b[49m\u001b[43m)\u001b[49m\u001b[38;5;241;43m.\u001b[39;49m\u001b[43mnoise\u001b[49m()\n",
      "\u001b[0;31mAttributeError\u001b[0m: 'super' object has no attribute 'noise'"
     ]
    }
   ],
   "source": [
    "class Duck:\n",
    "    def noise(self):\n",
    "        return 'Quack'\n",
    "    def waddle(self):\n",
    "        return 'Waddle'\n",
    "    \n",
    "class Trombonist:\n",
    "    def noise(self):\n",
    "        return 'Blat!'\n",
    "    \n",
    "    def march(self):\n",
    "        return 'Clomp'\n",
    "    \n",
    "class Cyclist:\n",
    "    def noise(self):\n",
    "        return 'On your left!'\n",
    "    \n",
    "    def pedal(self):\n",
    "        return 'Pedaling'\n",
    "    \n",
    "    \n",
    "# Но есть и сходство: все они определяют\n",
    "# метод noise(). Руководствуясь этим, можно определить следующие классы:\n",
    "\n",
    "class LoudMixin:\n",
    "    def noise(self):\n",
    "        return super().noise().upper()\n",
    "    \n",
    "class AnnoyingMixin:\n",
    "    def noise(self):\n",
    "        return 3*super().noise()\n",
    "    \n",
    "a = AnnoyingMixin()\n",
    "a.noise()"
   ]
  },
  {
   "cell_type": "code",
   "execution_count": 76,
   "id": "70b21d29",
   "metadata": {},
   "outputs": [
    {
     "data": {
      "text/plain": [
       "'ON YOUR LEFT!ON YOUR LEFT!ON YOUR LEFT!'"
      ]
     },
     "execution_count": 76,
     "metadata": {},
     "output_type": "execute_result"
    }
   ],
   "source": [
    "class LoudDuck(LoudMixin, Duck):\n",
    "    ...\n",
    "    \n",
    "class AnnoyingTrombonist(AnnoyingMixin, Trombonist):\n",
    "    ...\n",
    "    \n",
    "class AnnoyingLoudCyclist(AnnoyingMixin, LoudMixin, Cyclist):\n",
    "    ...\n",
    "    \n",
    "d = LoudDuck()\n",
    "d.noise()\n",
    "\n",
    "t = AnnoyingTrombonist()\n",
    "t.noise()\n",
    "\n",
    "c = AnnoyingLoudCyclist()\n",
    "c.noise()"
   ]
  },
  {
   "cell_type": "markdown",
   "id": "e4f61289",
   "metadata": {},
   "source": [
    ">Во-первых, при использовании наследования Python строит линейную цепочку классов, называемую MRO (Method Resolution Order). Она доступна\n",
    "в атрибуте __mro__ класса. "
   ]
  },
  {
   "cell_type": "code",
   "execution_count": 79,
   "id": "aa2cf687",
   "metadata": {},
   "outputs": [
    {
     "name": "stdout",
     "output_type": "stream",
     "text": [
      "(<class '__main__.Base'>, <class 'object'>)\n",
      "(<class '__main__.A'>, <class '__main__.Base'>, <class 'object'>)\n",
      "(<class '__main__.B'>, <class '__main__.A'>, <class '__main__.Base'>, <class 'object'>)\n"
     ]
    },
    {
     "data": {
      "text/plain": [
       "(__main__.AnnoyingLoudCyclist,\n",
       " __main__.AnnoyingMixin,\n",
       " __main__.LoudMixin,\n",
       " __main__.Cyclist,\n",
       " object)"
      ]
     },
     "execution_count": 79,
     "metadata": {},
     "output_type": "execute_result"
    }
   ],
   "source": [
    "class Base:\n",
    "    ...\n",
    "    \n",
    "class A(Base):\n",
    "    ...\n",
    "    \n",
    "class B(A):\n",
    "    ...\n",
    "    \n",
    "print(Base.__mro__)\n",
    "print(A.__mro__)\n",
    "print(B.__mro__)\n",
    "\n",
    "\n",
    "AnnoyingLoudCyclist.__mro__"
   ]
  },
  {
   "cell_type": "code",
   "execution_count": null,
   "id": "eabcca83",
   "metadata": {},
   "outputs": [],
   "source": [
    "class NoiseMixin:\n",
    "    def noise(self):\n",
    "        raise NotImplementedError('noise() not implemented')\n",
    "        \n",
    "class LoudMixin(NoiseMixin):\n",
    "    def noise(self):\n",
    "        return super().noise().upper()\n",
    "    \n",
    "class AnnoyingMixin(NoiseMixin):\n",
    "    def noise(self):\n",
    "        return 3 * super().noise()"
   ]
  },
  {
   "cell_type": "code",
   "execution_count": 80,
   "id": "a11b56dd",
   "metadata": {},
   "outputs": [
    {
     "name": "stdout",
     "output_type": "stream",
     "text": [
      "A.yow\n",
      "Base.yow\n"
     ]
    }
   ],
   "source": [
    "class Base:\n",
    "    def yow(self):\n",
    "        print('Base.yow')\n",
    "        \n",
    "class A(Base):\n",
    "    def yow(self):\n",
    "        print('A.yow')\n",
    "        Base.yow(self)\n",
    "        \n",
    "class B(Base):\n",
    "    def yow(self):\n",
    "        print('B.yow')\n",
    "        super().yow(self)\n",
    "        \n",
    "class C(A, B):\n",
    "    ...\n",
    "    \n",
    "c = C()\n",
    "c.yow()"
   ]
  },
  {
   "cell_type": "markdown",
   "id": "0186a0f5",
   "metadata": {},
   "source": [
    "**7.20. ДИСПЕТЧЕРИЗАЦИЯ ВЫЗОВОВ\n",
    "В ЗАВИСИМОСТИ ОТ ТИПА**"
   ]
  },
  {
   "cell_type": "code",
   "execution_count": 89,
   "id": "3c23a723",
   "metadata": {},
   "outputs": [
    {
     "ename": "RuntimeError",
     "evalue": "No handler for <__main__.Cyclist object at 0x7f1f0aa81b90>",
     "output_type": "error",
     "traceback": [
      "\u001b[0;31m---------------------------------------------------------------------------\u001b[0m",
      "\u001b[0;31mRuntimeError\u001b[0m                              Traceback (most recent call last)",
      "Cell \u001b[0;32mIn[89], line 27\u001b[0m\n\u001b[1;32m     24\u001b[0m         \u001b[38;5;28;01mraise\u001b[39;00m \u001b[38;5;167;01mRuntimeError\u001b[39;00m(\u001b[38;5;124mf\u001b[39m\u001b[38;5;124m'\u001b[39m\u001b[38;5;124mNo handler for \u001b[39m\u001b[38;5;132;01m{\u001b[39;00mobj\u001b[38;5;132;01m}\u001b[39;00m\u001b[38;5;124m'\u001b[39m)\n\u001b[1;32m     26\u001b[0m a \u001b[38;5;241m=\u001b[39m Cyclist()        \n\u001b[0;32m---> 27\u001b[0m d \u001b[38;5;241m=\u001b[39m \u001b[43mdispatch\u001b[49m\u001b[43m(\u001b[49m\u001b[43ma\u001b[49m\u001b[43m)\u001b[49m\n\u001b[1;32m     28\u001b[0m \u001b[38;5;28mtype\u001b[39m(a)\n",
      "Cell \u001b[0;32mIn[89], line 24\u001b[0m, in \u001b[0;36mdispatch\u001b[0;34m(obj)\u001b[0m\n\u001b[1;32m     22\u001b[0m     \u001b[38;5;28;01mreturn\u001b[39;00m func(obj)\n\u001b[1;32m     23\u001b[0m \u001b[38;5;28;01melse\u001b[39;00m:\n\u001b[0;32m---> 24\u001b[0m     \u001b[38;5;28;01mraise\u001b[39;00m \u001b[38;5;167;01mRuntimeError\u001b[39;00m(\u001b[38;5;124mf\u001b[39m\u001b[38;5;124m'\u001b[39m\u001b[38;5;124mNo handler for \u001b[39m\u001b[38;5;132;01m{\u001b[39;00mobj\u001b[38;5;132;01m}\u001b[39;00m\u001b[38;5;124m'\u001b[39m)\n",
      "\u001b[0;31mRuntimeError\u001b[0m: No handler for <__main__.Cyclist object at 0x7f1f0aa81b90>"
     ]
    }
   ],
   "source": [
    "# Диспетчеризация\n",
    "\n",
    "def handle_duck(self):\n",
    "        return 'Duck'\n",
    "    \n",
    "def handle_trombonist(self):\n",
    "        return 'Trombonist'\n",
    "    \n",
    "def handle_cyclist(self):\n",
    "        return 'Cyclist'\n",
    "\n",
    "handlers = {\n",
    "    Duck: handle_duck,\n",
    "    Trombonist: handle_trombonist,\n",
    "    Cyclist: handle_cyclist\n",
    "    \n",
    "}\n",
    "\n",
    "def dispatch(obj):\n",
    "    func = handlers.get(type(obj).__name__)\n",
    "    if func:\n",
    "        return func(obj)\n",
    "    else:\n",
    "        raise RuntimeError(f'No handler for {obj}')\n",
    "        \n",
    "a = Cyclist()        \n",
    "d = dispatch(a)\n",
    "type(a)"
   ]
  },
  {
   "cell_type": "markdown",
   "id": "908c8b6a",
   "metadata": {},
   "source": [
    ">Это решение предполагает точное совпадение типа. Если в такой схеме диспетчеризации должно поддерживаться и наследование, потребуется проход\n",
    "по списку MRO:"
   ]
  },
  {
   "cell_type": "code",
   "execution_count": 86,
   "id": "36ce28d0",
   "metadata": {},
   "outputs": [],
   "source": [
    "def dispatch(obj):\n",
    "    for ty in type(obj).__mro__:\n",
    "        func = handlers.get(ty)\n",
    "        if func:\n",
    "            return func(obj)\n",
    "    raise RuntimeError(f'No handler for {obj}')"
   ]
  },
  {
   "cell_type": "markdown",
   "id": "72756f21",
   "metadata": {},
   "source": [
    ">Иногда диспетчеризация реализуется через интерфейс на базе классов с использованием getattr():"
   ]
  },
  {
   "cell_type": "code",
   "execution_count": 87,
   "id": "b98a4404",
   "metadata": {},
   "outputs": [
    {
     "ename": "RuntimeError",
     "evalue": "No handler for <__main__.Duck object at 0x7f1f0aa80e50>",
     "output_type": "error",
     "traceback": [
      "\u001b[0;31m---------------------------------------------------------------------------\u001b[0m",
      "\u001b[0;31mRuntimeError\u001b[0m                              Traceback (most recent call last)",
      "Cell \u001b[0;32mIn[87], line 21\u001b[0m\n\u001b[1;32m     18\u001b[0m \u001b[38;5;66;03m# Пример\u001b[39;00m\n\u001b[1;32m     20\u001b[0m dispatcher \u001b[38;5;241m=\u001b[39m Dispatcher()\n\u001b[0;32m---> 21\u001b[0m \u001b[43mdispatcher\u001b[49m\u001b[38;5;241;43m.\u001b[39;49m\u001b[43mhandle\u001b[49m\u001b[43m(\u001b[49m\u001b[43mDuck\u001b[49m\u001b[43m(\u001b[49m\u001b[43m)\u001b[49m\u001b[43m)\u001b[49m\n",
      "Cell \u001b[0;32mIn[87], line 7\u001b[0m, in \u001b[0;36mDispatcher.handle\u001b[0;34m(self, obj)\u001b[0m\n\u001b[1;32m      5\u001b[0m     \u001b[38;5;28;01mif\u001b[39;00m meth:\n\u001b[1;32m      6\u001b[0m         \u001b[38;5;28;01mreturn\u001b[39;00m meth(obj)\n\u001b[0;32m----> 7\u001b[0m \u001b[38;5;28;01mraise\u001b[39;00m \u001b[38;5;167;01mRuntimeError\u001b[39;00m(\u001b[38;5;124mf\u001b[39m\u001b[38;5;124m'\u001b[39m\u001b[38;5;124mNo handler for \u001b[39m\u001b[38;5;132;01m{\u001b[39;00mobj\u001b[38;5;132;01m}\u001b[39;00m\u001b[38;5;124m'\u001b[39m)\n",
      "\u001b[0;31mRuntimeError\u001b[0m: No handler for <__main__.Duck object at 0x7f1f0aa80e50>"
     ]
    }
   ],
   "source": [
    "class Dispatcher:\n",
    "    def handle(self, obj):\n",
    "        for ty in type(obj).__mro__:\n",
    "            meth = getattr(self, f'handle_{ty.__name__}', None)\n",
    "            if meth:\n",
    "                return meth(obj)\n",
    "        raise RuntimeError(f'No handler for {obj}')\n",
    "        \n",
    "    def hadle_Duck(self, obj):\n",
    "        ...\n",
    "    \n",
    "    def handle_Trombonist(self, obj):\n",
    "        ...\n",
    "        \n",
    "    def handle_Cyclist(self, obj):\n",
    "        ...\n",
    "        \n",
    "# Пример\n",
    "\n",
    "dispatcher = Dispatcher()\n",
    "dispatcher.handle(Duck())"
   ]
  },
  {
   "cell_type": "markdown",
   "id": "0633739a",
   "metadata": {},
   "source": [
    "**7.21. ДЕКОРАТОРЫ КЛАССОВ**"
   ]
  },
  {
   "cell_type": "code",
   "execution_count": 92,
   "id": "b8dfc131",
   "metadata": {},
   "outputs": [],
   "source": [
    "_registry = {}\n",
    "def register_decoder(cls):\n",
    "    for mt in cls.mimetypes:\n",
    "        _registry[mt] = cls\n",
    "    return cls\n",
    "\n",
    "def create_decoder(mimetype):\n",
    "    return _registry[mimetype]()"
   ]
  },
  {
   "cell_type": "code",
   "execution_count": 96,
   "id": "8d00666e",
   "metadata": {},
   "outputs": [
    {
     "name": "stdout",
     "output_type": "stream",
     "text": [
      "OK\n"
     ]
    }
   ],
   "source": [
    "@register_decoder\n",
    "class TextDecoder:\n",
    "    mimetypes = [ 'text/plain' ]\n",
    "    def decode(self, data):\n",
    "        ...\n",
    "        \n",
    "@register_decoder\n",
    "class HTMLDecoder:\n",
    "    mimetypes = [ 'text/html' ]\n",
    "    def decode(self, data):\n",
    "        ...\n",
    "        \n",
    "@register_decoder\n",
    "class ImageDecoder:\n",
    "    mimetypes = [ 'image/png', 'image/jpg', 'image/gif' ]\n",
    "    \n",
    "    def __repr__(self):\n",
    "        return 'OK'\n",
    "    def decode(self, data):\n",
    "        ...\n",
    "        \n",
    "decoder = create_decoder('image/jpg')\n",
    "print(decoder)"
   ]
  },
  {
   "cell_type": "markdown",
   "id": "1c9aa208",
   "metadata": {},
   "source": [
    ">Декоратор может изменять содержимое полученного класса. Он может даже\n",
    "переписывать существующие методы. Это распространенная альтернатива\n",
    "классам примесей и множественному наследованию. "
   ]
  },
  {
   "cell_type": "code",
   "execution_count": 99,
   "id": "3819ea37",
   "metadata": {},
   "outputs": [
    {
     "data": {
      "text/plain": [
       "'ON YOUR LEFTON YOUR LEFTON YOUR LEFT'"
      ]
     },
     "execution_count": 99,
     "metadata": {},
     "output_type": "execute_result"
    }
   ],
   "source": [
    "def loud(cls):\n",
    "    orig_noise = cls.noise\n",
    "    def noise(self):\n",
    "        return orig_noise(self).upper()\n",
    "    cls.noise = noise\n",
    "    return cls\n",
    "\n",
    "def annoying(cls):\n",
    "    orig_noise = cls.noise\n",
    "    def noise(self):\n",
    "        return 3 * orig_noise(self)\n",
    "    cls.noise = noise\n",
    "    return cls\n",
    "\n",
    "@annoying\n",
    "@loud\n",
    "class Cyclist(object):\n",
    "    def noise(self):\n",
    "        return 'On your left' \n",
    "    \n",
    "    def pedal(self):\n",
    "        return 'Pedaling'\n",
    "    \n",
    "a = Cyclist()\n",
    "a.noise()"
   ]
  },
  {
   "cell_type": "code",
   "execution_count": 107,
   "id": "daa5f1e8",
   "metadata": {},
   "outputs": [
    {
     "ename": "ValueError",
     "evalue": "unexpected '{' in field name",
     "output_type": "error",
     "traceback": [
      "\u001b[0;31m---------------------------------------------------------------------------\u001b[0m",
      "\u001b[0;31mValueError\u001b[0m                                Traceback (most recent call last)",
      "Cell \u001b[0;32mIn[107], line 32\u001b[0m\n\u001b[1;32m     29\u001b[0m     \u001b[38;5;28mcls\u001b[39m\u001b[38;5;241m.\u001b[39m\u001b[38;5;21m__repr__\u001b[39m \u001b[38;5;241m=\u001b[39m locs[\u001b[38;5;124m'\u001b[39m\u001b[38;5;124m__repr__\u001b[39m\u001b[38;5;124m'\u001b[39m]\n\u001b[1;32m     30\u001b[0m     \u001b[38;5;28;01mreturn\u001b[39;00m \u001b[38;5;28mcls\u001b[39m\n\u001b[0;32m---> 32\u001b[0m \u001b[38;5;129;43m@with_repr\u001b[39;49m\n\u001b[1;32m     33\u001b[0m \u001b[38;5;28;43;01mclass\u001b[39;49;00m\u001b[43m \u001b[49m\u001b[38;5;21;43;01mPoint\u001b[39;49;00m\u001b[43m:\u001b[49m\n\u001b[1;32m     34\u001b[0m \u001b[43m    \u001b[49m\u001b[38;5;28;43;01mdef\u001b[39;49;00m\u001b[43m \u001b[49m\u001b[38;5;21;43m__init__\u001b[39;49m\u001b[43m(\u001b[49m\u001b[38;5;28;43mself\u001b[39;49m\u001b[43m,\u001b[49m\u001b[43m \u001b[49m\u001b[43mx\u001b[49m\u001b[43m,\u001b[49m\u001b[43m \u001b[49m\u001b[43my\u001b[49m\u001b[43m)\u001b[49m\u001b[43m:\u001b[49m\n\u001b[1;32m     35\u001b[0m \u001b[43m        \u001b[49m\u001b[38;5;28;43mself\u001b[39;49m\u001b[38;5;241;43m.\u001b[39;49m\u001b[43mx\u001b[49m\u001b[43m \u001b[49m\u001b[38;5;241;43m=\u001b[39;49m\u001b[43m \u001b[49m\u001b[43mx\u001b[49m\n",
      "Cell \u001b[0;32mIn[107], line 24\u001b[0m, in \u001b[0;36mwith_repr\u001b[0;34m(cls)\u001b[0m\n\u001b[1;32m     22\u001b[0m \u001b[38;5;28;01mdef\u001b[39;00m \u001b[38;5;21mwith_repr\u001b[39m(\u001b[38;5;28mcls\u001b[39m):\n\u001b[1;32m     23\u001b[0m     args \u001b[38;5;241m=\u001b[39m \u001b[38;5;28mlist\u001b[39m(inspect\u001b[38;5;241m.\u001b[39msignature(\u001b[38;5;28mcls\u001b[39m)\u001b[38;5;241m.\u001b[39mparameters)\n\u001b[0;32m---> 24\u001b[0m     argvals \u001b[38;5;241m=\u001b[39m \u001b[38;5;124m'\u001b[39m\u001b[38;5;124m, \u001b[39m\u001b[38;5;124m'\u001b[39m\u001b[38;5;241m.\u001b[39mjoin(\u001b[38;5;124;43m'\u001b[39;49m\u001b[38;5;124;43m{\u001b[39;49m\u001b[38;5;124;43mself.\u001b[39;49m\u001b[38;5;132;43;01m{n}\u001b[39;49;00m\u001b[38;5;124;43m!r}\u001b[39;49m\u001b[38;5;124;43m'\u001b[39;49m\u001b[38;5;241;43m.\u001b[39;49m\u001b[43mformat\u001b[49m\u001b[43m(\u001b[49m\u001b[43mn\u001b[49m\u001b[43m \u001b[49m\u001b[38;5;241;43m:=\u001b[39;49m\u001b[43m \u001b[49m\u001b[43marg\u001b[49m\u001b[43m \u001b[49m\u001b[38;5;28;43;01mfor\u001b[39;49;00m\u001b[43m \u001b[49m\u001b[43marg\u001b[49m\u001b[43m \u001b[49m\u001b[38;5;129;43;01min\u001b[39;49;00m\u001b[43m \u001b[49m\u001b[43margs\u001b[49m\u001b[43m)\u001b[49m)\n\u001b[1;32m     25\u001b[0m     code \u001b[38;5;241m=\u001b[39m \u001b[38;5;124m'\u001b[39m\u001b[38;5;124mdef __repr__(self):\u001b[39m\u001b[38;5;130;01m\\n\u001b[39;00m\u001b[38;5;124m'\u001b[39m\n\u001b[1;32m     26\u001b[0m     code \u001b[38;5;241m+\u001b[39m\u001b[38;5;241m=\u001b[39m \u001b[38;5;124mf\u001b[39m\u001b[38;5;124m'\u001b[39m\u001b[38;5;124m return f\u001b[39m\u001b[38;5;124m\"\u001b[39m\u001b[38;5;132;01m{\u001b[39;00m\u001b[38;5;28mcls\u001b[39m\u001b[38;5;241m.\u001b[39m\u001b[38;5;18m__name__\u001b[39m\u001b[38;5;132;01m}\u001b[39;00m\u001b[38;5;124m(\u001b[39m\u001b[38;5;132;01m{\u001b[39;00margvals\u001b[38;5;132;01m}\u001b[39;00m\u001b[38;5;124m)\u001b[39m\u001b[38;5;124m\"\u001b[39m\u001b[38;5;130;01m\\n\u001b[39;00m\u001b[38;5;124m'\u001b[39m\n",
      "\u001b[0;31mValueError\u001b[0m: unexpected '{' in field name"
     ]
    }
   ],
   "source": [
    "class Point:\n",
    "    def __init__(self, x, y):\n",
    "        self.x = x\n",
    "        self.y = y\n",
    "        \n",
    "    def __repr__(self):\n",
    "        return f'{type(self).__name__}({self.x!r}, {self.y!r})'\n",
    "    \n",
    "import inspect\n",
    "def with_repr(cls):\n",
    "    args = list(inspect.signature(cls).parameters)\n",
    "    argvals = ', '.join('{self.%s!r}' % arg for arg in args)\n",
    "    code = 'def __repr__(self):\\n'\n",
    "    code += f' return f\"{cls.__name__}({argvals})\"\\n'\n",
    "    locs = {}\n",
    "    exec(code, locs)\n",
    "#     print(locs)\n",
    "    cls.__repr__ = locs['__repr__']\n",
    "    return cls\n",
    "\n",
    "\n",
    "@with_repr\n",
    "class Point:\n",
    "    def __init__(self, x, y):\n",
    "        self.x = x\n",
    "        self.y = y\n",
    "\n",
    "a = Point(4, 5)\n",
    "a"
   ]
  },
  {
   "cell_type": "markdown",
   "id": "c08fc3d6",
   "metadata": {},
   "source": [
    ">Похожие приемы генерации кода используются во многих частях стандартной\n",
    "библиотеки. Например, есть удобный способ определения структур данных\n",
    "с использованием @dataclass:"
   ]
  },
  {
   "cell_type": "code",
   "execution_count": 112,
   "id": "fe93c896",
   "metadata": {},
   "outputs": [
    {
     "name": "stdout",
     "output_type": "stream",
     "text": [
      "{self.1!r}, {self.2!r}, {self.3!r}\n"
     ]
    }
   ],
   "source": [
    "from dataclasses import dataclass\n",
    "\n",
    "@dataclass\n",
    "class Point:\n",
    "    x: int\n",
    "    y: int"
   ]
  },
  {
   "cell_type": "markdown",
   "id": "0e07ae9d",
   "metadata": {},
   "source": [
    ">@dataclass автоматически создает такие методы, как __init__() и __repr__(),\n",
    "по аннотациям типов класса. Они создаются вызовом exec(), как в прошлом\n",
    "примере"
   ]
  },
  {
   "cell_type": "code",
   "execution_count": 113,
   "id": "01c52c33",
   "metadata": {},
   "outputs": [
    {
     "data": {
      "text/plain": [
       "Point(2, 3)"
      ]
     },
     "execution_count": 113,
     "metadata": {},
     "output_type": "execute_result"
    }
   ],
   "source": [
    "p = Point(2, 3)\n",
    "p"
   ]
  },
  {
   "cell_type": "markdown",
   "id": "11921e7e",
   "metadata": {},
   "source": [
    "**7.22. КОНТРОЛИРУЕМОЕ НАСЛЕДОВАНИЕ**"
   ]
  },
  {
   "cell_type": "markdown",
   "id": "a91f76c4",
   "metadata": {},
   "source": [
    ">родительский класс тоже может выполнять\n",
    "дополнительные действия от имени своих подклассов. Для этого нужно\n",
    "реализовать метод класса __init_subclass__(cls):"
   ]
  },
  {
   "cell_type": "code",
   "execution_count": 117,
   "id": "6b6122ee",
   "metadata": {},
   "outputs": [
    {
     "data": {
      "text/plain": [
       "{}"
      ]
     },
     "execution_count": 117,
     "metadata": {},
     "output_type": "execute_result"
    }
   ],
   "source": [
    "class Base:\n",
    "    @classmethod\n",
    "    def __init_subclass(cls):\n",
    "        print('Initializing', cls)\n",
    "        \n",
    "class A(Base):\n",
    "    pass\n",
    "\n",
    "class B(A):\n",
    "    pass\n",
    "\n",
    "a = A()\n"
   ]
  },
  {
   "cell_type": "code",
   "execution_count": 118,
   "id": "ab26e5ca",
   "metadata": {},
   "outputs": [
    {
     "ename": "AttributeError",
     "evalue": "'str' object has no attribute 'mimetype'",
     "output_type": "error",
     "traceback": [
      "\u001b[0;31m---------------------------------------------------------------------------\u001b[0m",
      "\u001b[0;31mAttributeError\u001b[0m                            Traceback (most recent call last)",
      "Cell \u001b[0;32mIn[118], line 11\u001b[0m\n\u001b[1;32m      8\u001b[0m \u001b[38;5;28;01mdef\u001b[39;00m \u001b[38;5;21mcreate_decoder\u001b[39m(mimetype):\n\u001b[1;32m      9\u001b[0m     \u001b[38;5;28;01mreturn\u001b[39;00m DecoderBase\u001b[38;5;241m.\u001b[39m_registry[mimetype]()\n\u001b[0;32m---> 11\u001b[0m \u001b[38;5;28;43;01mclass\u001b[39;49;00m\u001b[43m \u001b[49m\u001b[38;5;21;43;01mTextDecoder\u001b[39;49;00m\u001b[43m(\u001b[49m\u001b[43mDecoderBase\u001b[49m\u001b[43m)\u001b[49m\u001b[43m:\u001b[49m\n\u001b[1;32m     12\u001b[0m \u001b[43m    \u001b[49m\u001b[43mmimetypes\u001b[49m\u001b[43m \u001b[49m\u001b[38;5;241;43m=\u001b[39;49m\u001b[43m \u001b[49m\u001b[43m[\u001b[49m\u001b[43m \u001b[49m\u001b[38;5;124;43m'\u001b[39;49m\u001b[38;5;124;43mtext/plain\u001b[39;49m\u001b[38;5;124;43m'\u001b[39;49m\u001b[43m \u001b[49m\u001b[43m]\u001b[49m\n\u001b[1;32m     13\u001b[0m \u001b[43m    \u001b[49m\u001b[38;5;28;43;01mdef\u001b[39;49;00m\u001b[43m \u001b[49m\u001b[38;5;21;43mdecode\u001b[39;49m\u001b[43m(\u001b[49m\u001b[38;5;28;43mself\u001b[39;49m\u001b[43m,\u001b[49m\u001b[43m \u001b[49m\u001b[43mdata\u001b[49m\u001b[43m)\u001b[49m\u001b[43m:\u001b[49m\n",
      "Cell \u001b[0;32mIn[118], line 6\u001b[0m, in \u001b[0;36mDecoderBase.__init_subclass__\u001b[0;34m(cls)\u001b[0m\n\u001b[1;32m      3\u001b[0m \u001b[38;5;129m@classmethod\u001b[39m\n\u001b[1;32m      4\u001b[0m \u001b[38;5;28;01mdef\u001b[39;00m \u001b[38;5;21m__init_subclass__\u001b[39m(\u001b[38;5;28mcls\u001b[39m):\n\u001b[1;32m      5\u001b[0m     \u001b[38;5;28;01mfor\u001b[39;00m mt \u001b[38;5;129;01min\u001b[39;00m \u001b[38;5;28mcls\u001b[39m\u001b[38;5;241m.\u001b[39mmimetypes:\n\u001b[0;32m----> 6\u001b[0m         DecoderBase\u001b[38;5;241m.\u001b[39m_registry[\u001b[43mmt\u001b[49m\u001b[38;5;241;43m.\u001b[39;49m\u001b[43mmimetype\u001b[49m] \u001b[38;5;241m=\u001b[39m \u001b[38;5;28mcls\u001b[39m\n",
      "\u001b[0;31mAttributeError\u001b[0m: 'str' object has no attribute 'mimetype'"
     ]
    }
   ],
   "source": [
    "class DecoderBase:\n",
    "    _registry = { }\n",
    "    @classmethod\n",
    "    def __init_subclass__(cls):\n",
    "        for mt in cls.mimetypes:\n",
    "            DecoderBase._registry[mt.mimetype] = cls\n",
    "            \n",
    "def create_decoder(mimetype):\n",
    "    return DecoderBase._registry[mimetype]()\n",
    "\n",
    "class TextDecoder(DecoderBase):\n",
    "    mimetypes = [ 'text/plain' ]\n",
    "    def decode(self, data):\n",
    "        ...\n",
    "        \n",
    "class HTMLDecoder(DecoderBase):\n",
    "    mimetypes = [ 'text/html' ]\n",
    "    def decode(self, data):\n",
    "        ...\n",
    "        \n",
    "class ImageDecoder(DecoderBase):\n",
    "    mimetypes = [ 'image/png', 'image/jpg', 'image/gif' ]\n",
    "    def decode(self, data):\n",
    "        ...\n",
    "        \n",
    "decoder = create_decoder('image/jpg')"
   ]
  },
  {
   "cell_type": "markdown",
   "id": "a511f793",
   "metadata": {},
   "source": [
    ">Пример класса, автоматически создающего __repr__() по сигнатуре\n",
    "__init__():"
   ]
  },
  {
   "cell_type": "code",
   "execution_count": 121,
   "id": "bb312913",
   "metadata": {},
   "outputs": [
    {
     "ename": "IndentationError",
     "evalue": "expected an indented block after function definition on line 1 (<string>, line 2)",
     "output_type": "error",
     "traceback": [
      "Traceback \u001b[0;36m(most recent call last)\u001b[0m:\n",
      "\u001b[0m  File \u001b[1;32m~/.local/lib/python3.11/site-packages/IPython/core/interactiveshell.py:3508\u001b[0m in \u001b[1;35mrun_code\u001b[0m\n    exec(code_obj, self.user_global_ns, self.user_ns)\u001b[0m\n",
      "\u001b[0m  Cell \u001b[1;32mIn[121], line 15\u001b[0m\n    class Point(Base):\u001b[0m\n",
      "\u001b[0;36m  Cell \u001b[0;32mIn[121], line 12\u001b[0;36m in \u001b[0;35m__init_subclass__\u001b[0;36m\n\u001b[0;31m    exec(code, locs)\u001b[0;36m\n",
      "\u001b[0;36m  File \u001b[0;32m<string>:2\u001b[0;36m\u001b[0m\n\u001b[0;31m    return f\"{cls.__name__}({argvals})\"\u001b[0m\n\u001b[0m    ^\u001b[0m\n\u001b[0;31mIndentationError\u001b[0m\u001b[0;31m:\u001b[0m expected an indented block after function definition on line 1\n"
     ]
    }
   ],
   "source": [
    "import inspect\n",
    "\n",
    "class Base:\n",
    "    @classmethod\n",
    "    def __init_subclass__(cls):\n",
    "        # Создать метод __repr__\n",
    "        args = list(inspect.signature(cls).parameters)\n",
    "        argvals = ', '.join('{self.%s!r}' % arg for arg in args)\n",
    "        code = 'def __repr__(self):\\n'\n",
    "        code += 'return f\"{cls.__name__}({argvals})\"\\n'\n",
    "        locs = { }\n",
    "        exec(code, locs)\n",
    "        cls.__repr__ = locs['__repr__']\n",
    "        \n",
    "class Point(Base):\n",
    "    def __init__(self, x, y):\n",
    "        self.x = x\n",
    "        self.y = y\n",
    "        \n",
    "a = Pint(4, 5)\n",
    "a\n"
   ]
  },
  {
   "cell_type": "markdown",
   "id": "3936576f",
   "metadata": {},
   "source": [
    ">При использовании множественного наследования вызывайте super() для гарантии того, что будут вызваны все классы, реализующие __init_subclass__().\n",
    "Пример:"
   ]
  },
  {
   "cell_type": "code",
   "execution_count": 119,
   "id": "2e9faa15",
   "metadata": {},
   "outputs": [
    {
     "name": "stdout",
     "output_type": "stream",
     "text": [
      "A.init_subclass\n",
      "B.init_subclass\n"
     ]
    }
   ],
   "source": [
    "class A:\n",
    "    @classmethod\n",
    "    def __init_subclass__(cls):\n",
    "        print('A.init_subclass')\n",
    "        super().__init_subclass__()\n",
    "        \n",
    "class B:\n",
    "    @classmethod\n",
    "    def __init_subclass__(cls):\n",
    "        print('B.init_subclass')\n",
    "        super().__init_subclass__()\n",
    "        \n",
    "class C(A,B):\n",
    "    pass"
   ]
  },
  {
   "cell_type": "markdown",
   "id": "71a941b3",
   "metadata": {},
   "source": [
    "**7.23. ЖИЗНЕННЫЙ ЦИКЛ ОБЪЕКТОВ\n",
    "И УПРАВЛЕНИЕ ПАМЯТЬЮ**"
   ]
  },
  {
   "cell_type": "code",
   "execution_count": null,
   "id": "a5cb558f",
   "metadata": {},
   "outputs": [],
   "source": [
    "class Account:\n",
    "    def __init__(self, owner, balance):\n",
    "        self.owner = owner\n",
    "        self.balance = balance\n",
    "        \n",
    "a = Account('Guido', 1000.0)\n",
    "b = Account('Eva', 25.0)\n",
    "\n"
   ]
  },
  {
   "cell_type": "code",
   "execution_count": null,
   "id": "b02057ca",
   "metadata": {},
   "outputs": [],
   "source": [
    "import time\n",
    "\n",
    "class Date:\n",
    "    def __init__(self, year, month, day):\n",
    "        self.year = year\n",
    "        self.month = month\n",
    "        self.day = day\n",
    "        \n",
    "    @classmethod\n",
    "    def today(cls):\n",
    "        t = time.localtime()\n",
    "        self = cls.__new__(cls)\n",
    "        self.year = t.tm_year\n",
    "        self.month = t.tm_month\n",
    "        self.day = t.tm_day\n",
    "        return self"
   ]
  },
  {
   "cell_type": "code",
   "execution_count": 149,
   "id": "c6c3c93d",
   "metadata": {},
   "outputs": [
    {
     "data": {
      "text/plain": [
       "{(2012, 12, 21): <__main__.Date at 0x7f1f09d6e7d0>,\n",
       " (1020, 23, 32): <__main__.Date at 0x7f1f09b08590>}"
      ]
     },
     "execution_count": 149,
     "metadata": {},
     "output_type": "execute_result"
    }
   ],
   "source": [
    "class Date:\n",
    "    _cache = { }\n",
    "    \n",
    "    @staticmethod\n",
    "    def __new__(cls, year, month, day):\n",
    "        self = Date._cache.get((year, month, day))\n",
    "        if not self:\n",
    "            self = super().__new__(cls)\n",
    "            self.year = year\n",
    "            self.month = month\n",
    "            self.day = day\n",
    "            Date._cache[year,month,day] = self\n",
    "        return self\n",
    "    \n",
    "    def __init__(self, year, month, day):\n",
    "        pass\n",
    "    \n",
    "    def __del__(self):\n",
    "        del Date._cache[self.year, self.month, self.day]\n",
    "    \n",
    "    \n",
    "d = Date(2012, 12, 21)\n",
    "e = Date(2012, 12, 21)\n",
    "c = Date(1020, 23, 32)\n",
    "\n",
    "del d\n",
    "Date._cache\n",
    "del e\n",
    "Date._cache\n",
    "del c\n",
    "Date._cache"
   ]
  },
  {
   "cell_type": "code",
   "execution_count": 127,
   "id": "bcf5363f",
   "metadata": {},
   "outputs": [
    {
     "name": "stdout",
     "output_type": "stream",
     "text": [
      "Deleting Account\n"
     ]
    }
   ],
   "source": [
    "class Account(object):\n",
    "    def __init__(self, owner, balance):\n",
    "        self.owner = owner\n",
    "        self.balance = balance\n",
    "        \n",
    "    def __del__(self):\n",
    "        print('Deleting Account')\n",
    "        \n",
    "def func():\n",
    "    a = Account('Guido', 1000.0)\n",
    "\n",
    "func()"
   ]
  },
  {
   "cell_type": "markdown",
   "id": "e846c281",
   "metadata": {},
   "source": [
    ">лучше не полагаться на __del__() для корректного завершения, ведь\n",
    "нет гарантий, что этот метод будет вызван именно тогда, когда вы ожидаете.\n",
    "Для правильного освобождения ресурсов определите в объекте явный метод\n",
    "close() и обеспечьте поддержку классом протокола менеджера контекста,\n",
    "чтобы он мог использоваться с командой with. В следующем примере показаны все варианты:"
   ]
  },
  {
   "cell_type": "code",
   "execution_count": 129,
   "id": "52071f47",
   "metadata": {},
   "outputs": [
    {
     "ename": "NameError",
     "evalue": "name 'open_resource' is not defined",
     "output_type": "error",
     "traceback": [
      "\u001b[0;31m---------------------------------------------------------------------------\u001b[0m",
      "\u001b[0;31mNameError\u001b[0m                                 Traceback (most recent call last)",
      "Cell \u001b[0;32mIn[129], line 18\u001b[0m\n\u001b[1;32m     15\u001b[0m         \u001b[38;5;28mself\u001b[39m\u001b[38;5;241m.\u001b[39mclose()\n\u001b[1;32m     17\u001b[0m \u001b[38;5;66;03m# Закрытие через __del__()\u001b[39;00m\n\u001b[0;32m---> 18\u001b[0m s \u001b[38;5;241m=\u001b[39m \u001b[43mSomeClass\u001b[49m\u001b[43m(\u001b[49m\u001b[43m)\u001b[49m\n\u001b[1;32m     19\u001b[0m \u001b[38;5;28;01mdel\u001b[39;00m s\n\u001b[1;32m     21\u001b[0m \u001b[38;5;66;03m# Явное закрытие\u001b[39;00m\n",
      "Cell \u001b[0;32mIn[129], line 3\u001b[0m, in \u001b[0;36mSomeClass.__init__\u001b[0;34m(self)\u001b[0m\n\u001b[1;32m      2\u001b[0m \u001b[38;5;28;01mdef\u001b[39;00m \u001b[38;5;21m__init__\u001b[39m(\u001b[38;5;28mself\u001b[39m):\n\u001b[0;32m----> 3\u001b[0m     \u001b[38;5;28mself\u001b[39m\u001b[38;5;241m.\u001b[39mresource \u001b[38;5;241m=\u001b[39m \u001b[43mopen_resource\u001b[49m()\n",
      "\u001b[0;31mNameError\u001b[0m: name 'open_resource' is not defined"
     ]
    }
   ],
   "source": [
    "class SomeClass:\n",
    "    def __init__(self):\n",
    "        self.resource = open_resource()\n",
    "        \n",
    "    def __del__(self):\n",
    "        self.close()\n",
    "        \n",
    "    def close(self):\n",
    "        self.resource.close()\n",
    "        \n",
    "    def __enter__(self):\n",
    "        return self\n",
    "    \n",
    "    def __exit__(self, ty, val, tb):\n",
    "        self.close()\n",
    "        \n",
    "# Закрытие через __del__()\n",
    "s = SomeClass()\n",
    "del s\n",
    "\n",
    "# Явное закрытие\n",
    "s = SomeClass()\n",
    "s.close()\n",
    "\n",
    "# Закрытие в конце контекстного блока\n",
    "with SomeClass() as s:\n",
    "    ..."
   ]
  },
  {
   "cell_type": "markdown",
   "id": "6fb2108e",
   "metadata": {},
   "source": [
    "**7.24. СЛАБЫЕ ССЫЛКИ**"
   ]
  },
  {
   "cell_type": "markdown",
   "id": "c5fe24dc",
   "metadata": {},
   "source": [
    ">Одно из возможных решений — создание слабой ссылки с использованием\n",
    "модуля weakref. Это позволит создать ссылку на объект без увеличения его\n",
    "счетчика. Для работы со слабой ссылкой нужно добавить лишний фрагмент\n",
    "кода, чтобы проверить наличие объекта, на который указывает ссылка."
   ]
  },
  {
   "cell_type": "code",
   "execution_count": 132,
   "id": "107063df",
   "metadata": {},
   "outputs": [
    {
     "name": "stdout",
     "output_type": "stream",
     "text": [
      "Deleting Account\n"
     ]
    },
    {
     "data": {
      "text/plain": [
       "<weakref at 0x7f1f09c355d0; dead>"
      ]
     },
     "execution_count": 132,
     "metadata": {},
     "output_type": "execute_result"
    }
   ],
   "source": [
    "a = Account('Guido', 1000.0)\n",
    "import weakref\n",
    "a_ref = weakref.ref(a)\n",
    "a_ref\n",
    "del a\n",
    "a_ref\n",
    "\n",
    "acct = a_ref()\n",
    "if acct is not None:\n",
    "    acct.withdraw(10)\n",
    "    \n",
    "# Альтернатива\n",
    "if acct := a_ref():\n",
    "        acct.withdraw(10)"
   ]
  },
  {
   "cell_type": "markdown",
   "id": "1aa713fd",
   "metadata": {},
   "source": [
    ">Слабые ссылки обычно используются вместе с кешированием и другими\n",
    "простыми средствами управления памятью. Ниже приведена обновленная\n",
    "версия класса Date, которая автоматически удаляет объекты из кеша, если\n",
    "на него не осталось ни одной ссылки:"
   ]
  },
  {
   "cell_type": "code",
   "execution_count": 142,
   "id": "04626478",
   "metadata": {},
   "outputs": [
    {
     "data": {
      "text/plain": [
       "{}"
      ]
     },
     "execution_count": 142,
     "metadata": {},
     "output_type": "execute_result"
    }
   ],
   "source": [
    "import weakref\n",
    "\n",
    "class Date:\n",
    "    _cache = { }\n",
    "    @staticmethod\n",
    "    def __new__(cls, year, month, day):\n",
    "        selfref = Date._cache.get((year, month, day))\n",
    "        if not selfref:\n",
    "            self = super().__new__(cls)\n",
    "            self.year = year\n",
    "            self.month = month\n",
    "            self.day = day\n",
    "            Date._cache[year, month, day] = weakref.ref(self)\n",
    "        else:\n",
    "            self = selfref()\n",
    "        return self\n",
    "    def __init__(self, year, month, day):\n",
    "        pass\n",
    "    \n",
    "    def __del__(self):\n",
    "        del Date._cache[self.year, self.month, self.day]\n",
    "        \n",
    "Date._cache\n",
    "a = Date(2012, 12, 21)\n",
    "Date._cache\n",
    "b = Date(2012, 12, 21)\n",
    "a is b\n",
    "del a\n",
    "Date._cache"
   ]
  },
  {
   "cell_type": "markdown",
   "id": "61ca261d",
   "metadata": {},
   "source": [
    ">Для поддержки слабых ссылок экземпляры должны иметь изменяемый атрибут __weakref__. Экземпляры определяемых пользователем классов обычно\n",
    "имеют такой атрибут по умолчанию. Но у встроенных типов и некоторых\n",
    "видов специальных структур данных — именованных кортежей, классов\n",
    "со __slots__ — его нет. Чтобы создать слабые ссылки на эти типы, можно\n",
    "определить варианты с добавлением атрибута __weakref__"
   ]
  },
  {
   "cell_type": "code",
   "execution_count": 162,
   "id": "2909df66",
   "metadata": {},
   "outputs": [
    {
     "data": {
      "text/plain": [
       "{}"
      ]
     },
     "execution_count": 162,
     "metadata": {},
     "output_type": "execute_result"
    }
   ],
   "source": [
    "class wdict(dict):\n",
    "    \n",
    "    __slots__ = ('__weakref__')\n",
    "    \n",
    "    \n",
    "w = wdict()\n",
    "w_ref = weakref.ref(w)\n",
    "\n",
    "class Test:\n",
    "    pass\n",
    "\n",
    "t = Test()\n",
    "\n",
    "t.__dict__\n"
   ]
  },
  {
   "cell_type": "markdown",
   "id": "c06579a4",
   "metadata": {},
   "source": [
    "**7.25. ВНУТРЕННЕЕ ПРЕДСТАВЛЕНИЕ ОБЪЕКТОВ\n",
    "И СВЯЗЫВАНИЕ АТРИБУТОВ**"
   ]
  },
  {
   "cell_type": "markdown",
   "id": "e68ad268",
   "metadata": {},
   "source": [
    ">Состояние, связанное с экземпляром, хранится в словаре, доступном в атрибуте __dict__ экземпляра. Этот словарь содержит данные, уникальные для\n",
    "каждого экземпляра:"
   ]
  },
  {
   "cell_type": "code",
   "execution_count": 159,
   "id": "7ec23aeb",
   "metadata": {},
   "outputs": [
    {
     "data": {
      "text/plain": [
       "<attribute '__weakref__' of 'Account' objects>"
      ]
     },
     "execution_count": 159,
     "metadata": {},
     "output_type": "execute_result"
    }
   ],
   "source": [
    "a = Account('Guido', 1100.0)\n",
    "a.__dict__\n",
    "a.number = 123456\n",
    "a.__dict__['nubmer'] = 534534\n",
    "\n",
    "a.__dict__\n",
    "a.__class__\n",
    "Account.__dict__.keys()\n",
    "Account.__dict__['__weakref__']"
   ]
  },
  {
   "cell_type": "markdown",
   "id": "e74f6fe7",
   "metadata": {},
   "source": [
    ">Определяемые пользователями классы при желании могут реализовать свои\n",
    "версии функций обращения к атрибутам. Следующий класс ограничивает\n",
    "имена атрибутов, для которых возможна запись:"
   ]
  },
  {
   "cell_type": "code",
   "execution_count": 168,
   "id": "2f5c3335",
   "metadata": {},
   "outputs": [
    {
     "ename": "AttributeError",
     "evalue": "No attribute amount",
     "output_type": "error",
     "traceback": [
      "\u001b[0;31m---------------------------------------------------------------------------\u001b[0m",
      "\u001b[0;31mAttributeError\u001b[0m                            Traceback (most recent call last)",
      "Cell \u001b[0;32mIn[168], line 14\u001b[0m\n\u001b[1;32m     12\u001b[0m a \u001b[38;5;241m=\u001b[39m Account(\u001b[38;5;124m'\u001b[39m\u001b[38;5;124mGuido\u001b[39m\u001b[38;5;124m'\u001b[39m, \u001b[38;5;241m1000.0\u001b[39m)\n\u001b[1;32m     13\u001b[0m a\u001b[38;5;241m.\u001b[39mbalance \u001b[38;5;241m=\u001b[39m \u001b[38;5;241m940.34\u001b[39m\n\u001b[0;32m---> 14\u001b[0m \u001b[43ma\u001b[49m\u001b[38;5;241;43m.\u001b[39;49m\u001b[43mamount\u001b[49m \u001b[38;5;241m=\u001b[39m \u001b[38;5;241m495\u001b[39m\n",
      "Cell \u001b[0;32mIn[168], line 9\u001b[0m, in \u001b[0;36mAccount.__setattr__\u001b[0;34m(self, name, value)\u001b[0m\n\u001b[1;32m      7\u001b[0m \u001b[38;5;28;01mdef\u001b[39;00m \u001b[38;5;21m__setattr__\u001b[39m(\u001b[38;5;28mself\u001b[39m, name, value):\n\u001b[1;32m      8\u001b[0m     \u001b[38;5;28;01mif\u001b[39;00m name \u001b[38;5;129;01mnot\u001b[39;00m \u001b[38;5;129;01min\u001b[39;00m {\u001b[38;5;124m'\u001b[39m\u001b[38;5;124mowner\u001b[39m\u001b[38;5;124m'\u001b[39m, \u001b[38;5;124m'\u001b[39m\u001b[38;5;124mbalance\u001b[39m\u001b[38;5;124m'\u001b[39m}:\n\u001b[0;32m----> 9\u001b[0m         \u001b[38;5;28;01mraise\u001b[39;00m \u001b[38;5;167;01mAttributeError\u001b[39;00m(\u001b[38;5;124mf\u001b[39m\u001b[38;5;124m'\u001b[39m\u001b[38;5;124mNo attribute \u001b[39m\u001b[38;5;132;01m{\u001b[39;00mname\u001b[38;5;132;01m}\u001b[39;00m\u001b[38;5;124m'\u001b[39m)\n\u001b[1;32m     10\u001b[0m     \u001b[38;5;28msuper\u001b[39m()\u001b[38;5;241m.\u001b[39m\u001b[38;5;21m__setattr__\u001b[39m(name, value)\n",
      "\u001b[0;31mAttributeError\u001b[0m: No attribute amount"
     ]
    }
   ],
   "source": [
    "class Account:\n",
    "    def __init__(self, owner, balance):\n",
    "        self.owner = owner\n",
    "        self.balance = balance\n",
    "        \n",
    "    def __setattr__(self, name, value):\n",
    "        if name not in {'owner', 'balance'}:\n",
    "            raise AttributeError(f'No attribute {name}')\n",
    "        super().__setattr__(name, value)\n",
    "        \n",
    "a = Account('Guido', 1000.0)\n",
    "a.balance = 940.34\n",
    "a.amount = 495"
   ]
  },
  {
   "cell_type": "markdown",
   "id": "1531690c",
   "metadata": {},
   "source": [
    "**7.26. ПРОКСИ, ОБЕРТКИ И ДЕЛЕГИРОВАНИЕ**"
   ]
  },
  {
   "cell_type": "code",
   "execution_count": 170,
   "id": "c4d3f36a",
   "metadata": {},
   "outputs": [
    {
     "name": "stdout",
     "output_type": "stream",
     "text": [
      "Accessing spam\n",
      "A.spam\n",
      "Accessing yow\n",
      "A.yow\n"
     ]
    }
   ],
   "source": [
    "class A:\n",
    "    def spam(self):\n",
    "        print('A.spam')\n",
    "    def grok(self):\n",
    "        print('A.grok')\n",
    "    def yow(self):\n",
    "        print('A.yow')\n",
    "        \n",
    "class LoggedA:\n",
    "    def __init__(self):\n",
    "        self._a = A()\n",
    "    \n",
    "    def __getattr__(self, name):\n",
    "        print('Accessing', name)\n",
    "        # Делегирование внутреннему экземпляру А\n",
    "        return getattr(self._a, name)\n",
    "    \n",
    "a = LoggedA()\n",
    "a.spam()\n",
    "a.yow()"
   ]
  },
  {
   "cell_type": "code",
   "execution_count": 171,
   "id": "4e6ba312",
   "metadata": {},
   "outputs": [
    {
     "name": "stdout",
     "output_type": "stream",
     "text": [
      "A.spam\n",
      "B.grok\n"
     ]
    }
   ],
   "source": [
    "# Делегирование иногда используется как альтернатива наследованию:\n",
    "\n",
    "class A:\n",
    "    def spam(self):\n",
    "        print('A.spam')\n",
    "        \n",
    "    def grok(self):\n",
    "        print('A.grok')\n",
    "        \n",
    "    def yow(self):\n",
    "        print('A.yow')\n",
    "        \n",
    "class B:\n",
    "    def __init__(self):\n",
    "        self._a = A()\n",
    "        \n",
    "    def grok(self):\n",
    "        print('B.grok')\n",
    "        \n",
    "    def __getattr__(self, name):\n",
    "        return getattr(self._a, name)\n",
    "    \n",
    "b = B()\n",
    "b.spam()\n",
    "b.grok()"
   ]
  },
  {
   "cell_type": "markdown",
   "id": "35c9bff8",
   "metadata": {},
   "source": [
    ">Перенаправление поиска атрибутов через __getattr__() — стандартный\n",
    "прием. Но учтите, что это не относится к операциям, сопоставленным со\n",
    "специальными методами. Для примера возьмем следующий класс:"
   ]
  },
  {
   "cell_type": "code",
   "execution_count": 176,
   "id": "ce854d94",
   "metadata": {},
   "outputs": [
    {
     "ename": "TypeError",
     "evalue": "object of type 'ListLike' has no len()",
     "output_type": "error",
     "traceback": [
      "\u001b[0;31m---------------------------------------------------------------------------\u001b[0m",
      "\u001b[0;31mTypeError\u001b[0m                                 Traceback (most recent call last)",
      "Cell \u001b[0;32mIn[176], line 13\u001b[0m\n\u001b[1;32m     11\u001b[0m a\u001b[38;5;241m.\u001b[39minsert(\u001b[38;5;241m0\u001b[39m, \u001b[38;5;241m2\u001b[39m)\n\u001b[1;32m     12\u001b[0m a\u001b[38;5;241m.\u001b[39msort()\n\u001b[0;32m---> 13\u001b[0m \u001b[38;5;28;43mlen\u001b[39;49m\u001b[43m(\u001b[49m\u001b[43ma\u001b[49m\u001b[43m)\u001b[49m\n",
      "\u001b[0;31mTypeError\u001b[0m: object of type 'ListLike' has no len()"
     ]
    }
   ],
   "source": [
    "class ListLike:\n",
    "    def __init__(self):\n",
    "        self._items = list()\n",
    "        \n",
    "    def __getattr__(self, name):\n",
    "        return getattr(self._items, name)\n",
    "    \n",
    "    \n",
    "a = ListLike()\n",
    "a.append(1)\n",
    "a.insert(0, 2)\n",
    "a.sort()\n",
    "len(a)"
   ]
  },
  {
   "cell_type": "markdown",
   "id": "20b3c5bb",
   "metadata": {},
   "source": [
    ">Здесь класс успешно перенаправляет все стандартные методы списков\n",
    "(list.sort(), list.append() и т. д.) внутреннему списку. Но никакие стандартные операторы Python при этом не работают. Чтобы они заработали,\n",
    "нужно явно реализовать необходимые специальные методы:"
   ]
  },
  {
   "cell_type": "code",
   "execution_count": null,
   "id": "2d837444",
   "metadata": {},
   "outputs": [],
   "source": [
    "class ListLike:\n",
    "    def __init__(self):\n",
    "        self._items = list()\n",
    "        \n",
    "    def __getattr__(self, name):\n",
    "        return getattr(self._items, name)\n",
    "    \n",
    "    def __len__(self):\n",
    "        return len(self._items)\n",
    "    \n",
    "    def __getitem__(self, key):\n",
    "        return self._items[key]\n",
    "    \n",
    "    def __setitem__(self, key, value):\n",
    "        self._items[key] = value"
   ]
  },
  {
   "cell_type": "markdown",
   "id": "44edb9c1",
   "metadata": {},
   "source": [
    "**7.27. СОКРАЩЕНИЕ ЗАТРАТ ПАМЯТИ\n",
    "И __SLOTS__**"
   ]
  },
  {
   "cell_type": "markdown",
   "id": "959cf438",
   "metadata": {},
   "source": [
    ">Как вы уже знаете, экземпляры хранят свои данные в словаре. Создание\n",
    "большого числа экземпляров может привести к значительным затратам памяти. Если имена атрибутов фиксированы, их можно задать в специальной\n",
    "переменной класса __slots__:"
   ]
  },
  {
   "cell_type": "code",
   "execution_count": null,
   "id": "89d5bbd2",
   "metadata": {},
   "outputs": [],
   "source": [
    "class Account:\n",
    "    __slots__ = ('owner', 'balance')\n",
    "    "
   ]
  },
  {
   "cell_type": "markdown",
   "id": "781a8c09",
   "metadata": {},
   "source": [
    ">Учтите, что __slots__ сложно взаимодействует с наследованием. Если класс\n",
    "унаследован от базового класса, использующего __slots__, то для сохранения преимуществ __slots__ он должен определить __slots__ для хранения\n",
    "собственных атрибутов (даже если он их не добавляет). Если вы забудете это\n",
    "сделать, производный класс будет работать медленнее и даже расходовать\n",
    "больше памяти, чем если бы переменная __slots__ не использовалась ни\n",
    "в одном из классов!\n",
    "__slots__ несовместима с множественным наследованием. Если для класса\n",
    "указано несколько базовых классов, каждый из которых содержит непустую\n",
    "переменную __slots__, вы получите ошибку TypeError.\n",
    "Использование __slots__ может нарушить работу кода, предполагающего, что\n",
    "экземпляры содержат атрибут __dict__. "
   ]
  },
  {
   "cell_type": "code",
   "execution_count": 177,
   "id": "9c61ecd7",
   "metadata": {},
   "outputs": [
    {
     "ename": "TypeError",
     "evalue": "multiple bases have instance lay-out conflict",
     "output_type": "error",
     "traceback": [
      "\u001b[0;31m---------------------------------------------------------------------------\u001b[0m",
      "\u001b[0;31mTypeError\u001b[0m                                 Traceback (most recent call last)",
      "Cell \u001b[0;32mIn[177], line 7\u001b[0m\n\u001b[1;32m      4\u001b[0m \u001b[38;5;28;01mclass\u001b[39;00m \u001b[38;5;21;01mB\u001b[39;00m:\n\u001b[1;32m      5\u001b[0m     \u001b[38;5;18m__slots__\u001b[39m \u001b[38;5;241m=\u001b[39m (\u001b[38;5;124m'\u001b[39m\u001b[38;5;124mbalance\u001b[39m\u001b[38;5;124m'\u001b[39m)\n\u001b[0;32m----> 7\u001b[0m \u001b[38;5;28;43;01mclass\u001b[39;49;00m\u001b[43m \u001b[49m\u001b[38;5;21;43;01mC\u001b[39;49;00m\u001b[43m(\u001b[49m\u001b[43mA\u001b[49m\u001b[43m,\u001b[49m\u001b[43m \u001b[49m\u001b[43mB\u001b[49m\u001b[43m)\u001b[49m\u001b[43m:\u001b[49m\n\u001b[1;32m      8\u001b[0m \u001b[43m    \u001b[49m\u001b[38;5;241;43m.\u001b[39;49m\u001b[38;5;241;43m.\u001b[39;49m\u001b[38;5;241;43m.\u001b[39;49m\n",
      "\u001b[0;31mTypeError\u001b[0m: multiple bases have instance lay-out conflict"
     ]
    }
   ],
   "source": [
    "class A:\n",
    "    __slots__ = ('owner')\n",
    "    \n",
    "class B:\n",
    "    __slots__ = ('balance')\n",
    "    \n",
    "class C(A, B):\n",
    "    ...\n",
    "    "
   ]
  },
  {
   "cell_type": "markdown",
   "id": "505dc776",
   "metadata": {},
   "source": [
    "**7.28. ДЕСКРИПТОРЫ**"
   ]
  },
  {
   "cell_type": "code",
   "execution_count": 1,
   "id": "a9be47ce",
   "metadata": {},
   "outputs": [
    {
     "ename": "AttributeError",
     "evalue": "Cant delete attribute",
     "output_type": "error",
     "traceback": [
      "\u001b[0;31m---------------------------------------------------------------------------\u001b[0m",
      "\u001b[0;31mAttributeError\u001b[0m                            Traceback (most recent call last)",
      "Cell \u001b[0;32mIn[1], line 41\u001b[0m\n\u001b[1;32m     39\u001b[0m b \u001b[38;5;241m=\u001b[39m a\u001b[38;5;241m.\u001b[39mowner \u001b[38;5;66;03m# Вызывает Account.owner.__get__(a, Account)\u001b[39;00m\n\u001b[1;32m     40\u001b[0m a\u001b[38;5;241m.\u001b[39mowner \u001b[38;5;241m=\u001b[39m \u001b[38;5;124m'\u001b[39m\u001b[38;5;124mEva\u001b[39m\u001b[38;5;124m'\u001b[39m \u001b[38;5;66;03m# Вызывает Account.owner.__set__(a, 'Eva')\u001b[39;00m\n\u001b[0;32m---> 41\u001b[0m \u001b[38;5;28;01mdel\u001b[39;00m \u001b[43ma\u001b[49m\u001b[38;5;241;43m.\u001b[39;49m\u001b[43mowner\u001b[49m \u001b[38;5;66;03m# Вызывает Account.owner.__delete__(a)\u001b[39;00m\n\u001b[1;32m     42\u001b[0m a\u001b[38;5;241m.\u001b[39mbalance \u001b[38;5;241m=\u001b[39m \u001b[38;5;124m'\u001b[39m\u001b[38;5;124ma lot\u001b[39m\u001b[38;5;124m'\u001b[39m\n",
      "Cell \u001b[0;32mIn[1], line 19\u001b[0m, in \u001b[0;36mTyped.__delete__\u001b[0;34m(self, instance)\u001b[0m\n\u001b[1;32m     18\u001b[0m \u001b[38;5;28;01mdef\u001b[39;00m \u001b[38;5;21m__delete__\u001b[39m(\u001b[38;5;28mself\u001b[39m, instance):\n\u001b[0;32m---> 19\u001b[0m     \u001b[38;5;28;01mraise\u001b[39;00m \u001b[38;5;167;01mAttributeError\u001b[39;00m(\u001b[38;5;124m'\u001b[39m\u001b[38;5;124mCant delete attribute\u001b[39m\u001b[38;5;124m'\u001b[39m)\n",
      "\u001b[0;31mAttributeError\u001b[0m: Cant delete attribute"
     ]
    }
   ],
   "source": [
    "class Typed:\n",
    "    expected_type = object\n",
    "    \n",
    "    def __set_name__(self, cls, name):\n",
    "        self.key = name\n",
    "        \n",
    "    def __get__(self, instance, cls):\n",
    "        if instance:\n",
    "            return instance.__dict__[self.key]\n",
    "        else:\n",
    "            return self\n",
    "        \n",
    "    def __set__(self, instance, value):\n",
    "        if not isinstance(value, self.expected_type):\n",
    "            raise TypeError(f'Expected {self.expected_type}')\n",
    "        instance.__dict__[self.key] = value\n",
    "        \n",
    "    def __delete__(self, instance):\n",
    "        raise AttributeError('Cant delete attribute')\n",
    "        \n",
    "class Integer(Typed):\n",
    "    expected_type = int\n",
    "    \n",
    "class Float(Typed):\n",
    "    expected_type = float\n",
    "    \n",
    "class String(Typed):\n",
    "    expected_type = str\n",
    "    \n",
    "class Account:\n",
    "    owner = String()\n",
    "    balance = Float()\n",
    "    \n",
    "    def __init__(self, owner, balance):\n",
    "        self.owner = owner\n",
    "        self.balance = balance\n",
    "        \n",
    "a = Account('Guido', 1000.0)\n",
    "b = a.owner # Вызывает Account.owner.__get__(a, Account)\n",
    "a.owner = 'Eva' # Вызывает Account.owner.__set__(a, 'Eva')\n",
    "del a.owner # Вызывает Account.owner.__delete__(a)\n",
    "a.balance = 'a lot'"
   ]
  },
  {
   "cell_type": "markdown",
   "id": "8699c914",
   "metadata": {},
   "source": [
    ">Ниже приведена заготовка реализации, показывающая, как @classmethod\n",
    "и @staticmethod могли бы быть реализованы с нуля (настоящая реализация\n",
    "более эффективна):"
   ]
  },
  {
   "cell_type": "code",
   "execution_count": 2,
   "id": "f0600467",
   "metadata": {},
   "outputs": [],
   "source": [
    "import types\n",
    "class classmethod:\n",
    "    def __init__(self, func):\n",
    "        self.__func__ = func\n",
    "    \n",
    "    # Возвращает связанный метод с первым аргументом cls\n",
    "    def __get__(self, instance, cls):\n",
    "        return types.MethodType(self.__func__, cls)\n",
    "    \n",
    "class staticmethod:\n",
    "    def __init__(self, func):\n",
    "        self.__func__ = func\n",
    "        \n",
    "    def __get__(self, instance, cls):\n",
    "        return self.__func__"
   ]
  },
  {
   "cell_type": "code",
   "execution_count": 8,
   "id": "e6b4a278",
   "metadata": {},
   "outputs": [
    {
     "data": {
      "text/plain": [
       "{'width': 3, 'height': 4, 'area': 12, 'perimeter': 14}"
      ]
     },
     "execution_count": 8,
     "metadata": {},
     "output_type": "execute_result"
    }
   ],
   "source": [
    "class Lazy:\n",
    "    def __init__(self, func):\n",
    "        self.func = func\n",
    "        \n",
    "    def __set_name__(self, cls, name):\n",
    "        self.key = name\n",
    "        \n",
    "    def __get__(self, instance, cls):\n",
    "        if instance:\n",
    "            value = self.func(instance)\n",
    "            instance.__dict__[self.key] = value\n",
    "            return value\n",
    "        else:\n",
    "            return self\n",
    "        \n",
    "class Rectangle:\n",
    "    def __init__(self, width, height):\n",
    "        self.width = width\n",
    "        self.height = height\n",
    "        \n",
    "    area = Lazy(lambda self: self.width * self.height)\n",
    "    perimeter = Lazy(lambda self: 2*self.width + 2*self.height)\n",
    "    \n",
    "    \n",
    "r = Rectangle(3, 4)\n",
    "r.__dict__\n",
    "r.area\n",
    "r.perimeter\n",
    "r.__dict__"
   ]
  },
  {
   "cell_type": "markdown",
   "id": "b016649b",
   "metadata": {},
   "source": [
    "**7.29. ПРОЦЕСС ОПРЕДЕЛЕНИЯ КЛАССА**"
   ]
  },
  {
   "cell_type": "code",
   "execution_count": null,
   "id": "a50364a0",
   "metadata": {},
   "outputs": [],
   "source": [
    "debug = True\n",
    "\n",
    "class Account:\n",
    "    def __init__(self, owner, balance):\n",
    "        self.owner = owner\n",
    "        self.balance = balance\n",
    "        \n",
    "    if debug:\n",
    "        import logging\n",
    "        log = logging.getLogger(f'{__module__}.{__qualname__}')\n",
    "        def deposit(self, amount):\n",
    "            Account.log.debug('Depositing %f', amount)\n",
    "            self.balance += amount\n",
    "            \n",
    "        def withdraw(self, amount):\n",
    "            Account.log.debug('Withdraw %f', amount)\n",
    "            self.balance -= amount\n",
    "            \n",
    "    else:\n",
    "        def deposit(self, amount):\n",
    "            self.balance += amount\n",
    "        def withdraw(self, amount):\n",
    "            self.balance -= amount"
   ]
  },
  {
   "cell_type": "markdown",
   "id": "6239fe92",
   "metadata": {},
   "source": [
    "**7.30. ДИНАМИЧЕСКОЕ СОЗДАНИЕ КЛАССА**"
   ]
  },
  {
   "cell_type": "code",
   "execution_count": 1,
   "id": "a8167d01",
   "metadata": {},
   "outputs": [],
   "source": [
    "import types\n",
    "\n",
    "def __init__(self, owner, balance):\n",
    "    self.owner = owner\n",
    "    self.balance = balance\n",
    "    \n",
    "def deposit(self, amount):\n",
    "    self.balance += amount\n",
    "    \n",
    "def withdraw(self, amount):\n",
    "    self.balance += amount\n",
    "    \n",
    "methods = {\n",
    "    '__init__': __init__,\n",
    "    'deposit': deposit,\n",
    "    'withdraw': withdraw,\n",
    "}\n",
    "\n",
    "Account = types.new_class('Account', (), exec_body=lambda ns:ns.update(methods))\n",
    "\n",
    "a = Account('Guido', 1000.0)\n",
    "a.deposit(50)\n",
    "a.withdraw(25)"
   ]
  },
  {
   "cell_type": "markdown",
   "id": "ade5fb59",
   "metadata": {},
   "source": [
    ">Динамическое создание классов может быть полезным при построении\n",
    "классов на основе структур данных. Например, в разделе, посвященном\n",
    "дескрипторам, были определены следующие классы:"
   ]
  },
  {
   "cell_type": "code",
   "execution_count": null,
   "id": "25976291",
   "metadata": {},
   "outputs": [],
   "source": [
    "class Integer(Typed):\n",
    "    expected_type = int\n",
    "    \n",
    "class Float(Typed):\n",
    "    expected_type = float\n",
    "    \n",
    "class String(Typed):\n",
    "    expected_type = str\n",
    "    \n"
   ]
  },
  {
   "cell_type": "markdown",
   "id": "c27eed82",
   "metadata": {},
   "source": [
    ">Код получается в высшей степени однообразным. Пожалуй, подход, основанный на данных, здесь подойдет лучше:"
   ]
  },
  {
   "cell_type": "code",
   "execution_count": null,
   "id": "385b5034",
   "metadata": {},
   "outputs": [],
   "source": [
    "typed_classes = [\n",
    "    ('Integer', int),\n",
    "    ('Float', float),\n",
    "    ('String', str),\n",
    "    ('Bool', bool),\n",
    "    ('Tuple', tuple),\n",
    "]\n",
    "\n",
    "globals().update(name, types.new_class(name, (Typed,),\n",
    "                                       exec_body=lambda ns:ns.update(expected_type=ty)\n",
    "                for name, ty in typed_classes))\n",
    "\n",
    "\n"
   ]
  },
  {
   "cell_type": "markdown",
   "id": "9bb01872",
   "metadata": {},
   "source": [
    "**7.31. МЕТАКЛАССЫ**"
   ]
  },
  {
   "cell_type": "markdown",
   "id": "2cf3517f",
   "metadata": {},
   "source": [
    ">При определении класса в Python само определение класса становится объектом:"
   ]
  },
  {
   "cell_type": "code",
   "execution_count": 2,
   "id": "61fc7b58",
   "metadata": {},
   "outputs": [
    {
     "data": {
      "text/plain": [
       "type"
      ]
     },
     "execution_count": 2,
     "metadata": {},
     "output_type": "execute_result"
    }
   ],
   "source": [
    "class Account:\n",
    "    def __init__(self, owner, balance):\n",
    "        self.owner = owner\n",
    "        self.balance = balance\n",
    "    def deposit(self, amount):\n",
    "        self.balance += amount\n",
    "        \n",
    "    def withdraw(self, amount):\n",
    "        self.balance -= amount\n",
    "\n",
    "Account.__class__        \n",
    "        "
   ]
  },
  {
   "cell_type": "code",
   "execution_count": null,
   "id": "3b9c51b8",
   "metadata": {},
   "outputs": [],
   "source": [
    "# При определении нового класса командой class происходит ряд событий\n",
    "\n",
    "namespace = type.__prepare__('Account', ())\n",
    "\n",
    "exec('''\n",
    "def __init__(self, owner, balance):\n",
    "    self.owner = owner\n",
    "    self.balance = balance\n",
    "def deposit(self, amount):\n",
    "    self.balance += amount\n",
    "def withdraw(self, amount):\n",
    "    self.balance -= amount\n",
    "''', globals(), namespace)\n",
    "\n",
    "# Создание итогового объекта класса\n",
    "Account = type('Account', (), namespace)"
   ]
  },
  {
   "cell_type": "markdown",
   "id": "c5b85215",
   "metadata": {},
   "source": [
    ">В следующем примере реализуется метакласс, который просто выводит\n",
    "входные аргументы каждого метода, чтобы вы могли поэкспериментировать\n",
    "с ними:"
   ]
  },
  {
   "cell_type": "code",
   "execution_count": 4,
   "id": "5f78ce52",
   "metadata": {},
   "outputs": [
    {
     "name": "stdout",
     "output_type": "stream",
     "text": [
      "Preparing Base ()\n",
      "Creating Base () {'__module__': '__main__', '__qualname__': 'Base'}\n",
      "Initializing: Base () {'__module__': '__main__', '__qualname__': 'Base'}\n",
      "Creating instance: () {}\n"
     ]
    }
   ],
   "source": [
    "class mytype(type):\n",
    "    \n",
    "    # Создание пространства имен класса\n",
    "    @classmethod\n",
    "    def __prepare__(meta, clsname, bases):\n",
    "        print('Preparing', clsname, bases)\n",
    "        return super().__prepare__(clsname, bases)\n",
    "    \n",
    "    # Создание экземпляра класса после выполнения тела\n",
    "    @staticmethod\n",
    "    def __new__(meta, clsname, bases, namespace):\n",
    "        print('Creating', clsname, bases, namespace)\n",
    "        return super().__new__(meta, clsname, bases, namespace)\n",
    "    \n",
    "    # Инициализаци экземпляра класса\n",
    "    def __init__(cls, clsname, bases, namespace):\n",
    "        print('Initializing:', clsname, bases, namespace)\n",
    "        super().__init__(clsname, bases, namespace)\n",
    "        \n",
    "    # Создание новых экземпляров класса\n",
    "    def __call__(cls, *args, **kwargs):\n",
    "        print('Creating instance:', args, kwargs)\n",
    "        return super().__call__(*args, **kwargs)\n",
    "    \n",
    "class Base(metaclass=mytype):\n",
    "    pass\n",
    "\n",
    "b = Base()\n"
   ]
  },
  {
   "cell_type": "markdown",
   "id": "72045350",
   "metadata": {},
   "source": [
    ">Метаклассы распространяются при наследовании. Поэтому если вы определили базовый класс, использующий другой метакласс, все дочерние классы\n",
    "тоже будут его использовать. Следующий пример поможет увидеть ваш нестандартный метакласс в действии:"
   ]
  },
  {
   "cell_type": "code",
   "execution_count": 5,
   "id": "c1e8e57a",
   "metadata": {},
   "outputs": [
    {
     "name": "stdout",
     "output_type": "stream",
     "text": [
      "Preparing Account (<class '__main__.Base'>,)\n",
      "Creating Account (<class '__main__.Base'>,) {'__module__': '__main__', '__qualname__': 'Account', '__init__': <function Account.__init__ at 0x7fce86d95440>, 'depisit': <function Account.depisit at 0x7fce86d954e0>, 'withdraw': <function Account.withdraw at 0x7fce86d95580>}\n",
      "Initializing: Account (<class '__main__.Base'>,) {'__module__': '__main__', '__qualname__': 'Account', '__init__': <function Account.__init__ at 0x7fce86d95440>, 'depisit': <function Account.depisit at 0x7fce86d954e0>, 'withdraw': <function Account.withdraw at 0x7fce86d95580>}\n",
      "<class '__main__.mytype'>\n"
     ]
    }
   ],
   "source": [
    "class Account(Base):\n",
    "    def __init__(self, owner, balance):\n",
    "        self.owner = owner\n",
    "        self.balance = balance\n",
    "        \n",
    "    def depisit(self, amount):\n",
    "        self.balance += amount\n",
    "        \n",
    "    def withdraw(self, amount):\n",
    "        self.balance -= amount\n",
    "        \n",
    "        \n",
    "print(type(Account))"
   ]
  },
  {
   "cell_type": "markdown",
   "id": "0571b669",
   "metadata": {},
   "source": [
    ">Одно из возможных применений метакласса — перезапись содержимого\n",
    "пространства имен классов до создания объекта класса. "
   ]
  },
  {
   "cell_type": "code",
   "execution_count": 7,
   "id": "d2006268",
   "metadata": {},
   "outputs": [],
   "source": [
    "import inspect\n",
    "\n",
    "class SlotMeta(type):\n",
    "    @staticmethod\n",
    "    def __new__(meta, clsname, bases, methods):\n",
    "        if '__init__' in methods:\n",
    "            sig = inspect.signature(methods['__init__'])\n",
    "            __slots__ = tuple(sig.parameters)[1:]\n",
    "        else:\n",
    "            __slots__ = ()\n",
    "            \n",
    "        methods['__slots__'] = __slots__\n",
    "        return super().__new__(meta, clsname, bases, methods)\n",
    "    \n",
    "class Base(metaclass=SlotMeta):\n",
    "    pass\n",
    "\n",
    "class Point(Base):\n",
    "    def __init__(self, x, y):\n",
    "        self.x = x\n",
    "        self.y = y"
   ]
  },
  {
   "cell_type": "markdown",
   "id": "50d954f9",
   "metadata": {},
   "source": [
    ">Другое применение метаклассов — изменение окружения определения класса. "
   ]
  },
  {
   "cell_type": "code",
   "execution_count": 8,
   "id": "9e6996c2",
   "metadata": {},
   "outputs": [
    {
     "ename": "AttributeError",
     "evalue": "yow already defined",
     "output_type": "error",
     "traceback": [
      "\u001b[0;31m---------------------------------------------------------------------------\u001b[0m",
      "\u001b[0;31mAttributeError\u001b[0m                            Traceback (most recent call last)",
      "Cell \u001b[0;32mIn[8], line 16\u001b[0m\n\u001b[1;32m     13\u001b[0m     \u001b[38;5;28;01mpass\u001b[39;00m\n\u001b[1;32m     15\u001b[0m \u001b[38;5;66;03m# Пример\u001b[39;00m\n\u001b[0;32m---> 16\u001b[0m \u001b[38;5;28;43;01mclass\u001b[39;49;00m\u001b[43m \u001b[49m\u001b[38;5;21;43;01mSomeClass\u001b[39;49;00m\u001b[43m(\u001b[49m\u001b[43mBase\u001b[49m\u001b[43m)\u001b[49m\u001b[43m:\u001b[49m\n\u001b[1;32m     17\u001b[0m \u001b[43m    \u001b[49m\u001b[38;5;28;43;01mdef\u001b[39;49;00m\u001b[43m \u001b[49m\u001b[38;5;21;43myow\u001b[39;49m\u001b[43m(\u001b[49m\u001b[38;5;28;43mself\u001b[39;49m\u001b[43m)\u001b[49m\u001b[43m:\u001b[49m\n\u001b[1;32m     18\u001b[0m \u001b[43m        \u001b[49m\u001b[38;5;28;43mprint\u001b[39;49m\u001b[43m(\u001b[49m\u001b[38;5;124;43m'\u001b[39;49m\u001b[38;5;124;43mYow\u001b[39;49m\u001b[38;5;124;43m'\u001b[39;49m\u001b[43m)\u001b[49m\n",
      "Cell \u001b[0;32mIn[8], line 19\u001b[0m, in \u001b[0;36mSomeClass\u001b[0;34m()\u001b[0m\n\u001b[1;32m     17\u001b[0m \u001b[38;5;28;01mdef\u001b[39;00m \u001b[38;5;21myow\u001b[39m(\u001b[38;5;28mself\u001b[39m):\n\u001b[1;32m     18\u001b[0m     \u001b[38;5;28mprint\u001b[39m(\u001b[38;5;124m'\u001b[39m\u001b[38;5;124mYow\u001b[39m\u001b[38;5;124m'\u001b[39m)\n\u001b[0;32m---> 19\u001b[0m \u001b[43m\u001b[49m\u001b[38;5;28;43;01mdef\u001b[39;49;00m\u001b[43m \u001b[49m\u001b[38;5;21;43myow\u001b[39;49m\u001b[43m(\u001b[49m\u001b[38;5;28;43mself\u001b[39;49m\u001b[43m,\u001b[49m\u001b[43m \u001b[49m\u001b[43mx\u001b[49m\u001b[43m)\u001b[49m\u001b[43m:\u001b[49m\n\u001b[1;32m     20\u001b[0m \u001b[43m    \u001b[49m\u001b[38;5;28;43mprint\u001b[39;49m\u001b[43m(\u001b[49m\u001b[38;5;124;43m'\u001b[39;49m\u001b[38;5;124;43mDifferent\u001b[39;49m\u001b[38;5;124;43m'\u001b[39;49m\u001b[43m)\u001b[49m\n",
      "Cell \u001b[0;32mIn[8], line 4\u001b[0m, in \u001b[0;36mNoDupeDict.__setitem__\u001b[0;34m(self, key, value)\u001b[0m\n\u001b[1;32m      2\u001b[0m \u001b[38;5;28;01mdef\u001b[39;00m \u001b[38;5;21m__setitem__\u001b[39m(\u001b[38;5;28mself\u001b[39m, key, value):\n\u001b[1;32m      3\u001b[0m     \u001b[38;5;28;01mif\u001b[39;00m key \u001b[38;5;129;01min\u001b[39;00m \u001b[38;5;28mself\u001b[39m:\n\u001b[0;32m----> 4\u001b[0m         \u001b[38;5;28;01mraise\u001b[39;00m \u001b[38;5;167;01mAttributeError\u001b[39;00m(\u001b[38;5;124mf\u001b[39m\u001b[38;5;124m'\u001b[39m\u001b[38;5;132;01m{\u001b[39;00mkey\u001b[38;5;132;01m}\u001b[39;00m\u001b[38;5;124m already defined\u001b[39m\u001b[38;5;124m'\u001b[39m)\n\u001b[1;32m      5\u001b[0m     \u001b[38;5;28msuper\u001b[39m()\u001b[38;5;241m.\u001b[39m\u001b[38;5;21m__setitem__\u001b[39m(key, value)\n",
      "\u001b[0;31mAttributeError\u001b[0m: yow already defined"
     ]
    }
   ],
   "source": [
    "class NoDupeDict(dict):\n",
    "    def __setitem__(self, key, value):\n",
    "        if key in self:\n",
    "            raise AttributeError(f'{key} already defined')\n",
    "        super().__setitem__(key, value)\n",
    "        \n",
    "class NoDupeMeta(type):\n",
    "    @classmethod\n",
    "    def __prepare__(meta, clsname, bases):\n",
    "        return NoDupeDict()\n",
    "    \n",
    "class Base(metaclass=NoDupeMeta):\n",
    "    pass\n",
    "\n",
    "# Пример\n",
    "class SomeClass(Base):\n",
    "    def yow(self):\n",
    "        print('Yow')\n",
    "    def yow(self, x):\n",
    "        print('Different')"
   ]
  },
  {
   "cell_type": "markdown",
   "id": "be19f22c",
   "metadata": {},
   "source": [
    "**7.32. ВСТРОЕННЫЕ ОБЪЕКТЫ ДЛЯ\n",
    "ЭКЗЕМПЛЯРОВ И КЛАССОВ**"
   ]
  },
  {
   "attachments": {
    "image.png": {
     "image/png": "[encoded data removed]"
    }
   },
   "cell_type": "markdown",
   "id": "d1478b85",
   "metadata": {},
   "source": [
    "![image.png](attachment:image.png)"
   ]
  },
  {
   "cell_type": "markdown",
   "id": "737b0606",
   "metadata": {},
   "source": [
    ">Атрибут cls.__name__ содержит короткое имя класса. cls.__qualname__\n",
    "содержит полностью уточненное имя с дополнительной информацией\n",
    "о контексте среды (может быть полезно, если класс определяется внутри\n",
    "функции или если вы создаете вложенное определение класса). Словарь\n",
    "cls.__annotations__ содержит аннотации типов уровня класса (если они\n",
    "есть)."
   ]
  },
  {
   "cell_type": "code",
   "execution_count": null,
   "id": "afc56f94",
   "metadata": {},
   "outputs": [],
   "source": []
  },
  {
   "cell_type": "code",
   "execution_count": null,
   "id": "45cbde42",
   "metadata": {},
   "outputs": [],
   "source": []
  },
  {
   "cell_type": "code",
   "execution_count": null,
   "id": "46108a61",
   "metadata": {},
   "outputs": [],
   "source": []
  },
  {
   "cell_type": "code",
   "execution_count": null,
   "id": "546c75cc",
   "metadata": {},
   "outputs": [],
   "source": []
  },
  {
   "cell_type": "code",
   "execution_count": null,
   "id": "899f0fc0",
   "metadata": {},
   "outputs": [],
   "source": []
  },
  {
   "cell_type": "code",
   "execution_count": null,
   "id": "ed3890bc",
   "metadata": {},
   "outputs": [],
   "source": []
  },
  {
   "cell_type": "code",
   "execution_count": null,
   "id": "173115cc",
   "metadata": {},
   "outputs": [],
   "source": []
  },
  {
   "cell_type": "code",
   "execution_count": null,
   "id": "db0d0c09",
   "metadata": {},
   "outputs": [],
   "source": []
  },
  {
   "cell_type": "code",
   "execution_count": null,
   "id": "ec6f19a1",
   "metadata": {},
   "outputs": [],
   "source": []
  },
  {
   "cell_type": "code",
   "execution_count": null,
   "id": "90243013",
   "metadata": {},
   "outputs": [],
   "source": []
  },
  {
   "cell_type": "code",
   "execution_count": null,
   "id": "234bb15b",
   "metadata": {},
   "outputs": [],
   "source": []
  },
  {
   "cell_type": "code",
   "execution_count": null,
   "id": "27269062",
   "metadata": {},
   "outputs": [],
   "source": []
  },
  {
   "cell_type": "code",
   "execution_count": null,
   "id": "24f0d3a3",
   "metadata": {},
   "outputs": [],
   "source": []
  },
  {
   "cell_type": "code",
   "execution_count": null,
   "id": "7ec0beb3",
   "metadata": {},
   "outputs": [],
   "source": []
  },
  {
   "cell_type": "code",
   "execution_count": null,
   "id": "82684be6",
   "metadata": {},
   "outputs": [],
   "source": []
  },
  {
   "cell_type": "code",
   "execution_count": null,
   "id": "4f9f3e30",
   "metadata": {},
   "outputs": [],
   "source": []
  },
  {
   "cell_type": "code",
   "execution_count": null,
   "id": "04fd1112",
   "metadata": {},
   "outputs": [],
   "source": []
  },
  {
   "cell_type": "code",
   "execution_count": null,
   "id": "6b548643",
   "metadata": {},
   "outputs": [],
   "source": []
  },
  {
   "cell_type": "code",
   "execution_count": null,
   "id": "dc4a141f",
   "metadata": {},
   "outputs": [],
   "source": []
  },
  {
   "cell_type": "code",
   "execution_count": null,
   "id": "517317fc",
   "metadata": {},
   "outputs": [],
   "source": []
  },
  {
   "cell_type": "code",
   "execution_count": null,
   "id": "cf323bf8",
   "metadata": {},
   "outputs": [],
   "source": []
  },
  {
   "cell_type": "code",
   "execution_count": null,
   "id": "81418307",
   "metadata": {},
   "outputs": [],
   "source": []
  },
  {
   "cell_type": "code",
   "execution_count": null,
   "id": "7897fc0e",
   "metadata": {},
   "outputs": [],
   "source": []
  },
  {
   "cell_type": "code",
   "execution_count": null,
   "id": "e1a9c9ce",
   "metadata": {},
   "outputs": [],
   "source": []
  },
  {
   "cell_type": "code",
   "execution_count": null,
   "id": "294023cf",
   "metadata": {},
   "outputs": [],
   "source": []
  },
  {
   "cell_type": "code",
   "execution_count": null,
   "id": "6baecf7e",
   "metadata": {},
   "outputs": [],
   "source": []
  },
  {
   "cell_type": "code",
   "execution_count": null,
   "id": "a3496d3b",
   "metadata": {},
   "outputs": [],
   "source": []
  },
  {
   "cell_type": "code",
   "execution_count": null,
   "id": "dd61c8b3",
   "metadata": {},
   "outputs": [],
   "source": []
  },
  {
   "cell_type": "code",
   "execution_count": null,
   "id": "105bcced",
   "metadata": {},
   "outputs": [],
   "source": []
  },
  {
   "cell_type": "code",
   "execution_count": null,
   "id": "86f9e019",
   "metadata": {},
   "outputs": [],
   "source": []
  },
  {
   "cell_type": "code",
   "execution_count": null,
   "id": "17ee510a",
   "metadata": {},
   "outputs": [],
   "source": []
  },
  {
   "cell_type": "code",
   "execution_count": null,
   "id": "afc1150c",
   "metadata": {},
   "outputs": [],
   "source": []
  },
  {
   "cell_type": "code",
   "execution_count": null,
   "id": "c48ef468",
   "metadata": {},
   "outputs": [],
   "source": []
  },
  {
   "cell_type": "code",
   "execution_count": null,
   "id": "f3ea97cc",
   "metadata": {},
   "outputs": [],
   "source": []
  },
  {
   "cell_type": "code",
   "execution_count": null,
   "id": "f18f0f47",
   "metadata": {},
   "outputs": [],
   "source": []
  },
  {
   "cell_type": "code",
   "execution_count": null,
   "id": "156ea9fc",
   "metadata": {},
   "outputs": [],
   "source": []
  },
  {
   "cell_type": "code",
   "execution_count": null,
   "id": "bb424953",
   "metadata": {},
   "outputs": [],
   "source": []
  },
  {
   "cell_type": "code",
   "execution_count": null,
   "id": "ee200204",
   "metadata": {},
   "outputs": [],
   "source": []
  },
  {
   "cell_type": "code",
   "execution_count": null,
   "id": "5ed147c8",
   "metadata": {},
   "outputs": [],
   "source": []
  },
  {
   "cell_type": "code",
   "execution_count": null,
   "id": "3d9371d5",
   "metadata": {},
   "outputs": [],
   "source": []
  },
  {
   "cell_type": "code",
   "execution_count": null,
   "id": "744fedc3",
   "metadata": {},
   "outputs": [],
   "source": []
  },
  {
   "cell_type": "code",
   "execution_count": null,
   "id": "6539560c",
   "metadata": {},
   "outputs": [],
   "source": []
  },
  {
   "cell_type": "code",
   "execution_count": null,
   "id": "8bf0e885",
   "metadata": {},
   "outputs": [],
   "source": []
  },
  {
   "cell_type": "code",
   "execution_count": null,
   "id": "7cf6fb00",
   "metadata": {},
   "outputs": [],
   "source": []
  },
  {
   "cell_type": "code",
   "execution_count": null,
   "id": "e300b09f",
   "metadata": {},
   "outputs": [],
   "source": []
  },
  {
   "cell_type": "code",
   "execution_count": null,
   "id": "11c78a60",
   "metadata": {},
   "outputs": [],
   "source": []
  },
  {
   "cell_type": "code",
   "execution_count": null,
   "id": "98e29daa",
   "metadata": {},
   "outputs": [],
   "source": []
  },
  {
   "cell_type": "code",
   "execution_count": null,
   "id": "d73dc697",
   "metadata": {},
   "outputs": [],
   "source": []
  },
  {
   "cell_type": "code",
   "execution_count": null,
   "id": "5d4727c4",
   "metadata": {},
   "outputs": [],
   "source": []
  },
  {
   "cell_type": "code",
   "execution_count": null,
   "id": "9ff01465",
   "metadata": {},
   "outputs": [],
   "source": []
  },
  {
   "cell_type": "code",
   "execution_count": null,
   "id": "cb9387c5",
   "metadata": {},
   "outputs": [],
   "source": []
  }
 ],
 "metadata": {
  "kernelspec": {
   "display_name": "Python 3 (ipykernel)",
   "language": "python",
   "name": "python3"
  },
  "language_info": {
   "codemirror_mode": {
    "name": "ipython",
    "version": 3
   },
   "file_extension": ".py",
   "mimetype": "text/x-python",
   "name": "python",
   "nbconvert_exporter": "python",
   "pygments_lexer": "ipython3",
   "version": "3.11.3"
  }
 },
 "nbformat": 4,
 "nbformat_minor": 5
}
