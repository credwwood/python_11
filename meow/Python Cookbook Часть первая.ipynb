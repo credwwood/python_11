{
 "cells": [
  {
   "cell_type": "markdown",
   "id": "1330b3e8",
   "metadata": {},
   "source": [
    "## 1.1. Распаковка последовательности\n",
    "## в отдельные переменные"
   ]
  },
  {
   "cell_type": "code",
   "execution_count": 2,
   "id": "10527b3d",
   "metadata": {},
   "outputs": [
    {
     "name": "stdout",
     "output_type": "stream",
     "text": [
      "x=4,y=5\n"
     ]
    }
   ],
   "source": [
    "p = (4, 5)\n",
    "x, y = p\n",
    "print(f'{x=},{y=}')"
   ]
  },
  {
   "cell_type": "code",
   "execution_count": 3,
   "id": "df02145a",
   "metadata": {},
   "outputs": [
    {
     "name": "stdout",
     "output_type": "stream",
     "text": [
      "ACME (2012, 12, 21)\n"
     ]
    }
   ],
   "source": [
    "data = ['ACME', 50, 91.1, (2012, 12, 21 )]\n",
    "name, shares, price, date = data\n",
    "print(name, date)"
   ]
  },
  {
   "cell_type": "code",
   "execution_count": 4,
   "id": "6a25df81",
   "metadata": {},
   "outputs": [
    {
     "name": "stdout",
     "output_type": "stream",
     "text": [
      "2012 12 21\n"
     ]
    }
   ],
   "source": [
    "name, shares, price, (year, mon, day) = data\n",
    "print(year, mon, day)"
   ]
  },
  {
   "cell_type": "code",
   "execution_count": 5,
   "id": "7dc4b591",
   "metadata": {},
   "outputs": [
    {
     "ename": "ValueError",
     "evalue": "not enough values to unpack (expected 3, got 2)",
     "output_type": "error",
     "traceback": [
      "\u001b[0;31m---------------------------------------------------------------------------\u001b[0m",
      "\u001b[0;31mValueError\u001b[0m                                Traceback (most recent call last)",
      "Cell \u001b[0;32mIn[5], line 2\u001b[0m\n\u001b[1;32m      1\u001b[0m p \u001b[38;5;241m=\u001b[39m (\u001b[38;5;241m4\u001b[39m, \u001b[38;5;241m5\u001b[39m)\n\u001b[0;32m----> 2\u001b[0m x, y, z \u001b[38;5;241m=\u001b[39m p\n",
      "\u001b[0;31mValueError\u001b[0m: not enough values to unpack (expected 3, got 2)"
     ]
    }
   ],
   "source": [
    "p = (4, 5)\n",
    "x, y, z = p"
   ]
  },
  {
   "cell_type": "code",
   "execution_count": 6,
   "id": "dc61c365",
   "metadata": {},
   "outputs": [
    {
     "name": "stdout",
     "output_type": "stream",
     "text": [
      "H e o\n"
     ]
    }
   ],
   "source": [
    "s = 'Hello'\n",
    "a, b, c, d, e = s\n",
    "print(a, b, e)"
   ]
  },
  {
   "cell_type": "code",
   "execution_count": 7,
   "id": "31e75317",
   "metadata": {},
   "outputs": [
    {
     "name": "stdout",
     "output_type": "stream",
     "text": [
      "50 91.1\n"
     ]
    }
   ],
   "source": [
    "_, shares, price, _ = data\n",
    "print(shares, price)"
   ]
  },
  {
   "cell_type": "markdown",
   "id": "9b603b0b",
   "metadata": {},
   "source": [
    "## 1.2. Распаковка элементов из последовательностей\n",
    "## произвольной длины"
   ]
  },
  {
   "cell_type": "code",
   "execution_count": 9,
   "id": "2f8f6df2",
   "metadata": {},
   "outputs": [
    {
     "name": "stdout",
     "output_type": "stream",
     "text": [
      "['773-555-1212', '847-555-1212']\n"
     ]
    }
   ],
   "source": [
    "def drop_first_last(grades):\n",
    "    first, *middle, last = grades\n",
    "    return avg(middle)\n",
    "\n",
    "record = ('Dave', 'dave@example.com', '773-555-1212', '847-555-1212')\n",
    "name, email, *phone_numbers = record\n",
    "print(phone_numbers)"
   ]
  },
  {
   "cell_type": "code",
   "execution_count": 10,
   "id": "9322ef25",
   "metadata": {},
   "outputs": [
    {
     "ename": "NameError",
     "evalue": "name 'sales_record' is not defined",
     "output_type": "error",
     "traceback": [
      "\u001b[0;31m---------------------------------------------------------------------------\u001b[0m",
      "\u001b[0;31mNameError\u001b[0m                                 Traceback (most recent call last)",
      "Cell \u001b[0;32mIn[10], line 1\u001b[0m\n\u001b[0;32m----> 1\u001b[0m \u001b[38;5;241m*\u001b[39mtrailing_qtrs, current_qtr \u001b[38;5;241m=\u001b[39m \u001b[43msales_record\u001b[49m\n",
      "\u001b[0;31mNameError\u001b[0m: name 'sales_record' is not defined"
     ]
    }
   ],
   "source": [
    "*trailing_qtrs, current_qtr = sales_record"
   ]
  },
  {
   "cell_type": "code",
   "execution_count": 21,
   "id": "556a6134",
   "metadata": {},
   "outputs": [
    {
     "name": "stdout",
     "output_type": "stream",
     "text": [
      "foo 1 2\n",
      "bar hello\n",
      "foo 3 4\n",
      "['*', '-2', '-2', 'Unprivileged User']\n"
     ]
    }
   ],
   "source": [
    "records = [\n",
    " ('foo', 1, 2),\n",
    " ('bar', 'hello'),\n",
    " ('foo', 3, 4),\n",
    "]\n",
    "\n",
    "def do_foo(x, y):\n",
    "    print('foo', x, y)\n",
    "    \n",
    "def do_bar(s):\n",
    "    print('bar', s)\n",
    "    \n",
    "for tag, *args in records:\n",
    "    if tag == 'foo':\n",
    "        do_foo(*args)\n",
    "    elif tag == 'bar':\n",
    "        do_bar(*args)\n",
    "        \n",
    "line = 'nobody:*:-2:-2:Unprivileged User:/var/empty:/usr/bin/false'\n",
    "uname, *fields, homedir, sh = line.split(':')\n",
    "print(fields)"
   ]
  },
  {
   "cell_type": "code",
   "execution_count": 22,
   "id": "c14ebd2c",
   "metadata": {},
   "outputs": [
    {
     "name": "stdout",
     "output_type": "stream",
     "text": [
      "ACME\n",
      "2012\n"
     ]
    }
   ],
   "source": [
    "record = ('ACME', 50, 123.45, (12, 18, 2012))\n",
    "name, *_, (*_, year) = record\n",
    "print(name)\n",
    "print(year)"
   ]
  },
  {
   "cell_type": "code",
   "execution_count": 23,
   "id": "5f919c50",
   "metadata": {},
   "outputs": [
    {
     "name": "stdout",
     "output_type": "stream",
     "text": [
      "1\n",
      "[10, 7, 4, 5, 9]\n"
     ]
    }
   ],
   "source": [
    "items = [1, 10, 7, 4, 5, 9]\n",
    "head, *tail = items\n",
    "print(head)\n",
    "print(tail)"
   ]
  },
  {
   "cell_type": "code",
   "execution_count": 27,
   "id": "2f5bca8e",
   "metadata": {},
   "outputs": [
    {
     "data": {
      "text/plain": [
       "36"
      ]
     },
     "execution_count": 27,
     "metadata": {},
     "output_type": "execute_result"
    }
   ],
   "source": [
    "def sum(items):\n",
    "    head, *tail = items\n",
    "#     print(head + sum(tail) if tail else head)\n",
    "\n",
    "    return head + sum(tail) if tail else head\n",
    "\n",
    "sum(items)"
   ]
  },
  {
   "cell_type": "markdown",
   "id": "36f631c4",
   "metadata": {},
   "source": [
    "## 1.3. Оставляем N последних элементов"
   ]
  },
  {
   "cell_type": "code",
   "execution_count": null,
   "id": "773e53b3",
   "metadata": {},
   "outputs": [],
   "source": [
    "from collections import deque\n",
    "def search(lines, pattern, history=5):\n",
    "    previous_lines = deque(maxlen=history)\n",
    "    for line in lines:\n",
    "        if pattern in line:\n",
    "            yield line, previous_lines\n",
    "        previous_lines.append(line)\n",
    "        "
   ]
  },
  {
   "cell_type": "code",
   "execution_count": 40,
   "id": "86568af5",
   "metadata": {},
   "outputs": [
    {
     "name": "stdout",
     "output_type": "stream",
     "text": [
      "<list_iterator object at 0x7ff50ce38ca0>\n",
      "deque([40, 30])\n",
      "deque([0, 40, 30])\n",
      "50\n",
      "120\n",
      "deque([40, 30, 50])\n",
      "46\n",
      "126\n",
      "deque([30, 50, 46])\n",
      "39\n",
      "135\n",
      "deque([50, 46, 39])\n",
      "44\n",
      "129\n",
      "deque([46, 39, 44])\n"
     ]
    },
    {
     "data": {
      "text/plain": [
       "[40.0, 42.0, 45.0, 43.0]"
      ]
     },
     "execution_count": 40,
     "metadata": {},
     "output_type": "execute_result"
    }
   ],
   "source": [
    "from collections import deque\n",
    "import itertools\n",
    "\n",
    "def moving_average(iterable, n=3):\n",
    "    it = iter(iterable)\n",
    "#     print([i for i in it])\n",
    "    print(it)\n",
    "    d = deque(itertools.islice(it, n-1))\n",
    "    print(d)\n",
    "#     print([i for i in it])\n",
    "    d.appendleft(0)\n",
    "    print(d)\n",
    "    s = sum(d)\n",
    "    for elem in it:\n",
    "        print(elem)\n",
    "        s += elem - d.popleft()\n",
    "        print(s)\n",
    "        d.append(elem)\n",
    "        print(d)\n",
    "        yield s / n\n",
    "        \n",
    "list(moving_average([40, 30, 50, 46, 39, 44])        )"
   ]
  },
  {
   "cell_type": "code",
   "execution_count": 49,
   "id": "74894aac",
   "metadata": {},
   "outputs": [
    {
     "name": "stdout",
     "output_type": "stream",
     "text": [
      "deque([40, 30])\n",
      "deque([0, 40, 30])\n",
      "50\n",
      "46\n",
      "39\n",
      "44\n"
     ]
    },
    {
     "data": {
      "text/plain": [
       "[40.0, 42.0, 45.0, 43.0]"
      ]
     },
     "execution_count": 49,
     "metadata": {},
     "output_type": "execute_result"
    }
   ],
   "source": [
    "def moving_average(iterable, n=3):\n",
    "    it = iter(iterable)\n",
    "    d = deque(itertools.islice(it, n-1))\n",
    "    print(d)\n",
    "    d.appendleft(0)\n",
    "    print(d)\n",
    "    s = sum(d)\n",
    "    for elem in it:\n",
    "        print(elem)\n",
    "        s += elem - d.popleft()\n",
    "        d.append(elem)\n",
    "        yield s / n\n",
    "        \n",
    "list(moving_average([40, 30, 50, 46, 39, 44])        )"
   ]
  },
  {
   "cell_type": "code",
   "execution_count": 59,
   "id": "63c6f763",
   "metadata": {},
   "outputs": [
    {
     "name": "stdout",
     "output_type": "stream",
     "text": [
      "2 deque(['1', '1', '1', '1', '\\n'], maxlen=5)\n",
      "1111\n",
      "2--------------------\n",
      "2 deque(['1', '1', '1', '\\n', '2'], maxlen=5)\n",
      "111\n",
      "22--------------------\n",
      "2 deque(['1', '1', '\\n', '2', '2'], maxlen=5)\n",
      "11\n",
      "222--------------------\n"
     ]
    }
   ],
   "source": [
    "def search(lines, pattern, history=5):\n",
    "    previous_lines = deque(maxlen=history)\n",
    "    for line in lines:\n",
    "        if pattern in line:\n",
    "            yield line, previous_lines\n",
    "        previous_lines.append(line)\n",
    "        \n",
    "text = \"\"\"1111\n",
    "222\n",
    "444\n",
    "555\"\"\"\n",
    "\n",
    "\n",
    "\n",
    "for line, prevline in search(text, '2', 5):\n",
    "    print(line, prevline)\n",
    "    for pline in prevline:\n",
    "        print(pline, end='')\n",
    "    print(line, end='')\n",
    "    print('-'*20)"
   ]
  },
  {
   "cell_type": "code",
   "execution_count": 62,
   "id": "e34409f4",
   "metadata": {},
   "outputs": [
    {
     "name": "stdout",
     "output_type": "stream",
     "text": [
      "deque([1, 2, 3], maxlen=3)\n",
      "deque([2, 3, 4], maxlen=3)\n",
      "deque([3, 4, 5], maxlen=3)\n"
     ]
    }
   ],
   "source": [
    "# ограничение задается maxlen\n",
    "\n",
    "q = deque(maxlen=3)\n",
    "q.append(1)\n",
    "q.append(2)\n",
    "q.append(3)\n",
    "print(q)\n",
    "q.append(4)\n",
    "print(q)\n",
    "q.append(5)\n",
    "print(q)"
   ]
  },
  {
   "cell_type": "markdown",
   "id": "51dc1423",
   "metadata": {},
   "source": [
    "## 1.4. Поиск N максимальных и минимальных элементов"
   ]
  },
  {
   "cell_type": "code",
   "execution_count": 64,
   "id": "8f26b7df",
   "metadata": {},
   "outputs": [
    {
     "name": "stdout",
     "output_type": "stream",
     "text": [
      "[42, 37, 23]\n",
      "[-4, 1, 2]\n"
     ]
    }
   ],
   "source": [
    "# модуль heapq функции nlargest(), nsmallest()\n",
    "\n",
    "import heapq\n",
    "\n",
    "nums = [1, 8, 2, 23, 7, -4, 18, 23, 42, 37, 2]\n",
    "print(heapq.nlargest(3, nums))\n",
    "print(heapq.nsmallest(3, nums))"
   ]
  },
  {
   "cell_type": "code",
   "execution_count": 67,
   "id": "e9a545e5",
   "metadata": {},
   "outputs": [
    {
     "name": "stdout",
     "output_type": "stream",
     "text": [
      "[{'name': 'YHOO', 'shares': 45, 'price': 16.35}, {'name': 'FB', 'shares': 200, 'price': 21.09}, {'name': 'HPQ', 'shares': 35, 'price': 31.75}] [{'name': 'AAPL', 'shares': 50, 'price': 543.22}, {'name': 'ACME', 'shares': 75, 'price': 115.65}, {'name': 'IBM', 'shares': 100, 'price': 91.1}]\n"
     ]
    }
   ],
   "source": [
    "portfolio = [\n",
    "    {'name': 'IBM', 'shares': 100, 'price': 91.1},\n",
    "    {'name': 'AAPL', 'shares': 50, 'price': 543.22},\n",
    "    {'name': 'FB', 'shares': 200, 'price': 21.09},\n",
    "    {'name': 'HPQ', 'shares': 35, 'price': 31.75},\n",
    "    {'name': 'YHOO', 'shares': 45, 'price': 16.35},\n",
    "    {'name': 'ACME', 'shares': 75, 'price': 115.65},\n",
    "    \n",
    "]\n",
    "\n",
    "cheap = heapq.nsmallest(3, portfolio, key=lambda s: s['price'])\n",
    "expendive = heapq.nlargest(3, portfolio, key=lambda s: s['price'])\n",
    "\n",
    "print(cheap, expendive)"
   ]
  },
  {
   "cell_type": "code",
   "execution_count": 19,
   "id": "c965f6da",
   "metadata": {},
   "outputs": [
    {
     "data": {
      "text/plain": [
       "[2, 7, 8, 23, 42, 37, 18, 23]"
      ]
     },
     "execution_count": 19,
     "metadata": {},
     "output_type": "execute_result"
    }
   ],
   "source": [
    "nums = [1, 8, 2, 23, 7, -4, 18, 23, 42, 37, 2]\n",
    "\n",
    "\n",
    "import heapq\n",
    "heap = list(nums)\n",
    "heapq.heapify(heap)\n",
    "heap\n",
    "heapq.heappop(heap)\n",
    "heapq.heappop(heap)\n",
    "heapq.heappop(heap)\n",
    "heap"
   ]
  },
  {
   "cell_type": "code",
   "execution_count": 37,
   "id": "d6922579",
   "metadata": {},
   "outputs": [
    {
     "name": "stdout",
     "output_type": "stream",
     "text": [
      "[2, 5]\n"
     ]
    },
    {
     "data": {
      "text/plain": [
       "['ke', 's']"
      ]
     },
     "execution_count": 37,
     "metadata": {},
     "output_type": "execute_result"
    }
   ],
   "source": [
    "d = {'s': 1, 2: 3, 'ke': 'k', 5: 4}\n",
    "\n",
    "import heapq\n",
    "\n",
    "print(heapq.nsmallest(2, d, key=lambda s:type(s) == str ))\n",
    "heapq.nsmallest(2, d, key=lambda k: d[k] if type(d[k]) != str else 0)"
   ]
  },
  {
   "cell_type": "code",
   "execution_count": null,
   "id": "b09545bd",
   "metadata": {},
   "outputs": [],
   "source": []
  },
  {
   "cell_type": "markdown",
   "id": "215b5670",
   "metadata": {},
   "source": [
    "## 1.5. Реализация очереди с приоритетом"
   ]
  },
  {
   "cell_type": "code",
   "execution_count": 56,
   "id": "f97e845f",
   "metadata": {},
   "outputs": [
    {
     "name": "stdout",
     "output_type": "stream",
     "text": [
      "-1 0 Item('foo')\n",
      "[(-1, 0, Item('foo'))]\n",
      "-5 1 Item('bar')\n",
      "[(-5, 1, Item('bar')), (-1, 0, Item('foo'))]\n",
      "-4 2 Item('spam')\n",
      "[(-5, 1, Item('bar')), (-1, 0, Item('foo')), (-4, 2, Item('spam'))]\n",
      "-1 3 Item('grok')\n",
      "[(-5, 1, Item('bar')), (-1, 0, Item('foo')), (-4, 2, Item('spam')), (-1, 3, Item('grok'))]\n"
     ]
    },
    {
     "data": {
      "text/plain": [
       "Item('grok')"
      ]
     },
     "execution_count": 56,
     "metadata": {},
     "output_type": "execute_result"
    }
   ],
   "source": [
    "import heapq\n",
    "\n",
    "class PriorityQueue:\n",
    "    \n",
    "    def __init__(self):\n",
    "        self._queue = []\n",
    "        self._index = 0\n",
    "        \n",
    "    def push(self, item, priority):\n",
    "        heapq.heappush(self._queue, (-priority, self._index, item))\n",
    "        print(-priority, self._index, item)\n",
    "        self._index += 1\n",
    "        print(self._queue)\n",
    "        \n",
    "    def pop(self):\n",
    "        return heapq.heappop(self._queue)[-1]\n",
    "    \n",
    "    \n",
    "class Item:\n",
    "    def __init__(self, name):\n",
    "        self.name = name\n",
    "        \n",
    "    def __repr__(self):\n",
    "        return 'Item({!r})'.format(self.name)\n",
    "    \n",
    "q = PriorityQueue()\n",
    "q.push(Item('foo'), 1)\n",
    "q.push(Item('bar'), 5)\n",
    "q.push(Item('spam'), 4)\n",
    "q.push(Item('grok'), 1)\n",
    "q.pop()\n",
    "q.pop()\n",
    "q.pop()\n",
    "q.pop()"
   ]
  },
  {
   "cell_type": "code",
   "execution_count": 1,
   "id": "3287afda",
   "metadata": {},
   "outputs": [
    {
     "data": {
      "text/plain": [
       "{'_MyClass__superprivate': 'Hello', '_semiprivate': ', world!', 'index': 0}"
      ]
     },
     "execution_count": 1,
     "metadata": {},
     "output_type": "execute_result"
    }
   ],
   "source": [
    "class MyClass():\n",
    "    def __init__(self):\n",
    "        self.__superprivate = \"Hello\"\n",
    "        self._semiprivate = \", world!\"\n",
    "        self.index = 0\n",
    "        \n",
    "mc = MyClass()\n",
    "mc.__dict__\n",
    "dir(MyClass)\n",
    "mc.__dict__"
   ]
  },
  {
   "cell_type": "code",
   "execution_count": 61,
   "id": "f5f29512",
   "metadata": {},
   "outputs": [
    {
     "ename": "ModuleNotFoundError",
     "evalue": "No module named 'MyClass'",
     "output_type": "error",
     "traceback": [
      "\u001b[0;31m---------------------------------------------------------------------------\u001b[0m",
      "\u001b[0;31mModuleNotFoundError\u001b[0m                       Traceback (most recent call last)",
      "Cell \u001b[0;32mIn[61], line 1\u001b[0m\n\u001b[0;32m----> 1\u001b[0m \u001b[38;5;28;01mfrom\u001b[39;00m \u001b[38;5;21;01mMyClass\u001b[39;00m \u001b[38;5;28;01mimport\u001b[39;00m \u001b[38;5;241m*\u001b[39m\n",
      "\u001b[0;31mModuleNotFoundError\u001b[0m: No module named 'MyClass'"
     ]
    }
   ],
   "source": [
    "from MyClass import *"
   ]
  },
  {
   "cell_type": "markdown",
   "id": "107e95c9",
   "metadata": {},
   "source": [
    "## 1.6. Отображение ключей на несколько значений\n",
    "## в словаре"
   ]
  },
  {
   "cell_type": "code",
   "execution_count": null,
   "id": "0d48de90",
   "metadata": {},
   "outputs": [],
   "source": [
    "d = {\n",
    "    'a': [1, 2, 3],\n",
    "    'b': [4, 5],\n",
    "    \n",
    "}\n",
    "\n",
    "e = {\n",
    "    'a': {1, 2, 3},\n",
    "    'b': {4, 5}\n",
    "}\n",
    "\n"
   ]
  },
  {
   "cell_type": "code",
   "execution_count": 2,
   "id": "79bac2f1",
   "metadata": {},
   "outputs": [
    {
     "data": {
      "text/plain": [
       "defaultdict(list, {'a': [1, 2], 'b': [4]})"
      ]
     },
     "execution_count": 2,
     "metadata": {},
     "output_type": "execute_result"
    }
   ],
   "source": [
    "from collections import defaultdict\n",
    "\n",
    "d = defaultdict(list)\n",
    "d['a'].append(1)\n",
    "d['a'].append(2)\n",
    "d['b'].append(4)\n",
    "\n",
    "d"
   ]
  },
  {
   "cell_type": "code",
   "execution_count": 13,
   "id": "4e7b165a",
   "metadata": {},
   "outputs": [
    {
     "data": {
      "text/plain": [
       "defaultdict(set, {'a': {1, 2}, 'b': {4}, 'c': ['ok', 'ko'], 'd': {'h'}})"
      ]
     },
     "execution_count": 13,
     "metadata": {},
     "output_type": "execute_result"
    }
   ],
   "source": [
    "d = defaultdict(set)\n",
    "d['a'].add(1)\n",
    "d['a'].add(2)\n",
    "d['b'].add(4)\n",
    "\n",
    "d.setdefault('c', []).append('ok')\n",
    "d['d'].add('h')\n",
    "d.setdefault('c', {}).append('ko')\n",
    "d"
   ]
  },
  {
   "cell_type": "code",
   "execution_count": 6,
   "id": "05cf5377",
   "metadata": {},
   "outputs": [
    {
     "data": {
      "text/plain": [
       "{'a': [1, 2], 'b': [4], 'c': {}}"
      ]
     },
     "execution_count": 6,
     "metadata": {},
     "output_type": "execute_result"
    }
   ],
   "source": [
    "d  = {}\n",
    "d.setdefault('a', []).append(1)\n",
    "d.setdefault('a', []).append(2)\n",
    "d.setdefault('b', []).append(4)\n",
    "d.setdefault('c', {})\n",
    "d"
   ]
  },
  {
   "cell_type": "markdown",
   "id": "29d515c5",
   "metadata": {},
   "source": [
    "## 1.7. Поддержание порядка в словарях"
   ]
  },
  {
   "cell_type": "code",
   "execution_count": 14,
   "id": "0feb89a4",
   "metadata": {},
   "outputs": [
    {
     "data": {
      "text/plain": [
       "OrderedDict([('foo', 1), ('bar', 2), ('spam', 3), ('grok', 4)])"
      ]
     },
     "execution_count": 14,
     "metadata": {},
     "output_type": "execute_result"
    }
   ],
   "source": [
    "from collections import OrderedDict\n",
    "\n",
    "d = OrderedDict()\n",
    "d['foo'] = 1\n",
    "d['bar'] = 2\n",
    "d['spam'] = 3\n",
    "d['grok'] = 4\n",
    "d"
   ]
  },
  {
   "cell_type": "code",
   "execution_count": 15,
   "id": "5d4f9d41",
   "metadata": {},
   "outputs": [
    {
     "data": {
      "text/plain": [
       "'{\"foo\": 1, \"bar\": 2, \"spam\": 3, \"grok\": 4}'"
      ]
     },
     "execution_count": 15,
     "metadata": {},
     "output_type": "execute_result"
    }
   ],
   "source": [
    "import json\n",
    "\n",
    "json.dumps(d)"
   ]
  },
  {
   "cell_type": "markdown",
   "id": "f2b06799",
   "metadata": {},
   "source": [
    "## 1.8. Вычисления со словарями"
   ]
  },
  {
   "cell_type": "code",
   "execution_count": 16,
   "id": "d031004f",
   "metadata": {},
   "outputs": [],
   "source": [
    "prices = {\n",
    "    'ACME': 45.23,\n",
    "    'AAPL': 612.78,\n",
    "    'IBM': 205.55,\n",
    "    'HPQ': 37.20,\n",
    "    'FB': 10.75,\n",
    "    \n",
    "}"
   ]
  },
  {
   "cell_type": "code",
   "execution_count": 25,
   "id": "a4878ecb",
   "metadata": {},
   "outputs": [
    {
     "name": "stdout",
     "output_type": "stream",
     "text": [
      "(10.75, 'FB')\n",
      "(612.78, 'AAPL')\n",
      "[(10.75, 'FB'), (37.2, 'HPQ'), (45.23, 'ACME'), (205.55, 'IBM'), (612.78, 'AAPL')]\n",
      "(10.75, 'FB')\n",
      "(612.78, 'AAPL')\n"
     ]
    }
   ],
   "source": [
    "min_price = min(zip(prices.values(), prices.keys()))\n",
    "print(min_price)\n",
    "\n",
    "max_price = max(zip(prices.values(), prices.keys()))\n",
    "print(max_price)\n",
    "\n",
    "prices_sorted = sorted(zip(prices.values(), prices.keys()))\n",
    "print(prices_sorted)\n",
    "\n",
    "prices_and_names = list(zip(prices.values(), prices.keys()))\n",
    "print(min(prices_and_names))\n",
    "print(max(prices_and_names))"
   ]
  },
  {
   "cell_type": "code",
   "execution_count": 27,
   "id": "e61da00b",
   "metadata": {},
   "outputs": [
    {
     "data": {
      "text/plain": [
       "'AAPL'"
      ]
     },
     "execution_count": 27,
     "metadata": {},
     "output_type": "execute_result"
    }
   ],
   "source": [
    "min(prices, key=lambda k: prices[k])\n",
    "max(prices, key=lambda k: prices[k])"
   ]
  },
  {
   "cell_type": "code",
   "execution_count": 39,
   "id": "dd355bde",
   "metadata": {},
   "outputs": [
    {
     "data": {
      "text/plain": [
       "10.75"
      ]
     },
     "execution_count": 39,
     "metadata": {},
     "output_type": "execute_result"
    }
   ],
   "source": [
    "min_value = prices[min(prices, key=lambda k: prices[k])]\n",
    "min_value"
   ]
  },
  {
   "cell_type": "code",
   "execution_count": 41,
   "id": "52529de1",
   "metadata": {},
   "outputs": [
    {
     "data": {
      "text/plain": [
       "(45.23, 'ZZZ')"
      ]
     },
     "execution_count": 41,
     "metadata": {},
     "output_type": "execute_result"
    }
   ],
   "source": [
    "prices = { 'AAA': 45.23, 'ZZZ': 45.23}\n",
    "min(zip(prices.values(), prices.keys()))\n",
    "max(zip(prices.values(), prices.keys()))"
   ]
  },
  {
   "cell_type": "markdown",
   "id": "419a6735",
   "metadata": {},
   "source": [
    "## 1.9. Поиск общих элементов в двух словарях"
   ]
  },
  {
   "cell_type": "code",
   "execution_count": 43,
   "id": "89ceadda",
   "metadata": {},
   "outputs": [],
   "source": [
    "a = {\n",
    "    'x' : 1,\n",
    "    'y' : 2,\n",
    "    'z' : 3,    \n",
    "}\n",
    "\n",
    "b = {\n",
    "    'w' : 10,\n",
    "    'x' : 11,\n",
    "    'y' : 2,\n",
    "    \n",
    "}"
   ]
  },
  {
   "cell_type": "code",
   "execution_count": 47,
   "id": "afbe8dd8",
   "metadata": {},
   "outputs": [
    {
     "name": "stdout",
     "output_type": "stream",
     "text": [
      "{'y', 'x'}\n",
      "{'z'}\n",
      "{('y', 2)}\n"
     ]
    }
   ],
   "source": [
    "print(a.keys() & b.keys())\n",
    "print(a.keys() - b.keys())\n",
    "print(a.items() & b.items())"
   ]
  },
  {
   "cell_type": "code",
   "execution_count": 48,
   "id": "21d17c2c",
   "metadata": {},
   "outputs": [
    {
     "data": {
      "text/plain": [
       "{'y': 2, 'x': 1}"
      ]
     },
     "execution_count": 48,
     "metadata": {},
     "output_type": "execute_result"
    }
   ],
   "source": [
    "c = {key:a[key] for key in a.keys() - {'z', 'w'}}\n",
    "c"
   ]
  },
  {
   "cell_type": "markdown",
   "id": "c51891f2",
   "metadata": {},
   "source": [
    "## 1.10. Удаление дубликатов из последовательности\n",
    "## с сохранением порядка элементов\n"
   ]
  },
  {
   "cell_type": "code",
   "execution_count": 49,
   "id": "d9db5a76",
   "metadata": {},
   "outputs": [
    {
     "data": {
      "text/plain": [
       "[1, 5, 2, 9, 10]"
      ]
     },
     "execution_count": 49,
     "metadata": {},
     "output_type": "execute_result"
    }
   ],
   "source": [
    "def dedupe(items):\n",
    "    seen = set()\n",
    "    for item in items:\n",
    "        if item not in seen:\n",
    "            yield item\n",
    "            seen.add(item)\n",
    "            \n",
    "a = [1, 5, 2, 1, 9, 1, 5, 10]\n",
    "list(dedupe(a))"
   ]
  },
  {
   "cell_type": "code",
   "execution_count": 62,
   "id": "120bfcd0",
   "metadata": {},
   "outputs": [
    {
     "data": {
      "text/plain": [
       "[{'x': 1, 'y': 2, 'c': 4}, {'x': 2, 'y': 4}]"
      ]
     },
     "execution_count": 62,
     "metadata": {},
     "output_type": "execute_result"
    }
   ],
   "source": [
    "def dedupe(items, key=None):\n",
    "    seen = set()\n",
    "    for item in items:\n",
    "        val = item if key is None else key(item)\n",
    "        if val not in seen:\n",
    "            yield item\n",
    "            seen.add(val)\n",
    "            \n",
    "a = [ {'x':1, 'y':2, 'c': 4}, {'x':1, 'y':3}, {'x':1, 'y':2}, {'x':2, 'y':4}]\n",
    "list(dedupe(a, key=lambda d: (d['x'], d['y'])))\n",
    "\n",
    "import numpy as np\n",
    "\n",
    "b = np.arange(9).tolist()\n",
    "\n",
    "list(dedupe(b))\n",
    "\n",
    "list(dedupe(a, key=lambda d: d['x']))"
   ]
  },
  {
   "cell_type": "code",
   "execution_count": 64,
   "id": "1ffea91b",
   "metadata": {},
   "outputs": [],
   "source": [
    "def dedupe(items, key=None):\n",
    "    seen = set()\n",
    "    for item in items:\n",
    "        val = item if key is None else key(item)\n",
    "        if val not in seen:\n",
    "            yield item\n",
    "            seen.add(val)"
   ]
  },
  {
   "cell_type": "code",
   "execution_count": 65,
   "id": "e1b3a976",
   "metadata": {},
   "outputs": [
    {
     "ename": "NameError",
     "evalue": "name 'somefile' is not defined",
     "output_type": "error",
     "traceback": [
      "\u001b[0;31m---------------------------------------------------------------------------\u001b[0m",
      "\u001b[0;31mNameError\u001b[0m                                 Traceback (most recent call last)",
      "Cell \u001b[0;32mIn[65], line 3\u001b[0m\n\u001b[1;32m      1\u001b[0m \u001b[38;5;66;03m# читать файл, удаляя дублирующие строки\u001b[39;00m\n\u001b[0;32m----> 3\u001b[0m \u001b[38;5;28;01mwith\u001b[39;00m \u001b[38;5;28mopen\u001b[39m(\u001b[43msomefile\u001b[49m, \u001b[38;5;124m'\u001b[39m\u001b[38;5;124mr\u001b[39m\u001b[38;5;124m'\u001b[39m) \u001b[38;5;28;01mas\u001b[39;00m f:\n\u001b[1;32m      4\u001b[0m     \u001b[38;5;28;01mfor\u001b[39;00m line \u001b[38;5;129;01min\u001b[39;00m dedupe(f):\n\u001b[1;32m      5\u001b[0m         \u001b[38;5;241m.\u001b[39m\u001b[38;5;241m.\u001b[39m\u001b[38;5;241m.\u001b[39m\n",
      "\u001b[0;31mNameError\u001b[0m: name 'somefile' is not defined"
     ]
    }
   ],
   "source": [
    "# читать файл, удаляя дублирующие строки\n",
    "\n",
    "with open(somefile, 'r') as f:\n",
    "    for line in dedupe(f):\n",
    "        ...\n",
    "        \n",
    "        "
   ]
  },
  {
   "cell_type": "markdown",
   "id": "c390e325",
   "metadata": {},
   "source": [
    "## 1.11. Присваивание имен срезам"
   ]
  },
  {
   "cell_type": "code",
   "execution_count": 66,
   "id": "41ab4c19",
   "metadata": {},
   "outputs": [
    {
     "ename": "ValueError",
     "evalue": "invalid literal for int() with base 10: '100 .......5'",
     "output_type": "error",
     "traceback": [
      "\u001b[0;31m---------------------------------------------------------------------------\u001b[0m",
      "\u001b[0;31mValueError\u001b[0m                                Traceback (most recent call last)",
      "Cell \u001b[0;32mIn[66], line 6\u001b[0m\n\u001b[1;32m      3\u001b[0m SHARES \u001b[38;5;241m=\u001b[39m \u001b[38;5;28mslice\u001b[39m(\u001b[38;5;241m20\u001b[39m,\u001b[38;5;241m32\u001b[39m)\n\u001b[1;32m      4\u001b[0m PRICE \u001b[38;5;241m=\u001b[39m \u001b[38;5;28mslice\u001b[39m(\u001b[38;5;241m40\u001b[39m,\u001b[38;5;241m48\u001b[39m)\n\u001b[0;32m----> 6\u001b[0m cost \u001b[38;5;241m=\u001b[39m \u001b[38;5;28;43mint\u001b[39;49m\u001b[43m(\u001b[49m\u001b[43mrecord\u001b[49m\u001b[43m[\u001b[49m\u001b[43mSHARES\u001b[49m\u001b[43m]\u001b[49m\u001b[43m)\u001b[49m \u001b[38;5;241m*\u001b[39m \u001b[38;5;28mfloat\u001b[39m(record[PRICE])\n\u001b[1;32m      7\u001b[0m cost\n",
      "\u001b[0;31mValueError\u001b[0m: invalid literal for int() with base 10: '100 .......5'"
     ]
    }
   ],
   "source": [
    "record = '....................100 .......513.25 ..........'\n",
    "\n",
    "SHARES = slice(20,32)\n",
    "PRICE = slice(40,48)\n",
    "\n",
    "cost = int(record[SHARES]) * float(record[PRICE])\n",
    "cost\n"
   ]
  },
  {
   "cell_type": "code",
   "execution_count": 69,
   "id": "7f293b8a",
   "metadata": {},
   "outputs": [
    {
     "data": {
      "text/plain": [
       "[0, 1, 4, 5, 6]"
      ]
     },
     "execution_count": 69,
     "metadata": {},
     "output_type": "execute_result"
    }
   ],
   "source": [
    "items = [0, 1, 2, 3, 4, 5, 6]\n",
    "a = slice(2, 4)\n",
    "items[a]\n",
    "items[a] = [10, 11]\n",
    "items\n",
    "del items[a]\n",
    "items"
   ]
  },
  {
   "cell_type": "code",
   "execution_count": 70,
   "id": "10eb57f5",
   "metadata": {},
   "outputs": [
    {
     "data": {
      "text/plain": [
       "10"
      ]
     },
     "execution_count": 70,
     "metadata": {},
     "output_type": "execute_result"
    }
   ],
   "source": [
    "a = slice(10, 50, 2)\n",
    "a.start"
   ]
  },
  {
   "cell_type": "code",
   "execution_count": 77,
   "id": "db6083a0",
   "metadata": {},
   "outputs": [],
   "source": [
    "s = 'HelloWorld'\n",
    "a.indices(len(s))\n",
    "\n",
    "s1 = 's;glsjg;sfgjsfhskdghskkhfskf'\n",
    "a.indices(len(s1))\n",
    "\n",
    "for i in range(*a.indices(len(s))):\n",
    "    print(s[i])"
   ]
  },
  {
   "cell_type": "markdown",
   "id": "c8405406",
   "metadata": {},
   "source": [
    "**Собственные классы с возможностью применения срезов.**"
   ]
  },
  {
   "cell_type": "code",
   "execution_count": 74,
   "id": "ed02e9fb",
   "metadata": {},
   "outputs": [
    {
     "name": "stdout",
     "output_type": "stream",
     "text": [
      "ABCDEFGHIJKLMNOPQRSTUVWXYZ\n",
      "0\n",
      "25\n",
      "[('Al Bundy', '9764 Jeopardy Lane, Chicago, Illinois')]\n",
      "[('Bart Simpson', '742 Evergreen Terrace, Springfield, USA')]\n",
      "[('Sherlock Holmes', '221B Baker St., London'), ('Spongebob', '124 Conch Street, Bikini Bottom, Pacific Ocean')]\n",
      "[('Al Bundy', '9764 Jeopardy Lane, Chicago, Illinois'), ('Hercule Poirot', 'Apt. 56B, Whitehaven Mansions, Sandhurst Square, London W1'), ('Bart Simpson', '742 Evergreen Terrace, Springfield, USA')]\n",
      "ABCDEFGHIJKLMNOPQRSTUVWXYZ\n",
      "0\n",
      "25\n",
      "[('Al Bundy', '9764 Jeopardy Lane, Chicago, Illinois')]\n"
     ]
    }
   ],
   "source": [
    "import string\n",
    "\n",
    "class AddressBook:\n",
    "    def __init__(self):\n",
    "        self.addresses = []\n",
    "        \n",
    "    def add_address(self, name, address):\n",
    "        self.addresses.append((name, address))\n",
    "        \n",
    "    def get_addresses_by_first_letters(self, letters):\n",
    "        letters = letters.upper()\n",
    "        return [(name, address) for name, address in self.addresses\n",
    "               if any(name.upper().startswith(letter) for letter in letters)]\n",
    "    \n",
    "    def __getitem__(self, key):\n",
    "        if isinstance(key, str):\n",
    "            return self.get_addresses_by_first_letters(key)\n",
    "        if isinstance(key, slice):\n",
    "            start, stop, step = key.start, key.stop, key.step\n",
    "            letters = (string.ascii_uppercase[\n",
    "                       string.ascii_uppercase.index(start):string.ascii_uppercase.index(stop)+1:\n",
    "                       step])\n",
    "            return self.get_addresses_by_first_letters(letters)\n",
    "        \n",
    "address_book = AddressBook()\n",
    "address_book.add_address(\"Sherlock Holmes\", \"221B Baker St., London\")\n",
    "address_book.add_address(\"Wallace and Gromit\", \"62 West Wallaby Street, Wigan, Lancashire\")\n",
    "address_book.add_address(\"Peter Wimsey\", \"110a Piccadilly, London\")\n",
    "address_book.add_address(\"Al Bundy\", \"9764 Jeopardy Lane, Chicago, Illinois\")\n",
    "address_book.add_address(\"John Dolittle\", \"Oxenthorpe Road, Puddleby-on-the-Marsh, Slopshire, England\")\n",
    "address_book.add_address(\"Spongebob\", \"124 Conch Street, Bikini Bottom, Pacific Ocean\")\n",
    "address_book.add_address(\"Hercule Poirot\", \"Apt. 56B, Whitehaven Mansions, Sandhurst Square, London W1\")\n",
    "address_book.add_address(\"Bart Simpson\", \"742 Evergreen Terrace, Springfield, USA\")\n",
    "\n",
    "print(string.ascii_uppercase)\n",
    "print(string.ascii_uppercase.index(\"A\"))\n",
    "print(string.ascii_uppercase.index(\"Z\"))\n",
    "\n",
    "print(address_book[\"A\"])\n",
    "print(address_book[\"B\"])\n",
    "print(address_book[\"S\"])\n",
    "print(address_book[\"A\":\"H\"])\n",
    "print(string.ascii_uppercase)\n",
    "print(string.ascii_uppercase.index(\"A\"))\n",
    "print(string.ascii_uppercase.index(\"Z\"))\n",
    "\n",
    "print(address_book[\"A\"])\n",
    "# print(address_book[\"B\"])\n",
    "# print(address_book[\"S\"])\n",
    "# print(address_book[\"A\":\"H\"])"
   ]
  },
  {
   "cell_type": "markdown",
   "id": "dddd5131",
   "metadata": {},
   "source": [
    "## 1.12. Определение наиболее часто встречающихся\n",
    "## элементов в последовательности"
   ]
  },
  {
   "cell_type": "code",
   "execution_count": 79,
   "id": "92e2ff6b",
   "metadata": {},
   "outputs": [
    {
     "name": "stdout",
     "output_type": "stream",
     "text": [
      "[('eyes', 8), ('the', 5), ('look', 4)]\n"
     ]
    }
   ],
   "source": [
    "words = [\n",
    " 'look', 'into', 'my', 'eyes', 'look', 'into', 'my', 'eyes',\n",
    " 'the', 'eyes', 'the', 'eyes', 'the', 'eyes', 'not', 'around', 'the',\n",
    " 'eyes', \"don't\", 'look', 'around', 'the', 'eyes', 'look', 'into',\n",
    " 'my', 'eyes', \"you're\", 'under'\n",
    "]\n",
    "\n",
    "from collections import Counter\n",
    "\n",
    "word_counts = Counter(words)\n",
    "top_three = word_counts.most_common(3)\n",
    "print(top_three)"
   ]
  },
  {
   "cell_type": "code",
   "execution_count": 81,
   "id": "5c3f93d1",
   "metadata": {},
   "outputs": [],
   "source": [
    "morewords = ['why', 'are', 'you', 'not', 'looking', 'in', 'my', 'eyes']\n",
    "for word in morewords:\n",
    "    word_counts[word] += 1\n",
    "\n",
    "word_counts['eyes']\n",
    "\n",
    "word_counts.update(morewords)"
   ]
  },
  {
   "cell_type": "code",
   "execution_count": 85,
   "id": "8c89c4c9",
   "metadata": {},
   "outputs": [
    {
     "data": {
      "text/plain": [
       "Counter({'look': 4,\n",
       "         'into': 3,\n",
       "         'my': 2,\n",
       "         'eyes': 7,\n",
       "         'the': 5,\n",
       "         'around': 2,\n",
       "         \"don't\": 1,\n",
       "         \"you're\": 1,\n",
       "         'under': 1})"
      ]
     },
     "execution_count": 85,
     "metadata": {},
     "output_type": "execute_result"
    }
   ],
   "source": [
    "a = Counter(words)\n",
    "b = Counter(morewords)\n",
    "\n",
    "c = a + b\n",
    "d = a - b\n",
    "d"
   ]
  },
  {
   "cell_type": "markdown",
   "id": "6f3c0f80",
   "metadata": {},
   "source": [
    "## 1.13. Сортировка списка словарей по общему ключу"
   ]
  },
  {
   "cell_type": "code",
   "execution_count": 87,
   "id": "adfadc39",
   "metadata": {},
   "outputs": [],
   "source": [
    "rows = [\n",
    " {'fname': 'Brian', 'lname': 'Jones', 'uid': 1003},\n",
    " {'fname': 'David', 'lname': 'Beazley', 'uid': 1002},\n",
    " {'fname': 'John', 'lname': 'Cleese', 'uid': 1001},\n",
    " {'fname': 'Big', 'lname': 'Jones', 'uid': 1004}\n",
    "]"
   ]
  },
  {
   "cell_type": "code",
   "execution_count": 111,
   "id": "4069ee96",
   "metadata": {},
   "outputs": [
    {
     "name": "stdout",
     "output_type": "stream",
     "text": [
      "[{'fname': 'Big', 'lname': 'Jones', 'uid': 1004},\n",
      " {'fname': 'Brian', 'lname': 'Jones', 'uid': 1003},\n",
      " {'fname': 'David', 'lname': 'Beazley', 'uid': 1002},\n",
      " {'fname': 'John', 'lname': 'Cleese', 'uid': 1001}]\n",
      "[{'fname': 'John', 'lname': 'Cleese', 'uid': 1001},\n",
      " {'fname': 'David', 'lname': 'Beazley', 'uid': 1002},\n",
      " {'fname': 'Brian', 'lname': 'Jones', 'uid': 1003},\n",
      " {'fname': 'Big', 'lname': 'Jones', 'uid': 1004}]\n",
      "[{'fname': 'Big', 'lname': 'Jones', 'uid': 1004},\n",
      " {'fname': 'Brian', 'lname': 'Jones', 'uid': 1003},\n",
      " {'fname': 'David', 'lname': 'Beazley', 'uid': 1002},\n",
      " {'fname': 'John', 'lname': 'Cleese', 'uid': 1001}]\n",
      "[{'fname': 'John', 'lname': 'Cleese', 'uid': 1001},\n",
      " {'fname': 'David', 'lname': 'Beazley', 'uid': 1002},\n",
      " {'fname': 'Brian', 'lname': 'Jones', 'uid': 1003},\n",
      " {'fname': 'Big', 'lname': 'Jones', 'uid': 1004}]\n",
      "[{'fname': 'David', 'lname': 'Beazley', 'uid': 1002},\n",
      " {'fname': 'John', 'lname': 'Cleese', 'uid': 1001},\n",
      " {'fname': 'Big', 'lname': 'Jones', 'uid': 1004},\n",
      " {'fname': 'Brian', 'lname': 'Jones', 'uid': 1003}]\n"
     ]
    }
   ],
   "source": [
    "from pprint import pprint\n",
    "\n",
    "from operator import itemgetter\n",
    "\n",
    "rows_by_fname = sorted(rows, key=itemgetter('fname'))\n",
    "rows_by_uid = sorted(rows, key=itemgetter('uid'))\n",
    "\n",
    "pprint(rows_by_fname)\n",
    "pprint(rows_by_uid)\n",
    "\n",
    "rows_t = sorted(rows, key=lambda d: d['fname'])\n",
    "rows_s = sorted(rows, key=lambda d: (d['uid'], d['lname']))\n",
    "\n",
    "pprint(rows_t)\n",
    "pprint(rows_s)\n",
    "\n",
    "rows_by_lfname = sorted(rows, key=itemgetter('lname', 'fname'))\n",
    "pprint(rows_by_lfname)"
   ]
  },
  {
   "cell_type": "code",
   "execution_count": 107,
   "id": "492bd49a",
   "metadata": {},
   "outputs": [
    {
     "data": {
      "text/plain": [
       "[[5, 6, 7], [1, 2, 3], [3, 4, 5]]"
      ]
     },
     "execution_count": 107,
     "metadata": {},
     "output_type": "execute_result"
    }
   ],
   "source": [
    "t = [\n",
    "    [1, 2, 3],\n",
    "    [3, 4, 5],\n",
    "    [5, 6, 7],\n",
    "]\n",
    "\n",
    "rows_r = sorted(t, key=lambda t: 7 in t, reverse=True)\n",
    "rows_r"
   ]
  },
  {
   "cell_type": "code",
   "execution_count": 114,
   "id": "a7a9fbc5",
   "metadata": {},
   "outputs": [
    {
     "name": "stdout",
     "output_type": "stream",
     "text": [
      "{'fname': 'John', 'lname': 'Cleese', 'uid': 1001}\n",
      "{'fname': 'Big', 'lname': 'Jones', 'uid': 1004}\n"
     ]
    }
   ],
   "source": [
    "print(min(rows, key=itemgetter('uid')))\n",
    "print(max(rows, key=itemgetter('uid')))"
   ]
  },
  {
   "cell_type": "markdown",
   "id": "00f452bf",
   "metadata": {},
   "source": [
    "## 1.14. Сортировка объектов, не поддерживающих\n",
    "## сравнение"
   ]
  },
  {
   "cell_type": "code",
   "execution_count": 116,
   "id": "34d0df56",
   "metadata": {},
   "outputs": [
    {
     "name": "stdout",
     "output_type": "stream",
     "text": [
      "[User(23), User(3), User(99)]\n"
     ]
    },
    {
     "data": {
      "text/plain": [
       "[User(3), User(23), User(99)]"
      ]
     },
     "execution_count": 116,
     "metadata": {},
     "output_type": "execute_result"
    }
   ],
   "source": [
    "class User:\n",
    "    def __init__(self, user_id):\n",
    "        self.user_id = user_id\n",
    "        \n",
    "    def __repr__(self):\n",
    "        return 'User({})'.format(self.user_id)\n",
    "    \n",
    "users = [User(23), User(3), User(99)]\n",
    "print(users)\n",
    "sorted(users, key=lambda u: u.user_id)\n"
   ]
  },
  {
   "cell_type": "code",
   "execution_count": 117,
   "id": "2914fd4d",
   "metadata": {},
   "outputs": [
    {
     "data": {
      "text/plain": [
       "[User(3), User(23), User(99)]"
      ]
     },
     "execution_count": 117,
     "metadata": {},
     "output_type": "execute_result"
    }
   ],
   "source": [
    "from operator import attrgetter\n",
    "\n",
    "sorted(users, key=attrgetter('user_id'))"
   ]
  },
  {
   "cell_type": "code",
   "execution_count": 119,
   "id": "657ebe48",
   "metadata": {},
   "outputs": [
    {
     "name": "stdout",
     "output_type": "stream",
     "text": [
      "User(3)\n",
      "User(99)\n"
     ]
    }
   ],
   "source": [
    "print(min(users, key=attrgetter('user_id')))\n",
    "print(max(users, key=attrgetter('user_id')))"
   ]
  },
  {
   "cell_type": "markdown",
   "id": "929f1d02",
   "metadata": {},
   "source": [
    "## 1.15. Группирование записей на основе полей"
   ]
  },
  {
   "cell_type": "code",
   "execution_count": 120,
   "id": "676cd7e1",
   "metadata": {},
   "outputs": [],
   "source": [
    "rows = [\n",
    " {'address': '5412 N CLARK', 'date': '07/01/2012'},\n",
    " {'address': '5148 N CLARK', 'date': '07/04/2012'},\n",
    " {'address': '5800 E 58TH', 'date': '07/02/2012'},\n",
    " {'address': '2122 N CLARK', 'date': '07/03/2012'},\n",
    " {'address': '5645 N RAVENSWOOD', 'date': '07/02/2012'},\n",
    " {'address': '1060 W ADDISON', 'date': '07/02/2012'},\n",
    " {'address': '4801 N BROADWAY', 'date': '07/01/2012'},\n",
    " {'address': '1039 W GRANVILLE', 'date': '07/04/2012'},\n",
    "]\n"
   ]
  },
  {
   "cell_type": "code",
   "execution_count": 121,
   "id": "58afff89",
   "metadata": {},
   "outputs": [
    {
     "name": "stdout",
     "output_type": "stream",
     "text": [
      "07/01/2012\n",
      "  {'address': '5412 N CLARK', 'date': '07/01/2012'}\n",
      "  {'address': '4801 N BROADWAY', 'date': '07/01/2012'}\n",
      "07/02/2012\n",
      "  {'address': '5800 E 58TH', 'date': '07/02/2012'}\n",
      "  {'address': '5645 N RAVENSWOOD', 'date': '07/02/2012'}\n",
      "  {'address': '1060 W ADDISON', 'date': '07/02/2012'}\n",
      "07/03/2012\n",
      "  {'address': '2122 N CLARK', 'date': '07/03/2012'}\n",
      "07/04/2012\n",
      "  {'address': '5148 N CLARK', 'date': '07/04/2012'}\n",
      "  {'address': '1039 W GRANVILLE', 'date': '07/04/2012'}\n"
     ]
    }
   ],
   "source": [
    "from operator import itemgetter\n",
    "from itertools import groupby\n",
    "\n",
    "rows.sort(key=itemgetter('date'))\n",
    "\n",
    "for date, items in groupby(rows, key=itemgetter('date')):\n",
    "    print(date)\n",
    "    for i in items:\n",
    "        print(' ', i)"
   ]
  },
  {
   "cell_type": "code",
   "execution_count": 124,
   "id": "2dc60c08",
   "metadata": {},
   "outputs": [
    {
     "name": "stdout",
     "output_type": "stream",
     "text": [
      "{'address': '5800 E 58TH', 'date': '07/02/2012'}\n",
      "{'address': '5645 N RAVENSWOOD', 'date': '07/02/2012'}\n",
      "{'address': '1060 W ADDISON', 'date': '07/02/2012'}\n"
     ]
    }
   ],
   "source": [
    "from collections import defaultdict\n",
    "\n",
    "rows_by_date = defaultdict(list)\n",
    "\n",
    "for row in rows:\n",
    "    rows_by_date[row['date']].append(row)\n",
    "    \n",
    "# rows_by_date\n",
    "for r in rows_by_date['07/02/2012']:\n",
    "    print(r)"
   ]
  },
  {
   "cell_type": "code",
   "execution_count": 137,
   "id": "660ac976",
   "metadata": {},
   "outputs": [
    {
     "name": "stdout",
     "output_type": "stream",
     "text": [
      "{'address': '5412 N CLARK', 'date': '07/01/2012'}\n",
      "{'address': '4801 N BROADWAY', 'date': '07/01/2012'}\n"
     ]
    }
   ],
   "source": [
    "rows.sort(key=itemgetter('date'))\n",
    "\n",
    "for d, item in groupby(rows, key=itemgetter('date')):\n",
    "    for i in item:\n",
    "        if d == '07/01/2012':\n",
    "            print(i)"
   ]
  },
  {
   "cell_type": "markdown",
   "id": "7705daa0",
   "metadata": {},
   "source": [
    "## 1.16. Фильтрование элементов последовательности"
   ]
  },
  {
   "cell_type": "code",
   "execution_count": 138,
   "id": "c0dde3d5",
   "metadata": {},
   "outputs": [
    {
     "data": {
      "text/plain": [
       "[1, 4, 10, 2, 3]"
      ]
     },
     "execution_count": 138,
     "metadata": {},
     "output_type": "execute_result"
    }
   ],
   "source": [
    "mylist = [1, 4, -5, 10, -7, 2, 3, -1]\n",
    "[n for n in mylist if n > 0]"
   ]
  },
  {
   "cell_type": "code",
   "execution_count": 139,
   "id": "b5cfa6bd",
   "metadata": {},
   "outputs": [
    {
     "name": "stdout",
     "output_type": "stream",
     "text": [
      "['1', '2', '-3', '4', '5']\n"
     ]
    }
   ],
   "source": [
    "values = ['1', '2', '-3', '-', '4', 'N/A', '5']\n",
    "\n",
    "def is_int(val):\n",
    "    try:\n",
    "        x = int(val)\n",
    "        return True\n",
    "    except ValueError:\n",
    "        return False\n",
    "    \n",
    "ivals = list(filter(is_int, values))\n",
    "print(ivals)"
   ]
  },
  {
   "cell_type": "code",
   "execution_count": 140,
   "id": "c537a002",
   "metadata": {},
   "outputs": [
    {
     "data": {
      "text/plain": [
       "[1.0, 2.0, 3.1622776601683795, 1.4142135623730951, 1.7320508075688772]"
      ]
     },
     "execution_count": 140,
     "metadata": {},
     "output_type": "execute_result"
    }
   ],
   "source": [
    "mylist = [1, 4, -5, 10, -7, 2, 3, -1]\n",
    "import math\n",
    "[math.sqrt(n) for n in mylist if n > 0]"
   ]
  },
  {
   "cell_type": "code",
   "execution_count": 141,
   "id": "37801ed6",
   "metadata": {},
   "outputs": [
    {
     "data": {
      "text/plain": [
       "[1, 4, 0, 10, 0, 2, 3, 0]"
      ]
     },
     "execution_count": 141,
     "metadata": {},
     "output_type": "execute_result"
    }
   ],
   "source": [
    "clip_neg = [n if n > 0 else 0 for n in mylist]\n",
    "clip_neg\n"
   ]
  },
  {
   "cell_type": "code",
   "execution_count": 142,
   "id": "1640213c",
   "metadata": {},
   "outputs": [
    {
     "data": {
      "text/plain": [
       "[0, 0, -5, 0, -7, 0, 0, -1]"
      ]
     },
     "execution_count": 142,
     "metadata": {},
     "output_type": "execute_result"
    }
   ],
   "source": [
    "clip_pos = [n if n < 0 else 0 for n in mylist]\n",
    "clip_pos"
   ]
  },
  {
   "cell_type": "code",
   "execution_count": 143,
   "id": "4ada4267",
   "metadata": {},
   "outputs": [],
   "source": [
    "addresses = [\n",
    " '5412 N CLARK',\n",
    " '5148 N CLARK',\n",
    " '5800 E 58TH',\n",
    " '2122 N CLARK',\n",
    " '5645 N RAVENSWOOD',\n",
    " '1060 W ADDISON',\n",
    " '4801 N BROADWAY',\n",
    " '1039 W GRANVILLE',\n",
    "]\n",
    "\n",
    "counts = [ 0, 3, 10, 4, 1, 7, 6, 1]"
   ]
  },
  {
   "cell_type": "code",
   "execution_count": 145,
   "id": "12911b5a",
   "metadata": {},
   "outputs": [
    {
     "name": "stdout",
     "output_type": "stream",
     "text": [
      "[False, False, True, False, False, True, True, False]\n"
     ]
    },
    {
     "data": {
      "text/plain": [
       "['5800 E 58TH', '1060 W ADDISON', '4801 N BROADWAY']"
      ]
     },
     "execution_count": 145,
     "metadata": {},
     "output_type": "execute_result"
    }
   ],
   "source": [
    "from itertools import compress\n",
    "\n",
    "more5 = [n > 5 for n in counts]\n",
    "print(more5)\n",
    "list(compress(addresses, more5))"
   ]
  },
  {
   "cell_type": "markdown",
   "id": "855c1144",
   "metadata": {},
   "source": [
    "## 1.17. Извлечение подмножества из словаря"
   ]
  },
  {
   "cell_type": "code",
   "execution_count": 146,
   "id": "14f3052b",
   "metadata": {},
   "outputs": [],
   "source": [
    "prices = {\n",
    " 'ACME': 45.23,\n",
    " 'AAPL': 612.78,\n",
    " 'IBM': 205.55,\n",
    " 'HPQ': 37.20,\n",
    " 'FB': 10.75\n",
    "}"
   ]
  },
  {
   "cell_type": "code",
   "execution_count": 158,
   "id": "00e41fce",
   "metadata": {},
   "outputs": [
    {
     "name": "stdout",
     "output_type": "stream",
     "text": [
      "513 ns ± 8.83 ns per loop (mean ± std. dev. of 7 runs, 1,000,000 loops each)\n",
      "{'AAPL': 612.78, 'IBM': 205.55}\n"
     ]
    }
   ],
   "source": [
    "\n",
    "# Создать словарь всех акций с ценами больше 200\n",
    "\n",
    "%timeit p1 = { key:value for key, value in prices.items() if value > 200}\n",
    "print(p1)\n",
    "\n",
    "# с помощью функции dict()\n",
    "%timeit\n",
    "p1 = dict((key, value) for key, value in prices.items() if value > 200)"
   ]
  },
  {
   "cell_type": "code",
   "execution_count": 150,
   "id": "0c91abea",
   "metadata": {},
   "outputs": [
    {
     "name": "stdout",
     "output_type": "stream",
     "text": [
      "{'AAPL': 612.78, 'IBM': 205.55, 'HPQ': 37.2}\n"
     ]
    }
   ],
   "source": [
    "# Создать словарь акций всех технологических компаний\n",
    "tech_names = { 'AAPL', 'IBM', 'HPQ', 'MSFT' }\n",
    "\n",
    "p2 = { key:value for key, value in prices.items() if key in tech_names}\n",
    "print(p2)\n"
   ]
  },
  {
   "cell_type": "markdown",
   "id": "c49ae9d6",
   "metadata": {},
   "source": [
    "## 1.18. Отображение имен на последовательность элементов"
   ]
  },
  {
   "cell_type": "code",
   "execution_count": 162,
   "id": "4c07b2f4",
   "metadata": {},
   "outputs": [
    {
     "name": "stdout",
     "output_type": "stream",
     "text": [
      "Subscriber(addr='jonesy@example.com', joined='2012-10-19')\n",
      "jonesy@example.com\n",
      "2012-10-19\n"
     ]
    },
    {
     "data": {
      "text/plain": [
       "2"
      ]
     },
     "execution_count": 162,
     "metadata": {},
     "output_type": "execute_result"
    }
   ],
   "source": [
    "from collections import namedtuple\n",
    "\n",
    "Subscriber = namedtuple('Subscriber', ['addr', 'joined'])\n",
    "sub = Subscriber('jonesy@example.com', '2012-10-19')\n",
    "print(sub)\n",
    "print(sub.addr)\n",
    "print(sub.joined)\n",
    "len(sub)"
   ]
  },
  {
   "cell_type": "code",
   "execution_count": 163,
   "id": "d1e877a0",
   "metadata": {},
   "outputs": [],
   "source": [
    "def compute_cost(records):\n",
    "    total = 0.0\n",
    "    for rec in records:\n",
    "        total += rec[1] * rec[2]\n",
    "    return total\n",
    "\n",
    "# версия с именованным кортежем\n",
    "\n",
    "from collections import namedtuple\n",
    "\n",
    "Stock = namedtuple('Stock', ['name', 'shares', 'price'])\n",
    "def compute_cost(records):\n",
    "    total = 0.0\n",
    "    for rec in records:\n",
    "        s = Stock(*rec)\n",
    "        total += s.shares * s.price\n",
    "    return total"
   ]
  },
  {
   "cell_type": "code",
   "execution_count": 168,
   "id": "8f6b3a0a",
   "metadata": {},
   "outputs": [
    {
     "data": {
      "text/plain": [
       "Stock(name='ACME', shares=75, price=123.45)"
      ]
     },
     "execution_count": 168,
     "metadata": {},
     "output_type": "execute_result"
    }
   ],
   "source": [
    "s = Stock('ACME', 100, 123.45)\n",
    "s = s._replace(shares=75)\n",
    "s"
   ]
  },
  {
   "cell_type": "code",
   "execution_count": 169,
   "id": "a96eee4a",
   "metadata": {},
   "outputs": [
    {
     "data": {
      "text/plain": [
       "Stock(name='ACME', shares=100, price=123.45, date=None, time=None)"
      ]
     },
     "execution_count": 169,
     "metadata": {},
     "output_type": "execute_result"
    }
   ],
   "source": [
    "Stock = namedtuple('Stock', ['name', 'shares', 'price', 'date', 'time',])\n",
    "\n",
    "stock_prototype = Stock('', 0, 0.0, None, None)\n",
    "\n",
    "def dict_to_stock(s):\n",
    "    return stock_prototype._replace(**s)\n",
    "\n",
    "a = {'name': 'ACME', 'shares':100, 'price': 123.45}\n",
    "dict_to_stock(a)"
   ]
  },
  {
   "cell_type": "code",
   "execution_count": 171,
   "id": "06f7b9c8",
   "metadata": {},
   "outputs": [
    {
     "data": {
      "text/plain": [
       "Hui(cm=7.6, толщина=1.1, наличие=True)"
      ]
     },
     "execution_count": 171,
     "metadata": {},
     "output_type": "execute_result"
    }
   ],
   "source": [
    "Hui = namedtuple('Hui', ['cm', 'толщина', 'наличие'])\n",
    "\n",
    "hui_prototype = Hui(0.0, 0.0, False)\n",
    "\n",
    "def organ_to_hui(organ):\n",
    "    return hui_prototype._replace(**organ)\n",
    "\n",
    "a = {'cm': 7.6, 'толщина': 1.1, 'наличие': True}\n",
    "\n",
    "organ_to_hui(a)"
   ]
  },
  {
   "cell_type": "code",
   "execution_count": 172,
   "id": "dbe0ad6c",
   "metadata": {},
   "outputs": [
    {
     "data": {
      "text/plain": [
       "Stock(name='ACME', shares=100, price=123.45, date='12/17/2012', time=None)"
      ]
     },
     "execution_count": 172,
     "metadata": {},
     "output_type": "execute_result"
    }
   ],
   "source": [
    "b = {'name': 'ACME', 'shares': 100, 'price': 123.45, 'date': '12/17/2012'}\n",
    "dict_to_stock(b)"
   ]
  },
  {
   "cell_type": "markdown",
   "id": "365aef1e",
   "metadata": {},
   "source": [
    "## 1.19. Одновременное преобразование и сокращение\n",
    " ## (свертка) данных"
   ]
  },
  {
   "cell_type": "code",
   "execution_count": 174,
   "id": "1cc47175",
   "metadata": {},
   "outputs": [
    {
     "data": {
      "text/plain": [
       "55"
      ]
     },
     "execution_count": 174,
     "metadata": {},
     "output_type": "execute_result"
    }
   ],
   "source": [
    "nums = [1, 2, 3, 4, 5]\n",
    "\n",
    "s = sum(x*x for x in nums)\n",
    "s"
   ]
  },
  {
   "cell_type": "code",
   "execution_count": 178,
   "id": "762f4bcc",
   "metadata": {},
   "outputs": [
    {
     "name": "stdout",
     "output_type": "stream",
     "text": [
      "ACME,50,123.45\n"
     ]
    }
   ],
   "source": [
    "s = ('ACME', 50, 123.45)\n",
    "print(','.join(str(x) for x in s))"
   ]
  },
  {
   "cell_type": "code",
   "execution_count": 180,
   "id": "d2709fec",
   "metadata": {},
   "outputs": [
    {
     "name": "stdout",
     "output_type": "stream",
     "text": [
      "20\n"
     ]
    }
   ],
   "source": [
    "portfolio = [\n",
    " {'name':'GOOG', 'shares': 50},\n",
    " {'name':'YHOO', 'shares': 75},\n",
    " {'name':'AOL', 'shares': 20},\n",
    " {'name':'SCOX', 'shares': 65}\n",
    "]\n",
    "\n",
    "min_shares = min(s['shares'] for s in portfolio)\n",
    "print(min_shares)"
   ]
  },
  {
   "cell_type": "code",
   "execution_count": 184,
   "id": "331721b5",
   "metadata": {},
   "outputs": [
    {
     "data": {
      "text/plain": [
       "{'name': 'AOL', 'shares': 20}"
      ]
     },
     "execution_count": 184,
     "metadata": {},
     "output_type": "execute_result"
    }
   ],
   "source": [
    "min_shares = min(s['shares'] for s in portfolio)\n",
    "min_shares = min(portfolio, key=lambda s: s['shares'])\n",
    "min_shares"
   ]
  },
  {
   "cell_type": "markdown",
   "id": "bdd9ebf0",
   "metadata": {},
   "source": [
    "## 1.20. Объединение нескольких отображений в одно"
   ]
  },
  {
   "cell_type": "code",
   "execution_count": 190,
   "id": "9764c5bc",
   "metadata": {},
   "outputs": [
    {
     "name": "stdout",
     "output_type": "stream",
     "text": [
      "1\n",
      "2\n",
      "3\n"
     ]
    },
    {
     "ename": "KeyError",
     "evalue": "\"Key not found in the first mapping: 'y'\"",
     "output_type": "error",
     "traceback": [
      "\u001b[0;31m---------------------------------------------------------------------------\u001b[0m",
      "\u001b[0;31mKeyError\u001b[0m                                  Traceback (most recent call last)",
      "File \u001b[0;32m/usr/lib/python3.10/collections/__init__.py:1042\u001b[0m, in \u001b[0;36mChainMap.__delitem__\u001b[0;34m(self, key)\u001b[0m\n\u001b[1;32m   1041\u001b[0m \u001b[38;5;28;01mtry\u001b[39;00m:\n\u001b[0;32m-> 1042\u001b[0m     \u001b[38;5;28;01mdel\u001b[39;00m \u001b[38;5;28mself\u001b[39m\u001b[38;5;241m.\u001b[39mmaps[\u001b[38;5;241m0\u001b[39m][key]\n\u001b[1;32m   1043\u001b[0m \u001b[38;5;28;01mexcept\u001b[39;00m \u001b[38;5;167;01mKeyError\u001b[39;00m:\n",
      "\u001b[0;31mKeyError\u001b[0m: 'y'",
      "\nDuring handling of the above exception, another exception occurred:\n",
      "\u001b[0;31mKeyError\u001b[0m                                  Traceback (most recent call last)",
      "Cell \u001b[0;32mIn[190], line 13\u001b[0m\n\u001b[1;32m     11\u001b[0m c[\u001b[38;5;124m'\u001b[39m\u001b[38;5;124mw\u001b[39m\u001b[38;5;124m'\u001b[39m] \u001b[38;5;241m=\u001b[39m \u001b[38;5;241m40\u001b[39m\n\u001b[1;32m     12\u001b[0m \u001b[38;5;28;01mdel\u001b[39;00m c[\u001b[38;5;124m'\u001b[39m\u001b[38;5;124mx\u001b[39m\u001b[38;5;124m'\u001b[39m]\n\u001b[0;32m---> 13\u001b[0m \u001b[38;5;28;01mdel\u001b[39;00m c[\u001b[38;5;124m'\u001b[39m\u001b[38;5;124my\u001b[39m\u001b[38;5;124m'\u001b[39m]\n",
      "File \u001b[0;32m/usr/lib/python3.10/collections/__init__.py:1044\u001b[0m, in \u001b[0;36mChainMap.__delitem__\u001b[0;34m(self, key)\u001b[0m\n\u001b[1;32m   1042\u001b[0m     \u001b[38;5;28;01mdel\u001b[39;00m \u001b[38;5;28mself\u001b[39m\u001b[38;5;241m.\u001b[39mmaps[\u001b[38;5;241m0\u001b[39m][key]\n\u001b[1;32m   1043\u001b[0m \u001b[38;5;28;01mexcept\u001b[39;00m \u001b[38;5;167;01mKeyError\u001b[39;00m:\n\u001b[0;32m-> 1044\u001b[0m     \u001b[38;5;28;01mraise\u001b[39;00m \u001b[38;5;167;01mKeyError\u001b[39;00m(\u001b[38;5;124mf\u001b[39m\u001b[38;5;124m'\u001b[39m\u001b[38;5;124mKey not found in the first mapping: \u001b[39m\u001b[38;5;132;01m{\u001b[39;00mkey\u001b[38;5;132;01m!r}\u001b[39;00m\u001b[38;5;124m'\u001b[39m)\n",
      "\u001b[0;31mKeyError\u001b[0m: \"Key not found in the first mapping: 'y'\""
     ]
    }
   ],
   "source": [
    "a = {'x': 1, 'z': 3 }\n",
    "b = {'y': 2, 'z': 4 }\n",
    "\n",
    "from collections import ChainMap\n",
    "c = ChainMap(a, b)\n",
    "print(c['x'])\n",
    "print(c['y'])\n",
    "print(c['z'])\n",
    "\n",
    "c['z'] = 10\n",
    "c['w'] = 40\n",
    "del c['x']\n",
    "del c['y']"
   ]
  },
  {
   "cell_type": "code",
   "execution_count": 196,
   "id": "522804c1",
   "metadata": {},
   "outputs": [
    {
     "name": "stdout",
     "output_type": "stream",
     "text": [
      "2\n",
      "1\n"
     ]
    },
    {
     "data": {
      "text/plain": [
       "ChainMap({'x': 1})"
      ]
     },
     "execution_count": 196,
     "metadata": {},
     "output_type": "execute_result"
    }
   ],
   "source": [
    "values = ChainMap()\n",
    "values['x'] = 1\n",
    "values = values.new_child()\n",
    "values['x'] = 2\n",
    "values = values.new_child()\n",
    "values['x'] = 3\n",
    "values = values.parents\n",
    "print(values['x'])\n",
    "values = values.parents\n",
    "print(values['x'])\n",
    "values"
   ]
  },
  {
   "cell_type": "code",
   "execution_count": 199,
   "id": "78d417f4",
   "metadata": {},
   "outputs": [
    {
     "data": {
      "text/plain": [
       "3"
      ]
     },
     "execution_count": 199,
     "metadata": {},
     "output_type": "execute_result"
    }
   ],
   "source": [
    "a = {'x': 1, 'z': 3}\n",
    "b = {'y': 2, 'z': 4}\n",
    "\n",
    "merged = dict(b)\n",
    "\n",
    "merged.update(a)\n",
    "merged['x']\n",
    "merged['y']\n",
    "merged['z']"
   ]
  },
  {
   "cell_type": "code",
   "execution_count": 201,
   "id": "fa9256b4",
   "metadata": {},
   "outputs": [
    {
     "data": {
      "text/plain": [
       "42"
      ]
     },
     "execution_count": 201,
     "metadata": {},
     "output_type": "execute_result"
    }
   ],
   "source": [
    "merged = ChainMap(a, b)\n",
    "merged['x']\n",
    "\n",
    "a['x'] = 42\n",
    "merged['x']"
   ]
  },
  {
   "cell_type": "code",
   "execution_count": null,
   "id": "4cfb7457",
   "metadata": {},
   "outputs": [],
   "source": []
  },
  {
   "cell_type": "code",
   "execution_count": null,
   "id": "438d595f",
   "metadata": {},
   "outputs": [],
   "source": []
  },
  {
   "cell_type": "code",
   "execution_count": null,
   "id": "ce414df5",
   "metadata": {},
   "outputs": [],
   "source": []
  },
  {
   "cell_type": "code",
   "execution_count": null,
   "id": "77ccc3c7",
   "metadata": {},
   "outputs": [],
   "source": []
  },
  {
   "cell_type": "code",
   "execution_count": null,
   "id": "2f62c463",
   "metadata": {},
   "outputs": [],
   "source": []
  },
  {
   "cell_type": "code",
   "execution_count": null,
   "id": "fd17cadb",
   "metadata": {},
   "outputs": [],
   "source": []
  }
 ],
 "metadata": {
  "kernelspec": {
   "display_name": "Python 3 (ipykernel)",
   "language": "python",
   "name": "python3"
  },
  "language_info": {
   "codemirror_mode": {
    "name": "ipython",
    "version": 3
   },
   "file_extension": ".py",
   "mimetype": "text/x-python",
   "name": "python",
   "nbconvert_exporter": "python",
   "pygments_lexer": "ipython3",
   "version": "3.10.10"
  }
 },
 "nbformat": 4,
 "nbformat_minor": 5
}
