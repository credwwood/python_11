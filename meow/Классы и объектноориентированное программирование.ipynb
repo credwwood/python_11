{
 "cells": [
  {
   "cell_type": "markdown",
   "id": "5b4c0b86",
   "metadata": {},
   "source": [
    "**7.1. ОБЪЕКТЫ**"
   ]
  },
  {
   "cell_type": "code",
   "execution_count": null,
   "id": "c9cd4262",
   "metadata": {},
   "outputs": [],
   "source": []
  },
  {
   "cell_type": "markdown",
   "id": "548c95df",
   "metadata": {},
   "source": [
    "**7.2. КОМАНДА CLASS**"
   ]
  },
  {
   "cell_type": "markdown",
   "id": "d2f7d2af",
   "metadata": {},
   "source": [
    ">Определение класса может включать строку документации и аннотации\n",
    "типов:"
   ]
  },
  {
   "cell_type": "code",
   "execution_count": 3,
   "id": "0a06c81f",
   "metadata": {},
   "outputs": [],
   "source": [
    "class Account:\n",
    "    \"\"\"\n",
    "    Простой банковский счет.\n",
    "    \"\"\"\n",
    "    owner: str\n",
    "    balance: float\n",
    "    def __init__(self, owner, balance):\n",
    "        self.owner = owner\n",
    "        self.balance = balance\n",
    "        \n",
    "    def __repr__(self):\n",
    "        return f'Account({self.owner!r}, {self.balance!r})'\n",
    "    \n",
    "    def deposit(self, amount):\n",
    "        self.balance += amount\n",
    "    \n",
    "    def withdraw(self, amount):\n",
    "        self.balance -= amount\n",
    "    \n",
    "    def inquiry(self):\n",
    "        return self.balance"
   ]
  },
  {
   "cell_type": "markdown",
   "id": "3f2dc901",
   "metadata": {},
   "source": [
    "**7.3. ЭКЗЕМПЛЯРЫ**"
   ]
  },
  {
   "cell_type": "code",
   "execution_count": 5,
   "id": "abd11b6a",
   "metadata": {},
   "outputs": [],
   "source": [
    "a = Account('Guido', 1000.0)\n",
    "# Вызывает Account.__init__(a, 'Guido', 1000.0)\n",
    "\n",
    "b = Account('Eva', 10.0)\n",
    "# Вызывает Account.__init__(b, 'Eva', 10.0)\n",
    "\n",
    "a.deposit(100.0)\n",
    "b.withdraw(50.00)\n",
    "owner = a.owner\n",
    "\n"
   ]
  },
  {
   "cell_type": "markdown",
   "id": "af9f1a94",
   "metadata": {},
   "source": [
    ">Важно, что у каждого экземпляра свое состояние. Для просмотра переменных\n",
    "экземпляров используется функция vars()(МЕТОДЫ ТУДА НЕ ВКЛЮЧЕНЫ):"
   ]
  },
  {
   "cell_type": "code",
   "execution_count": 6,
   "id": "11141c6c",
   "metadata": {},
   "outputs": [
    {
     "name": "stdout",
     "output_type": "stream",
     "text": [
      "{'owner': 'Guido', 'balance': 1100.0}\n",
      "{'owner': 'Eva', 'balance': -40.0}\n"
     ]
    }
   ],
   "source": [
    "print(vars(a))\n",
    "print(vars(b))"
   ]
  },
  {
   "cell_type": "markdown",
   "id": "7fe9cb0b",
   "metadata": {},
   "source": [
    ">Обратите внимание, что методы в список не включены. Они существуют\n",
    "на уровне класса. Каждый экземпляр содержит ссылку на свой класс, \n",
    "представленный его типом:"
   ]
  },
  {
   "cell_type": "code",
   "execution_count": 8,
   "id": "0829521e",
   "metadata": {},
   "outputs": [
    {
     "name": "stdout",
     "output_type": "stream",
     "text": [
      "<class '__main__.Account'>\n",
      "<class '__main__.Account'>\n",
      "<function Account.deposit at 0x7efe4dd77ce0>\n",
      "<function Account.inquiry at 0x7efe4dd77b00>\n"
     ]
    }
   ],
   "source": [
    "print(type(a))\n",
    "print(type(b))\n",
    "print(type(a).deposit)\n",
    "print(type(a).inquiry)"
   ]
  },
  {
   "cell_type": "markdown",
   "id": "0ac318ba",
   "metadata": {},
   "source": [
    "**7.4. ОБРАЩЕНИЕ К АТРИБУТАМ**"
   ]
  },
  {
   "cell_type": "markdown",
   "id": "b7e778b0",
   "metadata": {},
   "source": [
    ">С атрибутами экземпляров выполняются три основные операции: чтение,\n",
    "запись и удаление:"
   ]
  },
  {
   "cell_type": "code",
   "execution_count": 10,
   "id": "496666a1",
   "metadata": {},
   "outputs": [
    {
     "ename": "AttributeError",
     "evalue": "'Account' object has no attribute 'balance'",
     "output_type": "error",
     "traceback": [
      "\u001b[0;31m---------------------------------------------------------------------------\u001b[0m",
      "\u001b[0;31mAttributeError\u001b[0m                            Traceback (most recent call last)",
      "Cell \u001b[0;32mIn[10], line 5\u001b[0m\n\u001b[1;32m      3\u001b[0m a\u001b[38;5;241m.\u001b[39mbalance \u001b[38;5;241m=\u001b[39m \u001b[38;5;241m750.0\u001b[39m \u001b[38;5;66;03m# Запись\u001b[39;00m\n\u001b[1;32m      4\u001b[0m \u001b[38;5;28;01mdel\u001b[39;00m a\u001b[38;5;241m.\u001b[39mbalance \u001b[38;5;66;03m# Удаление\u001b[39;00m\n\u001b[0;32m----> 5\u001b[0m \u001b[43ma\u001b[49m\u001b[38;5;241;43m.\u001b[39;49m\u001b[43mbalance\u001b[49m\n",
      "\u001b[0;31mAttributeError\u001b[0m: 'Account' object has no attribute 'balance'"
     ]
    }
   ],
   "source": [
    "a = Account('Guido', 1000.0)\n",
    "a.owner # Чтение\n",
    "a.balance = 750.0 # Запись\n",
    "del a.balance # Удаление\n",
    "a.balance"
   ]
  },
  {
   "cell_type": "markdown",
   "id": "61693bb2",
   "metadata": {},
   "source": [
    ">Почти все аспекты Python — динамические процессы с минимальными\n",
    "ограничениями. Ничто не помешает вам добавить новый атрибут к объекту\n",
    "после его создания:"
   ]
  },
  {
   "cell_type": "code",
   "execution_count": 11,
   "id": "b1d76be7",
   "metadata": {},
   "outputs": [
    {
     "data": {
      "text/plain": [
       "'2019-02-14'"
      ]
     },
     "execution_count": 11,
     "metadata": {},
     "output_type": "execute_result"
    }
   ],
   "source": [
    "a = Account('Guido', 1000.0)\n",
    "a.creation_date = '2019-02-14'\n",
    "a.nickname = 'Former BDFL'\n",
    "a.creation_date"
   ]
  },
  {
   "cell_type": "markdown",
   "id": "31df01f2",
   "metadata": {},
   "source": [
    ">Вместо выполнения этих операций оператором «точка» (.) можно передать\n",
    "имя атрибута в строковом виде функциям getattr(), setattr() и delattr().\n",
    "Функция hasattr() проверяет наличие атрибута:"
   ]
  },
  {
   "cell_type": "code",
   "execution_count": 15,
   "id": "69ea4d6d",
   "metadata": {},
   "outputs": [
    {
     "name": "stdout",
     "output_type": "stream",
     "text": [
      "Guido\n"
     ]
    },
    {
     "ename": "AttributeError",
     "evalue": "'Account' object has no attribute 'balance'",
     "output_type": "error",
     "traceback": [
      "\u001b[0;31m---------------------------------------------------------------------------\u001b[0m",
      "\u001b[0;31mAttributeError\u001b[0m                            Traceback (most recent call last)",
      "Cell \u001b[0;32mIn[15], line 6\u001b[0m\n\u001b[1;32m      4\u001b[0m \u001b[38;5;28mdelattr\u001b[39m(a, \u001b[38;5;124m'\u001b[39m\u001b[38;5;124mbalance\u001b[39m\u001b[38;5;124m'\u001b[39m)\n\u001b[1;32m      5\u001b[0m \u001b[38;5;28mhasattr\u001b[39m(a, \u001b[38;5;124m'\u001b[39m\u001b[38;5;124mbalance\u001b[39m\u001b[38;5;124m'\u001b[39m)\n\u001b[0;32m----> 6\u001b[0m \u001b[38;5;28;43mgetattr\u001b[39;49m\u001b[43m(\u001b[49m\u001b[43ma\u001b[49m\u001b[43m,\u001b[49m\u001b[43m \u001b[49m\u001b[38;5;124;43m'\u001b[39;49m\u001b[38;5;124;43mwithdraw\u001b[39;49m\u001b[38;5;124;43m'\u001b[39;49m\u001b[43m)\u001b[49m\u001b[43m(\u001b[49m\u001b[38;5;241;43m100\u001b[39;49m\u001b[43m)\u001b[49m\n",
      "Cell \u001b[0;32mIn[3], line 18\u001b[0m, in \u001b[0;36mAccount.withdraw\u001b[0;34m(self, amount)\u001b[0m\n\u001b[1;32m     17\u001b[0m \u001b[38;5;28;01mdef\u001b[39;00m \u001b[38;5;21mwithdraw\u001b[39m(\u001b[38;5;28mself\u001b[39m, amount):\n\u001b[0;32m---> 18\u001b[0m     \u001b[38;5;28;43mself\u001b[39;49m\u001b[38;5;241;43m.\u001b[39;49m\u001b[43mbalance\u001b[49m \u001b[38;5;241m-\u001b[39m\u001b[38;5;241m=\u001b[39m amount\n",
      "\u001b[0;31mAttributeError\u001b[0m: 'Account' object has no attribute 'balance'"
     ]
    }
   ],
   "source": [
    "a = Account('Guido', 1000.0)\n",
    "print(getattr(a, 'owner'))\n",
    "setattr(a, 'balance', 750.0)\n",
    "delattr(a, 'balance')\n",
    "hasattr(a, 'balance')\n",
    "getattr(a, 'withdraw')(100)"
   ]
  },
  {
   "cell_type": "code",
   "execution_count": 17,
   "id": "0cd38406",
   "metadata": {},
   "outputs": [
    {
     "data": {
      "text/plain": [
       "'unknown'"
      ]
     },
     "execution_count": 17,
     "metadata": {},
     "output_type": "execute_result"
    }
   ],
   "source": [
    "a = Account('Guido', 1000.0)\n",
    "getattr(a, 'balance', 'unknown')\n",
    "getattr(a, 'creation_date', 'unknown')"
   ]
  },
  {
   "cell_type": "markdown",
   "id": "702edc94",
   "metadata": {},
   "source": [
    ">Обращаясь к методу как к атрибуту, вы получаете объект, называемый связанным методом:\n"
   ]
  },
  {
   "cell_type": "code",
   "execution_count": 20,
   "id": "34582642",
   "metadata": {},
   "outputs": [
    {
     "name": "stdout",
     "output_type": "stream",
     "text": [
      "<bound method Account.withdraw of Account('Guido', 900.0)>\n"
     ]
    }
   ],
   "source": [
    "a = Account('Guido', 1000.0)\n",
    "w = a.withdraw\n",
    "w(100)\n",
    "print(w)"
   ]
  },
  {
   "cell_type": "markdown",
   "id": "9b4e95bb",
   "metadata": {},
   "source": [
    ">Связанный метод — это объект, содержащий как экземпляр (self), так\n",
    "и функцию, реализующую метод. Когда вы вызываете связанный метод, добавляя круглые скобки и аргументы, он выполняет метод, передавая присоединенный экземпляр в качестве первого аргумента. Например, вызов w(100)\n",
    "преобразуется в Account.withdraw(a, 100)"
   ]
  },
  {
   "cell_type": "markdown",
   "id": "9fed74bf",
   "metadata": {},
   "source": [
    "**7.5. ПРАВИЛА МАСШТАБИРОВАНИЯ**"
   ]
  },
  {
   "cell_type": "markdown",
   "id": "556713c5",
   "metadata": {},
   "source": [
    ">Хотя классы определяют изолированное пространство имен для методов, оно\n",
    "не служит областью для разрешения имен, используемых внутри методов.\n",
    "Поэтому при реализации класса ссылки на атрибуты и методы должны быть\n",
    "полностью уточнены. Например, в методах во всех ссылках на атрибуты\n",
    "экземпляра должно использоваться имя self — отсюда self.balance, а не\n",
    "balance. Это правило применяется и при вызове методов из другого метода.\n",
    "Допустим, вы хотите реализовать withdraw() в контексте внесения на счет\n",
    "отрицательных сумм:"
   ]
  },
  {
   "cell_type": "code",
   "execution_count": null,
   "id": "c0518014",
   "metadata": {},
   "outputs": [],
   "source": [
    "class Account:\n",
    "    def __init__(self, owner, balance):\n",
    "        self.owner = owner\n",
    "        self.balance = balance\n",
    "        \n",
    "    def __repr__(self):\n",
    "        return f'Account({self.owner!r}, {self.balance!r})'\n",
    "    \n",
    "    def deposit(self, amount):\n",
    "        self.balance += amount\n",
    "        \n",
    "    def withdraw(self, amount):\n",
    "        self.deposit(-amount)\n",
    "        \n",
    "    def inquiry(self):\n",
    "        return self.balance"
   ]
  },
  {
   "cell_type": "markdown",
   "id": "60ab2a4d",
   "metadata": {},
   "source": [
    "**7.6. ПЕРЕГРУЗКА ОПЕРАТОРОВ И ПРОТОКОЛЫ**"
   ]
  },
  {
   "cell_type": "code",
   "execution_count": 24,
   "id": "e619baf4",
   "metadata": {},
   "outputs": [
    {
     "name": "stdout",
     "output_type": "stream",
     "text": [
      "1050.0\n",
      "Account('Guido', 1000.0)\n",
      "Account('Eva', 50.0)\n"
     ]
    },
    {
     "data": {
      "text/plain": [
       "50.0"
      ]
     },
     "execution_count": 24,
     "metadata": {},
     "output_type": "execute_result"
    }
   ],
   "source": [
    "class AccountPortfolio:\n",
    "    def __init__(self):\n",
    "        self.accounts = []\n",
    "        \n",
    "    def add_account(self, account):\n",
    "        self.accounts.append(account)\n",
    "        \n",
    "    def total_fends(self):\n",
    "        return sum(account.inquiry() for account in self)\n",
    "    \n",
    "    def __len__(self):\n",
    "        return len(self.accounts)\n",
    "    \n",
    "    def __getitem__(self, index):\n",
    "        return self.accounts[index]\n",
    "    \n",
    "    def __iter__(self):\n",
    "        return iter(self.accounts)\n",
    "    \n",
    "    \n",
    "port = AccountPortfolio()\n",
    "port.add_account(Account('Guido', 1000.0))\n",
    "port.add_account(Account('Eva', 50.0))\n",
    "\n",
    "print(port.total_fends())\n",
    "len(port)\n",
    "\n",
    "for account in port:\n",
    "    print(account)\n",
    "    \n",
    "port[1].inquiry()"
   ]
  },
  {
   "cell_type": "markdown",
   "id": "21a3aa62",
   "metadata": {},
   "source": [
    "**7.7. НАСЛЕДОВАНИЕ**"
   ]
  },
  {
   "cell_type": "markdown",
   "id": "9d0afe72",
   "metadata": {},
   "source": [
    ">Одно из возможных применений наследования — расширение существующего\n",
    "класса новыми методами. Допустим, вы хотите добавить в класс Account метод\n",
    "panic(), снимающий все средства со счета. Вот как это делается:"
   ]
  },
  {
   "cell_type": "code",
   "execution_count": 26,
   "id": "3eb2c7a6",
   "metadata": {},
   "outputs": [
    {
     "name": "stdout",
     "output_type": "stream",
     "text": [
      "None\n"
     ]
    }
   ],
   "source": [
    "class MyAcount(Account):\n",
    "    def panic(self):\n",
    "        self.withdraw(self.balance)\n",
    "        \n",
    "# Example\n",
    "a = MyAcount('Guido', 1000.0)\n",
    "a.withdraw(23.0)\n",
    "print(a.panic())"
   ]
  },
  {
   "cell_type": "code",
   "execution_count": null,
   "id": "5e013b79",
   "metadata": {},
   "outputs": [],
   "source": []
  },
  {
   "cell_type": "code",
   "execution_count": null,
   "id": "7973e36f",
   "metadata": {},
   "outputs": [],
   "source": []
  },
  {
   "cell_type": "code",
   "execution_count": null,
   "id": "1ce29677",
   "metadata": {},
   "outputs": [],
   "source": []
  },
  {
   "cell_type": "code",
   "execution_count": null,
   "id": "82009899",
   "metadata": {},
   "outputs": [],
   "source": []
  },
  {
   "cell_type": "code",
   "execution_count": null,
   "id": "5375c36a",
   "metadata": {},
   "outputs": [],
   "source": []
  },
  {
   "cell_type": "code",
   "execution_count": null,
   "id": "65c95e8c",
   "metadata": {},
   "outputs": [],
   "source": []
  },
  {
   "cell_type": "code",
   "execution_count": null,
   "id": "8a089dd8",
   "metadata": {},
   "outputs": [],
   "source": []
  },
  {
   "cell_type": "code",
   "execution_count": null,
   "id": "1cd920a9",
   "metadata": {},
   "outputs": [],
   "source": []
  },
  {
   "cell_type": "code",
   "execution_count": null,
   "id": "6796722a",
   "metadata": {},
   "outputs": [],
   "source": []
  },
  {
   "cell_type": "code",
   "execution_count": null,
   "id": "01ca6c73",
   "metadata": {},
   "outputs": [],
   "source": []
  },
  {
   "cell_type": "code",
   "execution_count": null,
   "id": "d0612e78",
   "metadata": {},
   "outputs": [],
   "source": []
  }
 ],
 "metadata": {
  "kernelspec": {
   "display_name": "Python 3 (ipykernel)",
   "language": "python",
   "name": "python3"
  },
  "language_info": {
   "codemirror_mode": {
    "name": "ipython",
    "version": 3
   },
   "file_extension": ".py",
   "mimetype": "text/x-python",
   "name": "python",
   "nbconvert_exporter": "python",
   "pygments_lexer": "ipython3",
   "version": "3.11.3"
  }
 },
 "nbformat": 4,
 "nbformat_minor": 5
}
