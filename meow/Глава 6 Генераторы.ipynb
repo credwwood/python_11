{
 "cells": [
  {
   "cell_type": "markdown",
   "id": "baf90d00",
   "metadata": {},
   "source": [
    "**6.1. ГЕНЕРАТОРЫ И YIELD**"
   ]
  },
  {
   "cell_type": "code",
   "execution_count": 2,
   "id": "608fc009",
   "metadata": {},
   "outputs": [
    {
     "name": "stdout",
     "output_type": "stream",
     "text": [
      "Counting from down 10\n",
      "T-minus 10\n",
      "T-minus 9\n",
      "T-minus 8\n",
      "T-minus 7\n",
      "T-minus 6\n",
      "T-minus 5\n",
      "T-minus 4\n",
      "T-minus 3\n",
      "T-minus 2\n",
      "T-minus 1\n"
     ]
    }
   ],
   "source": [
    "def countdown(n):\n",
    "    print('Counting from down', n)\n",
    "    while n > 0:\n",
    "        yield n\n",
    "        n -= 1\n",
    "        \n",
    "# Пример использования\n",
    "for x in countdown(10):\n",
    "    print('T-minus', x)"
   ]
  },
  {
   "cell_type": "code",
   "execution_count": 5,
   "id": "42f3e5b4",
   "metadata": {},
   "outputs": [
    {
     "name": "stdout",
     "output_type": "stream",
     "text": [
      "<generator object countdown at 0x7f9f7c5093c0>\n",
      "Counting from down 10\n",
      "10\n",
      "9\n",
      "8\n",
      "Counting from down 10\n",
      "55\n"
     ]
    }
   ],
   "source": [
    "c = countdown(10)\n",
    "print(c)\n",
    "# Один из способов вывода - next\n",
    "print(next(c))\n",
    "\n",
    "# next - сокращение вызова метода __next__()\n",
    "\n",
    "print(c.__next__())\n",
    "print(c.__next__())\n",
    "\n",
    "a = sum(countdown(10))\n",
    "print(a)"
   ]
  },
  {
   "cell_type": "code",
   "execution_count": 54,
   "id": "6ff683f5",
   "metadata": {},
   "outputs": [
    {
     "name": "stdout",
     "output_type": "stream",
     "text": [
      "37\n",
      "42\n"
     ]
    }
   ],
   "source": [
    "# Следующая функция использует как yield, так и return\n",
    "\n",
    "def func():\n",
    "    yield 37\n",
    "    return 42\n",
    "\n",
    "f = func()\n",
    "\n",
    "try:\n",
    "    print(next(f))\n",
    "    print(next(f))\n",
    "except StopIteration as e:\n",
    "    print(e.value)\n",
    "            \n",
    "        \n"
   ]
  },
  {
   "cell_type": "code",
   "execution_count": 20,
   "id": "c6991d0c",
   "metadata": {},
   "outputs": [
    {
     "name": "stdout",
     "output_type": "stream",
     "text": [
      "Counting down from 10\n",
      "Only made it to 2\n",
      "Counting down from 5\n",
      "5\n",
      "4\n",
      "3\n",
      "2\n",
      "1\n",
      "Only made it to 0\n"
     ]
    }
   ],
   "source": [
    "# Рассмотрим пример с вызовом break\n",
    "for n in countdown(10):\n",
    "    if n == 2:\n",
    "        break\n",
    "        \n",
    "# Цикл for прерывается вызовом break и связанный с ним генератор никогда не\n",
    "# отрабатывает до завершения\n",
    "\n",
    "# Используем try-finally или менеджер контекста\n",
    "\n",
    "def countdown(n):\n",
    "    print('Counting down from', n)\n",
    "    try:\n",
    "        while n > 0:\n",
    "            yield n\n",
    "            n -= 1\n",
    "    finally:\n",
    "        print('Only made it to', n)\n",
    "        \n",
    "for i in countdown(5):\n",
    "    print(i)\n",
    "    \n",
    "    \n",
    "# Менеджер контекста также завершает любой код\n",
    "\n",
    "def func(filename):\n",
    "    with opne(filename) as file:\n",
    "        ...\n",
    "        yield data\n",
    "        ...\n",
    "        # Здесь файл будет закрыт, даже если генератор был прерван"
   ]
  },
  {
   "cell_type": "markdown",
   "id": "68f576a6",
   "metadata": {},
   "source": [
    "**6.2. ПЕРЕЗАПУСКАЕМЫЕ ГЕНЕРАТОРЫ**"
   ]
  },
  {
   "cell_type": "code",
   "execution_count": 56,
   "id": "49b8f862",
   "metadata": {},
   "outputs": [
    {
     "name": "stdout",
     "output_type": "stream",
     "text": [
      "Counting down from 3\n",
      "T-minus 3\n",
      "T-minus 2\n",
      "T-minus 1\n",
      "Only made it to 0\n"
     ]
    }
   ],
   "source": [
    "c = countdown(3)\n",
    "for n in c:\n",
    "    print('T-minus', n)\n",
    "for n in c:\n",
    "    print('T-minus', n)"
   ]
  },
  {
   "cell_type": "markdown",
   "id": "392d5a47",
   "metadata": {},
   "source": [
    ">Чтобы создать объект, допускающий повторные итерации, определите его\n",
    "как класс и сделайте метод __iter__() генератором:"
   ]
  },
  {
   "cell_type": "code",
   "execution_count": 57,
   "id": "edf23134",
   "metadata": {},
   "outputs": [],
   "source": [
    "class Countdown:\n",
    "    def __init__(self, start):\n",
    "        self.start = start\n",
    "    def __iter__(self):\n",
    "        self.start = start\n",
    "        while n > 0:\n",
    "            yield n\n",
    "            n -= 1"
   ]
  },
  {
   "cell_type": "markdown",
   "id": "ce67a76e",
   "metadata": {},
   "source": [
    "**6.3. ДЕЛЕГИРОВАНИЕ**"
   ]
  },
  {
   "cell_type": "code",
   "execution_count": 58,
   "id": "45b3dbb2",
   "metadata": {},
   "outputs": [],
   "source": [
    "def countup(stop):\n",
    "    n = 1\n",
    "    while n <= stop:\n",
    "        yield n\n",
    "        n += 1\n",
    "        \n",
    "def countdown(start):\n",
    "    n = start\n",
    "    while n > 0:\n",
    "        yield n\n",
    "        n -= 1\n",
    "\n",
    "def up_and_down(n):\n",
    "    yield from countup(n)\n",
    "    yield from countdown(n)"
   ]
  },
  {
   "cell_type": "code",
   "execution_count": 59,
   "id": "bd51f85a",
   "metadata": {},
   "outputs": [
    {
     "name": "stdout",
     "output_type": "stream",
     "text": [
      "1 2 3 4 5 6 7 8 "
     ]
    }
   ],
   "source": [
    "def flatten(items):\n",
    "    for i in items:\n",
    "        if isinstance(i, list):\n",
    "            yield from flatten(i)\n",
    "        else:\n",
    "            yield i\n",
    "            \n",
    "a =  [1, 2, [3, [4, 5], 6, 7], 8]\n",
    "for x in flatten(a):\n",
    "    print(x, end=' ')"
   ]
  },
  {
   "cell_type": "markdown",
   "id": "32e8fde4",
   "metadata": {},
   "source": [
    "**6.4. ПРАКТИЧЕСКОЕ ИСПОЛЬЗОВАНИЕ\n",
    "ГЕНЕРАТОРОВ**"
   ]
  },
  {
   "cell_type": "markdown",
   "id": "ae0d9d96",
   "metadata": {},
   "source": [
    ">Генераторы могут стать полезным инструментом реструктуризации кода,\n",
    "состоящего из глубоко вложенных циклов for и условных конструкций.\n",
    "Рассмотрим сценарий, который ищет в каталоге с файлами Python все комментарии со словом spam:"
   ]
  },
  {
   "cell_type": "code",
   "execution_count": null,
   "id": "9a7dfa9e",
   "metadata": {},
   "outputs": [],
   "source": [
    "import pathlib\n",
    "import re\n",
    "\n",
    "for path in pathlib.Path('.').rglob('*.py'):\n",
    "    if path.exists():\n",
    "        with path.open('rt', encoding='latin-1') as file:\n",
    "            for line in file:\n",
    "                m = re.match('.*(#.*)$', line)\n",
    "                if m:\n",
    "                    comment = m.group(1)\n",
    "                    if 'spam' in comment:\n",
    "                        print(comment)\n",
    "            "
   ]
  },
  {
   "cell_type": "markdown",
   "id": "479d65f9",
   "metadata": {},
   "source": [
    ">Обратите внимание на глубину вложенности встроенных конструкций. Даже\n",
    "от одного взгляда на этот код становится не по себе. А теперь взгляните на\n",
    "следующую версию с использованием генераторов:"
   ]
  },
  {
   "cell_type": "code",
   "execution_count": 61,
   "id": "38fb5b2c",
   "metadata": {},
   "outputs": [],
   "source": [
    "import pathlib\n",
    "import re\n",
    "\n",
    "def get_paths(topdir, pattern):\n",
    "    for path in pathlib.Path(topdir).rglob(pattern):\n",
    "        if path.exists():\n",
    "            yield path\n",
    "            \n",
    "def get_files(paths):\n",
    "    for path in paths:\n",
    "        with path.open('rt', encoding='latin-1') as file:\n",
    "            yield file\n",
    "            \n",
    "def get_lines(files):\n",
    "    for file in files:\n",
    "        yield from file\n",
    "        \n",
    "def get_comments(lines):\n",
    "    for line in lines:\n",
    "        m = re.match('.*(#.*)$', line)\n",
    "        if m:\n",
    "            yield m.group(1)\n",
    "            \n",
    "def print_matching(lines, substring):\n",
    "    for line in lines:\n",
    "        if substring in line:\n",
    "            print(substring)\n",
    "            \n",
    "paths = get_paths('.', '*.py')\n",
    "files = get_files(paths)\n",
    "lines = get_lines(files)\n",
    "comments = get_comments(lines)\n",
    "print_matching(comments, 'spam')"
   ]
  },
  {
   "cell_type": "code",
   "execution_count": null,
   "id": "33ab6890",
   "metadata": {},
   "outputs": [],
   "source": [
    "def flatten(items):\n",
    "    for i in items:\n",
    "        if isinstance(i, list):\n",
    "            yield from flatten(i)\n",
    "        else:\n",
    "            yield i\n",
    "            \n",
    "def flatten(items):\n",
    "    stack = [iter(items)]\n",
    "    while stack:\n",
    "        try:\n",
    "            item = next(stack[-1])\n",
    "            if isinstance(item, list):\n",
    "                stack.append(iter(item))\n",
    "            else:\n",
    "                yield item\n",
    "        except StopIteration:\n",
    "            stack.pop()"
   ]
  },
  {
   "cell_type": "markdown",
   "id": "9dcd70be",
   "metadata": {},
   "source": [
    "**6.5. РАСШИРЕННЫЕ ГЕНЕРАТОРЫ\n",
    "И ВЫРАЖЕНИЯ YIELD**"
   ]
  },
  {
   "cell_type": "code",
   "execution_count": 63,
   "id": "90e85c86",
   "metadata": {},
   "outputs": [
    {
     "name": "stdout",
     "output_type": "stream",
     "text": [
      "Ready to receive\n",
      "None\n",
      "Got 1\n",
      "None\n",
      "Got Hello\n",
      "None\n"
     ]
    },
    {
     "ename": "StopIteration",
     "evalue": "",
     "output_type": "error",
     "traceback": [
      "\u001b[0;31m---------------------------------------------------------------------------\u001b[0m",
      "\u001b[0;31mStopIteration\u001b[0m                             Traceback (most recent call last)",
      "Cell \u001b[0;32mIn[63], line 12\u001b[0m\n\u001b[1;32m     10\u001b[0m \u001b[38;5;28mprint\u001b[39m(r\u001b[38;5;241m.\u001b[39msend(\u001b[38;5;124m'\u001b[39m\u001b[38;5;124mHello\u001b[39m\u001b[38;5;124m'\u001b[39m))\n\u001b[1;32m     11\u001b[0m r\u001b[38;5;241m.\u001b[39mclose()\n\u001b[0;32m---> 12\u001b[0m \u001b[43mr\u001b[49m\u001b[38;5;241;43m.\u001b[39;49m\u001b[43msend\u001b[49m\u001b[43m(\u001b[49m\u001b[38;5;241;43m4\u001b[39;49m\u001b[43m)\u001b[49m\n",
      "\u001b[0;31mStopIteration\u001b[0m: "
     ]
    }
   ],
   "source": [
    "def receiver():\n",
    "    print('Ready to receive')\n",
    "    while True:\n",
    "        n = yield\n",
    "        print('Got', n)\n",
    "        \n",
    "r = receiver()\n",
    "print(r.send(None))\n",
    "print(r.send(1))\n",
    "print(r.send('Hello'))\n",
    "r.close()\n",
    "r.send(4)"
   ]
  },
  {
   "cell_type": "code",
   "execution_count": 66,
   "id": "28c4b239",
   "metadata": {},
   "outputs": [
    {
     "ename": "RuntimeError",
     "evalue": "Dead",
     "output_type": "error",
     "traceback": [
      "\u001b[0;31m---------------------------------------------------------------------------\u001b[0m",
      "\u001b[0;31mRuntimeError\u001b[0m                              Traceback (most recent call last)",
      "Cell \u001b[0;32mIn[66], line 2\u001b[0m\n\u001b[1;32m      1\u001b[0m r \u001b[38;5;241m=\u001b[39m receiver()\n\u001b[0;32m----> 2\u001b[0m \u001b[43mr\u001b[49m\u001b[38;5;241;43m.\u001b[39;49m\u001b[43mthrow\u001b[49m\u001b[43m(\u001b[49m\u001b[38;5;167;43;01mRuntimeError\u001b[39;49;00m\u001b[43m,\u001b[49m\u001b[43m \u001b[49m\u001b[38;5;124;43m'\u001b[39;49m\u001b[38;5;124;43mDead\u001b[39;49m\u001b[38;5;124;43m'\u001b[39;49m\u001b[43m)\u001b[49m\n",
      "Cell \u001b[0;32mIn[63], line 1\u001b[0m, in \u001b[0;36mreceiver\u001b[0;34m()\u001b[0m\n\u001b[0;32m----> 1\u001b[0m \u001b[38;5;28;01mdef\u001b[39;00m \u001b[38;5;21mreceiver\u001b[39m():\n\u001b[1;32m      2\u001b[0m     \u001b[38;5;28mprint\u001b[39m(\u001b[38;5;124m'\u001b[39m\u001b[38;5;124mReady to receive\u001b[39m\u001b[38;5;124m'\u001b[39m)\n\u001b[1;32m      3\u001b[0m     \u001b[38;5;28;01mwhile\u001b[39;00m \u001b[38;5;28;01mTrue\u001b[39;00m:\n",
      "\u001b[0;31mRuntimeError\u001b[0m: Dead"
     ]
    }
   ],
   "source": [
    "r = receiver()\n",
    "r.throw(RuntimeError, 'Dead')"
   ]
  },
  {
   "cell_type": "markdown",
   "id": "c367d992",
   "metadata": {},
   "source": [
    "**6.6. ПРИМЕНЕНИЕ РАСШИРЕННЫХ\n",
    "ГЕНЕРАТОРОВ**"
   ]
  },
  {
   "cell_type": "code",
   "execution_count": 68,
   "id": "c4b18b8d",
   "metadata": {},
   "outputs": [
    {
     "name": "stdout",
     "output_type": "stream",
     "text": [
      "Entering\n",
      "An error occured invalid literal for int() with base 10: 'somevalue'\n",
      "Leaving\n"
     ]
    }
   ],
   "source": [
    "from contextlib import contextmanager\n",
    "@contextmanager\n",
    "def manager():\n",
    "    print('Entering')\n",
    "    try:\n",
    "        yield 'somevalue'\n",
    "    except Exception as e:\n",
    "        print('An error occured', e)\n",
    "    finally:\n",
    "        print('Leaving')\n",
    "        \n",
    "with manager() as val:\n",
    "    print(int(val))"
   ]
  },
  {
   "cell_type": "code",
   "execution_count": 71,
   "id": "bfaec2fc",
   "metadata": {},
   "outputs": [
    {
     "ename": "SyntaxError",
     "evalue": "invalid syntax (2118738213.py, line 24)",
     "output_type": "error",
     "traceback": [
      "\u001b[0;36m  Cell \u001b[0;32mIn[71], line 24\u001b[0;36m\u001b[0m\n\u001b[0;31m    with Manager(yield) as mg:\u001b[0m\n\u001b[0m                 ^\u001b[0m\n\u001b[0;31mSyntaxError\u001b[0m\u001b[0;31m:\u001b[0m invalid syntax\n"
     ]
    }
   ],
   "source": [
    "# Для реализации этой функциональности используется класс-обертка.\n",
    "# Следующая упрощенная реализация показывает основную идею:\n",
    "\n",
    "class Manager:\n",
    "    def __init__(self, gen):\n",
    "        self.gen = gen\n",
    "        \n",
    "    def __enter__(self):\n",
    "        return self.gen.send(None)\n",
    "    \n",
    "    def __exit__(self, ty, val, tb):\n",
    "        try:\n",
    "            if ty:\n",
    "                try:\n",
    "                    self.gen.throw(ty, val, tb)\n",
    "                except ty:\n",
    "                    return False\n",
    "            else:\n",
    "                self.gen.send(None)\n",
    "        except StopIteration:\n",
    "            return True\n"
   ]
  },
  {
   "cell_type": "code",
   "execution_count": 75,
   "id": "04432f6c",
   "metadata": {},
   "outputs": [
    {
     "name": "stdout",
     "output_type": "stream",
     "text": [
      "bytearray(b'hello')\n",
      "bytearray(b'helloworld\\nit ')\n"
     ]
    },
    {
     "data": {
      "text/plain": [
       "b'helloworld\\n'"
      ]
     },
     "execution_count": 75,
     "metadata": {},
     "output_type": "execute_result"
    }
   ],
   "source": [
    "def line_receiver():\n",
    "    data = bytearray()\n",
    "    line = None\n",
    "    linecount = 0\n",
    "    while True:\n",
    "        part = yield line\n",
    "        linecount += part.count(b'\\n')\n",
    "        data.extend(part)\n",
    "        print(data)\n",
    "        if linecount > 0:\n",
    "            index = data.index(b'\\n')\n",
    "            line = bytes(data[:index+1])\n",
    "            data = data[index+1:]\n",
    "            linecount -= 1\n",
    "        else:\n",
    "            line = None\n",
    "            \n",
    "r = line_receiver()\n",
    "r.send(None)\n",
    "r.send(b'hello')\n",
    "r.send(b'world\\nit ')"
   ]
  },
  {
   "cell_type": "code",
   "execution_count": null,
   "id": "dee86fc5",
   "metadata": {},
   "outputs": [],
   "source": [
    "# Такой код может быть записан в виде класса:\n",
    "\n",
    "class LineReceiver:\n",
    "    def __init__(self):\n",
    "        self.data = bytearray()\n",
    "        self.linecount = 0\n",
    "        \n",
    "    def send(self, part):\n",
    "        self.linecount += part.count(b'\\n')\n",
    "        self.data.extend(part)\n",
    "        if linecount > 0:\n",
    "            index = self.data.index(b'\\n')\n",
    "            line = bytes(self.data[:index+1])\n",
    "            self.data = self.data[index+1:]\n",
    "            return line\n",
    "        else:\n",
    "            return None"
   ]
  },
  {
   "cell_type": "markdown",
   "id": "9e9260a2",
   "metadata": {},
   "source": [
    "**6.7. ГЕНЕРАТОРЫ И ИХ СВЯЗЬ С AWAIT**"
   ]
  },
  {
   "cell_type": "code",
   "execution_count": 102,
   "id": "99fef54c",
   "metadata": {},
   "outputs": [
    {
     "name": "stdout",
     "output_type": "stream",
     "text": [
      "About to await\n"
     ]
    },
    {
     "ename": "RuntimeError",
     "evalue": "Task got bad yield: 'somevalue'",
     "output_type": "error",
     "traceback": [
      "\u001b[0;31m---------------------------------------------------------------------------\u001b[0m",
      "\u001b[0;31mRuntimeError\u001b[0m                              Traceback (most recent call last)",
      "Cell \u001b[0;32mIn[102], line 18\u001b[0m\n\u001b[1;32m     15\u001b[0m \u001b[38;5;28;01masync\u001b[39;00m \u001b[38;5;28;01mdef\u001b[39;00m \u001b[38;5;21mmain\u001b[39m():\n\u001b[1;32m     16\u001b[0m     \u001b[38;5;28;01mawait\u001b[39;00m function()\n\u001b[0;32m---> 18\u001b[0m r \u001b[38;5;241m=\u001b[39m \u001b[38;5;28;01mawait\u001b[39;00m main()\n\u001b[1;32m     19\u001b[0m \u001b[38;5;28mprint\u001b[39m(r)\n\u001b[1;32m     20\u001b[0m \u001b[38;5;66;03m# r.send('Hello')\u001b[39;00m\n\u001b[1;32m     21\u001b[0m     \n\u001b[1;32m     22\u001b[0m \u001b[38;5;66;03m# А вот как можно опробовать этот код с использованием asyncio:\u001b[39;00m\n",
      "Cell \u001b[0;32mIn[102], line 16\u001b[0m, in \u001b[0;36mmain\u001b[0;34m()\u001b[0m\n\u001b[1;32m     15\u001b[0m \u001b[38;5;28;01masync\u001b[39;00m \u001b[38;5;28;01mdef\u001b[39;00m \u001b[38;5;21mmain\u001b[39m():\n\u001b[0;32m---> 16\u001b[0m     \u001b[38;5;28;01mawait\u001b[39;00m function()\n",
      "Cell \u001b[0;32mIn[102], line 7\u001b[0m, in \u001b[0;36mAwaitable.__await__\u001b[0;34m(self)\u001b[0m\n\u001b[1;32m      5\u001b[0m \u001b[38;5;28;01mdef\u001b[39;00m \u001b[38;5;21m__await__\u001b[39m(\u001b[38;5;28mself\u001b[39m):\n\u001b[1;32m      6\u001b[0m     \u001b[38;5;28mprint\u001b[39m(\u001b[38;5;124m'\u001b[39m\u001b[38;5;124mAbout to await\u001b[39m\u001b[38;5;124m'\u001b[39m)\n\u001b[0;32m----> 7\u001b[0m     \u001b[38;5;28;01myield\u001b[39;00m \u001b[38;5;124m'\u001b[39m\u001b[38;5;124msomevalue\u001b[39m\u001b[38;5;124m'\u001b[39m\n\u001b[1;32m      8\u001b[0m     \u001b[38;5;28mprint\u001b[39m(\u001b[38;5;124m'\u001b[39m\u001b[38;5;124mResuming\u001b[39m\u001b[38;5;124m'\u001b[39m)\n",
      "\u001b[0;31mRuntimeError\u001b[0m: Task got bad yield: 'somevalue'"
     ]
    }
   ],
   "source": [
    "# await использует скрытое взаимодействие с генератором. Далее показан\n",
    "# базовый протокол, используемый await:\n",
    "\n",
    "class Awaitable:\n",
    "    def __await__(self):\n",
    "        print('About to await')\n",
    "        yield 'somevalue'\n",
    "        print('Resuming')\n",
    "        \n",
    "# Функция, совместимая с await. Возвращает awaitable\n",
    "\n",
    "def function():\n",
    "    return Awaitable()\n",
    "\n",
    "async def main():\n",
    "    await function()\n",
    "    \n",
    "r = await main()\n",
    "print(r)\n",
    "# r.send('Hello')\n",
    "    \n",
    "# А вот как можно опробовать этот код с использованием asyncio:\n",
    "import asyncio \n",
    "# asyncio.run(main())"
   ]
  },
  {
   "cell_type": "code",
   "execution_count": 105,
   "id": "b9fa44cb",
   "metadata": {},
   "outputs": [
    {
     "name": "stdout",
     "output_type": "stream",
     "text": [
      "Hello Guido\n"
     ]
    }
   ],
   "source": [
    "async def greeting(name):\n",
    "    print(f'Hello {name}')\n",
    "    \n",
    "import asyncio\n",
    "# asyncio.run(greeting('Guido'))\n",
    "await greeting('Guido')"
   ]
  },
  {
   "cell_type": "code",
   "execution_count": 107,
   "id": "502de13a",
   "metadata": {},
   "outputs": [
    {
     "name": "stdout",
     "output_type": "stream",
     "text": [
      "Hello Paula\n",
      "Hello Thomas\n",
      "Hello Lewis\n"
     ]
    }
   ],
   "source": [
    "async def make_greeting(name):\n",
    "    return f'Hello {name}'\n",
    "\n",
    "async def main():\n",
    "    for name in ['Paula', 'Thomas', 'Lewis']:\n",
    "        a = await make_greeting(name)\n",
    "        print(a)\n",
    "        \n",
    "await main()"
   ]
  },
  {
   "cell_type": "code",
   "execution_count": 108,
   "id": "ce125c48",
   "metadata": {},
   "outputs": [
    {
     "ename": "SyntaxError",
     "evalue": "'await' outside async function (2242395077.py, line 6)",
     "output_type": "error",
     "traceback": [
      "\u001b[0;36m  Cell \u001b[0;32mIn[108], line 6\u001b[0;36m\u001b[0m\n\u001b[0;31m    print(await twice(2))\u001b[0m\n\u001b[0m          ^\u001b[0m\n\u001b[0;31mSyntaxError\u001b[0m\u001b[0;31m:\u001b[0m 'await' outside async function\n"
     ]
    }
   ],
   "source": [
    "async def twice(x):\n",
    "    return 2 * x\n",
    "\n",
    "def main():\n",
    "    print(twice(2))\n",
    "    print(await twice(2))"
   ]
  },
  {
   "cell_type": "code",
   "execution_count": 128,
   "id": "ff6e7d16",
   "metadata": {},
   "outputs": [
    {
     "name": "stdout",
     "output_type": "stream",
     "text": [
      "None\n"
     ]
    }
   ],
   "source": [
    "def fun():\n",
    "    line = None\n",
    "    while True:\n",
    "        x = yield line\n",
    "        if isinstance(x, int):\n",
    "            x = 'OK'\n",
    "        elif isinstance(x, str):\n",
    "            x = 'OKOK'\n",
    "r = fun()\n",
    "r.send(None)\n",
    "r.send('line')\n",
    "print(r.send(3))"
   ]
  },
  {
   "cell_type": "code",
   "execution_count": null,
   "id": "554a223c",
   "metadata": {},
   "outputs": [],
   "source": []
  },
  {
   "cell_type": "code",
   "execution_count": null,
   "id": "7cf07908",
   "metadata": {},
   "outputs": [],
   "source": []
  },
  {
   "cell_type": "code",
   "execution_count": null,
   "id": "143df799",
   "metadata": {},
   "outputs": [],
   "source": []
  },
  {
   "cell_type": "code",
   "execution_count": null,
   "id": "ef59ed12",
   "metadata": {},
   "outputs": [],
   "source": []
  },
  {
   "cell_type": "code",
   "execution_count": null,
   "id": "f8267755",
   "metadata": {},
   "outputs": [],
   "source": []
  },
  {
   "cell_type": "code",
   "execution_count": null,
   "id": "75df2c4b",
   "metadata": {},
   "outputs": [],
   "source": []
  },
  {
   "cell_type": "code",
   "execution_count": null,
   "id": "394cb71e",
   "metadata": {},
   "outputs": [],
   "source": []
  },
  {
   "cell_type": "code",
   "execution_count": null,
   "id": "1c4b580d",
   "metadata": {},
   "outputs": [],
   "source": []
  },
  {
   "cell_type": "code",
   "execution_count": null,
   "id": "5b470f8b",
   "metadata": {},
   "outputs": [],
   "source": []
  }
 ],
 "metadata": {
  "kernelspec": {
   "display_name": "Python 3 (ipykernel)",
   "language": "python",
   "name": "python3"
  },
  "language_info": {
   "codemirror_mode": {
    "name": "ipython",
    "version": 3
   },
   "file_extension": ".py",
   "mimetype": "text/x-python",
   "name": "python",
   "nbconvert_exporter": "python",
   "pygments_lexer": "ipython3",
   "version": "3.11.3"
  }
 },
 "nbformat": 4,
 "nbformat_minor": 5
}
