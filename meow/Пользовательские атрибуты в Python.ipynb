{
 "cells": [
  {
   "cell_type": "markdown",
   "id": "f4dfe52c",
   "metadata": {},
   "source": [
    "https://habr.com/ru/articles/137415/"
   ]
  },
  {
   "cell_type": "code",
   "execution_count": null,
   "id": "4ccada5f",
   "metadata": {},
   "outputs": [],
   "source": []
  },
  {
   "cell_type": "code",
   "execution_count": 4,
   "id": "f54f2a96",
   "metadata": {},
   "outputs": [
    {
     "name": "stdout",
     "output_type": "stream",
     "text": [
      "class stuff\n",
      "class stuff\n",
      "b stuff\n"
     ]
    },
    {
     "ename": "AttributeError",
     "evalue": "'StuffHolder' object has no attribute 'b_stuff'",
     "output_type": "error",
     "traceback": [
      "\u001b[0;31m---------------------------------------------------------------------------\u001b[0m",
      "\u001b[0;31mAttributeError\u001b[0m                            Traceback (most recent call last)",
      "Cell \u001b[0;32mIn[4], line 10\u001b[0m\n\u001b[1;32m      8\u001b[0m b\u001b[38;5;241m.\u001b[39mb_stuff \u001b[38;5;241m=\u001b[39m \u001b[38;5;124m'\u001b[39m\u001b[38;5;124mb stuff\u001b[39m\u001b[38;5;124m'\u001b[39m\n\u001b[1;32m      9\u001b[0m \u001b[38;5;28mprint\u001b[39m(b\u001b[38;5;241m.\u001b[39mb_stuff)\n\u001b[0;32m---> 10\u001b[0m \u001b[38;5;28mprint\u001b[39m(\u001b[43ma\u001b[49m\u001b[38;5;241;43m.\u001b[39;49m\u001b[43mb_stuff\u001b[49m)\n",
      "\u001b[0;31mAttributeError\u001b[0m: 'StuffHolder' object has no attribute 'b_stuff'"
     ]
    }
   ],
   "source": [
    "class StuffHolder:\n",
    "    stuff = 'class stuff'\n",
    "    \n",
    "a = StuffHolder()\n",
    "b = StuffHolder()\n",
    "print(a.stuff)\n",
    "print(b.stuff)\n",
    "b.b_stuff = 'b stuff'\n",
    "print(b.b_stuff)\n",
    "print(a.b_stuff)"
   ]
  },
  {
   "cell_type": "code",
   "execution_count": 12,
   "id": "d681deb7",
   "metadata": {},
   "outputs": [
    {
     "name": "stdout",
     "output_type": "stream",
     "text": [
      "mappingproxy({'__dict__': <attribute '__dict__' of 'StuffHolder' objects>,\n",
      "              '__doc__': None,\n",
      "              '__module__': '__main__',\n",
      "              '__weakref__': <attribute '__weakref__' of 'StuffHolder' objects>,\n",
      "              'stuff': 'class stuff'})\n",
      "{}\n",
      "{'b_stuff': 'b stuff'}\n",
      "<class '__main__.StuffHolder'>\n",
      "<class '__main__.StuffHolder'>\n"
     ]
    }
   ],
   "source": [
    "from pprint import pprint\n",
    "\n",
    "pprint(StuffHolder.__dict__)\n",
    "pprint(a.__dict__)\n",
    "pprint(b.__dict__)\n",
    "print(a.__class__)\n",
    "print(b.__class__)"
   ]
  },
  {
   "cell_type": "code",
   "execution_count": 15,
   "id": "0460a6e5",
   "metadata": {},
   "outputs": [
    {
     "name": "stdout",
     "output_type": "stream",
     "text": [
      "{}\n",
      "{'stuff': 'more c stuff'}\n"
     ]
    },
    {
     "data": {
      "text/plain": [
       "mappingproxy({'__module__': '__main__', 'stuff': 'class stuff', '__dict__': <attribute '__dict__' of 'StuffHolder' objects>, '__weakref__': <attribute '__weakref__' of 'StuffHolder' objects>, '__doc__': None})"
      ]
     },
     "execution_count": 15,
     "metadata": {},
     "output_type": "execute_result"
    }
   ],
   "source": [
    "StuffHolder.__dict__\n",
    "c = StuffHolder()\n",
    "print(c.__dict__)\n",
    "\n",
    "c.stuff = 'more c stuff'\n",
    "print(c.__dict__)\n",
    "StuffHolder.__dict__\n",
    "\n"
   ]
  },
  {
   "cell_type": "code",
   "execution_count": 17,
   "id": "62bda6f7",
   "metadata": {},
   "outputs": [
    {
     "name": "stdout",
     "output_type": "stream",
     "text": [
      "class stuff\n",
      "d stuff\n"
     ]
    }
   ],
   "source": [
    "d = StuffHolder()\n",
    "print(d.stuff)\n",
    "\n",
    "d.stuff = 'd stuff'\n",
    "print(d.stuff)\n"
   ]
  },
  {
   "cell_type": "markdown",
   "id": "bcf25237",
   "metadata": {},
   "source": [
    "## Дескрипторы\n"
   ]
  },
  {
   "cell_type": "code",
   "execution_count": 22,
   "id": "dc7fcce7",
   "metadata": {},
   "outputs": [
    {
     "name": "stdout",
     "output_type": "stream",
     "text": [
      "<function FuncHolder.func at 0x7f7738e8c8b0>\n",
      "mappingproxy({'__dict__': <attribute '__dict__' of 'FuncHolder' objects>,\n",
      "              '__doc__': None,\n",
      "              '__module__': '__main__',\n",
      "              '__weakref__': <attribute '__weakref__' of 'FuncHolder' objects>,\n",
      "              'func': <function FuncHolder.func at 0x7f7738e8c8b0>})\n",
      "<bound method FuncHolder.func of <__main__.FuncHolder object at 0x7f77482aa050>>\n",
      "<slot wrapper '__get__' of 'function' objects>\n"
     ]
    }
   ],
   "source": [
    "class FuncHolder:\n",
    "    def func(self):\n",
    "        pass\n",
    "    \n",
    "fh = FuncHolder()\n",
    "\n",
    "print(FuncHolder.func)\n",
    "pprint(FuncHolder.__dict__)\n",
    "print(fh.func)\n",
    "print(FuncHolder.func.__class__.__get__)"
   ]
  },
  {
   "cell_type": "markdown",
   "id": "d42da33e",
   "metadata": {},
   "source": [
    "**Дескрипторы данных**"
   ]
  },
  {
   "cell_type": "code",
   "execution_count": 27,
   "id": "a974a312",
   "metadata": {},
   "outputs": [
    {
     "name": "stdout",
     "output_type": "stream",
     "text": [
      "Trying to access from None class <class '__main__.DataHolder'>\n",
      "None\n",
      "Trying to access from <__main__.DataHolder object at 0x7f7738e4cd00> class <class '__main__.DataHolder'>\n",
      "None\n",
      "Trying to set 1 class <__main__.DataHolder object at 0x7f7738e4cd00>\n",
      "Trying to dele from <__main__.DataHolder object at 0x7f7738e4cd00>\n"
     ]
    }
   ],
   "source": [
    "class DataDesc:\n",
    "    \n",
    "    def __get__(self, obj, cls):\n",
    "        print('Trying to access from {0} class {1}'.format(obj, cls))\n",
    "        \n",
    "    def __set__(self, obj, val):\n",
    "        print('Trying to set {0} class {1}'.format(val, obj))\n",
    "        \n",
    "    def __delete__(self, obj):\n",
    "        print('Trying to dele from {0}'.format(obj))\n",
    "        \n",
    "class DataHolder:\n",
    "    data = DataDesc()\n",
    "    \n",
    "d = DataHolder()\n",
    "\n",
    "print(DataHolder.data)\n",
    "print(d.data)\n",
    "d.data = 1\n",
    "del(d.data)"
   ]
  },
  {
   "cell_type": "code",
   "execution_count": 29,
   "id": "a166297b",
   "metadata": {},
   "outputs": [
    {
     "name": "stdout",
     "output_type": "stream",
     "text": [
      "Trying to access from <__main__.DataHolder object at 0x7f7738e4cd00> class <class '__main__.DataHolder'>\n"
     ]
    }
   ],
   "source": [
    "d.__dict__['data'] = 'override!'\n",
    "d.__dict__\n",
    "d.data"
   ]
  },
  {
   "cell_type": "code",
   "execution_count": 32,
   "id": "bfa5030d",
   "metadata": {},
   "outputs": [
    {
     "data": {
      "text/plain": [
       "'kick descriptor out'"
      ]
     },
     "execution_count": 32,
     "metadata": {},
     "output_type": "execute_result"
    }
   ],
   "source": [
    "DataHolder.__dict__\n",
    "DataHolder.data = 'kick descriptor out'\n",
    "DataHolder.__dict__\n",
    "DataHolder.data"
   ]
  },
  {
   "cell_type": "markdown",
   "id": "052ac325",
   "metadata": {},
   "source": [
    "**Дескрипторы не данных**"
   ]
  },
  {
   "cell_type": "code",
   "execution_count": 38,
   "id": "3da1c1aa",
   "metadata": {},
   "outputs": [
    {
     "name": "stdout",
     "output_type": "stream",
     "text": [
      "Trying to access from None class <class '__main__.NonDataHolder'>\n",
      "Trying to access from <__main__.NonDataHolder object at 0x7f773877fb80> class <class '__main__.NonDataHolder'>\n"
     ]
    },
    {
     "data": {
      "text/plain": [
       "{'non_data': 1}"
      ]
     },
     "execution_count": 38,
     "metadata": {},
     "output_type": "execute_result"
    }
   ],
   "source": [
    "class NonDataDesc:\n",
    "    \n",
    "    def __get__(self, obj, cls):\n",
    "        print('Trying to access from {0} class {1}'.format(obj, cls))\n",
    "        \n",
    "class NonDataHolder:\n",
    "    non_data = NonDataDesc()\n",
    "\n",
    "n = NonDataHolder()\n",
    "\n",
    "NonDataHolder.non_data\n",
    "n.non_data\n",
    "n.non_data = 1\n",
    "n.non_data\n",
    "n.__dict__"
   ]
  },
  {
   "cell_type": "code",
   "execution_count": 40,
   "id": "708e3618",
   "metadata": {},
   "outputs": [],
   "source": [
    "class Descriptor:\n",
    "    def __get__(self, obj, type):\n",
    "        print('getter used')\n",
    "    def __set__(self, obj, val):\n",
    "        print('setter used')\n",
    "    def __delete__(self, obj):\n",
    "        print('deleter used')\n",
    "        \n",
    "class MyClass:\n",
    "    prop = Descriptor()"
   ]
  },
  {
   "cell_type": "code",
   "execution_count": 44,
   "id": "c64b549b",
   "metadata": {},
   "outputs": [
    {
     "name": "stdout",
     "output_type": "stream",
     "text": [
      "getter used\n",
      "None\n",
      "setter used\n",
      "deleter used\n"
     ]
    }
   ],
   "source": [
    "class MyClass:\n",
    "    \n",
    "    def _getter(self):\n",
    "        print('getter used')\n",
    "        \n",
    "    def _setter(self, val):\n",
    "        print('setter used')\n",
    "        \n",
    "    def _deleter(self):\n",
    "        print('deleter used')\n",
    "        \n",
    "    prop = property(_getter, _setter, _deleter, 'doc string')\n",
    "    \n",
    "m = MyClass()\n",
    "print(m.prop)\n",
    "m.prop = 1\n",
    "del(m.prop)"
   ]
  },
  {
   "cell_type": "code",
   "execution_count": 47,
   "id": "91bc76d9",
   "metadata": {},
   "outputs": [
    {
     "name": "stdout",
     "output_type": "stream",
     "text": [
      "method called with (<__main__.StaticAndClassMethodHolder object at 0x7f7738b4c970>,)\n",
      "method called with ()\n",
      "method called with (<class '__main__.StaticAndClassMethodHolder'>,)\n"
     ]
    }
   ],
   "source": [
    "class StaticAndClassMethodHolder:\n",
    "    \n",
    "    def _method(*args):\n",
    "        print('method called with', args)\n",
    "        \n",
    "    static = staticmethod(_method)\n",
    "    cls = classmethod(_method)\n",
    "    \n",
    "s = StaticAndClassMethodHolder()\n",
    "s._method()\n",
    "s.static()\n",
    "s.cls()"
   ]
  },
  {
   "cell_type": "code",
   "execution_count": 5,
   "id": "89091432",
   "metadata": {},
   "outputs": [
    {
     "name": "stdout",
     "output_type": "stream",
     "text": [
      "Yep, i know quicksort\n",
      "Yep, i know python\n"
     ]
    },
    {
     "data": {
      "text/plain": [
       "'Smartinius Smart'"
      ]
     },
     "execution_count": 5,
     "metadata": {},
     "output_type": "execute_result"
    }
   ],
   "source": [
    "class SmartyPants:\n",
    "    def __getattr__(self, attr):\n",
    "        print('Yep, i know', attr)\n",
    "    \n",
    "    tellme = \"It's a secret\"\n",
    "    \n",
    "smarty = SmartyPants()\n",
    "smarty.name = 'Smartinius Smart'\n",
    "\n",
    "smarty.quicksort\n",
    "smarty.python\n",
    "smarty.tellme\n",
    "smarty.name"
   ]
  },
  {
   "cell_type": "code",
   "execution_count": 58,
   "id": "df060f21",
   "metadata": {},
   "outputs": [
    {
     "name": "stdout",
     "output_type": "stream",
     "text": [
      "attr is great!\n",
      "dark_beer is great!\n",
      "instance_attr is great!\n",
      "__len__ is great!\n",
      "__len__ is special\n"
     ]
    },
    {
     "data": {
      "text/plain": [
       "0"
      ]
     },
     "execution_count": 58,
     "metadata": {},
     "output_type": "execute_result"
    }
   ],
   "source": [
    "class Optimist:\n",
    "    \n",
    "    attr = 'class attribute'\n",
    "    \n",
    "    def __getattribute__(self, name):\n",
    "        print('{0} is great!'.format(name))\n",
    "        \n",
    "    def __len__(self):\n",
    "        print('__len__ is special')\n",
    "        return 0\n",
    "    \n",
    "o = Optimist()\n",
    "o.instance_attr = 'instance'\n",
    "\n",
    "o.attr\n",
    "o.dark_beer\n",
    "o.instance_attr\n",
    "o.__len__\n",
    "len(o)"
   ]
  },
  {
   "cell_type": "code",
   "execution_count": 7,
   "id": "b2ca64a8",
   "metadata": {},
   "outputs": [
    {
     "name": "stdout",
     "output_type": "stream",
     "text": [
      "not setting a=1\n",
      "not setting attr=1\n",
      "{}\n",
      "class attribute\n"
     ]
    },
    {
     "ename": "AttributeError",
     "evalue": "'NoSetters' object has no attribute 'a'",
     "output_type": "error",
     "traceback": [
      "\u001b[0;31m---------------------------------------------------------------------------\u001b[0m",
      "\u001b[0;31mAttributeError\u001b[0m                            Traceback (most recent call last)",
      "Cell \u001b[0;32mIn[7], line 11\u001b[0m\n\u001b[1;32m      9\u001b[0m \u001b[38;5;28mprint\u001b[39m(no_setters\u001b[38;5;241m.\u001b[39m\u001b[38;5;18m__dict__\u001b[39m)\n\u001b[1;32m     10\u001b[0m \u001b[38;5;28mprint\u001b[39m(no_setters\u001b[38;5;241m.\u001b[39mattr)\n\u001b[0;32m---> 11\u001b[0m \u001b[43mno_setters\u001b[49m\u001b[38;5;241;43m.\u001b[39;49m\u001b[43ma\u001b[49m\n",
      "\u001b[0;31mAttributeError\u001b[0m: 'NoSetters' object has no attribute 'a'"
     ]
    }
   ],
   "source": [
    "class NoSetters:\n",
    "    attr = 'class attribute'\n",
    "    def __setattr__(self, name, val):\n",
    "        print('not setting {0}={1}'.format(name, val))\n",
    "        \n",
    "no_setters = NoSetters()\n",
    "no_setters.a = 1\n",
    "no_setters.attr = 1\n",
    "print(no_setters.__dict__)\n",
    "print(no_setters.attr)\n",
    "no_setters.a"
   ]
  },
  {
   "cell_type": "code",
   "execution_count": 69,
   "id": "499575de",
   "metadata": {},
   "outputs": [
    {
     "data": {
      "text/plain": [
       "'some coffee'"
      ]
     },
     "execution_count": 69,
     "metadata": {},
     "output_type": "execute_result"
    }
   ],
   "source": [
    "class GentleGuy:\n",
    "    def __getattribute__(self, name):\n",
    "        if name.endswith('_please'):\n",
    "            return object.__getattribute__(self, name.replace('_please', ''))\n",
    "        raise AttributeError('And the magic word!?')\n",
    "        \n",
    "gentle = GentleGuy()\n",
    "\n",
    "gentle.coffee = 'some coffee'\n",
    "# gentle.coffee\n",
    "gentle.coffee_please"
   ]
  },
  {
   "cell_type": "code",
   "execution_count": null,
   "id": "dd0e7a11",
   "metadata": {},
   "outputs": [],
   "source": []
  },
  {
   "cell_type": "code",
   "execution_count": null,
   "id": "9045a107",
   "metadata": {},
   "outputs": [],
   "source": []
  },
  {
   "cell_type": "code",
   "execution_count": null,
   "id": "6e60d23b",
   "metadata": {},
   "outputs": [],
   "source": []
  },
  {
   "cell_type": "code",
   "execution_count": null,
   "id": "97065776",
   "metadata": {},
   "outputs": [],
   "source": []
  },
  {
   "cell_type": "code",
   "execution_count": null,
   "id": "70248186",
   "metadata": {},
   "outputs": [],
   "source": []
  },
  {
   "cell_type": "code",
   "execution_count": null,
   "id": "ae04bb91",
   "metadata": {},
   "outputs": [],
   "source": []
  },
  {
   "cell_type": "code",
   "execution_count": null,
   "id": "f9b73cdf",
   "metadata": {},
   "outputs": [],
   "source": []
  },
  {
   "cell_type": "code",
   "execution_count": null,
   "id": "74561968",
   "metadata": {},
   "outputs": [],
   "source": []
  },
  {
   "cell_type": "code",
   "execution_count": null,
   "id": "b21f2465",
   "metadata": {},
   "outputs": [],
   "source": []
  },
  {
   "cell_type": "code",
   "execution_count": null,
   "id": "7b525ce0",
   "metadata": {},
   "outputs": [],
   "source": []
  },
  {
   "cell_type": "code",
   "execution_count": null,
   "id": "9ba81466",
   "metadata": {},
   "outputs": [],
   "source": []
  },
  {
   "cell_type": "code",
   "execution_count": null,
   "id": "f6518a76",
   "metadata": {},
   "outputs": [],
   "source": []
  },
  {
   "cell_type": "code",
   "execution_count": null,
   "id": "0eadcd75",
   "metadata": {},
   "outputs": [],
   "source": []
  }
 ],
 "metadata": {
  "kernelspec": {
   "display_name": "Python 3 (ipykernel)",
   "language": "python",
   "name": "python3"
  },
  "language_info": {
   "codemirror_mode": {
    "name": "ipython",
    "version": 3
   },
   "file_extension": ".py",
   "mimetype": "text/x-python",
   "name": "python",
   "nbconvert_exporter": "python",
   "pygments_lexer": "ipython3",
   "version": "3.10.10"
  }
 },
 "nbformat": 4,
 "nbformat_minor": 5
}
