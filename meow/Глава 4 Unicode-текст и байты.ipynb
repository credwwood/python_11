{
 "cells": [
  {
   "cell_type": "code",
   "execution_count": 5,
   "id": "7dd1938a",
   "metadata": {},
   "outputs": [
    {
     "name": "stdout",
     "output_type": "stream",
     "text": [
      "4\n",
      "b'cafe'\n"
     ]
    },
    {
     "data": {
      "text/plain": [
       "b'cafe'"
      ]
     },
     "execution_count": 5,
     "metadata": {},
     "output_type": "execute_result"
    }
   ],
   "source": [
    "s = 'cafe'\n",
    "print(len(s))\n",
    "\n",
    "b = s.encode('utf8')\n",
    "print(b)\n",
    "b.decode('utf8')\n",
    "b"
   ]
  },
  {
   "cell_type": "code",
   "execution_count": 10,
   "id": "3b1f40b7",
   "metadata": {},
   "outputs": [
    {
     "name": "stdout",
     "output_type": "stream",
     "text": [
      "99\n",
      "b'c'\n"
     ]
    },
    {
     "data": {
      "text/plain": [
       "bytearray(b'\\xa9')"
      ]
     },
     "execution_count": 10,
     "metadata": {},
     "output_type": "execute_result"
    }
   ],
   "source": [
    "cafe = bytes('café', encoding='utf_8')\n",
    "print(cafe[0])\n",
    "print(cafe[:1])\n",
    "\n",
    "cafe_arr = bytearray(cafe)\n",
    "cafe_arr[-1:]"
   ]
  },
  {
   "cell_type": "markdown",
   "id": "970de639",
   "metadata": {},
   "source": [
    "**Обработка UnicodeEncodeError**\n"
   ]
  },
  {
   "cell_type": "code",
   "execution_count": 18,
   "id": "1c02d84e",
   "metadata": {},
   "outputs": [
    {
     "name": "stdout",
     "output_type": "stream",
     "text": [
      "b'S\\xc3\\xa3o Paulo'\n",
      "b'\\xff\\xfeS\\x00\\xe3\\x00o\\x00 \\x00P\\x00a\\x00u\\x00l\\x00o\\x00'\n",
      "b'S\\xe3o Paulo'\n",
      "b'So Paulo'\n",
      "b'S?o Paulo'\n",
      "b'S&#227;o Paulo'\n"
     ]
    }
   ],
   "source": [
    "city = 'São Paulo'\n",
    "print(city.encode('utf_8'))\n",
    "print(city.encode('utf_16'))\n",
    "print(city.encode('iso8859_1'))\n",
    "# city.encode('cp437')\n",
    "print(city.encode('cp437', errors='ignore'))\n",
    "print(city.encode('cp437', errors='replace'))\n",
    "print(city.encode('cp437', errors='xmlcharrefreplace'))"
   ]
  },
  {
   "cell_type": "markdown",
   "id": "e21e88e1",
   "metadata": {},
   "source": [
    "**Обработка UnicodeDecodeError**"
   ]
  },
  {
   "cell_type": "code",
   "execution_count": 23,
   "id": "4c78d9c9",
   "metadata": {},
   "outputs": [
    {
     "name": "stdout",
     "output_type": "stream",
     "text": [
      "Montréal\n",
      "Montrιal\n",
      "MontrИal\n",
      "Montr�al\n"
     ]
    }
   ],
   "source": [
    "octets = b'Montr\\xe9al'\n",
    "print(octets.decode('cp1252'))\n",
    "print(octets.decode('iso8859_7'))\n",
    "print(octets.decode('koi8_r'))\n",
    "print(octets.decode('utf_8', errors='replace'))"
   ]
  },
  {
   "cell_type": "markdown",
   "id": "365feff9",
   "metadata": {},
   "source": [
    "**Исключение SyntaxError при загрузке модулей\n",
    "с неожиданной кодировкой**"
   ]
  },
  {
   "cell_type": "code",
   "execution_count": 24,
   "id": "06a3cc4e",
   "metadata": {},
   "outputs": [
    {
     "name": "stdout",
     "output_type": "stream",
     "text": [
      "Olá, Mundo!\n"
     ]
    }
   ],
   "source": [
    "# coding: cp1252\n",
    "\n",
    "print('Olá, Mundo!')"
   ]
  },
  {
   "cell_type": "markdown",
   "id": "58dddd78",
   "metadata": {},
   "source": [
    "## Как определить кодировку последовательности байтов"
   ]
  },
  {
   "cell_type": "code",
   "execution_count": 29,
   "id": "fac05d26",
   "metadata": {},
   "outputs": [
    {
     "ename": "ImportError",
     "evalue": "cannot import name 'chardetect' from 'chardet' (/usr/lib/python3.10/site-packages/chardet/__init__.py)",
     "output_type": "error",
     "traceback": [
      "\u001b[0;31m---------------------------------------------------------------------------\u001b[0m",
      "\u001b[0;31mImportError\u001b[0m                               Traceback (most recent call last)",
      "Cell \u001b[0;32mIn[29], line 1\u001b[0m\n\u001b[0;32m----> 1\u001b[0m \u001b[38;5;28;01mfrom\u001b[39;00m \u001b[38;5;21;01mchardet\u001b[39;00m \u001b[38;5;28;01mimport\u001b[39;00m chardetect\n",
      "\u001b[0;31mImportError\u001b[0m: cannot import name 'chardetect' from 'chardet' (/usr/lib/python3.10/site-packages/chardet/__init__.py)"
     ]
    }
   ],
   "source": [
    "from chardet import chardetect"
   ]
  },
  {
   "cell_type": "markdown",
   "id": "8619c1c7",
   "metadata": {},
   "source": [
    "**BOM: полезный крокозябр**"
   ]
  },
  {
   "cell_type": "code",
   "execution_count": 31,
   "id": "fa473c6b",
   "metadata": {},
   "outputs": [
    {
     "data": {
      "text/plain": [
       "\" b'ÿþ' \""
      ]
     },
     "execution_count": 31,
     "metadata": {},
     "output_type": "execute_result"
    }
   ],
   "source": [
    "u16 = 'El Niño'.encode('utf_16')\n",
    "u16\n",
    "\n",
    "''' b'\\xff\\xfe' - порядок байтов прямой''' \n"
   ]
  },
  {
   "cell_type": "code",
   "execution_count": 36,
   "id": "13e8c247",
   "metadata": {},
   "outputs": [
    {
     "name": "stdout",
     "output_type": "stream",
     "text": [
      "[255, 254, 69, 0, 108, 0, 32, 0, 78, 0, 105, 0, 241, 0, 111, 0]\n",
      "[69, 0, 108, 0, 32, 0, 78, 0, 105, 0, 241, 0, 111, 0]\n"
     ]
    },
    {
     "data": {
      "text/plain": [
       "[0, 69, 0, 108, 0, 32, 0, 78, 0, 105, 0, 241, 0, 111]"
      ]
     },
     "execution_count": 36,
     "metadata": {},
     "output_type": "execute_result"
    }
   ],
   "source": [
    "u16le = 'El Niño'.encode('utf_16le')\n",
    "print(list(u16))\n",
    "print(list(u16le))\n",
    "\n",
    "u16be = 'El Niño'.encode('utf_16be')\n",
    "\n",
    "list(u16be)"
   ]
  },
  {
   "cell_type": "code",
   "execution_count": 37,
   "id": "e8344721",
   "metadata": {},
   "outputs": [
    {
     "data": {
      "text/plain": [
       "[69, 108, 32, 78, 105, 195, 177, 111]"
      ]
     },
     "execution_count": 37,
     "metadata": {},
     "output_type": "execute_result"
    }
   ],
   "source": [
    "u8e = 'El Niño'.encode('utf_8')\n",
    "list(u8e)"
   ]
  },
  {
   "cell_type": "markdown",
   "id": "61dc02ac",
   "metadata": {},
   "source": [
    "## Обработка текстовых файлов"
   ]
  },
  {
   "cell_type": "code",
   "execution_count": 41,
   "id": "1987d4e4",
   "metadata": {},
   "outputs": [
    {
     "data": {
      "text/plain": [
       "'café'"
      ]
     },
     "execution_count": 41,
     "metadata": {},
     "output_type": "execute_result"
    }
   ],
   "source": [
    "fp = open('cafe.txt', 'w', encoding='utf_8').write('café')\n",
    "open('cafe.txt').read()"
   ]
  },
  {
   "cell_type": "code",
   "execution_count": 49,
   "id": "5c5e4868",
   "metadata": {},
   "outputs": [
    {
     "data": {
      "text/plain": [
       "'cafÃ©'"
      ]
     },
     "execution_count": 49,
     "metadata": {},
     "output_type": "execute_result"
    }
   ],
   "source": [
    "import os\n",
    "\n",
    "os.stat('cafe.txt').st_size\n",
    "\n",
    "fp2 = open('cafe.txt')\n",
    "fp2.encoding\n",
    "fp2.read()\n",
    "\n",
    "fp3 = open('cafe.txt', encoding='cp1252')\n",
    "fp3.encoding\n",
    "fp3.read()"
   ]
  },
  {
   "cell_type": "code",
   "execution_count": 50,
   "id": "6204539b",
   "metadata": {},
   "outputs": [
    {
     "data": {
      "text/plain": [
       "b'caf\\xc3\\xa9'"
      ]
     },
     "execution_count": 50,
     "metadata": {},
     "output_type": "execute_result"
    }
   ],
   "source": [
    "fp4 = open('cafe.txt', 'rb')\n",
    "fp4.read()"
   ]
  },
  {
   "cell_type": "markdown",
   "id": "7e46d023",
   "metadata": {},
   "source": [
    "**Остерегайтесь кодировок по умолчанию**"
   ]
  },
  {
   "cell_type": "code",
   "execution_count": 57,
   "id": "ae2e237f",
   "metadata": {},
   "outputs": [
    {
     "name": "stdout",
     "output_type": "stream",
     "text": [
      " locale.getpreferredencoding() -> 'UTF-8'\n",
      "                 type(my_file) -> <class '_io.TextIOWrapper'>\n",
      "              my_file.encoding -> 'UTF-8'\n",
      "           sys.stdout.isatty() -> False\n",
      "           sys.stdout.encoding -> 'UTF-8'\n",
      "            sys.stdin.isatty() -> False\n",
      "            sys.stdin.encoding -> 'utf-8'\n",
      "           sys.stderr.isatty() -> False\n",
      "           sys.stderr.encoding -> 'UTF-8'\n",
      "      sys.getdefaultencoding() -> 'utf-8'\n",
      "   sys.getfilesystemencoding() -> 'utf-8'\n"
     ]
    }
   ],
   "source": [
    "import locale\n",
    "import sys\n",
    "\n",
    "expressions = \"\"\"\n",
    " locale.getpreferredencoding()\n",
    " type(my_file)\n",
    " my_file.encoding\n",
    " sys.stdout.isatty()\n",
    " sys.stdout.encoding\n",
    " sys.stdin.isatty()\n",
    " sys.stdin.encoding\n",
    " sys.stderr.isatty()\n",
    " sys.stderr.encoding\n",
    " sys.getdefaultencoding()\n",
    " sys.getfilesystemencoding()\n",
    " \"\"\"\n",
    "\n",
    "my_file = open('dummy', 'w')\n",
    "\n",
    "for expression in expressions.split():\n",
    "    value = eval(expression)\n",
    "    print(f'{expression:>30} -> {value!r}')"
   ]
  },
  {
   "cell_type": "code",
   "execution_count": 60,
   "id": "73a04967",
   "metadata": {},
   "outputs": [
    {
     "name": "stdout",
     "output_type": "stream",
     "text": [
      "3.10.10 (main, Mar  5 2023, 22:26:53) [GCC 12.2.1 20230201]\n",
      "\n",
      "sys.stout.isatty(): False\n",
      "sys.stdout.encoding: UTF-8\n",
      "\n",
      "Trying to output HORIZONTAL ELLIPSIS:\n",
      "…\n",
      "Trying to output INFINITY:\n",
      "∞\n",
      "Trying to output CIRCLED NUMBER FORTY TWO:\n",
      "㊷\n"
     ]
    }
   ],
   "source": [
    "import sys\n",
    "from unicodedata import name\n",
    "\n",
    "print(sys.version)\n",
    "print()\n",
    "print('sys.stout.isatty():', sys.stdout.isatty())\n",
    "print('sys.stdout.encoding:', sys.stdout.encoding)\n",
    "print()\n",
    "\n",
    "test_chars = [\n",
    "    '\\N{HORIZONTAL ELLIPSIS}',\n",
    "    '\\N{INFINITY}',\n",
    "    '\\N{CIRCLED NUMBER FORTY TWO}',\n",
    "    \n",
    "]\n",
    "\n",
    "for char in test_chars:\n",
    "    print(f'Trying to output {name(char)}:')\n",
    "    print(char)"
   ]
  },
  {
   "cell_type": "code",
   "execution_count": 63,
   "id": "7f42ccbc",
   "metadata": {},
   "outputs": [
    {
     "data": {
      "text/plain": [
       "'UTF-8'"
      ]
     },
     "execution_count": 63,
     "metadata": {},
     "output_type": "execute_result"
    }
   ],
   "source": [
    "locale.getpreferredencoding()"
   ]
  },
  {
   "cell_type": "markdown",
   "id": "a8a8cdea",
   "metadata": {},
   "source": [
    "## Нормализация Unicode для надежного сравнения"
   ]
  },
  {
   "cell_type": "code",
   "execution_count": 66,
   "id": "7c935347",
   "metadata": {},
   "outputs": [
    {
     "name": "stdout",
     "output_type": "stream",
     "text": [
      "café café\n",
      "4 5\n",
      "False\n"
     ]
    }
   ],
   "source": [
    "s1 = 'café'\n",
    "s2 = 'cafe\\N{COMBINING ACUTE ACCENT}'\n",
    "print(s1, s2)\n",
    "print(len(s1), len(s2))\n",
    "print(s1 == s2)"
   ]
  },
  {
   "cell_type": "code",
   "execution_count": 68,
   "id": "208c8e07",
   "metadata": {},
   "outputs": [
    {
     "name": "stdout",
     "output_type": "stream",
     "text": [
      "4 4\n",
      "5 5\n"
     ]
    }
   ],
   "source": [
    "from unicodedata import normalize\n",
    "\n",
    "print(len(normalize('NFC', s1)), len(normalize('NFC', s2)))\n",
    "print(len(normalize('NFD', s1)), len(normalize('NFD', s2)))"
   ]
  },
  {
   "cell_type": "code",
   "execution_count": 73,
   "id": "1b3904fa",
   "metadata": {},
   "outputs": [
    {
     "name": "stdout",
     "output_type": "stream",
     "text": [
      "OHM SIGN\n",
      "GREEK CAPITAL LETTER OMEGA\n",
      "False\n"
     ]
    },
    {
     "data": {
      "text/plain": [
       "True"
      ]
     },
     "execution_count": 73,
     "metadata": {},
     "output_type": "execute_result"
    }
   ],
   "source": [
    "from unicodedata import normalize, name\n",
    "ohm = '\\u2126'\n",
    "print(name(ohm))\n",
    "ohm_c = normalize('NFC', ohm)\n",
    "print(name(ohm_c))\n",
    "print(ohm == ohm_c)\n",
    "normalize('NFC', ohm) == normalize('NFC', ohm_c)"
   ]
  },
  {
   "cell_type": "code",
   "execution_count": 82,
   "id": "a4c5848d",
   "metadata": {},
   "outputs": [
    {
     "name": "stdout",
     "output_type": "stream",
     "text": [
      "½\n",
      "1⁄2\n",
      "1\tDIGIT ONE\n",
      "⁄\tFRACTION SLASH\n",
      "2\tDIGIT TWO\n",
      "μ μ\n",
      "956 956\n",
      "GREEK SMALL LETTER MU GREEK SMALL LETTER MU\n"
     ]
    }
   ],
   "source": [
    "from unicodedata import normalize, name\n",
    "\n",
    "half = '\\N{VULGAR FRACTION ONE HALF}'\n",
    "print(half)\n",
    "print(normalize('NFKC', half))\n",
    "for char in normalize('NFKC', half):\n",
    "    print(char, name(char), sep='\\t')\n",
    "    \n",
    "four_squared = '4²'\n",
    "normalize('NFKC', four_squared)\n",
    "\n",
    "micro = 'μ'\n",
    "micro_kc = normalize('NFKC', micro)\n",
    "print(micro, micro_kc)\n",
    "print(ord(micro), ord(micro_kc))\n",
    "print(name(micro), name(micro_kc))"
   ]
  },
  {
   "cell_type": "markdown",
   "id": "59725025",
   "metadata": {},
   "source": [
    "## Сворачивание регистра"
   ]
  },
  {
   "cell_type": "code",
   "execution_count": 86,
   "id": "87cc7e78",
   "metadata": {},
   "outputs": [
    {
     "name": "stdout",
     "output_type": "stream",
     "text": [
      "GREEK SMALL LETTER MU\n",
      "LATIN SMALL LETTER SHARP S\n",
      "ss\n"
     ]
    }
   ],
   "source": [
    "micro = 'μ'\n",
    "print(name(micro))\n",
    "micro_cf = micro.casefold()\n",
    "name(micro_cf)\n",
    "\n",
    "eszett = 'ß'\n",
    "print(name(eszett))\n",
    "\n",
    "eszett_cf = eszett.casefold()\n",
    "print(eszett_cf)"
   ]
  },
  {
   "cell_type": "markdown",
   "id": "af4fe6c2",
   "metadata": {},
   "source": [
    "## Служебные функции для сравнения нормализованного\n",
    "## текста"
   ]
  },
  {
   "cell_type": "code",
   "execution_count": 97,
   "id": "bfadeabc",
   "metadata": {},
   "outputs": [
    {
     "name": "stdout",
     "output_type": "stream",
     "text": [
      "cafe café\n"
     ]
    },
    {
     "data": {
      "text/plain": [
       "'café'"
      ]
     },
     "execution_count": 97,
     "metadata": {},
     "output_type": "execute_result"
    }
   ],
   "source": [
    "s1 = 'cafe'\n",
    "s2 = 'cafe\\u0301'\n",
    "print(s1, s2)\n",
    "\n",
    "\n",
    "from unicodedata import normalize\n",
    "\n",
    "def nfc_equal(str1, str2):\n",
    "    return normalize('NFC', str1) == normalize('NFC', str2)\n",
    "    \n",
    "def fold_equal(str1, str2):\n",
    "    return (normalize('NFC',str1).casefold() == \n",
    "           normalize('NFC',str2).casefold()) \n",
    "\n",
    "fold_equal('A', 'a')\n",
    "\n",
    "normalize('NFC', s2)"
   ]
  },
  {
   "cell_type": "markdown",
   "id": "861a6d49",
   "metadata": {},
   "source": [
    "**Экстремальная «нормализация»: удаление диакритических\n",
    "знаков**"
   ]
  },
  {
   "cell_type": "code",
   "execution_count": 108,
   "id": "74ddad50",
   "metadata": {},
   "outputs": [
    {
     "data": {
      "text/plain": [
       "'Ζεφυρος, Zefiro'"
      ]
     },
     "execution_count": 108,
     "metadata": {},
     "output_type": "execute_result"
    }
   ],
   "source": [
    "import unicodedata\n",
    "import string\n",
    "\n",
    "def shave_marks(txt):\n",
    "    \"\"\"Remove all diacritic marks\"\"\"\n",
    "    norm_txt = unicodedata.normalize('NFD', txt)\n",
    "#     print(norm_txt)\n",
    "#     norm_txt = normalize('NFC', txt)\n",
    "    shaved = ''.join(c for c in norm_txt\n",
    "                    if not unicodedata.combining(c))\n",
    "    return unicodedata.normalize('NFC', shaved)\n",
    "\n",
    "order = '\"Herr Voß: • ½ cup of OEtker™ caffè latte • bowl of açaí.\"'\n",
    "\n",
    "shave_marks(order)\n",
    "\n",
    "Greek = 'Ζέφυρος, Zéfiro'\n",
    "shave_marks(Greek)\n"
   ]
  },
  {
   "cell_type": "code",
   "execution_count": 115,
   "id": "e17c76b2",
   "metadata": {},
   "outputs": [
    {
     "data": {
      "text/plain": [
       "'\"Herr Voß: • ½ cup of OEtker™ caffe latte • bowl of acai.\"'"
      ]
     },
     "execution_count": 115,
     "metadata": {},
     "output_type": "execute_result"
    }
   ],
   "source": [
    "def shave_marks_latin(txt):\n",
    "    \"\"\"Удалить все диактрические знаки для базовых символов набора Latin\"\"\"\n",
    "    norm_txt = unicodedata.normalize('NFD', txt)\n",
    "    latin_base = False\n",
    "    preserve = []\n",
    "    for c in norm_txt:\n",
    "        if unicodedata.combining(c) and latin_base:\n",
    "            continue\n",
    "        preserve.append(c)\n",
    "        \n",
    "        if not unicodedata.combining(c):\n",
    "            latin_base = c in string.ascii_letters\n",
    "    \n",
    "    shaved = ''.join(preserve)\n",
    "    \n",
    "    return unicodedata.normalize('NFC', shaved)\n",
    "\n",
    "shave_marks_latin('\"Herr Voß: • ½ cup of OEtker™ caffè latte • bowl of açaí.\"')"
   ]
  },
  {
   "cell_type": "code",
   "execution_count": 116,
   "id": "b564db22",
   "metadata": {},
   "outputs": [],
   "source": [
    "def shave_marks_latin(txt):\n",
    "    norm_txt = unicodedata.normalize('UFD', txt)\n",
    "    latin_base = False\n",
    "    preserve = []\n",
    "    for char in norm_txt:\n",
    "        if unicodedata.combining(char) and latin_base:\n",
    "            continue\n",
    "        preverse.append(char)\n",
    "        \n",
    "        if not unicodedata.combining(char):\n",
    "            latin_base = char in string.ascii_letters\n",
    "            \n",
    "    shaved = ''.join(preverse)\n",
    "    \n",
    "    return unicodedata.normalize('NFC', shaved)"
   ]
  },
  {
   "cell_type": "code",
   "execution_count": 135,
   "id": "74f469ff",
   "metadata": {},
   "outputs": [
    {
     "name": "stdout",
     "output_type": "stream",
     "text": [
      "{8364: 'EUR', 8230: '...', 198: 'AE', 230: 'ae', 79: 'OE', 111: 'oe', 8482: '(TM)', 8240: '<per mille>', 8224: '**', 8225: '***', 8218: 39, 402: 102, 8222: 34, 710: 94, 8249: 60, 39: 39, 34: 34, 8226: 45, 8211: 45, 732: 126, 8250: 62}\n"
     ]
    },
    {
     "ename": "ValueError",
     "evalue": "invalid normalization form",
     "output_type": "error",
     "traceback": [
      "\u001b[0;31m---------------------------------------------------------------------------\u001b[0m",
      "\u001b[0;31mValueError\u001b[0m                                Traceback (most recent call last)",
      "Cell \u001b[0;32mIn[135], line 33\u001b[0m\n\u001b[1;32m     29\u001b[0m order \u001b[38;5;241m=\u001b[39m \u001b[38;5;124m'\u001b[39m\u001b[38;5;124m\"\u001b[39m\u001b[38;5;124mHerr Voß: • ½ cup of OEtker™ caffè latte • bowl of açaí.\u001b[39m\u001b[38;5;124m\"\u001b[39m\u001b[38;5;124m'\u001b[39m\n\u001b[1;32m     31\u001b[0m dewinize(order)\n\u001b[0;32m---> 33\u001b[0m \u001b[43masciize\u001b[49m\u001b[43m(\u001b[49m\u001b[43morder\u001b[49m\u001b[43m)\u001b[49m\n",
      "Cell \u001b[0;32mIn[135], line 25\u001b[0m, in \u001b[0;36masciize\u001b[0;34m(txt)\u001b[0m\n\u001b[1;32m     24\u001b[0m \u001b[38;5;28;01mdef\u001b[39;00m \u001b[38;5;21masciize\u001b[39m(txt):\n\u001b[0;32m---> 25\u001b[0m     no_marks \u001b[38;5;241m=\u001b[39m \u001b[43mshave_marks_latin\u001b[49m\u001b[43m(\u001b[49m\u001b[43mdewinize\u001b[49m\u001b[43m(\u001b[49m\u001b[43mtxt\u001b[49m\u001b[43m)\u001b[49m\u001b[43m)\u001b[49m\n\u001b[1;32m     26\u001b[0m     no_marks \u001b[38;5;241m=\u001b[39m no_marks\u001b[38;5;241m.\u001b[39mreplace(\u001b[38;5;124m'\u001b[39m\u001b[38;5;124mß\u001b[39m\u001b[38;5;124m'\u001b[39m, \u001b[38;5;124m'\u001b[39m\u001b[38;5;124mss\u001b[39m\u001b[38;5;124m'\u001b[39m) \n\u001b[1;32m     27\u001b[0m     \u001b[38;5;28;01mreturn\u001b[39;00m unicodedata\u001b[38;5;241m.\u001b[39mnormalize(\u001b[38;5;124m'\u001b[39m\u001b[38;5;124mNFK C\u001b[39m\u001b[38;5;124m'\u001b[39m, no_marks)\n",
      "Cell \u001b[0;32mIn[116], line 2\u001b[0m, in \u001b[0;36mshave_marks_latin\u001b[0;34m(txt)\u001b[0m\n\u001b[1;32m      1\u001b[0m \u001b[38;5;28;01mdef\u001b[39;00m \u001b[38;5;21mshave_marks_latin\u001b[39m(txt):\n\u001b[0;32m----> 2\u001b[0m     norm_txt \u001b[38;5;241m=\u001b[39m \u001b[43municodedata\u001b[49m\u001b[38;5;241;43m.\u001b[39;49m\u001b[43mnormalize\u001b[49m\u001b[43m(\u001b[49m\u001b[38;5;124;43m'\u001b[39;49m\u001b[38;5;124;43mUFD\u001b[39;49m\u001b[38;5;124;43m'\u001b[39;49m\u001b[43m,\u001b[49m\u001b[43m \u001b[49m\u001b[43mtxt\u001b[49m\u001b[43m)\u001b[49m\n\u001b[1;32m      3\u001b[0m     latin_base \u001b[38;5;241m=\u001b[39m \u001b[38;5;28;01mFalse\u001b[39;00m\n\u001b[1;32m      4\u001b[0m     preserve \u001b[38;5;241m=\u001b[39m []\n",
      "\u001b[0;31mValueError\u001b[0m: invalid normalization form"
     ]
    }
   ],
   "source": [
    "single_map = str.maketrans(\"\"\"‚ƒ„ˆ‹''\"\"•––˜›\"\"\",\n",
    "                            \"\"\"'f\"^<''\"\"---~>\"\"\")\n",
    "\n",
    "multi_map = str.maketrans({\n",
    "'€': 'EUR',\n",
    " '…': '...',\n",
    " 'Æ': 'AE',\n",
    " 'æ': 'ae',\n",
    " 'O': 'OE',\n",
    " 'o': 'oe',\n",
    " '™': '(TM)',\n",
    " '‰': '<per mille>',\n",
    " '†': '**',\n",
    " '‡': '***',   \n",
    "})\n",
    "\n",
    "multi_map.update(single_map)\n",
    "\n",
    "print(multi_map)\n",
    "\n",
    "def dewinize(txt):\n",
    "    return txt.translate(multi_map)\n",
    "\n",
    "def asciize(txt):\n",
    "    no_marks = shave_marks_latin(dewinize(txt))\n",
    "    no_marks = no_marks.replace('ß', 'ss') \n",
    "    return unicodedata.normalize('NFK C', no_marks)\n",
    "\n",
    "order = '\"Herr Voß: • ½ cup of OEtker™ caffè latte • bowl of açaí.\"'\n",
    "\n",
    "dewinize(order)\n",
    "\n",
    "asciize(order)"
   ]
  },
  {
   "cell_type": "markdown",
   "id": "90613536",
   "metadata": {},
   "source": [
    "## Сортировка Unicode-текстов"
   ]
  },
  {
   "cell_type": "code",
   "execution_count": 143,
   "id": "bd049b8c",
   "metadata": {},
   "outputs": [
    {
     "name": "stdout",
     "output_type": "stream",
     "text": [
      "en_US.UTF8\n",
      "['açaí', 'acerola', 'atemoia', 'cajá', 'caju']\n"
     ]
    }
   ],
   "source": [
    "import locale\n",
    "\n",
    "my_locale = locale.setlocale(locale.LC_COLLATE, 'en_US.UTF8')\n",
    "print(my_locale)\n",
    "fruits = ['caju', 'atemoia', 'cajá', 'açaí', 'acerola']\n",
    "sorted_fruits = sorted(fruits, key=locale.strxfrm)\n",
    "print(sorted_fruits)"
   ]
  },
  {
   "cell_type": "code",
   "execution_count": 139,
   "id": "a3f1bfdd",
   "metadata": {},
   "outputs": [
    {
     "data": {
      "text/plain": [
       "('en_US', 'UTF-8')"
      ]
     },
     "execution_count": 139,
     "metadata": {},
     "output_type": "execute_result"
    }
   ],
   "source": [
    "\n",
    "\n",
    "locale.getdefaultlocale()"
   ]
  },
  {
   "cell_type": "code",
   "execution_count": null,
   "id": "44f0f197",
   "metadata": {},
   "outputs": [],
   "source": [
    "## Сортировка с помощью алгоритма упорядочивания\n",
    "## Unicode"
   ]
  },
  {
   "cell_type": "code",
   "execution_count": 147,
   "id": "7fb9d02b",
   "metadata": {},
   "outputs": [
    {
     "data": {
      "text/plain": [
       "['açaí', 'acerola', 'atemoia', 'cajá', 'caju']"
      ]
     },
     "execution_count": 147,
     "metadata": {},
     "output_type": "execute_result"
    }
   ],
   "source": [
    "import pyuca\n",
    "coll = pyuca.Collator()\n",
    "fuits = ['caju', 'atemoia', 'cajá', 'açaí', 'acerola']\n",
    "sorted_fruits = sorted(fruits, key=coll.sort_key)\n",
    "sorted_fruits\n"
   ]
  },
  {
   "cell_type": "markdown",
   "id": "ce3f2644",
   "metadata": {},
   "source": [
    "**База данных Unicode**"
   ]
  },
  {
   "cell_type": "markdown",
   "id": "9d5f7748",
   "metadata": {},
   "source": [
    "***Поиск символов по имени***"
   ]
  },
  {
   "cell_type": "code",
   "execution_count": 148,
   "id": "c683e294",
   "metadata": {},
   "outputs": [
    {
     "name": "stdout",
     "output_type": "stream",
     "text": [
      "LATIN CAPITAL LETTER A\n"
     ]
    }
   ],
   "source": [
    "from unicodedata import name\n",
    "print(name('A'))"
   ]
  },
  {
   "cell_type": "code",
   "execution_count": null,
   "id": "37edb523",
   "metadata": {},
   "outputs": [],
   "source": [
    "import sys\n",
    "import unicodedata\n",
    "\n",
    "START, END = ord(' '), sys.maxunicode + 1\n",
    "\n",
    "def find(*query_words, start=START, end=END):\n",
    "    query = {w.upper() for w in query_words}\n",
    "    for code in range(start, end):\n",
    "        char = chr(code)\n",
    "        name = unicodedata.name(char, None)\n",
    "        if name and query.issubset(name.split()):\n",
    "            print(f'U+{code:04X}\\t{char}\\t{name})\n",
    "                  \n",
    "def main(words):\n",
    "      if words:\n",
    "          find(*words)\n",
    "      else:\n",
    "          print('Please provide words to find')"
   ]
  },
  {
   "cell_type": "code",
   "execution_count": 155,
   "id": "671b053d",
   "metadata": {},
   "outputs": [],
   "source": [
    "START, END = ord(' '), sys.maxunicode + 1\n",
    "\n",
    "def find(*query_words, start=START, end=END):\n",
    "    query = {w.upper() for w in query_words}\n",
    "    for code in range(start, end):\n",
    "        char = chr(code)\n",
    "        name = unicodedata.name(char, None)\n",
    "        if name and query.issubset(name.split()):\n",
    "            print(f'U+{code:04X}\\t{char}\\t{name}')\n",
    "        "
   ]
  },
  {
   "cell_type": "markdown",
   "id": "5040fff4",
   "metadata": {},
   "source": [
    "## Символы, связанные с числами"
   ]
  },
  {
   "cell_type": "code",
   "execution_count": 163,
   "id": "95dd38e5",
   "metadata": {},
   "outputs": [
    {
     "name": "stdout",
     "output_type": "stream",
     "text": [
      "U+0031\t  1   \tre_dig\tisdig\tisnum\t 1.00\tDIGIT ONE\n",
      "U+00bc\t  ¼   \t-\t-\tisnum\t 0.25\tVULGAR FRACTION ONE QUARTER\n",
      "U+00b2\t  ²   \t-\tisdig\tisnum\t 2.00\tSUPERSCRIPT TWO\n",
      "U+0969\t  ३   \tre_dig\tisdig\tisnum\t 3.00\tDEVANAGARI DIGIT THREE\n",
      "U+136b\t  ፫   \t-\tisdig\tisnum\t 3.00\tETHIOPIC DIGIT THREE\n",
      "U+216b\t  Ⅻ   \t-\t-\tisnum\t12.00\tROMAN NUMERAL TWELVE\n",
      "U+2466\t  ⑦   \t-\tisdig\tisnum\t 7.00\tCIRCLED DIGIT SEVEN\n",
      "U+2480\t  ⒀   \t-\t-\tisnum\t13.00\tPARENTHESIZED NUMBER THIRTEEN\n",
      "U+3285\t  ㊅   \t-\t-\tisnum\t 6.00\tCIRCLED IDEOGRAPH SIX\n"
     ]
    }
   ],
   "source": [
    "import unicodedata\n",
    "import re\n",
    "\n",
    "re_digit = re.compile(r'\\d')\n",
    "\n",
    "sample = '1\\xbc\\xb2\\u0969\\u136b\\u216b\\u2466\\u2480\\u3285'\n",
    "\n",
    "for char in sample:\n",
    "    print(f'U+{ord(char):04x}',\n",
    "         char.center(6),\n",
    "         're_dig' if re_digit.match(char) else '-',\n",
    "         'isdig' if char.isdigit() else '-',\n",
    "         'isnum' if char.isnumeric() else '-',\n",
    "         f'{unicodedata.numeric(char):5.2f}',\n",
    "         unicodedata.name(char),\n",
    "         sep='\\t')\n",
    "    "
   ]
  },
  {
   "cell_type": "markdown",
   "id": "5ff7a484",
   "metadata": {},
   "source": [
    "## Двухрежимный API"
   ]
  },
  {
   "cell_type": "markdown",
   "id": "74cc601e",
   "metadata": {},
   "source": [
    "**str и bytes в регулярных выражениях**"
   ]
  },
  {
   "cell_type": "code",
   "execution_count": 166,
   "id": "aa7ecdd0",
   "metadata": {},
   "outputs": [
    {
     "name": "stdout",
     "output_type": "stream",
     "text": [
      "Text\n",
      " 'Ramanujan saw ௧௭௨௯ as 1729 = 1³ + 12³ = 9³ + 10³.'\n",
      "Numbers\n",
      " str : ['௧௭௨௯', '1729', '1', '12', '9', '10']\n",
      " bytes  [b'1729', b'1', b'12', b'9', b'10']\n",
      "Words\n",
      " str :  ['Ramanujan', 'saw', '௧௭௨௯', 'as', '1729', '1³', '12³', '9³', '10³']\n",
      " bytes : [b'Ramanujan', b'saw', b'as', b'1729', b'1', b'12', b'9', b'10']\n"
     ]
    }
   ],
   "source": [
    "import re\n",
    "\n",
    "re_numbers_str = re.compile(r'\\d+')\n",
    "re_words_str = re.compile(r'\\w+')\n",
    "re_numbers_bytes = re.compile(rb'\\d+')\n",
    "re_words_bytes = re.compile(rb'\\w+')\n",
    "\n",
    "text_str = (\"Ramanujan saw \\u0be7\\u0bed\\u0be8\\u0bef\"\n",
    " \" as 1729 = 1³ + 12³ = 9³ + 10³.\")\n",
    "\n",
    "text_bytes = text_str.encode('utf_8')\n",
    "\n",
    "print(f'Text\\n {text_str!r}')\n",
    "print('Numbers')\n",
    "print(' str :', re_numbers_str.findall(text_str))\n",
    "print(' bytes ', re_numbers_bytes.findall(text_bytes))\n",
    "print('Words')\n",
    "print(' str : ', re_words_str.findall(text_str))\n",
    "print(' bytes :', re_words_bytes.findall(text_bytes))\n",
    "      "
   ]
  },
  {
   "cell_type": "markdown",
   "id": "1a73a0d0",
   "metadata": {},
   "source": [
    "**str и bytes в функциях из модуля os**"
   ]
  },
  {
   "cell_type": "code",
   "execution_count": 176,
   "id": "eefdd71d",
   "metadata": {},
   "outputs": [
    {
     "data": {
      "text/plain": [
       "[b'Python Cookbook \\xd0\\xa7\\xd0\\xb0\\xd1\\x81\\xd1\\x82\\xd1\\x8c \\xd0\\xbf\\xd0\\xb5\\xd1\\x80\\xd0\\xb2\\xd0\\xb0\\xd1\\x8f.ipynb',\n",
       " b'floats.bin',\n",
       " b'dummy',\n",
       " b'\\xd0\\x93\\xd0\\xbb\\xd0\\xb0\\xd0\\xb2\\xd0\\xb0 4 Unicode-\\xd1\\x82\\xd0\\xb5\\xd0\\xba\\xd1\\x81\\xd1\\x82 \\xd0\\xb8 \\xd0\\xb1\\xd0\\xb0\\xd0\\xb9\\xd1\\x82\\xd1\\x8b.ipynb',\n",
       " b'cafe.txt',\n",
       " b'\\xd0\\x9f\\xd0\\xbe\\xd0\\xbb\\xd1\\x8c\\xd0\\xb7\\xd0\\xbe\\xd0\\xb2\\xd0\\xb0\\xd1\\x82\\xd0\\xb5\\xd0\\xbb\\xd1\\x8c\\xd1\\x81\\xd0\\xba\\xd0\\xb8\\xd0\\xb5 \\xd0\\xb0\\xd1\\x82\\xd1\\x80\\xd0\\xb8\\xd0\\xb1\\xd1\\x83\\xd1\\x82\\xd1\\x8b \\xd0\\xb2 Python.ipynb',\n",
       " b'Untitled.ipynb',\n",
       " b'.ipynb_checkpoints']"
      ]
     },
     "execution_count": 176,
     "metadata": {},
     "output_type": "execute_result"
    }
   ],
   "source": [
    "import os\n",
    "\n",
    "os.listdir('.')\n",
    "\n",
    "os.listdir(b'.')\n",
    "\n"
   ]
  },
  {
   "cell_type": "code",
   "execution_count": 175,
   "id": "3a1b58d9",
   "metadata": {},
   "outputs": [
    {
     "name": "stdout",
     "output_type": "stream",
     "text": [
      "/home/clarence/Python  к вершинам мастерства/Python Cookbook Часть первая.ipynb\n",
      "/home/clarence/Python  к вершинам мастерства/floats.bin\n",
      "/home/clarence/Python  к вершинам мастерства/dummy\n",
      "/home/clarence/Python  к вершинам мастерства/Глава 4 Unicode-текст и байты.ipynb\n",
      "/home/clarence/Python  к вершинам мастерства/cafe.txt\n",
      "/home/clarence/Python  к вершинам мастерства/Пользовательские атрибуты в Python.ipynb\n",
      "/home/clarence/Python  к вершинам мастерства/Untitled.ipynb\n",
      "/home/clarence/Python  к вершинам мастерства/.ipynb_checkpoints\n"
     ]
    }
   ],
   "source": [
    "from pathlib import Path\n",
    "\n",
    "for path in Path.cwd().iterdir():\n",
    "    print(path)"
   ]
  },
  {
   "cell_type": "code",
   "execution_count": null,
   "id": "201f8124",
   "metadata": {},
   "outputs": [],
   "source": []
  },
  {
   "cell_type": "code",
   "execution_count": null,
   "id": "3d2997ac",
   "metadata": {},
   "outputs": [],
   "source": []
  },
  {
   "cell_type": "code",
   "execution_count": null,
   "id": "eeefc433",
   "metadata": {},
   "outputs": [],
   "source": []
  },
  {
   "cell_type": "code",
   "execution_count": null,
   "id": "cf71a689",
   "metadata": {},
   "outputs": [],
   "source": []
  }
 ],
 "metadata": {
  "kernelspec": {
   "display_name": "Python 3 (ipykernel)",
   "language": "python",
   "name": "python3"
  },
  "language_info": {
   "codemirror_mode": {
    "name": "ipython",
    "version": 3
   },
   "file_extension": ".py",
   "mimetype": "text/x-python",
   "name": "python",
   "nbconvert_exporter": "python",
   "pygments_lexer": "ipython3",
   "version": "3.10.10"
  }
 },
 "nbformat": 4,
 "nbformat_minor": 5
}
