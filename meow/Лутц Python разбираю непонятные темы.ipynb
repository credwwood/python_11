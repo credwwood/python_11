{
 "cells": [
  {
   "cell_type": "markdown",
   "id": "a864f279",
   "metadata": {},
   "source": [
    "## Глава 9 \n",
    "## Кортежи, файлы и все остальное"
   ]
  },
  {
   "cell_type": "code",
   "execution_count": 1,
   "id": "3b6dbf0c",
   "metadata": {},
   "outputs": [
    {
     "name": "stdout",
     "output_type": "stream",
     "text": [
      "['aa', 'bb', 'cc', 'dd']\n"
     ]
    }
   ],
   "source": [
    "T = ('cc', 'aa', 'dd', 'bb')\n",
    "tmp = list(T)\n",
    "tmp.sort()\n",
    "T = tuple(tmp)\n",
    "print(sorted(T))"
   ]
  },
  {
   "cell_type": "code",
   "execution_count": 10,
   "id": "0f73c270",
   "metadata": {},
   "outputs": [
    {
     "name": "stdout",
     "output_type": "stream",
     "text": [
      "1\n",
      "4\n",
      "3\n"
     ]
    }
   ],
   "source": [
    "T = (1, 2, 3, 2, 4, 2)\n",
    "print(T.index(2))\n",
    "print(T.index(4, 3))\n",
    "print(T.count(2))"
   ]
  },
  {
   "cell_type": "code",
   "execution_count": 13,
   "id": "e76505b4",
   "metadata": {},
   "outputs": [
    {
     "name": "stdout",
     "output_type": "stream",
     "text": [
      "Bob\t['dev', 'mgr']\n"
     ]
    }
   ],
   "source": [
    "bob = ('Bob', 40.5, ['dev', 'mgr'])\n",
    "print(bob[0], bob[2], sep='\\t')"
   ]
  },
  {
   "cell_type": "code",
   "execution_count": 15,
   "id": "6fdc5bb4",
   "metadata": {},
   "outputs": [
    {
     "name": "stdout",
     "output_type": "stream",
     "text": [
      "Bob ['dev', 'mgr']\n",
      "('Bob', 40.5, ['dev', 'mgr'])\n",
      "(('name', 'Bob'), ('age', 40.5), ('jobs', ['dev', 'mgr']))\n"
     ]
    }
   ],
   "source": [
    "# Словарь несет больше информации\n",
    "\n",
    "bob = dict(name='Bob', age=40.5, jobs=['dev', 'mgr'])\n",
    "\n",
    "print(bob['name'], bob['jobs'])\n",
    "\n",
    "# При необходимости можем преобразовать в кортеж\n",
    "\n",
    "print(tuple(bob.values()))\n",
    "print(tuple(bob.items()))"
   ]
  },
  {
   "cell_type": "code",
   "execution_count": 23,
   "id": "5640bd85",
   "metadata": {},
   "outputs": [
    {
     "name": "stdout",
     "output_type": "stream",
     "text": [
      "Bob ['dev', 'mgr']\n",
      "Bob ['dev', 'mgr']\n",
      "Bob ['dev', 'mgr']\n"
     ]
    },
    {
     "data": {
      "text/plain": [
       "{'name': 'Bob', 'age': 40.5, 'jobs': ['dev', 'mgr']}"
      ]
     },
     "execution_count": 23,
     "metadata": {},
     "output_type": "execute_result"
    }
   ],
   "source": [
    "from collections import namedtuple\n",
    "\n",
    "Rec = namedtuple('Rec', 'name age jobs')\n",
    "\n",
    "bob = Rec('Bob', age=40.5, jobs=['dev', 'mgr'])\n",
    "print(bob[0], bob[2]) # доступ по позиции\n",
    "print(bob.name, bob.jobs) # доступ по имени атрибута\n",
    "\n",
    "# можно преобразовать в словарь при необходимости\n",
    "\n",
    "O = bob._asdict()\n",
    "print(O['name'], O['jobs'])\n",
    "O"
   ]
  },
  {
   "cell_type": "code",
   "execution_count": 27,
   "id": "ff0a6818",
   "metadata": {},
   "outputs": [
    {
     "name": "stdout",
     "output_type": "stream",
     "text": [
      "Bob\n",
      "40.5\n",
      "['dev', 'mgr']\n"
     ]
    }
   ],
   "source": [
    "bob = {'name': 'Bob', 'age': 40.5, 'jobs': ['dev', 'mgr']}\n",
    "\n",
    "job, name, age = bob.values()\n",
    "for x in bob:\n",
    "    print(bob[x])"
   ]
  },
  {
   "cell_type": "markdown",
   "id": "0753d0b1",
   "metadata": {},
   "source": [
    "## Хранение объектов Python в файлах: преобразования"
   ]
  },
  {
   "cell_type": "code",
   "execution_count": 42,
   "id": "7903cbdb",
   "metadata": {},
   "outputs": [
    {
     "data": {
      "text/plain": [
       "[[1, 2, 3], {'a': 1, 'b': 2}]"
      ]
     },
     "execution_count": 42,
     "metadata": {},
     "output_type": "execute_result"
    }
   ],
   "source": [
    "X, Y, Z = 43, 44, 45\n",
    "S = 'Spam'\n",
    "D = {'a': 1, 'b': 2}\n",
    "L = [1, 2, 3]\n",
    "\n",
    "F = open('datafile.txt', 'w')\n",
    "F.write(S + '\\n')\n",
    "F.write('%s, %s, %s\\n' % (X, Y, Z))\n",
    "F.write(str(L) + '$' + str(D) + '\\n')\n",
    "F.close()\n",
    "\n",
    "chars = open('datafile.txt').read()\n",
    "chars\n",
    "\n",
    "F = open('datafile.txt')\n",
    "line = F.readline()\n",
    "line.rstrip()\n",
    "line = F.readline()\n",
    "parts = line.split(',')\n",
    "int(parts[1])\n",
    "line = F.readline()\n",
    "parts = line.split('$')\n",
    "parts\n",
    "eval(parts[0])\n",
    "objects = [eval(P) for P in parts]\n",
    "objects\n"
   ]
  },
  {
   "cell_type": "markdown",
   "id": "fa49e06e",
   "metadata": {},
   "source": [
    "## Хранение собственных объектов Python: модуль pickle"
   ]
  },
  {
   "cell_type": "code",
   "execution_count": 64,
   "id": "9e9ee695",
   "metadata": {},
   "outputs": [
    {
     "name": "stdout",
     "output_type": "stream",
     "text": [
      "{'a': 2, 'b': 'spam', 'c': [1, 2, 3]}\n"
     ]
    }
   ],
   "source": [
    "D = {'a': 1, 'b': 2}\n",
    "F = open('datafile.pk1', 'wb')\n",
    "\n",
    "import pickle\n",
    "pickle.dump(D, F)\n",
    "F.close()\n",
    "\n",
    "F = open('datafile.pk1', 'rb')\n",
    "E = pickle.load(F)\n",
    "E\n",
    "\n",
    "A = dict(a=2, b='spam', c=[1, 2, 3])\n",
    "F = open('datafile.pk1', 'wb')\n",
    "\n",
    "E = pickle.dump(A, F)\n",
    "\n",
    "F = open('datafile.pk1', 'rb')\n",
    "\n",
    "pickle.load(F)\n",
    "\n",
    "F.close()\n",
    "\n",
    "F = open('datafile.pk1', 'ab+')\n",
    "\n",
    "D2 = [1, 2, 3]\n",
    "\n",
    "pickle.dump(D2, F)\n",
    "\n",
    "F.close()\n",
    "\n",
    "F = open('datafile.pk1', 'rb')\n",
    "E = pickle.load(F)\n",
    "E\n",
    "\n",
    "C = open('datafile.pk1', 'ab+')\n",
    "D3 = 'sssss'\n",
    "\n",
    "pickle.dump(D3, C)\n",
    "\n",
    "C.close()\n",
    "\n",
    "C = open('datafile.pk1', 'rb')\n",
    "\n",
    "T = pickle.load(C)\n",
    "print(T)"
   ]
  },
  {
   "cell_type": "code",
   "execution_count": 66,
   "id": "91442d0d",
   "metadata": {},
   "outputs": [
    {
     "name": "stdout",
     "output_type": "stream",
     "text": [
      "{'a': 2, 'b': 'spam', 'c': [1, 2, 3]}\n"
     ]
    }
   ],
   "source": [
    "C = open('datafile.pk1', 'ab+')\n",
    "D3 = \n",
    "\n",
    "pickle.dump(D3, C)\n",
    "\n",
    "C.close()\n",
    "\n",
    "C = open('datafile.pk1', 'rb')\n",
    "\n",
    "T = pickle.load(C)\n",
    "print(T)"
   ]
  },
  {
   "cell_type": "markdown",
   "id": "123c0c2f",
   "metadata": {},
   "source": [
    "## Хранение объектов Python в формате JSON"
   ]
  },
  {
   "cell_type": "code",
   "execution_count": 67,
   "id": "3a3f6b48",
   "metadata": {},
   "outputs": [
    {
     "data": {
      "text/plain": [
       "{'name': {'first': 'Bob', 'last': 'Smith'}, 'job': ['dev', 'mgr'], 'age': 40.5}"
      ]
     },
     "execution_count": 67,
     "metadata": {},
     "output_type": "execute_result"
    }
   ],
   "source": [
    "name = dict(first='Bob', last='Smith')\n",
    "rec = dict(name=name, job=['dev', 'mgr'], age=40.5)\n",
    "rec"
   ]
  },
  {
   "cell_type": "code",
   "execution_count": 72,
   "id": "511f8e31",
   "metadata": {},
   "outputs": [
    {
     "name": "stdout",
     "output_type": "stream",
     "text": [
      "{'name': {'first': 'Bob', 'last': 'Smith'}, 'job': ['dev', 'mgr'], 'age': 40.5}\n"
     ]
    },
    {
     "data": {
      "text/plain": [
       "True"
      ]
     },
     "execution_count": 72,
     "metadata": {},
     "output_type": "execute_result"
    }
   ],
   "source": [
    "import json \n",
    "json.dumps(rec)\n",
    "S = json.dumps(rec)\n",
    "S\n",
    "O = json.loads(S)\n",
    "print(O)\n",
    "O == rec"
   ]
  },
  {
   "cell_type": "code",
   "execution_count": 80,
   "id": "5389aad5",
   "metadata": {},
   "outputs": [
    {
     "name": "stdout",
     "output_type": "stream",
     "text": [
      "{\n",
      "    \"name\": {\n",
      "        \"first\": \"Bob\",\n",
      "        \"last\": \"Smith\"\n",
      "    },\n",
      "    \"job\": [\n",
      "        \"dev\",\n",
      "        \"mgr\"\n",
      "    ],\n",
      "    \"age\": 40.5\n",
      "}\n"
     ]
    },
    {
     "data": {
      "text/plain": [
       "{'name': {'first': 'Bob', 'last': 'Smith'}, 'job': ['dev', 'mgr'], 'age': 40.5}"
      ]
     },
     "execution_count": 80,
     "metadata": {},
     "output_type": "execute_result"
    }
   ],
   "source": [
    "json.dump(rec, fp=open('testjson.txt', 'w'), indent=4)\n",
    "print(open('testjson.txt').read())\n",
    "\n",
    "P = json.load(open('testjson.txt'))\n",
    "P"
   ]
  },
  {
   "cell_type": "code",
   "execution_count": 82,
   "id": "fd21cc41",
   "metadata": {},
   "outputs": [
    {
     "name": "stdout",
     "output_type": "stream",
     "text": [
      "['c']\n",
      "['s']\n",
      "['v']\n",
      "['d']\n",
      "['a']\n",
      "['t']\n",
      "['a']\n",
      "['.']\n",
      "['t']\n",
      "['x']\n",
      "['t']\n"
     ]
    }
   ],
   "source": [
    "import csv\n",
    "rdr = csv.reader('csvdata.txt')\n",
    "for row in rdr:\n",
    "    print(row)"
   ]
  },
  {
   "cell_type": "markdown",
   "id": "0e451869",
   "metadata": {},
   "source": [
    "## Хранение упакованных двоичных данных: модуль struct"
   ]
  },
  {
   "cell_type": "code",
   "execution_count": 94,
   "id": "00f2874c",
   "metadata": {},
   "outputs": [
    {
     "name": "stdout",
     "output_type": "stream",
     "text": [
      "b'\\x00\\x00\\x00\\x07spam\\x00\\x00\\x00\\x08'\n"
     ]
    },
    {
     "data": {
      "text/plain": [
       "(7, b'spam\\x00\\x00', 8)"
      ]
     },
     "execution_count": 94,
     "metadata": {},
     "output_type": "execute_result"
    }
   ],
   "source": [
    "F = open('data.bin', 'wb')\n",
    "\n",
    "import struct\n",
    "\n",
    "data = struct.pack('>i6sh', 7, b'spam', 8)\n",
    "data\n",
    "F.write(data)\n",
    "F.close()\n",
    "F = open('data.bin', 'rb')\n",
    "data = F.read()\n",
    "print(data)\n",
    "values = struct.unpack('>i6sh', data)\n",
    "values"
   ]
  },
  {
   "cell_type": "code",
   "execution_count": 100,
   "id": "5cc48b9f",
   "metadata": {},
   "outputs": [
    {
     "name": "stdout",
     "output_type": "stream",
     "text": [
      "{'a': [1, [1, 2], 3], 'b': {'a': 'spam', 1: 3}}\n",
      "{'a': [1, [1, 2], 3], 'b': {'a': 'spam', 1: 3}}\n"
     ]
    }
   ],
   "source": [
    "x = dict(a=[1, [1, 2], 3], b={'a': 'spam', 1: 3})\n",
    "d = x.copy()\n",
    "\n",
    "import copy\n",
    "\n",
    "r = copy.deepcopy(x)\n",
    "\n",
    "print(d, r, sep='\\n')"
   ]
  },
  {
   "cell_type": "code",
   "execution_count": 102,
   "id": "1adf65b0",
   "metadata": {},
   "outputs": [
    {
     "name": "stdout",
     "output_type": "stream",
     "text": [
      "[1, 2, 3, [...]]\n",
      "[1, 2, 3, [...]]\n"
     ]
    }
   ],
   "source": [
    "r = [1, 2, 3]\n",
    "r.append(r)\n",
    "print(r)\n",
    "[1, 2, 3, [...]]\n",
    "p = copy.deepcopy(r)\n",
    "print(p)\n",
    "[1, 2, 3, [...]]\n",
    "\n",
    "pp = copy.copy(r)"
   ]
  },
  {
   "cell_type": "code",
   "execution_count": 122,
   "id": "4abaadb8",
   "metadata": {},
   "outputs": [
    {
     "name": "stdout",
     "output_type": "stream",
     "text": [
      "[[1, 2, 3], [4, 5, 6]]\n",
      "[[1, 2, 3], ['Ni', 5, 6]] [[1, 2, 3], ['Ni', 5, 6]]\n"
     ]
    }
   ],
   "source": [
    "a = [[1, 2, 3], [4, 5, 6]]\n",
    "b = a[:]\n",
    "# b[0][1] = 10\n",
    "# a[0][1] = 10\n",
    "print(a)\n",
    "\n",
    "b[1][0] = 'Ni'\n",
    "print(a, b)"
   ]
  },
  {
   "cell_type": "code",
   "execution_count": 112,
   "id": "25e1b786",
   "metadata": {},
   "outputs": [
    {
     "name": "stdout",
     "output_type": "stream",
     "text": [
      "[1, 2, 3] {'a': 1, 'b': 2} [1, 'Ni', 3] {'a': 1, 'b': 2, 'c': 'spam'}\n"
     ]
    }
   ],
   "source": [
    "L = [1, 2, 3]\n",
    "D = dict(a=1, b=2)\n",
    "\n",
    "A = L[:]\n",
    "B = D.copy()\n",
    "\n",
    "A[1] = 'Ni'\n",
    "B['c'] = 'spam'\n",
    "print(L, D, A, B)"
   ]
  },
  {
   "cell_type": "code",
   "execution_count": 123,
   "id": "5f82c018",
   "metadata": {},
   "outputs": [
    {
     "name": "stdout",
     "output_type": "stream",
     "text": [
      "[24, 3, 4] [24, 3, 4]\n"
     ]
    }
   ],
   "source": [
    "L1 = [2, 3, 4]\n",
    "L2 = L1\n",
    "L1[0] = 24\n",
    "print(L1, L2)"
   ]
  },
  {
   "cell_type": "code",
   "execution_count": 126,
   "id": "2333a0ba",
   "metadata": {},
   "outputs": [
    {
     "name": "stdout",
     "output_type": "stream",
     "text": [
      "[24, 3, 4] [2, 3, 4]\n"
     ]
    }
   ],
   "source": [
    "from copy import deepcopy\n",
    "L1 = [2, 3, 4]\n",
    "L2 = deepcopy(L1)\n",
    "\n",
    "L1[0] = 24\n",
    "print(L1, L2)"
   ]
  },
  {
   "cell_type": "code",
   "execution_count": 127,
   "id": "f1c93269",
   "metadata": {},
   "outputs": [
    {
     "name": "stdout",
     "output_type": "stream",
     "text": [
      "[24, 3, 4] [2, 3, 4]\n"
     ]
    }
   ],
   "source": [
    "L1 = [2, 3, 4]\n",
    "L2 = L1[:]\n",
    "L1[0] = 24\n",
    "print(L1, L2)"
   ]
  },
  {
   "cell_type": "code",
   "execution_count": null,
   "id": "c4f4c870",
   "metadata": {},
   "outputs": [],
   "source": []
  }
 ],
 "metadata": {
  "kernelspec": {
   "display_name": "Python 3 (ipykernel)",
   "language": "python",
   "name": "python3"
  },
  "language_info": {
   "codemirror_mode": {
    "name": "ipython",
    "version": 3
   },
   "file_extension": ".py",
   "mimetype": "text/x-python",
   "name": "python",
   "nbconvert_exporter": "python",
   "pygments_lexer": "ipython3",
   "version": "3.10.10"
  }
 },
 "nbformat": 4,
 "nbformat_minor": 5
}
