{
 "cells": [
  {
   "cell_type": "markdown",
   "id": "5c566aa6",
   "metadata": {},
   "source": [
    "## 2.1. Разрезание строк различными разделителями"
   ]
  },
  {
   "cell_type": "code",
   "execution_count": 71,
   "id": "9844d679",
   "metadata": {},
   "outputs": [
    {
     "data": {
      "text/plain": [
       "['asdf', 'fjdk', 'afed', 'fjek', 'asdf', 'foo', '']"
      ]
     },
     "execution_count": 71,
     "metadata": {},
     "output_type": "execute_result"
    }
   ],
   "source": [
    "line = 'asdf fjdk; afed, fjek,asdf, foo '\n",
    "\n",
    "import re\n",
    "\n",
    "re.split(r'[;,\\s]\\s*', line)"
   ]
  },
  {
   "cell_type": "code",
   "execution_count": 3,
   "id": "209f9aef",
   "metadata": {},
   "outputs": [
    {
     "data": {
      "text/plain": [
       "['asdf', ' ', 'fjdk', ';', 'afed', ',', 'fjek', ',', 'asdf', ',', 'foo']"
      ]
     },
     "execution_count": 3,
     "metadata": {},
     "output_type": "execute_result"
    }
   ],
   "source": [
    "# Захватывающие скобки\n",
    "\n",
    "fields = re.split(r'(;|,|\\s)\\s*', line)\n",
    "fields"
   ]
  },
  {
   "cell_type": "code",
   "execution_count": 9,
   "id": "6ec6d245",
   "metadata": {},
   "outputs": [
    {
     "name": "stdout",
     "output_type": "stream",
     "text": [
      "['asdf', 'fjdk', 'afed', 'fjek', 'asdf', 'foo']\n",
      "[' ', ';', ',', ',', ',', '']\n"
     ]
    },
    {
     "data": {
      "text/plain": [
       "'asdf fjdk;afed,fjek,asdf,foo'"
      ]
     },
     "execution_count": 9,
     "metadata": {},
     "output_type": "execute_result"
    }
   ],
   "source": [
    "values = fields[::2]\n",
    "delimiters = fields[1::2] + ['']\n",
    "print(values)\n",
    "print(delimiters)\n",
    "\n",
    "''.join(v+d for v,d in zip(values, delimiters))"
   ]
  },
  {
   "cell_type": "code",
   "execution_count": 10,
   "id": "74e76d9e",
   "metadata": {},
   "outputs": [
    {
     "data": {
      "text/plain": [
       "['asdf', 'fjdk', 'afed', 'fjek', 'asdf', 'foo']"
      ]
     },
     "execution_count": 10,
     "metadata": {},
     "output_type": "execute_result"
    }
   ],
   "source": [
    "# использование незахватывающей группы\n",
    "\n",
    "re.split(r'(?:,|;|\\s)\\s*', line)\n"
   ]
  },
  {
   "cell_type": "code",
   "execution_count": 81,
   "id": "7a97dc50",
   "metadata": {},
   "outputs": [
    {
     "name": "stdout",
     "output_type": "stream",
     "text": [
      "['flflf', 'fllflff', 'lflfllf', 'flflflf', 'flkd', 'gk', '']\n"
     ]
    },
    {
     "data": {
      "text/plain": [
       "['flflf', ',', 'fllflff:,,', 'lflfllf,', 'flflflf', ',', 'flkd;gk', '']"
      ]
     },
     "execution_count": 81,
     "metadata": {},
     "output_type": "execute_result"
    }
   ],
   "source": [
    "line_1 = 'flflf , fllflff:,, lflfllf,   flflflf , flkd;gk '\n",
    "\n",
    "print(re.split(r'\\s?(?:,|;|:|\\s+)+\\s*', line_1))\n",
    "re.split(r'\\s+', line_1)"
   ]
  },
  {
   "cell_type": "markdown",
   "id": "097f9d17",
   "metadata": {},
   "source": [
    "## 2.2. Поиск текста в начале и в конце строки"
   ]
  },
  {
   "cell_type": "code",
   "execution_count": 84,
   "id": "4930cc6d",
   "metadata": {},
   "outputs": [
    {
     "name": "stdout",
     "output_type": "stream",
     "text": [
      "True\n",
      "False\n"
     ]
    },
    {
     "data": {
      "text/plain": [
       "True"
      ]
     },
     "execution_count": 84,
     "metadata": {},
     "output_type": "execute_result"
    }
   ],
   "source": [
    "filename = 'spam.txt'\n",
    "print(filename.endswith('txt'))\n",
    "print(filename.startswith('fuile:'))\n",
    "\n",
    "url = 'http://www.python.org'\n",
    "url.startswith('http:')"
   ]
  },
  {
   "cell_type": "code",
   "execution_count": 89,
   "id": "00ec20e6",
   "metadata": {},
   "outputs": [
    {
     "name": "stdout",
     "output_type": "stream",
     "text": [
      "['Python Cookbook Часть первая.ipynb', 'floats.bin', 'dummy', 'Глава 4 Unicode-текст и байты.ipynb', 'cafe.txt', 'Python Cookbook Глава 2 Строки и текст.ipynb', 'Пользовательские атрибуты в Python.ipynb', 'Untitled.ipynb', '.ipynb_checkpoints']\n",
      "False\n"
     ]
    }
   ],
   "source": [
    "import os\n",
    "\n",
    "filenames = os.listdir('.')\n",
    "print(filenames)\n",
    "[name for name in filenames if name.endswith(('.c', '.h'))]\n",
    "\n",
    "print(any(name.endswith('.py') for name in filenames))"
   ]
  },
  {
   "cell_type": "code",
   "execution_count": 92,
   "id": "3edfd378",
   "metadata": {},
   "outputs": [],
   "source": [
    "from urllib.request import urlopen\n",
    "\n",
    "def read_data(name):\n",
    "    if name.startswith(('http:', 'https:', 'ftp:')):\n",
    "        return urlopen(name).read()\n",
    "    else:\n",
    "        with open(name) as f:\n",
    "            return f.read()"
   ]
  },
  {
   "cell_type": "code",
   "execution_count": 94,
   "id": "d0a7d77b",
   "metadata": {},
   "outputs": [
    {
     "data": {
      "text/plain": [
       "True"
      ]
     },
     "execution_count": 94,
     "metadata": {},
     "output_type": "execute_result"
    }
   ],
   "source": [
    "choices = ['http:', 'ftp:']\n",
    "url = 'http://www.python.org'\n",
    "url.startswith(tuple(choices))"
   ]
  },
  {
   "cell_type": "code",
   "execution_count": 97,
   "id": "046b0977",
   "metadata": {},
   "outputs": [
    {
     "data": {
      "text/plain": [
       "True"
      ]
     },
     "execution_count": 97,
     "metadata": {},
     "output_type": "execute_result"
    }
   ],
   "source": [
    "# использование срезов\n",
    "\n",
    "filename = 'spam.txt'\n",
    "filename[-4:] == '.txt'\n",
    "url = 'http://www.python.org'\n",
    "url[:5] == 'http:' or url[:6] == 'https:' or url[:4] == 'ftp:'"
   ]
  },
  {
   "cell_type": "code",
   "execution_count": 98,
   "id": "0193884b",
   "metadata": {},
   "outputs": [
    {
     "data": {
      "text/plain": [
       "<re.Match object; span=(0, 5), match='http:'>"
      ]
     },
     "execution_count": 98,
     "metadata": {},
     "output_type": "execute_result"
    }
   ],
   "source": [
    "# использование регулярных выражений\n",
    "\n",
    "import re\n",
    "url = 'http://www.python.org'\n",
    "re.match('http:|https:|ftp:', url)"
   ]
  },
  {
   "cell_type": "code",
   "execution_count": 115,
   "id": "b627edaf",
   "metadata": {},
   "outputs": [
    {
     "name": "stdout",
     "output_type": "stream",
     "text": [
      "Yes\n"
     ]
    }
   ],
   "source": [
    "from pathlib import Path\n",
    "\n",
    "if not any(str(name).endswith(('.c', '.h')) for name in Path.cwd().iterdir()):\n",
    "    print('Yes')\n",
    "    \n",
    "\n",
    "\n",
    "# str(Path.cwd())"
   ]
  },
  {
   "cell_type": "markdown",
   "id": "5b789937",
   "metadata": {},
   "source": [
    "## 2.3. Поиск строк с использованием масок оболочки (shell)"
   ]
  },
  {
   "cell_type": "code",
   "execution_count": 119,
   "id": "c14bc6d5",
   "metadata": {},
   "outputs": [
    {
     "name": "stdout",
     "output_type": "stream",
     "text": [
      "True\n",
      "True\n",
      "True\n"
     ]
    },
    {
     "data": {
      "text/plain": [
       "['Dat1.csv', 'Dat2.csv']"
      ]
     },
     "execution_count": 119,
     "metadata": {},
     "output_type": "execute_result"
    }
   ],
   "source": [
    "from fnmatch import fnmatch, fnmatchcase\n",
    "\n",
    "print(fnmatch('foo.txt', '*.txt'))\n",
    "print(fnmatch('foo.txt', '?oo.txt'))\n",
    "print(fnmatch('Dat45.csv', 'Dat[0-9]*'))\n",
    "names = ['Dat1.csv', 'Dat2.csv', 'config.ini', 'foo.py']\n",
    "[name for name in names if fnmatch(name, 'Dat*.csv')]"
   ]
  },
  {
   "cell_type": "code",
   "execution_count": 120,
   "id": "a11638e3",
   "metadata": {},
   "outputs": [
    {
     "data": {
      "text/plain": [
       "False"
      ]
     },
     "execution_count": 120,
     "metadata": {},
     "output_type": "execute_result"
    }
   ],
   "source": [
    "fnmatch('foo.txt', '*.TXT')"
   ]
  },
  {
   "cell_type": "code",
   "execution_count": 126,
   "id": "13b9b6a7",
   "metadata": {},
   "outputs": [
    {
     "name": "stdout",
     "output_type": "stream",
     "text": [
      "['5412 N CLARK ST', '1060 W ADDISON ST', '2122 N CLARK ST']\n",
      "['5412 N CLARK ST']\n"
     ]
    }
   ],
   "source": [
    "addresses = [\n",
    " '5412 N CLARK ST',\n",
    " '1060 W ADDISON ST',\n",
    " '1039 W GRANVILLE AVE',\n",
    " '2122 N CLARK ST',\n",
    " '4802 N BROADWAY',\n",
    "]\n",
    "\n",
    "from fnmatch import fnmatchcase\n",
    "print([addr for addr in addresses if fnmatchcase(addr, '* ST')])\n",
    "print([addr for addr in addresses if fnmatchcase(addr, '54[0-9][0-9] *CLARK*')])"
   ]
  },
  {
   "cell_type": "markdown",
   "id": "831117ea",
   "metadata": {},
   "source": [
    "## 2.4. Поиск совпадений и поиск текстовых паттернов"
   ]
  },
  {
   "cell_type": "code",
   "execution_count": 130,
   "id": "0c592281",
   "metadata": {},
   "outputs": [
    {
     "data": {
      "text/plain": [
       "10"
      ]
     },
     "execution_count": 130,
     "metadata": {},
     "output_type": "execute_result"
    }
   ],
   "source": [
    "text = 'yeah, but no, but yeah, but no, but yeah'\n",
    "\n",
    "text == 'yeah'\n",
    "\n",
    "text.startswith('yeah')\n",
    "text.endswith('no')\n",
    "\n",
    "text.find('no')"
   ]
  },
  {
   "cell_type": "code",
   "execution_count": 132,
   "id": "031c5582",
   "metadata": {},
   "outputs": [
    {
     "name": "stdout",
     "output_type": "stream",
     "text": [
      "yes\n",
      "yes\n"
     ]
    }
   ],
   "source": [
    "# использование регулярных выражений\n",
    "\n",
    "text1 = '11/27/2012'\n",
    "text2 = 'Nov 27, 2012'\n",
    "\n",
    "import re\n",
    "\n",
    "if re.match(r'\\d+/\\d+/\\d+', text1):\n",
    "    print('yes')\n",
    "else:\n",
    "    print('no')\n",
    "    \n",
    "if re.match(r'\\w+\\s?\\d+', text2):\n",
    "    print('yes')\n",
    "else:\n",
    "    print('no')"
   ]
  },
  {
   "cell_type": "code",
   "execution_count": 135,
   "id": "875b6bf1",
   "metadata": {},
   "outputs": [
    {
     "name": "stdout",
     "output_type": "stream",
     "text": [
      "yes\n",
      "no\n"
     ]
    }
   ],
   "source": [
    "datepat = re.compile(r'\\d+/\\d+/\\d+')\n",
    "\n",
    "if datepat.match(text1):\n",
    "    print('yes')\n",
    "else:\n",
    "    print('no')\n",
    "    \n",
    "if datepat.match(text2):\n",
    "    print('yes')\n",
    "else:\n",
    "    print('no')"
   ]
  },
  {
   "cell_type": "code",
   "execution_count": 141,
   "id": "05e21277",
   "metadata": {},
   "outputs": [
    {
     "name": "stdout",
     "output_type": "stream",
     "text": [
      "11/27/2012\n",
      "11\n",
      "27\n",
      "2012\n",
      "('11', '27', '2012')\n",
      "[('11', '27', '2012'), ('3', '13', '2013')]\n",
      "2012-11-27\n",
      "2013-3-13\n"
     ]
    }
   ],
   "source": [
    "text = 'Today is 11/27/2012. PyCon starts 3/13/2013.'\n",
    "\n",
    "datepat.findall(text)\n",
    "\n",
    "datepat = re.compile(r'(\\d+)/(\\d+)/(\\d+)')\n",
    "\n",
    "\n",
    "m = datepat.match('11/27/2012')\n",
    "print(m.group(0))\n",
    "print(m.group(1))\n",
    "print(m.group(2))\n",
    "print(m.group(3))\n",
    "print(m.groups())\n",
    "\n",
    "month, dat, year = m.groups()\n",
    "\n",
    "print(datepat.findall(text))\n",
    "\n",
    "for month, day, year in datepat.findall(text):\n",
    "    print('{}-{}-{}'.format(year, month, day))"
   ]
  },
  {
   "cell_type": "code",
   "execution_count": 142,
   "id": "f86bceb9",
   "metadata": {},
   "outputs": [
    {
     "name": "stdout",
     "output_type": "stream",
     "text": [
      "('11', '27', '2012')\n",
      "('3', '13', '2013')\n"
     ]
    }
   ],
   "source": [
    "# находим все вхождения итеративно\n",
    "\n",
    "for m in datepat.finditer(text):\n",
    "    print(m.groups())"
   ]
  },
  {
   "cell_type": "code",
   "execution_count": 149,
   "id": "eec0567a",
   "metadata": {},
   "outputs": [],
   "source": [
    "# для точного совпадения добавить \\$\n",
    "\n",
    "datepat = re.compile(r'(\\d+)/(\\d+)/(\\d+)\\$')\n",
    "\n",
    "# print(datepat.match('11/27/2012abcdef'))\n",
    "datepat.match('11/27/2012')\n",
    "\n",
    "datepat.match('11/27/2012')"
   ]
  },
  {
   "cell_type": "code",
   "execution_count": 152,
   "id": "9eec8a01",
   "metadata": {},
   "outputs": [
    {
     "data": {
      "text/plain": [
       "[('11', '27', '2012'), ('3', '13', '2013')]"
      ]
     },
     "execution_count": 152,
     "metadata": {},
     "output_type": "execute_result"
    }
   ],
   "source": [
    "datepat = re.compile(r'(\\d+)/(\\d+)/(\\d+)\\$')\n",
    "datepat.match('11/27/2012abcdef')\n",
    "datepat.match('11/27/2012')\n",
    "\n",
    "re.findall(r'(\\d+)/(\\d+)/(\\d+)', text)"
   ]
  },
  {
   "cell_type": "markdown",
   "id": "27fbe6e1",
   "metadata": {},
   "source": [
    "## 2.5. Поиск и замена текста"
   ]
  },
  {
   "cell_type": "code",
   "execution_count": 153,
   "id": "42eef044",
   "metadata": {},
   "outputs": [
    {
     "data": {
      "text/plain": [
       "'yep, but no, but yep, but no, but yep'"
      ]
     },
     "execution_count": 153,
     "metadata": {},
     "output_type": "execute_result"
    }
   ],
   "source": [
    "text = 'yeah, but no, but yeah, but no, but yeah'\n",
    "\n",
    "text.replace('yeah', 'yep')"
   ]
  },
  {
   "cell_type": "code",
   "execution_count": 154,
   "id": "8452ce4f",
   "metadata": {},
   "outputs": [
    {
     "data": {
      "text/plain": [
       "'Today is 2012-11-27. PyCon starts 2013-3-13.'"
      ]
     },
     "execution_count": 154,
     "metadata": {},
     "output_type": "execute_result"
    }
   ],
   "source": [
    "text = 'Today is 11/27/2012. PyCon starts 3/13/2013.'\n",
    "\n",
    "import re\n",
    "\n",
    "re.sub(r'(\\d+)/(\\d+)/(\\d+)', r'\\3-\\1-\\2', text)"
   ]
  },
  {
   "cell_type": "code",
   "execution_count": 155,
   "id": "d6a1306a",
   "metadata": {},
   "outputs": [
    {
     "data": {
      "text/plain": [
       "'Today is 2012-11-27. PyCon starts 2013-3-13.'"
      ]
     },
     "execution_count": 155,
     "metadata": {},
     "output_type": "execute_result"
    }
   ],
   "source": [
    "# компилирование шаблона\n",
    "\n",
    "import re\n",
    "\n",
    "datepat = re.compile(r'(\\d+)/(\\d+)/(\\d+)')\n",
    "datepat.sub(r'\\3-\\1-\\2', text)"
   ]
  },
  {
   "cell_type": "code",
   "execution_count": 158,
   "id": "bb8d952f",
   "metadata": {},
   "outputs": [
    {
     "name": "stdout",
     "output_type": "stream",
     "text": [
      "Today is 2012-11-27. PyCon starts 2013-3-13.\n",
      "2\n"
     ]
    }
   ],
   "source": [
    "# подстановочная функция обратного вызова\n",
    "\n",
    "from calendar import month_abbr\n",
    "\n",
    "def change_date(m):\n",
    "    mon_name = month_abbr[int(m.group(1))]\n",
    "    return '{} {} {}'.format(m.group(2), mon_name, m.group(3))\n",
    "\n",
    "datepat.sub(change_date, text)\n",
    "\n",
    "newtext, n = datepat.subn(r'\\3-\\1-\\2', text)\n",
    "print(newtext, n, sep='\\n')"
   ]
  },
  {
   "cell_type": "markdown",
   "id": "22a90cd8",
   "metadata": {},
   "source": [
    "## 2.6. Поиск и замена текста без учета регистра"
   ]
  },
  {
   "cell_type": "code",
   "execution_count": 160,
   "id": "8d705fd5",
   "metadata": {},
   "outputs": [
    {
     "name": "stdout",
     "output_type": "stream",
     "text": [
      "['PYTHON', 'python', 'Python']\n"
     ]
    },
    {
     "data": {
      "text/plain": [
       "'UPPER snake, lower snake, Mixed snake'"
      ]
     },
     "execution_count": 160,
     "metadata": {},
     "output_type": "execute_result"
    }
   ],
   "source": [
    "# флаг re.IGNORCASE\n",
    "\n",
    "text = 'UPPER PYTHON, lower python, Mixed Python'\n",
    "print(re.findall('python', text, flags=re.IGNORECASE))\n",
    "re.sub('python', 'snake', text, flags=re.IGNORECASE)"
   ]
  },
  {
   "cell_type": "code",
   "execution_count": 161,
   "id": "9afbc7af",
   "metadata": {},
   "outputs": [
    {
     "name": "stdout",
     "output_type": "stream",
     "text": [
      "PYTHON\n",
      "python\n",
      "Python\n"
     ]
    },
    {
     "data": {
      "text/plain": [
       "'UPPER SNAKE, lower snake, Mixed Snake'"
      ]
     },
     "execution_count": 161,
     "metadata": {},
     "output_type": "execute_result"
    }
   ],
   "source": [
    "# функция поддержки\n",
    "\n",
    "def matchcase(word):\n",
    "    def replace(m):\n",
    "        text = m.group()\n",
    "        print(text)\n",
    "        if text.isupper():\n",
    "            return word.upper()\n",
    "        elif text.islower():\n",
    "            return word.lower()\n",
    "        elif text[0].isupper():\n",
    "            return word.capitalize()\n",
    "        else:\n",
    "            return word\n",
    "    return replace\n",
    "\n",
    "\n",
    "# пример использования вышеуказанной функции \n",
    "\n",
    "re.sub('python', matchcase('snake'), text, flags=re.IGNORECASE)"
   ]
  },
  {
   "cell_type": "markdown",
   "id": "a086edc7",
   "metadata": {},
   "source": [
    "## 2.7. Определение регулярных выражений для поиска\n",
    "## кратчайшего совпадения"
   ]
  },
  {
   "cell_type": "code",
   "execution_count": 169,
   "id": "78909399",
   "metadata": {},
   "outputs": [
    {
     "name": "stdout",
     "output_type": "stream",
     "text": [
      "['no']\n",
      "['no\". Phone says \"yes']\n",
      "['no', 'yes']\n"
     ]
    }
   ],
   "source": [
    "str_pat = re.compile(r'\\\"(.*)\\\"')\n",
    "text1 = 'Computer days \"no\".'\n",
    "print(str_pat.findall(text1))\n",
    "\n",
    "text2 = 'Computer dats \"no\". Phone says \"yes\".'\n",
    "print(str_pat.findall(text2))\n",
    "\n",
    "str_pat = re.compile(r'\\\"(.*?)\\\"')\n",
    "print(str_pat.findall(text2))\n",
    "\n"
   ]
  },
  {
   "cell_type": "markdown",
   "id": "0bc8eb8e",
   "metadata": {},
   "source": [
    "## 2.8. Написание регулярного выражения\n",
    "## для многострочных шаблонов"
   ]
  },
  {
   "cell_type": "code",
   "execution_count": 214,
   "id": "2b780388",
   "metadata": {},
   "outputs": [
    {
     "data": {
      "text/plain": [
       "[' this is a\\n... multiline comment ']"
      ]
     },
     "execution_count": 214,
     "metadata": {},
     "output_type": "execute_result"
    }
   ],
   "source": [
    "comment = re.compile(r'/\\*((.|/n)*?)\\*/')\n",
    "\n",
    "text1 = '/* this is a comment */'\n",
    "text2 = '''/* this is a\n",
    "... multiline comment */\n",
    "... \n",
    "*/ ghjgjg */               '''\n",
    "\n",
    "comment.findall(text1)\n",
    "comment.findall(text2)\n",
    "\n",
    "commet = re.compile(r'/\\*((.|\\n)*?)\\*/')\n",
    "\n",
    "commet.findall(text2)\n",
    "\n",
    "comm = commet = re.compile(r'/\\*((?:.|\\n)*?)\\*/')\n",
    "comm.findall(text2)\n"
   ]
  },
  {
   "cell_type": "code",
   "execution_count": 215,
   "id": "7ad211ef",
   "metadata": {},
   "outputs": [
    {
     "data": {
      "text/plain": [
       "[' this is a\\n... multiline comment ']"
      ]
     },
     "execution_count": 215,
     "metadata": {},
     "output_type": "execute_result"
    }
   ],
   "source": [
    "comment = re.compile(r'/\\*(.*?)\\*/', re.DOTALL)\n",
    "comment.findall(text2)"
   ]
  },
  {
   "cell_type": "markdown",
   "id": "98e19a9a",
   "metadata": {},
   "source": [
    "## 2.9. Нормализация текста в Unicode\n",
    "## к стандартному представлению"
   ]
  },
  {
   "cell_type": "code",
   "execution_count": 223,
   "id": "8c8818e8",
   "metadata": {},
   "outputs": [
    {
     "name": "stdout",
     "output_type": "stream",
     "text": [
      "Spicy Jalapeño\n",
      "Spicy Jalapeño\n",
      "False\n",
      "14\n",
      "15\n",
      "True\n",
      "'Spicy Jalape\\xf1o'\n",
      "True\n",
      "'Spicy Jalapen\\u0303o'\n"
     ]
    }
   ],
   "source": [
    "s1 = 'Spicy Jalape\\u00f1o'\n",
    "s2 = 'Spicy Jalapen\\u0303o'\n",
    "\n",
    "print(s1, s2, sep='\\n')\n",
    "\n",
    "print(s1 == s2)\n",
    "print(len(s1), len(s2), sep='\\n')\n",
    "\n",
    "import unicodedata\n",
    "t1 = unicodedata.normalize('NFC', s1)\n",
    "t2 = unicodedata.normalize('NFC', s2)\n",
    "print(t1 == t2)\n",
    "print(ascii(t1))\n",
    "\n",
    "t3 = unicodedata.normalize('NFD', s1)\n",
    "t4 = unicodedata.normalize('NFD', s2)\n",
    "print(t3 == t4)\n",
    "print(ascii(t3))"
   ]
  },
  {
   "cell_type": "code",
   "execution_count": 228,
   "id": "9d14ca49",
   "metadata": {},
   "outputs": [
    {
     "name": "stdout",
     "output_type": "stream",
     "text": [
      "ﬁ\n",
      "ﬁ\n",
      "fi\n",
      "fi\n"
     ]
    }
   ],
   "source": [
    "s = '\\ufb01'\n",
    "print(s)\n",
    "print(unicodedata.normalize('NFD', s))\n",
    "\n",
    "print(unicodedata.normalize('NFKD', s))\n",
    "print(unicodedata.normalize('NFKC', s))"
   ]
  },
  {
   "cell_type": "code",
   "execution_count": 229,
   "id": "f0e72b22",
   "metadata": {},
   "outputs": [
    {
     "data": {
      "text/plain": [
       "'Spicy Jalapeno'"
      ]
     },
     "execution_count": 229,
     "metadata": {},
     "output_type": "execute_result"
    }
   ],
   "source": [
    "# удаление диакритических знаков\n",
    "\n",
    "t1 = unicodedata.normalize('NFD', s1)\n",
    "''.join(c for c in t1 if not unicodedata.combining(c))"
   ]
  },
  {
   "cell_type": "markdown",
   "id": "a38c1081",
   "metadata": {},
   "source": [
    "## 2.10. Использование символов Unicode в регулярных\n",
    "## выражениях"
   ]
  },
  {
   "cell_type": "code",
   "execution_count": 232,
   "id": "89ffac4c",
   "metadata": {},
   "outputs": [
    {
     "data": {
      "text/plain": [
       "<re.Match object; span=(0, 3), match='١٢٣'>"
      ]
     },
     "execution_count": 232,
     "metadata": {},
     "output_type": "execute_result"
    }
   ],
   "source": [
    "import re\n",
    "\n",
    "num = re.compile('\\d+')\n",
    "num.match('123')\n",
    "num.match('\\u0661\\u0662\\u0663')"
   ]
  },
  {
   "cell_type": "code",
   "execution_count": 237,
   "id": "4630f158",
   "metadata": {},
   "outputs": [],
   "source": [
    "pat = re.compile('stra\\u00dfe', re.IGNORECASE)\n",
    "s = 'straße'\n",
    "pat.match(s)\n",
    "\n",
    "pat.match(s.upper())\n",
    "s = s.upper()\n",
    "pat.match(s)"
   ]
  },
  {
   "cell_type": "markdown",
   "id": "3343aed4",
   "metadata": {},
   "source": [
    "## 2.11. Срезание нежелательных символов из строк"
   ]
  },
  {
   "cell_type": "code",
   "execution_count": 241,
   "id": "7850bf5c",
   "metadata": {},
   "outputs": [
    {
     "name": "stdout",
     "output_type": "stream",
     "text": [
      "hello world\n",
      "hello world \n",
      "\n",
      " hello world\n",
      "hello=====\n",
      "-----hello\n",
      "hello\n"
     ]
    }
   ],
   "source": [
    "# срезание пробелов\n",
    "\n",
    "s = ' hello world \\n'\n",
    "print(s.strip())\n",
    "print(s.lstrip())\n",
    "print(s.rstrip())\n",
    "\n",
    "# срезание символов\n",
    "\n",
    "t = '-----hello====='\n",
    "print(t.lstrip('-'))\n",
    "print(t.rstrip('='))\n",
    "print(t.strip('-='))"
   ]
  },
  {
   "cell_type": "code",
   "execution_count": 249,
   "id": "9c6f20d2",
   "metadata": {},
   "outputs": [
    {
     "name": "stdout",
     "output_type": "stream",
     "text": [
      "hello                      world\n"
     ]
    },
    {
     "data": {
      "text/plain": [
       "'hello world'"
      ]
     },
     "execution_count": 249,
     "metadata": {},
     "output_type": "execute_result"
    }
   ],
   "source": [
    "s = ' hello                      world \\n'\n",
    "s = s.strip()\n",
    "print(s)\n",
    "\n",
    "s1 = s.replace('  ', '')\n",
    "re.sub('\\s+', ' ', s)"
   ]
  },
  {
   "cell_type": "code",
   "execution_count": 250,
   "id": "809635e1",
   "metadata": {},
   "outputs": [
    {
     "ename": "FileNotFoundError",
     "evalue": "[Errno 2] No such file or directory: 'spam.txt'",
     "output_type": "error",
     "traceback": [
      "\u001b[0;31m---------------------------------------------------------------------------\u001b[0m",
      "\u001b[0;31mFileNotFoundError\u001b[0m                         Traceback (most recent call last)",
      "Cell \u001b[0;32mIn[250], line 1\u001b[0m\n\u001b[0;32m----> 1\u001b[0m \u001b[38;5;28;01mwith\u001b[39;00m \u001b[38;5;28;43mopen\u001b[39;49m\u001b[43m(\u001b[49m\u001b[43mfilename\u001b[49m\u001b[43m)\u001b[49m \u001b[38;5;28;01mas\u001b[39;00m f:\n\u001b[1;32m      2\u001b[0m     lines \u001b[38;5;241m=\u001b[39m (lines\u001b[38;5;241m.\u001b[39mstrip() \u001b[38;5;28;01mfor\u001b[39;00m line \u001b[38;5;129;01min\u001b[39;00m f)\n\u001b[1;32m      3\u001b[0m     \u001b[38;5;28;01mfor\u001b[39;00m line \u001b[38;5;129;01min\u001b[39;00m lines:\n",
      "File \u001b[0;32m~/.local/lib/python3.10/site-packages/IPython/core/interactiveshell.py:284\u001b[0m, in \u001b[0;36m_modified_open\u001b[0;34m(file, *args, **kwargs)\u001b[0m\n\u001b[1;32m    277\u001b[0m \u001b[38;5;28;01mif\u001b[39;00m file \u001b[38;5;129;01min\u001b[39;00m {\u001b[38;5;241m0\u001b[39m, \u001b[38;5;241m1\u001b[39m, \u001b[38;5;241m2\u001b[39m}:\n\u001b[1;32m    278\u001b[0m     \u001b[38;5;28;01mraise\u001b[39;00m \u001b[38;5;167;01mValueError\u001b[39;00m(\n\u001b[1;32m    279\u001b[0m         \u001b[38;5;124mf\u001b[39m\u001b[38;5;124m\"\u001b[39m\u001b[38;5;124mIPython won\u001b[39m\u001b[38;5;124m'\u001b[39m\u001b[38;5;124mt let you open fd=\u001b[39m\u001b[38;5;132;01m{\u001b[39;00mfile\u001b[38;5;132;01m}\u001b[39;00m\u001b[38;5;124m by default \u001b[39m\u001b[38;5;124m\"\u001b[39m\n\u001b[1;32m    280\u001b[0m         \u001b[38;5;124m\"\u001b[39m\u001b[38;5;124mas it is likely to crash IPython. If you know what you are doing, \u001b[39m\u001b[38;5;124m\"\u001b[39m\n\u001b[1;32m    281\u001b[0m         \u001b[38;5;124m\"\u001b[39m\u001b[38;5;124myou can use builtins\u001b[39m\u001b[38;5;124m'\u001b[39m\u001b[38;5;124m open.\u001b[39m\u001b[38;5;124m\"\u001b[39m\n\u001b[1;32m    282\u001b[0m     )\n\u001b[0;32m--> 284\u001b[0m \u001b[38;5;28;01mreturn\u001b[39;00m \u001b[43mio_open\u001b[49m\u001b[43m(\u001b[49m\u001b[43mfile\u001b[49m\u001b[43m,\u001b[49m\u001b[43m \u001b[49m\u001b[38;5;241;43m*\u001b[39;49m\u001b[43margs\u001b[49m\u001b[43m,\u001b[49m\u001b[43m \u001b[49m\u001b[38;5;241;43m*\u001b[39;49m\u001b[38;5;241;43m*\u001b[39;49m\u001b[43mkwargs\u001b[49m\u001b[43m)\u001b[49m\n",
      "\u001b[0;31mFileNotFoundError\u001b[0m: [Errno 2] No such file or directory: 'spam.txt'"
     ]
    }
   ],
   "source": [
    "with open(filename) as f:\n",
    "    lines = (lines.strip() for line in f)\n",
    "    for line in lines:\n",
    "        ..."
   ]
  },
  {
   "cell_type": "markdown",
   "id": "3b3d310f",
   "metadata": {},
   "source": [
    "## 2.12. Чистка строк"
   ]
  },
  {
   "cell_type": "code",
   "execution_count": 252,
   "id": "efe1c300",
   "metadata": {},
   "outputs": [],
   "source": [
    "s = 'pýtĥöñ\\fis\\tawesome\\r\\n'"
   ]
  },
  {
   "cell_type": "code",
   "execution_count": 253,
   "id": "4e317b9c",
   "metadata": {},
   "outputs": [
    {
     "data": {
      "text/plain": [
       "'pýtĥöñ is awesome\\n'"
      ]
     },
     "execution_count": 253,
     "metadata": {},
     "output_type": "execute_result"
    }
   ],
   "source": [
    "remap = {\n",
    "    ord('\\t') : ' ',\n",
    "    ord('\\f') : ' ',\n",
    "    ord('\\r') : None,\n",
    "}\n",
    "\n",
    "a = s.translate(remap)\n",
    "a"
   ]
  },
  {
   "cell_type": "code",
   "execution_count": 256,
   "id": "994dbf5f",
   "metadata": {},
   "outputs": [
    {
     "name": "stdout",
     "output_type": "stream",
     "text": [
      "pýtĥöñ is awesome\n",
      "\n"
     ]
    },
    {
     "data": {
      "text/plain": [
       "'python is awesome\\n'"
      ]
     },
     "execution_count": 256,
     "metadata": {},
     "output_type": "execute_result"
    }
   ],
   "source": [
    "# удаление комбинирующихся символов\n",
    "\n",
    "import unicodedata\n",
    "import sys\n",
    "\n",
    "cmb_chrs = dict.fromkeys(c for c in range(sys.maxunicode) \n",
    "                         if unicodedata.combining(chr(c)))\n",
    "# print(cmb_chrs)\n",
    "b = unicodedata.normalize('NFD', a)\n",
    "print(b)\n",
    "b.translate(cmb_chrs)"
   ]
  },
  {
   "cell_type": "code",
   "execution_count": 273,
   "id": "2b60e840",
   "metadata": {},
   "outputs": [
    {
     "name": "stdout",
     "output_type": "stream",
     "text": [
      "650\n",
      "123\n"
     ]
    },
    {
     "data": {
      "text/plain": [
       "'1'"
      ]
     },
     "execution_count": 273,
     "metadata": {},
     "output_type": "execute_result"
    }
   ],
   "source": [
    "# таблица перевода, которая отображает все десятичные Unicode\n",
    "# на их эквиваленты ASCII\n",
    "\n",
    "digitmap = { c: ord('0') + unicodedata.digit(chr(c)) \n",
    "           for c in range(sys.maxunicode)\n",
    "           if unicodedata.category(chr(c)) == 'Nd' }\n",
    "\n",
    "print(len(digitmap))\n",
    "\n",
    "x = '\\u0661\\u0662\\u0663'\n",
    "print(x.translate(digitmap))\n",
    "\n",
    "x1 = '\\u0661'\n",
    "\n",
    "x1.translate(digitmap)\n"
   ]
  },
  {
   "cell_type": "code",
   "execution_count": 280,
   "id": "e82bba32",
   "metadata": {},
   "outputs": [
    {
     "data": {
      "text/plain": [
       "'python is awesome\\n'"
      ]
     },
     "execution_count": 280,
     "metadata": {},
     "output_type": "execute_result"
    }
   ],
   "source": [
    "# ASCII декодирование убирает все комбинирующиеся символы\n",
    "\n",
    "b = unicodedata.normalize('NFD', a)\n",
    "b.encode('ascii', 'ignore').decode('ascii')\n",
    "\n",
    "b.encode('ascii', 'ignore').decode('ascii')"
   ]
  },
  {
   "cell_type": "code",
   "execution_count": 281,
   "id": "ac5917c3",
   "metadata": {},
   "outputs": [],
   "source": [
    "# str.replace() часто оказывается самым быстрым способом\n",
    "\n",
    "def clean_spaces(s):\n",
    "    s = s.replace('\\r', '')\n",
    "    s = s.replace('\\t', ' ')\n",
    "    s = s.replace('f', ' ')\n",
    "    return s"
   ]
  },
  {
   "cell_type": "markdown",
   "id": "aca33dff",
   "metadata": {},
   "source": [
    "## 2.13. Выравнивание текстовых строк"
   ]
  },
  {
   "cell_type": "code",
   "execution_count": 288,
   "id": "9cb0f2f1",
   "metadata": {},
   "outputs": [
    {
     "data": {
      "text/plain": [
       "'****Hello World*****'"
      ]
     },
     "execution_count": 288,
     "metadata": {},
     "output_type": "execute_result"
    }
   ],
   "source": [
    "# методы ljust(), rjust(), center()\n",
    "\n",
    "text = 'Hello World'\n",
    "text.ljust(20)\n",
    "\n",
    "text.rjust(20)\n",
    "text.center(20)\n",
    "\n",
    "text.rjust(20,'=')\n",
    "text.ljust(20,'*')\n",
    "text.center(20,'*')"
   ]
  },
  {
   "cell_type": "code",
   "execution_count": 296,
   "id": "93d6c656",
   "metadata": {},
   "outputs": [
    {
     "data": {
      "text/plain": [
       "'****Hello World*****'"
      ]
     },
     "execution_count": 296,
     "metadata": {},
     "output_type": "execute_result"
    }
   ],
   "source": [
    "format(text, '>20')\n",
    "format(text, '<20')\n",
    "format(text, '^20')\n",
    "\n",
    "format(text, '=>20s')\n",
    "format(text, '=<20s')\n",
    "format(text, '*^20s')"
   ]
  },
  {
   "cell_type": "code",
   "execution_count": 297,
   "id": "a1d5f825",
   "metadata": {},
   "outputs": [
    {
     "data": {
      "text/plain": [
       "'     Hello      World'"
      ]
     },
     "execution_count": 297,
     "metadata": {},
     "output_type": "execute_result"
    }
   ],
   "source": [
    "'{:>10s} {:>10s}'.format('Hello', 'World')"
   ]
  },
  {
   "cell_type": "code",
   "execution_count": 301,
   "id": "0d3906e1",
   "metadata": {},
   "outputs": [
    {
     "data": {
      "text/plain": [
       "'   1.23   '"
      ]
     },
     "execution_count": 301,
     "metadata": {},
     "output_type": "execute_result"
    }
   ],
   "source": [
    "# format работает не только со строками, но и любыми форматами\n",
    "\n",
    "x = 1.2345\n",
    "format(x, '>10')\n",
    "format(x, '^10.2f')"
   ]
  },
  {
   "cell_type": "code",
   "execution_count": 305,
   "id": "3a26bf39",
   "metadata": {},
   "outputs": [
    {
     "data": {
      "text/plain": [
       "'         Hello World'"
      ]
     },
     "execution_count": 305,
     "metadata": {},
     "output_type": "execute_result"
    }
   ],
   "source": [
    "'%-20s' %text\n",
    "'%20s' %text"
   ]
  },
  {
   "cell_type": "markdown",
   "id": "9973c15a",
   "metadata": {},
   "source": [
    "## 2.14. Объединение и конкатенация строк"
   ]
  },
  {
   "cell_type": "code",
   "execution_count": 308,
   "id": "c6a30083",
   "metadata": {},
   "outputs": [
    {
     "data": {
      "text/plain": [
       "'IsChicagoNotChicago?'"
      ]
     },
     "execution_count": 308,
     "metadata": {},
     "output_type": "execute_result"
    }
   ],
   "source": [
    "parts = ['Is', 'Chicago', 'Not', 'Chicago?']\n",
    "\n",
    "' '.join(parts)\n",
    "','.join(parts)\n",
    "''.join(parts)"
   ]
  },
  {
   "cell_type": "code",
   "execution_count": 309,
   "id": "04c166c4",
   "metadata": {},
   "outputs": [
    {
     "data": {
      "text/plain": [
       "'Is Chicago Not Chicago?'"
      ]
     },
     "execution_count": 309,
     "metadata": {},
     "output_type": "execute_result"
    }
   ],
   "source": [
    "a = 'Is Chicago'\n",
    "b = 'Not Chicago?'\n",
    "a + ' ' + b"
   ]
  },
  {
   "cell_type": "code",
   "execution_count": 311,
   "id": "001e602a",
   "metadata": {},
   "outputs": [
    {
     "name": "stdout",
     "output_type": "stream",
     "text": [
      "Is Chicago Not Chicago?\n",
      "Is Chicago Not Chicago?\n"
     ]
    }
   ],
   "source": [
    "print('{} {}'.format(a, b))\n",
    "print(a + ' ' + b)"
   ]
  },
  {
   "cell_type": "code",
   "execution_count": 315,
   "id": "215f2283",
   "metadata": {},
   "outputs": [
    {
     "data": {
      "text/plain": [
       "'Hello World'"
      ]
     },
     "execution_count": 315,
     "metadata": {},
     "output_type": "execute_result"
    }
   ],
   "source": [
    "a = 'Hello' ' World'\n",
    "a"
   ]
  },
  {
   "cell_type": "code",
   "execution_count": 316,
   "id": "40080d06",
   "metadata": {},
   "outputs": [
    {
     "data": {
      "text/plain": [
       "'ACME,50,91.1'"
      ]
     },
     "execution_count": 316,
     "metadata": {},
     "output_type": "execute_result"
    }
   ],
   "source": [
    "data = ['ACME', 50, 91.1]\n",
    "','.join(str(d) for d in data)"
   ]
  },
  {
   "cell_type": "code",
   "execution_count": 321,
   "id": "24985ece",
   "metadata": {},
   "outputs": [
    {
     "ename": "NameError",
     "evalue": "name 'f' is not defined",
     "output_type": "error",
     "traceback": [
      "\u001b[0;31m---------------------------------------------------------------------------\u001b[0m",
      "\u001b[0;31mNameError\u001b[0m                                 Traceback (most recent call last)",
      "Cell \u001b[0;32mIn[321], line 11\u001b[0m\n\u001b[1;32m      8\u001b[0m text\n\u001b[1;32m     10\u001b[0m \u001b[38;5;28;01mfor\u001b[39;00m part \u001b[38;5;129;01min\u001b[39;00m sample():\n\u001b[0;32m---> 11\u001b[0m     \u001b[43mf\u001b[49m\u001b[38;5;241m.\u001b[39mwrite(part)\n",
      "\u001b[0;31mNameError\u001b[0m: name 'f' is not defined"
     ]
    }
   ],
   "source": [
    "def sample():\n",
    "    yield 'Is'\n",
    "    yield 'Chicago'\n",
    "    yield 'Not'\n",
    "    yield 'Chicago?'\n",
    "    \n",
    "text = ''.join(sample())\n",
    "text\n",
    "\n",
    "for part in sample():\n",
    "    f.write(part)"
   ]
  },
  {
   "cell_type": "code",
   "execution_count": 323,
   "id": "9a5aae9c",
   "metadata": {},
   "outputs": [
    {
     "name": "stdout",
     "output_type": "stream",
     "text": [
      "IsChicago\n",
      "NotChicago?\n",
      "\n"
     ]
    }
   ],
   "source": [
    "def combine(source, maxsize):\n",
    "    parts = []\n",
    "    size = 0\n",
    "    for part in source:\n",
    "        parts.append(part)\n",
    "        size += len(part)\n",
    "        if size > maxsize:\n",
    "            yield ''.join(parts)\n",
    "            parts = []\n",
    "            size = 0\n",
    "    yield ''.join(parts)\n",
    "    \n",
    "    \n",
    "for part in combine(sample(), 3):\n",
    "    print(part)"
   ]
  },
  {
   "cell_type": "code",
   "execution_count": 324,
   "id": "f02df826",
   "metadata": {},
   "outputs": [],
   "source": [
    "def combine(source, maxsize):\n",
    "    parts = []\n",
    "    size = 0\n",
    "    for part in source:\n",
    "        parts.append(part)\n",
    "        size += len(part)\n",
    "        if size > maxsize:\n",
    "            yield ''.join(parts)\n",
    "            perts = []\n",
    "            size = 0\n",
    "    yield ''.join(parts)"
   ]
  },
  {
   "cell_type": "markdown",
   "id": "81b112ae",
   "metadata": {},
   "source": [
    "## 2.15. Интерполяция переменных в строках"
   ]
  },
  {
   "cell_type": "code",
   "execution_count": 325,
   "id": "b46c1908",
   "metadata": {},
   "outputs": [
    {
     "data": {
      "text/plain": [
       "'Guido has 37 messages.'"
      ]
     },
     "execution_count": 325,
     "metadata": {},
     "output_type": "execute_result"
    }
   ],
   "source": [
    "s = '{name} has {n} messages.'\n",
    "s.format(name='Guido', n=37)"
   ]
  },
  {
   "cell_type": "code",
   "execution_count": 326,
   "id": "dcbe6a44",
   "metadata": {},
   "outputs": [
    {
     "data": {
      "text/plain": [
       "'Guido has 37 messages.'"
      ]
     },
     "execution_count": 326,
     "metadata": {},
     "output_type": "execute_result"
    }
   ],
   "source": [
    "name = 'Guido'\n",
    "n = 37\n",
    "s.format_map(vars())"
   ]
  },
  {
   "cell_type": "code",
   "execution_count": 328,
   "id": "6670ec74",
   "metadata": {},
   "outputs": [
    {
     "data": {
      "text/plain": [
       "'Guido has 37 messages.'"
      ]
     },
     "execution_count": 328,
     "metadata": {},
     "output_type": "execute_result"
    }
   ],
   "source": [
    "# vars() такэе рабоает с экземплярами\n",
    "\n",
    "class Info:\n",
    "    def __init__(self, name, n):\n",
    "        self.name = name\n",
    "        self.n = n\n",
    "        \n",
    "a = Info('Guido', 37)\n",
    "s.format_map(vars(a))"
   ]
  },
  {
   "cell_type": "code",
   "execution_count": 329,
   "id": "0908737f",
   "metadata": {},
   "outputs": [
    {
     "ename": "KeyError",
     "evalue": "'n'",
     "output_type": "error",
     "traceback": [
      "\u001b[0;31m---------------------------------------------------------------------------\u001b[0m",
      "\u001b[0;31mKeyError\u001b[0m                                  Traceback (most recent call last)",
      "Cell \u001b[0;32mIn[329], line 1\u001b[0m\n\u001b[0;32m----> 1\u001b[0m \u001b[43ms\u001b[49m\u001b[38;5;241;43m.\u001b[39;49m\u001b[43mformat\u001b[49m\u001b[43m(\u001b[49m\u001b[43mname\u001b[49m\u001b[38;5;241;43m=\u001b[39;49m\u001b[38;5;124;43m'\u001b[39;49m\u001b[38;5;124;43mGuido\u001b[39;49m\u001b[38;5;124;43m'\u001b[39;49m\u001b[43m)\u001b[49m\n",
      "\u001b[0;31mKeyError\u001b[0m: 'n'"
     ]
    }
   ],
   "source": [
    "s.format(name='Guido')"
   ]
  },
  {
   "cell_type": "code",
   "execution_count": 334,
   "id": "64c8807b",
   "metadata": {},
   "outputs": [
    {
     "data": {
      "text/plain": [
       "'Guido has {n} messages.'"
      ]
     },
     "execution_count": 334,
     "metadata": {},
     "output_type": "execute_result"
    }
   ],
   "source": [
    "class safesub(dict):\n",
    "    def __missing__(self, key):\n",
    "        return '{' + key + '}'\n",
    "    \n",
    "s.format_map(safesub(vars()))"
   ]
  },
  {
   "cell_type": "code",
   "execution_count": 344,
   "id": "573a2101",
   "metadata": {},
   "outputs": [
    {
     "name": "stdout",
     "output_type": "stream",
     "text": [
      "Hello Guido\n",
      "Hello Guido\n",
      "You have 37 messages.\n",
      "You have 37 messages.\n",
      "Your favorite color is {color}\n",
      "Your favorite color is {color}\n"
     ]
    }
   ],
   "source": [
    "import sys\n",
    "\n",
    "def sub(text):\n",
    "    return text.format_map(safesub(sys._getframe(1).f_locals))\n",
    "\n",
    "name = 'Guido'\n",
    "n = 37\n",
    "print(sub('Hello {name}'))\n",
    "print(sub('You have {n} messages.'))\n",
    "print(sub('Your favorite color is {color}'))\n",
    "    \n"
   ]
  },
  {
   "cell_type": "code",
   "execution_count": 351,
   "id": "25bb20db",
   "metadata": {},
   "outputs": [
    {
     "ename": "ValueError",
     "evalue": "unsupported format character 'm' (0x6d) at index 17",
     "output_type": "error",
     "traceback": [
      "\u001b[0;31m---------------------------------------------------------------------------\u001b[0m",
      "\u001b[0;31mValueError\u001b[0m                                Traceback (most recent call last)",
      "Cell \u001b[0;32mIn[351], line 3\u001b[0m\n\u001b[1;32m      1\u001b[0m name \u001b[38;5;241m=\u001b[39m \u001b[38;5;124m'\u001b[39m\u001b[38;5;124mGuido\u001b[39m\u001b[38;5;124m'\u001b[39m\n\u001b[1;32m      2\u001b[0m n \u001b[38;5;241m=\u001b[39m \u001b[38;5;241m37\u001b[39m\n\u001b[0;32m----> 3\u001b[0m \u001b[38;5;124;43m'\u001b[39;49m\u001b[38;5;132;43;01m%(name) ha\u001b[39;49;00m\u001b[38;5;124;43ms \u001b[39;49m\u001b[38;5;124;43m%\u001b[39;49m\u001b[38;5;124;43m(n) messages.\u001b[39;49m\u001b[38;5;124;43m'\u001b[39;49m\u001b[43m \u001b[49m\u001b[38;5;241;43m%\u001b[39;49m\u001b[43m \u001b[49m\u001b[38;5;28;43mvars\u001b[39;49m\u001b[43m(\u001b[49m\u001b[43m)\u001b[49m\n",
      "\u001b[0;31mValueError\u001b[0m: unsupported format character 'm' (0x6d) at index 17"
     ]
    }
   ],
   "source": [
    "name = 'Guido'\n",
    "n = 37\n",
    "'%(name) has %(n) messages.' % vars()"
   ]
  },
  {
   "cell_type": "code",
   "execution_count": 352,
   "id": "e258d5a9",
   "metadata": {},
   "outputs": [
    {
     "data": {
      "text/plain": [
       "'Guido has 37 messages.'"
      ]
     },
     "execution_count": 352,
     "metadata": {},
     "output_type": "execute_result"
    }
   ],
   "source": [
    "import string\n",
    "s = string.Template('$name has $n messages.')\n",
    "s.substitute(vars())"
   ]
  },
  {
   "cell_type": "markdown",
   "id": "1a4b8e2d",
   "metadata": {},
   "source": [
    "## 2.16. Разбивка текста на фиксированное количество\n",
    "## колонок"
   ]
  },
  {
   "cell_type": "code",
   "execution_count": 353,
   "id": "ffcc8d9d",
   "metadata": {},
   "outputs": [],
   "source": [
    "s = \"Look into my eyes, look into my eyes, the eyes, the eyes, \\\n",
    "the eyes, not around the eyes, don't look around the eyes, \\\n",
    "look into my eyes, you're under.\""
   ]
  },
  {
   "cell_type": "code",
   "execution_count": 357,
   "id": "30e3b208",
   "metadata": {},
   "outputs": [
    {
     "name": "stdout",
     "output_type": "stream",
     "text": [
      "Look into my eyes, look into my eyes, the eyes, the eyes, the eyes,\n",
      "not around the eyes, don't look around the eyes, look into my eyes,\n",
      "you're under.\n",
      "Look into my eyes, look into my eyes,\n",
      "the eyes, the eyes, the eyes, not around\n",
      "the eyes, don't look around the eyes,\n",
      "look into my eyes, you're under.\n",
      " Look into my eyes, look into my eyes,\n",
      "the eyes, the eyes, the eyes, not around\n",
      "the eyes, don't look around the eyes,\n",
      "look into my eyes, you're under.\n",
      "Look into my eyes, look into my eyes,\n",
      " the eyes, the eyes, the eyes, not\n",
      " around the eyes, don't look around the\n",
      " eyes, look into my eyes, you're under.\n"
     ]
    }
   ],
   "source": [
    "import textwrap\n",
    "\n",
    "print(textwrap.fill(s, 70))\n",
    "print(textwrap.fill(s, 40))\n",
    "print(textwrap.fill(s, 40, initial_indent=' '))\n",
    "print(textwrap.fill(s, 40, subsequent_indent=' '))"
   ]
  },
  {
   "cell_type": "code",
   "execution_count": 359,
   "id": "b4cb110b",
   "metadata": {},
   "outputs": [
    {
     "ename": "OSError",
     "evalue": "[Errno 25] Inappropriate ioctl for device",
     "output_type": "error",
     "traceback": [
      "\u001b[0;31m---------------------------------------------------------------------------\u001b[0m",
      "\u001b[0;31mOSError\u001b[0m                                   Traceback (most recent call last)",
      "Cell \u001b[0;32mIn[359], line 4\u001b[0m\n\u001b[1;32m      1\u001b[0m \u001b[38;5;66;03m# получить размер терминала\u001b[39;00m\n\u001b[1;32m      3\u001b[0m \u001b[38;5;28;01mimport\u001b[39;00m \u001b[38;5;21;01mos\u001b[39;00m\n\u001b[0;32m----> 4\u001b[0m \u001b[43mos\u001b[49m\u001b[38;5;241;43m.\u001b[39;49m\u001b[43mget_terminal_size\u001b[49m\u001b[43m(\u001b[49m\u001b[43m)\u001b[49m\n",
      "\u001b[0;31mOSError\u001b[0m: [Errno 25] Inappropriate ioctl for device"
     ]
    }
   ],
   "source": [
    "# получить размер терминала\n",
    "\n",
    "import os\n",
    "os.get_terminal_size()"
   ]
  },
  {
   "cell_type": "markdown",
   "id": "f3acaecf",
   "metadata": {},
   "source": [
    "## 2.17. Работа с HTML- и XML-сущностями в тексте"
   ]
  },
  {
   "cell_type": "code",
   "execution_count": 363,
   "id": "25cb0d64",
   "metadata": {},
   "outputs": [
    {
     "name": "stdout",
     "output_type": "stream",
     "text": [
      "Elements are written as \"<tag>text</tag>\"\n",
      "Elements are written as &quot;&lt;tag&gt;text&lt;/tag&gt;&quot;\n",
      "Elements are written as \"&lt;tag&gt;text&lt;/tag&gt;\"\n"
     ]
    }
   ],
   "source": [
    "s = 'Elements are written as \"<tag>text</tag>\"'\n",
    "import html\n",
    "print(s)\n",
    "print(html.escape(s))\n",
    "\n",
    "print(html.escape(s, quote=False))"
   ]
  },
  {
   "cell_type": "code",
   "execution_count": 364,
   "id": "6e2ab445",
   "metadata": {},
   "outputs": [
    {
     "data": {
      "text/plain": [
       "b'Spicy Jalape&#241;o'"
      ]
     },
     "execution_count": 364,
     "metadata": {},
     "output_type": "execute_result"
    }
   ],
   "source": [
    "s = 'Spicy Jalapeño'\n",
    "s.encode('ascii', errors='xmlcharrefreplace')"
   ]
  },
  {
   "cell_type": "code",
   "execution_count": 382,
   "id": "486fbd23",
   "metadata": {},
   "outputs": [],
   "source": [
    "s = 'Spicy &quot;Jalape&#241;o&quot.'\n",
    "from html.parser import HTMLParser\n",
    "p = HTMLParser()\n",
    "p.unescape(s)"
   ]
  },
  {
   "cell_type": "code",
   "execution_count": 386,
   "id": "18546be8",
   "metadata": {},
   "outputs": [
    {
     "data": {
      "text/plain": [
       "'The prompt is >>>'"
      ]
     },
     "execution_count": 386,
     "metadata": {},
     "output_type": "execute_result"
    }
   ],
   "source": [
    "t = 'The prompt is &gt;&gt;&gt;'\n",
    "\n",
    "from xml.sax.saxutils import unescape\n",
    "unescape(t)\n",
    "\n",
    "\n"
   ]
  },
  {
   "cell_type": "code",
   "execution_count": 384,
   "id": "366e0105",
   "metadata": {},
   "outputs": [
    {
     "name": "stdout",
     "output_type": "stream",
     "text": [
      "Defaulting to user installation because normal site-packages is not writeable\n",
      "\u001b[31mERROR: Could not find a version that satisfies the requirement xml (from versions: none)\u001b[0m\u001b[31m\n",
      "\u001b[0m\u001b[31mERROR: No matching distribution found for xml\u001b[0m\u001b[31m\n",
      "\u001b[0m"
     ]
    }
   ],
   "source": [
    "!pip install xml"
   ]
  },
  {
   "cell_type": "markdown",
   "id": "d5fe6788",
   "metadata": {},
   "source": [
    "## 2.18. Токенизация текста"
   ]
  },
  {
   "cell_type": "code",
   "execution_count": 420,
   "id": "e1226216",
   "metadata": {},
   "outputs": [
    {
     "name": "stdout",
     "output_type": "stream",
     "text": [
      "NAME foo\n",
      "WS  \n",
      "EQ =\n",
      "WS  \n",
      "NUM 42\n"
     ]
    }
   ],
   "source": [
    "text = 'foo = 23 + 42 * 10'\n",
    "\n",
    "import re\n",
    "NAME = r'(?P<NAME>[a-zA-Z_][a-zA-Z_0-9]*)'\n",
    "NUM = r'(?P<NUM>\\d+)'\n",
    "PLUS = r'(?P<PLUS>\\+)'\n",
    "TIMES = r'(?P<TIMES>\\*)'\n",
    "EQ = r'(?P<EQ>=)'\n",
    "WS = r'(?P<WS>\\s+)'\n",
    "\n",
    "master_pat = re.compile('|'.join([NAME, NUM, PLUS, TIMES, EQ, WS]))\n",
    "\n",
    "scanner = master_pat.scanner('foo = 42')\n",
    "\n",
    "for m in iter(scanner.match, None):\n",
    "    print(m.lastgroup, m.group())"
   ]
  },
  {
   "cell_type": "code",
   "execution_count": null,
   "id": "9b36a575",
   "metadata": {},
   "outputs": [],
   "source": [
    "import re\n",
    "\n",
    "NAME = r'(?P<NAME>[a-zA-Z_][a-zA-Z_0-9]*)'\n",
    "NUM = r'(?P<NUM>\\d+)'\n",
    "PLUS = r'(?P<PLUS>\\+)'\n",
    "TIMES = r'(?P<TIMES>\\*)'\n",
    "EQ = r'(?P<EQ>=)'\n",
    "WS = r'(?P<WS>\\s+)'"
   ]
  },
  {
   "cell_type": "code",
   "execution_count": 423,
   "id": "cdb60421",
   "metadata": {},
   "outputs": [
    {
     "name": "stdout",
     "output_type": "stream",
     "text": [
      "Token(type='NAME', value='foo')\n",
      "Token(type='WS', value=' ')\n",
      "Token(type='EQ', value='=')\n",
      "Token(type='WS', value=' ')\n",
      "Token(type='NUM', value='42')\n"
     ]
    }
   ],
   "source": [
    "# упакуем в генератор\n",
    "\n",
    "from collections import namedtuple\n",
    "\n",
    "Token = namedtuple('Token', ['type', 'value'])\n",
    "\n",
    "def generate_tokens(pat, text):\n",
    "    scanner = pat.scanner(text)\n",
    "    for m in iter(scanner.match, None):\n",
    "        yield Token(m.lastgroup, m.group())\n",
    "        \n",
    "for tok in generate_tokens(master_pat, 'foo = 42'):\n",
    "    print(tok)\n",
    "    \n",
    "tokens = (tok for tok in generate_tokens(master_pat, text)\n",
    "         if tok.type != 'WS')\n",
    "for tok in tokens:\n",
    "    print(tok)"
   ]
  },
  {
   "cell_type": "code",
   "execution_count": 430,
   "id": "2a3ca2ce",
   "metadata": {},
   "outputs": [
    {
     "name": "stdout",
     "output_type": "stream",
     "text": [
      "Token(type='NAME', value='printe')\n"
     ]
    }
   ],
   "source": [
    "PRINT = r'(?P<PRINT>\\bprint\\b)'\n",
    "NAME = r'(?P<NAME>[a-zA-Z][a-zA-Z_0-9]*)'\n",
    "\n",
    "master_pat = re.compile('|'.join([PRINT, NAME]))\n",
    "\n",
    "text2 = 'printe'\n",
    "\n",
    "for tok in generate_tokens(master_pat, text2):\n",
    "    print(tok)"
   ]
  },
  {
   "cell_type": "markdown",
   "id": "eefeb5ee",
   "metadata": {},
   "source": [
    "## 2.19. Написание простого парсера на основе метода\n",
    "## рекурсивного спуска"
   ]
  },
  {
   "cell_type": "code",
   "execution_count": 445,
   "id": "408fb5ba",
   "metadata": {},
   "outputs": [],
   "source": [
    "import re\n",
    "import collections\n",
    "\n",
    "NUM = r'(?P<NUM>\\d+)'\n",
    "PLUS = r'(?P<PLUS>\\+)'\n",
    "MINUS = r'(?P<MINUS>-)'\n",
    "TIMES = r'(?P<TIMES>\\*)'\n",
    "DIVIDE = r'(?P<DIVIDE>/)'\n",
    "LPAREN = r'(?P<LPAREN>\\()'\n",
    "RPAREN = r'(?P<RPAREN>\\))'\n",
    "WS = r'(?P<WS>\\s+)'\n",
    "\n",
    "master_pat = re.compile('|'.join([NUM, PLUS, MINUS, TIMES,\n",
    "                                 DIVIDE, LPAREN, RPAREN, WS]))\n",
    "\n",
    "Token = collections.namedtuple('Token', ['type', 'value'])\n",
    "\n",
    "\n",
    "def generate_tokens(master_pat, text):\n",
    "    scanner = master_pat.scanner(text)\n",
    "    for m in iter(scanner.match, None):\n",
    "        tok = Token(m.lastgroup, m.group())\n",
    "        if tok.type != 'WS':\n",
    "            yield tok\n",
    "            \n",
    "# Парсер\n",
    "\n",
    "class ExpressionEvaluator:\n",
    "    '''\n",
    " Реализация парсера на базе рекурсивного спуска.\n",
    " Каждый метод реализует одно правило грамматики.\n",
    " Использует метод ._accept(), чтобы протестировать\n",
    " и принять текущий токен предварительного просмотра.\n",
    " Использует метод ._expect() для точного совпадения\n",
    " и отбрасывания следующего токена на входе\n",
    " (или возбуждает SyntaxError, если он не совпадает).\n",
    " '''\n",
    "    \n",
    "    def parse(self, text):\n",
    "        self.tokens = generate_tokens(master_pat, text)\n",
    "        \n",
    "        self.tok = None\n",
    "        self.nexttok = None\n",
    "        self._advance()\n",
    "        return self.expr()\n",
    "    \n",
    "    def _advance(self):\n",
    "        'Продвинуться на один токен вперед'\n",
    "        self.tok, self.nexttok = self.nexttok, next(self.tokens, None)\n",
    "        \n",
    "    def _accept(self, toktype):\n",
    "        'Проверить и потребить следующий токен, если он совпадает с toktype'\n",
    "        if self.nexttok and self.nexttok.type == toktype:\n",
    "            self._advance()\n",
    "            return True\n",
    "        else:\n",
    "            return False\n",
    "            \n",
    "    def _expect(self, toktype):\n",
    "        'Потребить следующий токен, если он совпадает с toktype, или возбудить SyntaxError'\n",
    "        if not self._accept(toktype):\n",
    "            raise SyntaxError('Expected' + toktype)\n",
    "            \n",
    "    # Правила грамматики\n",
    "    \n",
    "    def expr(self):\n",
    "        \"expression ::= term { ('+'|'-') term }*\"\n",
    "        \n",
    "        exprval = self.term()\n",
    "        while self._accept('PLUS') or self._accept('MINUS'):\n",
    "            op = self.tok.type\n",
    "            right = self.term()\n",
    "            if op == 'PLUS':\n",
    "                exprval += right\n",
    "            elif op == 'MINUS':\n",
    "                exprval -= right\n",
    "        return exprval\n",
    "        \n",
    "    def term(self):\n",
    "        \"term ::= factor { ('*'|'/') factor }*\"\n",
    "        \n",
    "        termval = self.factor()\n",
    "        while self._accept('TIMES') or self._accept('DIVIDE'):\n",
    "            op = self.tok.type\n",
    "            right = self.factor()\n",
    "            if op == 'TIMES':\n",
    "                termval *= right\n",
    "            elif op == 'DIVIDE':\n",
    "                termval /= right\n",
    "                \n",
    "        return termval\n",
    "        \n",
    "    def factor(self):\n",
    "        \"factor ::= NUM | ( expr )\"\n",
    "        \n",
    "        if self._accept('NUM'):\n",
    "            return int(self.tok.value)\n",
    "        elif self._accept('LPAREN'):\n",
    "            exprval = self.expr()\n",
    "            self._expect('RPAREN')\n",
    "        else:\n",
    "            raise SyntaxError('Expexted NUMBER or LPAREN')"
   ]
  },
  {
   "cell_type": "code",
   "execution_count": 446,
   "id": "d0ff647d",
   "metadata": {},
   "outputs": [
    {
     "name": "stdout",
     "output_type": "stream",
     "text": [
      "2\n",
      "5\n"
     ]
    }
   ],
   "source": [
    "e = ExpressionEvaluator()\n",
    "print(e.parse('2'))\n",
    "print(e.parse('2 + 3'))"
   ]
  },
  {
   "cell_type": "code",
   "execution_count": 459,
   "id": "0242f9e5",
   "metadata": {},
   "outputs": [],
   "source": [
    "import re\n",
    "import collections\n",
    "\n",
    "NUM = r'(?P<NUM>\\d+)'\n",
    "PLUS = r'(?P<PLUS>\\+)'\n",
    "MINUS = r'(?P<MINUS>-)'\n",
    "TIMES = r'(?P<TIMES>\\*)'\n",
    "DIVIDE = r'(?P<DIVIDE>/)'\n",
    "LPAREN = r'(?P<LPAREN>\\()'\n",
    "RPAREN = r'(?P<RPAREN>\\))'\n",
    "WS = r'(?P<WS>\\s+)'\n",
    "\n",
    "master_pat = re.compile('|'.join([NUM, PLUS, MINUS, TIMES,\n",
    "                                 DIVIDE, LPAREN, RPAREN, WS]))\n",
    "\n",
    "Token = collections.namedtuple('Token', ['type', 'value'])\n",
    "\n",
    "\n",
    "def generate_tokens(master_pat, text):\n",
    "    scanner = master_pat.scanner(text)\n",
    "    for m in iter(scanner.match, None):\n",
    "        tok = Token(m.lastgroup, m.group())\n",
    "        if tok.type != 'WS':\n",
    "            yield tok\n",
    "\n",
    "\n",
    "\n",
    "class ExpressionEvaluator:\n",
    "    \n",
    "    def parse(self, text):\n",
    "        self.tokens = generate_tokens(master_pat, text)\n",
    "        \n",
    "        self.tok = None\n",
    "        self.nexttok = None\n",
    "        self._advance()\n",
    "        print(self.nexttok.type)\n",
    "        return self.expr()\n",
    "        \n",
    "    def _advance(self):\n",
    "        self.tok, self.nexttok = self.nexttok, next(self.tokens, None)\n",
    "        \n",
    "    def _accept(self, toktype):\n",
    "        if self.nexttok and self.nexttok.type == toktype:\n",
    "            self._advance()\n",
    "            return True\n",
    "        else:\n",
    "            return False\n",
    "        \n",
    "    def _except(self, toktype):\n",
    "        if not self._accept(toktype):\n",
    "            raise SyntaxError('Expected' + toktype)\n",
    "            \n",
    "    def expr(self):\n",
    "        exprval = self.term()\n",
    "        while self._accept('PLUS') or self._accept('MINUS'):\n",
    "            op = self.nexttok.type\n",
    "            right = self.factor()\n",
    "            if op == 'PLUS':\n",
    "                exprval += right\n",
    "            elif op == 'MINUS':\n",
    "                exprval -= right\n",
    "        return exprval\n",
    "        \n",
    "        \n",
    "    def term(self):\n",
    "        termval = self.factor()\n",
    "        while self._accept('TIMES') or self._accept('DIVIDE'):\n",
    "            op = self.nexttok.type\n",
    "            right = self.factor()\n",
    "            if op == 'TIMES':\n",
    "                termval *= right\n",
    "            elif op == 'DIVIDE':\n",
    "                termval /= right\n",
    "        return termval\n",
    "        \n",
    "        \n",
    "    def factor(self):\n",
    "        if self._accept('NUM'):\n",
    "            return int(self.tok.value)\n",
    "        elif self._accept('LPAREN'):\n",
    "            expr = self.expr()\n",
    "            self._except('RPAREN')\n",
    "        else:\n",
    "            raise SyntaxError('Expected NUMBER or LPAREN')\n",
    "        "
   ]
  },
  {
   "cell_type": "code",
   "execution_count": 462,
   "id": "f0dbe8b4",
   "metadata": {},
   "outputs": [
    {
     "name": "stdout",
     "output_type": "stream",
     "text": [
      "NUM\n",
      "2\n",
      "NUM\n",
      "NUM\n"
     ]
    },
    {
     "ename": "SyntaxError",
     "evalue": "Expected NUMBER or LPAREN (<string>)",
     "output_type": "error",
     "traceback": [
      "Traceback \u001b[0;36m(most recent call last)\u001b[0m:\n",
      "\u001b[0m  File \u001b[1;32m~/.local/lib/python3.10/site-packages/IPython/core/interactiveshell.py:3505\u001b[0m in \u001b[1;35mrun_code\u001b[0m\n    exec(code_obj, self.user_global_ns, self.user_ns)\u001b[0m\n",
      "\u001b[0m  Cell \u001b[1;32mIn[462], line 4\u001b[0m\n    m.parse('2 + (3 + * 4)')\u001b[0m\n",
      "\u001b[0m  Cell \u001b[1;32mIn[459], line 37\u001b[0m in \u001b[1;35mparse\u001b[0m\n    return self.expr()\u001b[0m\n",
      "\u001b[0m  Cell \u001b[1;32mIn[459], line 57\u001b[0m in \u001b[1;35mexpr\u001b[0m\n    right = self.factor()\u001b[0m\n",
      "\u001b[0m  Cell \u001b[1;32mIn[459], line 81\u001b[0m in \u001b[1;35mfactor\u001b[0m\n    expr = self.expr()\u001b[0m\n",
      "\u001b[0m  Cell \u001b[1;32mIn[459], line 57\u001b[0m in \u001b[1;35mexpr\u001b[0m\n    right = self.factor()\u001b[0m\n",
      "\u001b[0;36m  Cell \u001b[0;32mIn[459], line 84\u001b[0;36m in \u001b[0;35mfactor\u001b[0;36m\n\u001b[0;31m    raise SyntaxError('Expected NUMBER or LPAREN')\u001b[0;36m\n",
      "\u001b[0;36m  File \u001b[0;32m<string>\u001b[0;36m\u001b[0m\n\u001b[0;31mSyntaxError\u001b[0m\u001b[0;31m:\u001b[0m Expected NUMBER or LPAREN\n"
     ]
    }
   ],
   "source": [
    "m = ExpressionEvaluator()\n",
    "print(m.parse('2'))\n",
    "m.parse('3+5-2')\n",
    "m.parse('2 + (3 + * 4)')"
   ]
  },
  {
   "cell_type": "code",
   "execution_count": 464,
   "id": "2c888688",
   "metadata": {},
   "outputs": [
    {
     "name": "stdout",
     "output_type": "stream",
     "text": [
      "NUM\n"
     ]
    },
    {
     "data": {
      "text/plain": [
       "('+', 2, 3)"
      ]
     },
     "execution_count": 464,
     "metadata": {},
     "output_type": "execute_result"
    }
   ],
   "source": [
    "# Простое дерево парсинга\n",
    "\n",
    "class ExpressionTreeBuilder(ExpressionEvaluator):\n",
    "    def expr(self):\n",
    "        \"expression ::= term { ('+'|'-') term}\"\n",
    "        \n",
    "        exprval = self.term()\n",
    "        while self._accept('PLUS') or self._accept('MINUS'):\n",
    "            op = self.tok.type\n",
    "            right = self.factor()\n",
    "            if op == 'PLUS':\n",
    "                exprval = ('+', exprval, right)\n",
    "            elif op == 'MINUS':\n",
    "                exprval = ('-', exprval, right)\n",
    "        return exprval\n",
    "    \n",
    "    def term(self):\n",
    "        \"term ::= factor { ('*'|'/') factor }\"\n",
    "        \n",
    "        termval = self.factor()\n",
    "        while self._accept('TIMES') or self._accept('DIVIDE'):\n",
    "            op = self.tok.type\n",
    "            right = self.factor()\n",
    "            if op == 'TIMES':\n",
    "                termval = ('*', termval, right)\n",
    "            elif op == 'DIVIDE':\n",
    "                termval = ('/', termval, right)\n",
    "        return termval\n",
    "    \n",
    "    def factor(self):\n",
    "        \"factor ::= NUM | ( expr )\"\n",
    "        \n",
    "        if self._accept('NUM'):\n",
    "            return int(self.tok.value)\n",
    "        elif self._accept('LPAREN'):\n",
    "            expr = self.expr()\n",
    "            self._expect('RPAREN')\n",
    "            return exprval\n",
    "        else:\n",
    "            raise SyntaxError('Expected NUMBER or LPAREN')\n",
    "            \n",
    "e = ExpressionTreeBuilder()\n",
    "e.parse('2+3')\n",
    "e.parse('2 + 3 * 4')"
   ]
  },
  {
   "cell_type": "code",
   "execution_count": 471,
   "id": "27560d8b",
   "metadata": {},
   "outputs": [
    {
     "data": {
      "text/plain": [
       "('+', 2, 3)"
      ]
     },
     "execution_count": 471,
     "metadata": {},
     "output_type": "execute_result"
    }
   ],
   "source": [
    "class ExpressionTreeBuilder_1:\n",
    "    \n",
    "    def parse(self, text):\n",
    "        self.tokens = generate_tokens(master_pat, text)\n",
    "        \n",
    "        self.tok = None\n",
    "        self.nexttok = None\n",
    "        self._advance()\n",
    "        return self.expr()\n",
    "    \n",
    "    def _advance(self):\n",
    "        self.tok, self.nexttok = self.nexttok, next(self.tokens, None)\n",
    "    \n",
    "    def _accept(self, toktype):\n",
    "        if self.nexttok and self.nexttok.type == toktype:\n",
    "            self._advance()\n",
    "            return True\n",
    "        else:\n",
    "            return False\n",
    "        \n",
    "    def _except(self, toktype):\n",
    "        if not self._accept(toktype):\n",
    "            raise SyntaxError('Expected' + toktype)\n",
    "            \n",
    "    def expr(self):\n",
    "        exprval = self.term()\n",
    "        while self._accept('PLUS') or self._accept('MINUS'):\n",
    "            op = self.tok.type\n",
    "            right = self.factor()\n",
    "            if op == 'PLUS':\n",
    "                exprval = ('+', exprval, right)\n",
    "            elif op == 'MINUS':\n",
    "                exprval = ('-', exprval, right)\n",
    "        return exprval\n",
    "        \n",
    "    def term(self):\n",
    "        termval = self.factor()\n",
    "        while self._accept('TIMES') or self._accept('DIVIDE'):\n",
    "            op = self.tok.type\n",
    "            right = self.factor()\n",
    "            if op == 'TIMES':\n",
    "                termval = ('*', termval, right)\n",
    "            elif op == 'DIVIDE':\n",
    "                termval = ('/', termval, right)\n",
    "        return termval\n",
    "    \n",
    "    def factor(self):\n",
    "        if self._accept('NUM'):\n",
    "            return int(self.tok.value)\n",
    "        elif self._accept('LPAREN'):\n",
    "            exprval = self.expr()\n",
    "            self._except('RPAREN')\n",
    "        else:\n",
    "            raise SyntaxError('Expected NUMBER or LPAREN')\n",
    "            \n",
    "e = ExpressionTreeBuilder_1()\n",
    "e.parse('2 + 3')"
   ]
  },
  {
   "cell_type": "code",
   "execution_count": 473,
   "id": "d2a5cfab",
   "metadata": {},
   "outputs": [
    {
     "name": "stderr",
     "output_type": "stream",
     "text": [
      "ERROR: Rule 't_TIMEES' defined for an unspecified token TIMEES\n",
      "ERROR: Invalid regular expression for rule 't_LPAREN'. missing ), unterminated subpattern at position 0\n",
      "ERROR: Invalid regular expression for rule 't_RPAREN'. unbalanced parenthesis at position 14\n"
     ]
    },
    {
     "ename": "TypeError",
     "evalue": "<module '__main__'> is a built-in module",
     "output_type": "error",
     "traceback": [
      "\u001b[0;31m---------------------------------------------------------------------------\u001b[0m",
      "\u001b[0;31mTypeError\u001b[0m                                 Traceback (most recent call last)",
      "Cell \u001b[0;32mIn[473], line 32\u001b[0m\n\u001b[1;32m     29\u001b[0m     t\u001b[38;5;241m.\u001b[39mskip(\u001b[38;5;241m1\u001b[39m)\n\u001b[1;32m     31\u001b[0m \u001b[38;5;66;03m# Создание лексера\u001b[39;00m\n\u001b[0;32m---> 32\u001b[0m lexer \u001b[38;5;241m=\u001b[39m \u001b[43mlex\u001b[49m\u001b[43m(\u001b[49m\u001b[43m)\u001b[49m\n\u001b[1;32m     34\u001b[0m \u001b[38;5;66;03m# Правила грамматики и функции-обработчики\u001b[39;00m\n\u001b[1;32m     35\u001b[0m \u001b[38;5;28;01mdef\u001b[39;00m \u001b[38;5;21mp_expr\u001b[39m(p):\n",
      "File \u001b[0;32m/usr/lib/python3.10/site-packages/ply/lex.py:908\u001b[0m, in \u001b[0;36mlex\u001b[0;34m(module, object, debug, optimize, lextab, reflags, nowarn, outputdir, debuglog, errorlog)\u001b[0m\n\u001b[1;32m    906\u001b[0m linfo\u001b[38;5;241m.\u001b[39mget_all()\n\u001b[1;32m    907\u001b[0m \u001b[38;5;28;01mif\u001b[39;00m \u001b[38;5;129;01mnot\u001b[39;00m optimize:\n\u001b[0;32m--> 908\u001b[0m     \u001b[38;5;28;01mif\u001b[39;00m \u001b[43mlinfo\u001b[49m\u001b[38;5;241;43m.\u001b[39;49m\u001b[43mvalidate_all\u001b[49m\u001b[43m(\u001b[49m\u001b[43m)\u001b[49m:\n\u001b[1;32m    909\u001b[0m         \u001b[38;5;28;01mraise\u001b[39;00m \u001b[38;5;167;01mSyntaxError\u001b[39;00m(\u001b[38;5;124m\"\u001b[39m\u001b[38;5;124mCan\u001b[39m\u001b[38;5;124m'\u001b[39m\u001b[38;5;124mt build lexer\u001b[39m\u001b[38;5;124m\"\u001b[39m)\n\u001b[1;32m    911\u001b[0m \u001b[38;5;28;01mif\u001b[39;00m optimize \u001b[38;5;129;01mand\u001b[39;00m lextab:\n",
      "File \u001b[0;32m/usr/lib/python3.10/site-packages/ply/lex.py:579\u001b[0m, in \u001b[0;36mLexerReflect.validate_all\u001b[0;34m(self)\u001b[0m\n\u001b[1;32m    577\u001b[0m \u001b[38;5;28mself\u001b[39m\u001b[38;5;241m.\u001b[39mvalidate_tokens()\n\u001b[1;32m    578\u001b[0m \u001b[38;5;28mself\u001b[39m\u001b[38;5;241m.\u001b[39mvalidate_literals()\n\u001b[0;32m--> 579\u001b[0m \u001b[38;5;28;43mself\u001b[39;49m\u001b[38;5;241;43m.\u001b[39;49m\u001b[43mvalidate_rules\u001b[49m\u001b[43m(\u001b[49m\u001b[43m)\u001b[49m\n\u001b[1;32m    580\u001b[0m \u001b[38;5;28;01mreturn\u001b[39;00m \u001b[38;5;28mself\u001b[39m\u001b[38;5;241m.\u001b[39merror\n",
      "File \u001b[0;32m/usr/lib/python3.10/site-packages/ply/lex.py:821\u001b[0m, in \u001b[0;36mLexerReflect.validate_rules\u001b[0;34m(self)\u001b[0m\n\u001b[1;32m    818\u001b[0m             \u001b[38;5;28mself\u001b[39m\u001b[38;5;241m.\u001b[39merror \u001b[38;5;241m=\u001b[39m \u001b[38;5;28;01mTrue\u001b[39;00m\n\u001b[1;32m    820\u001b[0m \u001b[38;5;28;01mfor\u001b[39;00m module \u001b[38;5;129;01min\u001b[39;00m \u001b[38;5;28mself\u001b[39m\u001b[38;5;241m.\u001b[39mmodules:\n\u001b[0;32m--> 821\u001b[0m     \u001b[38;5;28;43mself\u001b[39;49m\u001b[38;5;241;43m.\u001b[39;49m\u001b[43mvalidate_module\u001b[49m\u001b[43m(\u001b[49m\u001b[43mmodule\u001b[49m\u001b[43m)\u001b[49m\n",
      "File \u001b[0;32m/usr/lib/python3.10/site-packages/ply/lex.py:833\u001b[0m, in \u001b[0;36mLexerReflect.validate_module\u001b[0;34m(self, module)\u001b[0m\n\u001b[1;32m    831\u001b[0m \u001b[38;5;28;01mdef\u001b[39;00m \u001b[38;5;21mvalidate_module\u001b[39m(\u001b[38;5;28mself\u001b[39m, module):\n\u001b[1;32m    832\u001b[0m     \u001b[38;5;28;01mtry\u001b[39;00m:\n\u001b[0;32m--> 833\u001b[0m         lines, linen \u001b[38;5;241m=\u001b[39m \u001b[43minspect\u001b[49m\u001b[38;5;241;43m.\u001b[39;49m\u001b[43mgetsourcelines\u001b[49m\u001b[43m(\u001b[49m\u001b[43mmodule\u001b[49m\u001b[43m)\u001b[49m\n\u001b[1;32m    834\u001b[0m     \u001b[38;5;28;01mexcept\u001b[39;00m \u001b[38;5;167;01mIOError\u001b[39;00m:\n\u001b[1;32m    835\u001b[0m         \u001b[38;5;28;01mreturn\u001b[39;00m\n",
      "File \u001b[0;32m/usr/lib/python3.10/inspect.py:1121\u001b[0m, in \u001b[0;36mgetsourcelines\u001b[0;34m(object)\u001b[0m\n\u001b[1;32m   1113\u001b[0m \u001b[38;5;250m\u001b[39m\u001b[38;5;124;03m\"\"\"Return a list of source lines and starting line number for an object.\u001b[39;00m\n\u001b[1;32m   1114\u001b[0m \n\u001b[1;32m   1115\u001b[0m \u001b[38;5;124;03mThe argument may be a module, class, method, function, traceback, frame,\u001b[39;00m\n\u001b[0;32m   (...)\u001b[0m\n\u001b[1;32m   1118\u001b[0m \u001b[38;5;124;03moriginal source file the first line of code was found.  An OSError is\u001b[39;00m\n\u001b[1;32m   1119\u001b[0m \u001b[38;5;124;03mraised if the source code cannot be retrieved.\"\"\"\u001b[39;00m\n\u001b[1;32m   1120\u001b[0m \u001b[38;5;28mobject\u001b[39m \u001b[38;5;241m=\u001b[39m unwrap(\u001b[38;5;28mobject\u001b[39m)\n\u001b[0;32m-> 1121\u001b[0m lines, lnum \u001b[38;5;241m=\u001b[39m \u001b[43mfindsource\u001b[49m\u001b[43m(\u001b[49m\u001b[38;5;28;43mobject\u001b[39;49m\u001b[43m)\u001b[49m\n\u001b[1;32m   1123\u001b[0m \u001b[38;5;28;01mif\u001b[39;00m istraceback(\u001b[38;5;28mobject\u001b[39m):\n\u001b[1;32m   1124\u001b[0m     \u001b[38;5;28mobject\u001b[39m \u001b[38;5;241m=\u001b[39m \u001b[38;5;28mobject\u001b[39m\u001b[38;5;241m.\u001b[39mtb_frame\n",
      "File \u001b[0;32m/usr/lib/python3.10/inspect.py:940\u001b[0m, in \u001b[0;36mfindsource\u001b[0;34m(object)\u001b[0m\n\u001b[1;32m    932\u001b[0m \u001b[38;5;28;01mdef\u001b[39;00m \u001b[38;5;21mfindsource\u001b[39m(\u001b[38;5;28mobject\u001b[39m):\n\u001b[1;32m    933\u001b[0m \u001b[38;5;250m    \u001b[39m\u001b[38;5;124;03m\"\"\"Return the entire source file and starting line number for an object.\u001b[39;00m\n\u001b[1;32m    934\u001b[0m \n\u001b[1;32m    935\u001b[0m \u001b[38;5;124;03m    The argument may be a module, class, method, function, traceback, frame,\u001b[39;00m\n\u001b[1;32m    936\u001b[0m \u001b[38;5;124;03m    or code object.  The source code is returned as a list of all the lines\u001b[39;00m\n\u001b[1;32m    937\u001b[0m \u001b[38;5;124;03m    in the file and the line number indexes a line in that list.  An OSError\u001b[39;00m\n\u001b[1;32m    938\u001b[0m \u001b[38;5;124;03m    is raised if the source code cannot be retrieved.\"\"\"\u001b[39;00m\n\u001b[0;32m--> 940\u001b[0m     file \u001b[38;5;241m=\u001b[39m \u001b[43mgetsourcefile\u001b[49m\u001b[43m(\u001b[49m\u001b[38;5;28;43mobject\u001b[39;49m\u001b[43m)\u001b[49m\n\u001b[1;32m    941\u001b[0m     \u001b[38;5;28;01mif\u001b[39;00m file:\n\u001b[1;32m    942\u001b[0m         \u001b[38;5;66;03m# Invalidate cache if needed.\u001b[39;00m\n\u001b[1;32m    943\u001b[0m         linecache\u001b[38;5;241m.\u001b[39mcheckcache(file)\n",
      "File \u001b[0;32m/usr/lib/python3.10/inspect.py:817\u001b[0m, in \u001b[0;36mgetsourcefile\u001b[0;34m(object)\u001b[0m\n\u001b[1;32m    813\u001b[0m \u001b[38;5;28;01mdef\u001b[39;00m \u001b[38;5;21mgetsourcefile\u001b[39m(\u001b[38;5;28mobject\u001b[39m):\n\u001b[1;32m    814\u001b[0m \u001b[38;5;250m    \u001b[39m\u001b[38;5;124;03m\"\"\"Return the filename that can be used to locate an object's source.\u001b[39;00m\n\u001b[1;32m    815\u001b[0m \u001b[38;5;124;03m    Return None if no way can be identified to get the source.\u001b[39;00m\n\u001b[1;32m    816\u001b[0m \u001b[38;5;124;03m    \"\"\"\u001b[39;00m\n\u001b[0;32m--> 817\u001b[0m     filename \u001b[38;5;241m=\u001b[39m \u001b[43mgetfile\u001b[49m\u001b[43m(\u001b[49m\u001b[38;5;28;43mobject\u001b[39;49m\u001b[43m)\u001b[49m\n\u001b[1;32m    818\u001b[0m     all_bytecode_suffixes \u001b[38;5;241m=\u001b[39m importlib\u001b[38;5;241m.\u001b[39mmachinery\u001b[38;5;241m.\u001b[39mDEBUG_BYTECODE_SUFFIXES[:]\n\u001b[1;32m    819\u001b[0m     all_bytecode_suffixes \u001b[38;5;241m+\u001b[39m\u001b[38;5;241m=\u001b[39m importlib\u001b[38;5;241m.\u001b[39mmachinery\u001b[38;5;241m.\u001b[39mOPTIMIZED_BYTECODE_SUFFIXES[:]\n",
      "File \u001b[0;32m/usr/lib/python3.10/inspect.py:778\u001b[0m, in \u001b[0;36mgetfile\u001b[0;34m(object)\u001b[0m\n\u001b[1;32m    776\u001b[0m     \u001b[38;5;28;01mif\u001b[39;00m \u001b[38;5;28mgetattr\u001b[39m(\u001b[38;5;28mobject\u001b[39m, \u001b[38;5;124m'\u001b[39m\u001b[38;5;124m__file__\u001b[39m\u001b[38;5;124m'\u001b[39m, \u001b[38;5;28;01mNone\u001b[39;00m):\n\u001b[1;32m    777\u001b[0m         \u001b[38;5;28;01mreturn\u001b[39;00m \u001b[38;5;28mobject\u001b[39m\u001b[38;5;241m.\u001b[39m\u001b[38;5;18m__file__\u001b[39m\n\u001b[0;32m--> 778\u001b[0m     \u001b[38;5;28;01mraise\u001b[39;00m \u001b[38;5;167;01mTypeError\u001b[39;00m(\u001b[38;5;124m'\u001b[39m\u001b[38;5;132;01m{!r}\u001b[39;00m\u001b[38;5;124m is a built-in module\u001b[39m\u001b[38;5;124m'\u001b[39m\u001b[38;5;241m.\u001b[39mformat(\u001b[38;5;28mobject\u001b[39m))\n\u001b[1;32m    779\u001b[0m \u001b[38;5;28;01mif\u001b[39;00m isclass(\u001b[38;5;28mobject\u001b[39m):\n\u001b[1;32m    780\u001b[0m     \u001b[38;5;28;01mif\u001b[39;00m \u001b[38;5;28mhasattr\u001b[39m(\u001b[38;5;28mobject\u001b[39m, \u001b[38;5;124m'\u001b[39m\u001b[38;5;124m__module__\u001b[39m\u001b[38;5;124m'\u001b[39m):\n",
      "\u001b[0;31mTypeError\u001b[0m: <module '__main__'> is a built-in module"
     ]
    }
   ],
   "source": [
    "# Использование инструментов PyParsing или PLY\n",
    "from ply.lex import lex\n",
    "from ply.yacc import yacc\n",
    "\n",
    "# список токенов\n",
    "tokens = [ 'NUM', 'PLUS', 'MINUS', 'TIMES', 'DIVIDE', 'LPAREN', 'RPAREN' ]\n",
    "\n",
    "# игнорируемые токены\n",
    "t_ignore = ' \\t\\n'\n",
    "\n",
    "# Определения токенов (в форме регулярных выражений)\n",
    "\n",
    "t_PLUS = r'\\+'\n",
    "t_MINUS = r'-'\n",
    "t_TIMEES = r'\\*'\n",
    "t_DIVIDE = r'/'\n",
    "t_LPAREN = r'('\n",
    "t_RPAREN = r')'\n",
    "\n",
    "# Функции обработки токенов\n",
    "def t_NUM(t):\n",
    "    r'\\d+'\n",
    "    t.value = int(t.value)\n",
    "    return t\n",
    "\n",
    "# Обработчик ошибок\n",
    "def t_error(t):\n",
    "    print('Bad character: {!r}'.format(t.value[0]))\n",
    "    t.skip(1)\n",
    "    \n",
    "# Создание лексера\n",
    "lexer = lex()\n",
    "\n",
    "# Правила грамматики и функции-обработчики\n",
    "def p_expr(p):\n",
    "    '''\n",
    "    expr : expr PLUS term\n",
    "    | expr MINUS term\n",
    "    '''\n",
    "    if p[2] == '+':\n",
    "        p[0] = p[1] + p[3]\n",
    "    if p[2] == '-':\n",
    "        p[0] = p[1] - p[3]\n",
    "    \n",
    "def p_expr_term(p):\n",
    "    '''\n",
    "    expr : term\n",
    "    '''\n",
    "    p[0] = p[1]\n",
    "    \n",
    "def p_term(p):\n",
    "    '''\n",
    "    term : term TIMES factor\n",
    "    | term DIVIDE factor\n",
    "    '''\n",
    "    if p[2] == '*':\n",
    "        p[0] = p[1] * p[3]\n",
    "    elif p[2] == '/':\n",
    "        p[0] = p[1] / p[3]\n",
    "        \n",
    "def p_term_factor(p):\n",
    "    '''\n",
    "    term : factor\n",
    "    '''\n",
    "    p[0] = p[1]\n",
    "    \n",
    "def p_factor(p):\n",
    "    '''\n",
    "    factor : NUM\n",
    "    '''\n",
    "    p[0] = p[1]\n",
    "    \n",
    "def p_factor_group(p):\n",
    "    '''\n",
    "    factor : LPAREN or RPAREN\n",
    "    '''\n",
    "    p[0] = p[2]\n",
    "    \n",
    "def p_error(p):\n",
    "    print('Syntax error')\n",
    "    \n",
    "parser = yacc()\n",
    "\n",
    "parser.parse('2')\n"
   ]
  },
  {
   "cell_type": "markdown",
   "id": "22e239c8",
   "metadata": {},
   "source": [
    "$$x^{2x}$$\n",
    "\n"
   ]
  },
  {
   "cell_type": "markdown",
   "id": "630fef84",
   "metadata": {},
   "source": [
    "## 2.20. Выполнение текстовых операций\n",
    "## над байтовыми строками"
   ]
  },
  {
   "cell_type": "code",
   "execution_count": 479,
   "id": "d61806d8",
   "metadata": {},
   "outputs": [
    {
     "name": "stdout",
     "output_type": "stream",
     "text": [
      "b'Hello'\n",
      "True\n",
      "[b'Hello', b'World']\n",
      "b'Hello Cruel World'\n"
     ]
    }
   ],
   "source": [
    "data = b'Hello World'\n",
    "print(data[0:5])\n",
    "print(data.startswith(b'Hello'))\n",
    "print(data.split())\n",
    "print(data.replace(b'Hello', b'Hello Cruel'))"
   ]
  },
  {
   "cell_type": "code",
   "execution_count": 481,
   "id": "d3d05c97",
   "metadata": {},
   "outputs": [
    {
     "name": "stdout",
     "output_type": "stream",
     "text": [
      "bytearray(b'Hello')\n",
      "True\n",
      "[bytearray(b'Hello'), bytearray(b'World')]\n",
      "bytearray(b'Hello Cruel World')\n"
     ]
    }
   ],
   "source": [
    "# Операции над байтовыми массивами\n",
    "\n",
    "data = bytearray(b'Hello World')\n",
    "print(data[0:5])\n",
    "print(data.startswith(b'Hello'))\n",
    "print(data.split())\n",
    "print(data.replace(b'Hello', b'Hello Cruel'))"
   ]
  },
  {
   "cell_type": "code",
   "execution_count": 483,
   "id": "41ce7349",
   "metadata": {},
   "outputs": [
    {
     "data": {
      "text/plain": [
       "[b'FOO', b'BAR', b'SPAM']"
      ]
     },
     "execution_count": 483,
     "metadata": {},
     "output_type": "execute_result"
    }
   ],
   "source": [
    "data = b'FOO:BAR,SPAM'\n",
    "import re\n",
    "re.split(b'[:,]', data)\n"
   ]
  },
  {
   "cell_type": "code",
   "execution_count": 484,
   "id": "7cba1274",
   "metadata": {},
   "outputs": [
    {
     "name": "stdout",
     "output_type": "stream",
     "text": [
      "H\n",
      "72\n"
     ]
    }
   ],
   "source": [
    "# При индексировании байтовых строк получаем целые числа\n",
    "# а не символы\n",
    "\n",
    "a = 'Hello World'\n",
    "print(a[0])\n",
    "b = b'Hello World'\n",
    "print(b[0])"
   ]
  },
  {
   "cell_type": "code",
   "execution_count": 486,
   "id": "d0e825ff",
   "metadata": {},
   "outputs": [
    {
     "name": "stdout",
     "output_type": "stream",
     "text": [
      "b'Hello World'\n",
      "Hello World\n"
     ]
    }
   ],
   "source": [
    "s = b'Hello World'\n",
    "print(s)\n",
    "print(s.decode('ascii'))"
   ]
  },
  {
   "cell_type": "code",
   "execution_count": 487,
   "id": "4c3c0021",
   "metadata": {},
   "outputs": [
    {
     "ename": "AttributeError",
     "evalue": "'bytes' object has no attribute 'format'",
     "output_type": "error",
     "traceback": [
      "\u001b[0;31m---------------------------------------------------------------------------\u001b[0m",
      "\u001b[0;31mAttributeError\u001b[0m                            Traceback (most recent call last)",
      "Cell \u001b[0;32mIn[487], line 3\u001b[0m\n\u001b[1;32m      1\u001b[0m \u001b[38;5;66;03m# операции форматирования недоступны для байтоых строк\u001b[39;00m\n\u001b[0;32m----> 3\u001b[0m \u001b[38;5;124;43mb\u001b[39;49m\u001b[38;5;124;43m'\u001b[39;49m\u001b[38;5;132;43;01m{}\u001b[39;49;00m\u001b[38;5;124;43m \u001b[39;49m\u001b[38;5;132;43;01m{}\u001b[39;49;00m\u001b[38;5;124;43m \u001b[39;49m\u001b[38;5;132;43;01m{}\u001b[39;49;00m\u001b[38;5;124;43m'\u001b[39;49m\u001b[38;5;241;43m.\u001b[39;49m\u001b[43mformat\u001b[49m(\u001b[38;5;124mb\u001b[39m\u001b[38;5;124m'\u001b[39m\u001b[38;5;124mACME\u001b[39m\u001b[38;5;124m'\u001b[39m, \u001b[38;5;241m100\u001b[39m, \u001b[38;5;241m490.1\u001b[39m)\n",
      "\u001b[0;31mAttributeError\u001b[0m: 'bytes' object has no attribute 'format'"
     ]
    }
   ],
   "source": [
    "# операции форматирования недоступны для байтоых строк\n",
    "\n",
    "b'{} {} {}'.format(b'ACME', 100, 490.1)"
   ]
  },
  {
   "cell_type": "code",
   "execution_count": 491,
   "id": "abbfcd58",
   "metadata": {},
   "outputs": [
    {
     "data": {
      "text/plain": [
       "b'ACME 100 490.10'"
      ]
     },
     "execution_count": 491,
     "metadata": {},
     "output_type": "execute_result"
    }
   ],
   "source": [
    "'{:s} {:d} {:.2f}'.format('ACME', 100, 490.1).encode('ascii')"
   ]
  },
  {
   "cell_type": "code",
   "execution_count": 502,
   "id": "9800ee89",
   "metadata": {},
   "outputs": [
    {
     "data": {
      "text/plain": [
       "[b'Python Cookbook \\xd0\\xa7\\xd0\\xb0\\xd1\\x81\\xd1\\x82\\xd1\\x8c \\xd0\\xbf\\xd0\\xb5\\xd1\\x80\\xd0\\xb2\\xd0\\xb0\\xd1\\x8f.ipynb',\n",
       " b'floats.bin',\n",
       " b'dummy',\n",
       " b'\\xd0\\x93\\xd0\\xbb\\xd0\\xb0\\xd0\\xb2\\xd0\\xb0 4 Unicode-\\xd1\\x82\\xd0\\xb5\\xd0\\xba\\xd1\\x81\\xd1\\x82 \\xd0\\xb8 \\xd0\\xb1\\xd0\\xb0\\xd0\\xb9\\xd1\\x82\\xd1\\x8b.ipynb',\n",
       " b'cafe.txt',\n",
       " b'Python Cookbook \\xd0\\x93\\xd0\\xbb\\xd0\\xb0\\xd0\\xb2\\xd0\\xb0 2 \\xd0\\xa1\\xd1\\x82\\xd1\\x80\\xd0\\xbe\\xd0\\xba\\xd0\\xb8 \\xd0\\xb8 \\xd1\\x82\\xd0\\xb5\\xd0\\xba\\xd1\\x81\\xd1\\x82.ipynb',\n",
       " b'jalape\\xc3\\xb1o.txt',\n",
       " b'\\xd0\\xa8\\xd0\\xbf\\xd0\\xb0\\xd1\\x80\\xd0\\xb3\\xd0\\xb0\\xd0\\xbb\\xd0\\xba\\xd0\\xb0 \\xd0\\xbf\\xd0\\xbe \\xd1\\x80\\xd0\\xb5\\xd0\\xb3\\xd1\\x83\\xd0\\xbb\\xd1\\x8f\\xd1\\x80\\xd0\\xbd\\xd1\\x8b\\xd0\\xbc \\xd0\\xb2\\xd1\\x8b\\xd1\\x80\\xd0\\xb0\\xd0\\xb6\\xd0\\xb5\\xd0\\xbd\\xd0\\xb8\\xd1\\x8f.ipynb',\n",
       " b'\\xd0\\xa7\\xd1\\x82\\xd0\\xbe-\\xd1\\x82\\xd0\\xbe \\xd0\\xbf\\xd1\\x80\\xd0\\xbe \\xd1\\x8e\\xd0\\xbf\\xd0\\xb8\\xd1\\x82\\xd0\\xb5\\xd1\\x80',\n",
       " b'\\xd0\\x9f\\xd0\\xbe\\xd0\\xbb\\xd1\\x8c\\xd0\\xb7\\xd0\\xbe\\xd0\\xb2\\xd0\\xb0\\xd1\\x82\\xd0\\xb5\\xd0\\xbb\\xd1\\x8c\\xd1\\x81\\xd0\\xba\\xd0\\xb8\\xd0\\xb5 \\xd0\\xb0\\xd1\\x82\\xd1\\x80\\xd0\\xb8\\xd0\\xb1\\xd1\\x83\\xd1\\x82\\xd1\\x8b \\xd0\\xb2 Python.ipynb',\n",
       " b'Untitled.ipynb',\n",
       " b'.ipynb_checkpoints']"
      ]
     },
     "execution_count": 502,
     "metadata": {},
     "output_type": "execute_result"
    }
   ],
   "source": [
    "with open('jalape\\xf1o.txt', 'w') as f:\n",
    "    f.write('spicy')\n",
    "    \n",
    "from pathlib import Path\n",
    "\n",
    "[bytes(s) for s in Path('.').iterdir()]"
   ]
  },
  {
   "cell_type": "code",
   "execution_count": null,
   "id": "b3c5cc0b",
   "metadata": {},
   "outputs": [],
   "source": []
  },
  {
   "cell_type": "code",
   "execution_count": null,
   "id": "325696d9",
   "metadata": {},
   "outputs": [],
   "source": []
  },
  {
   "cell_type": "code",
   "execution_count": null,
   "id": "49dfb45c",
   "metadata": {},
   "outputs": [],
   "source": []
  },
  {
   "cell_type": "code",
   "execution_count": null,
   "id": "4cb75169",
   "metadata": {},
   "outputs": [],
   "source": []
  },
  {
   "cell_type": "code",
   "execution_count": null,
   "id": "cf13ae95",
   "metadata": {},
   "outputs": [],
   "source": []
  },
  {
   "cell_type": "code",
   "execution_count": null,
   "id": "8b6ef6de",
   "metadata": {},
   "outputs": [],
   "source": []
  },
  {
   "cell_type": "code",
   "execution_count": null,
   "id": "c2f8680d",
   "metadata": {},
   "outputs": [],
   "source": []
  },
  {
   "cell_type": "code",
   "execution_count": null,
   "id": "c6e72fda",
   "metadata": {},
   "outputs": [],
   "source": []
  }
 ],
 "metadata": {
  "kernelspec": {
   "display_name": "Python 3 (ipykernel)",
   "language": "python",
   "name": "python3"
  },
  "language_info": {
   "codemirror_mode": {
    "name": "ipython",
    "version": 3
   },
   "file_extension": ".py",
   "mimetype": "text/x-python",
   "name": "python",
   "nbconvert_exporter": "python",
   "pygments_lexer": "ipython3",
   "version": "3.10.10"
  }
 },
 "nbformat": 4,
 "nbformat_minor": 5
}
